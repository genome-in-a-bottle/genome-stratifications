{
 "cells": [
  {
   "cell_type": "markdown",
   "metadata": {},
   "source": [
    "# v3.1 Stratification Post-Processing\n",
    "<hr style=\"border:2px solid gray\"> </hr>\n",
    "JMcDaniel  \n",
    "2022-06-29"
   ]
  },
  {
   "cell_type": "markdown",
   "metadata": {},
   "source": [
    "This ipynb could be used as a template along `stratification_post-processing.sh` script for post-processing future stratification versions.  "
   ]
  },
  {
   "cell_type": "markdown",
   "metadata": {},
   "source": [
    "## TABLE OF CONTENTS\n",
    "<hr style=\"border:2px solid black\"> </hr>\n",
    "\n",
    "**[PURPOSE](#purpose)**    \n",
    "\n",
    "**[FILE PROCESSING](#process)**  \n",
    "1. [Standardize files](#std)  \n",
    "2. [Rename files](#rename)  \n",
    "3. [Consolidate candidate release files](#consolidate)  \n",
    "4. [Generate md5s of candidate files](#md5)  "
   ]
  },
  {
   "cell_type": "code",
   "execution_count": 50,
   "metadata": {},
   "outputs": [
    {
     "name": "stdout",
     "output_type": "stream",
     "text": [
      "/Users/jmcdani/Documents/GiaB/Benchmarking/Stratifications/v3.1_genome-stratifications/post-processing\n"
     ]
    }
   ],
   "source": [
    "pwd"
   ]
  },
  {
   "cell_type": "markdown",
   "metadata": {},
   "source": [
    "[Google Drive for v3.1 Stratifications](https://drive.google.com/drive/folders/1Z0_az2KWiDcvcpf3pu9qzfSC1hHuCchD?usp=sharing)"
   ]
  },
  {
   "cell_type": "markdown",
   "metadata": {},
   "source": [
    "# Purpose<a id=\"purpose\"></a>"
   ]
  },
  {
   "cell_type": "markdown",
   "metadata": {},
   "source": [
    "This notebook describes the process for preparing the new (2022 v3.1) GRCh37, GRCh38 and CHM13 stratification BEDs for release. The following was performed for new and revised stratifictions for v3.1 release.  All files carried over from v3.0 will be used directly, they will not be run through post-processing.  \n",
    "\n",
    "Stratification BED Files will be modified for consistency as follows:\n",
    "\n",
    "**1. stardardize output using shell script**  \n",
    "`stratification_post-processing`  \n",
    "\n",
    "Post-Processing Scripts for GRCh3X  includes:  \n",
    "- sort by chromsome and position  \n",
    "- subset to only chromosomes 1-22, X & Y (removing contig chroms)  \n",
    "- merge overlaping regions  \n",
    "- subtract refNs (gaps)  \n",
    "- remove psuedoautosomal Y regions  (not subtracted for XY)\n",
    "- add header to BED giving context for BED  \n",
    "- compress using bgzip   \n",
    "\n",
    "Post-Processing Scripts for CHM13 includes:  \n",
    "- sort by chromsome and position  \n",
    "- subset to only chromosomes 1-22, X & Y (removing contig chroms)  \n",
    "- merge overlaping regions  \n",
    "- No regions are removed unlike GRCh3X \n",
    "- add header to BED giving context for BED  \n",
    "- compress using bgzip  \n",
    "    \n",
    "**2. rename files using standard naming convention**  \n",
    "`<reference>_<stratification-type>.bed.gz`\n",
    "\n",
    "**3. output md5s**\n",
    "\n",
    "This work was performed on JMcDaniel's computer in directory: /Users/jmcdani/Documents/GiaB/Benchmarking/Stratifications/v3.1_genome-stratifications"
   ]
  },
  {
   "cell_type": "markdown",
   "metadata": {},
   "source": [
    "# File Processing<a id=\"process\"></a>"
   ]
  },
  {
   "cell_type": "markdown",
   "metadata": {},
   "source": [
    "### Create header file"
   ]
  },
  {
   "cell_type": "code",
   "execution_count": 7,
   "metadata": {
    "scrolled": true
   },
   "outputs": [],
   "source": [
    "echo \"#This is part of a collection of bed files intended to stratify performance by genome context using GA4GH benchmarking tools\" > /Users/jmcdani/Documents/GiaB/Benchmarking/Stratifications/v3.1_genome-stratifications/post-processing/header.txt"
   ]
  },
  {
   "cell_type": "markdown",
   "metadata": {},
   "source": [
    "## 1. Standardize output using shell script to process all files in directories<a id=\"std\"></a>\n",
    "`stratification_post-processing.sh`"
   ]
  },
  {
   "cell_type": "markdown",
   "metadata": {},
   "source": [
    "## GRCh38"
   ]
  },
  {
   "cell_type": "markdown",
   "metadata": {},
   "source": [
    "### XY"
   ]
  },
  {
   "cell_type": "code",
   "execution_count": 1,
   "metadata": {
    "scrolled": true
   },
   "outputs": [
    {
     "name": "stdout",
     "output_type": "stream",
     "text": [
      "Wed Jun 29 08:05:53 EDT 2022\n"
     ]
    }
   ],
   "source": [
    "#Get list of md5s for original files prior to any post processing\n",
    "date\n",
    "for f in ../GRCh38-stratifications/XY/*.bed*\n",
    "do\n",
    "date >> ../GRCh38-stratifications/XY/GRCh38-XY-v3.1-original_file_md5s.txt\n",
    "md5 $f >> ../GRCh38-stratifications/XY/GRCh38-XY-v3.1-original_file_md5s.txt\n",
    "done"
   ]
  },
  {
   "cell_type": "code",
   "execution_count": 2,
   "metadata": {
    "scrolled": true
   },
   "outputs": [
    {
     "name": "stdout",
     "output_type": "stream",
     "text": [
      "Wed Jun 29 08:06:58 EDT 2022\n",
      "bedtools v2.30.0\n",
      "ref is: GRCh38 \n",
      "XY\n",
      "post-processed/GRCh38/XY\n",
      "Processing for GRCh38\n",
      "processing XY: ../GRCh38-stratifications/XY/GRCh38_AllAutosomes.bed\n",
      "processed XY:   GRCh38_AllAutosomes.bed\n",
      "processing XY: ../GRCh38-stratifications/XY/GRCh38_chrX_PAR.bed\n",
      "processed XY:   GRCh38_chrX_PAR.bed\n",
      "processing XY: ../GRCh38-stratifications/XY/GRCh38_chrX_XTR.bed\n",
      "processed XY:   GRCh38_chrX_XTR.bed\n",
      "processing XY: ../GRCh38-stratifications/XY/GRCh38_chrX_ampliconic.bed\n",
      "processed XY:   GRCh38_chrX_ampliconic.bed\n",
      "processing XY: ../GRCh38-stratifications/XY/GRCh38_chrX_nonPAR.bed\n",
      "processed XY:   GRCh38_chrX_nonPAR.bed\n",
      "processing XY: ../GRCh38-stratifications/XY/GRCh38_chrY_PAR.bed\n",
      "processed XY:   GRCh38_chrY_PAR.bed\n",
      "processing XY: ../GRCh38-stratifications/XY/GRCh38_chrY_XTR.bed\n",
      "processed XY:   GRCh38_chrY_XTR.bed\n",
      "processing XY: ../GRCh38-stratifications/XY/GRCh38_chrY_ampliconic.bed\n",
      "processed XY:   GRCh38_chrY_ampliconic.bed\n",
      "processing XY: ../GRCh38-stratifications/XY/GRCh38_chrY_nonPAR.bed\n",
      "processed XY:   GRCh38_chrY_nonPAR.bed\n"
     ]
    }
   ],
   "source": [
    "sh ../stratification_post-processing.sh -i ../GRCh38-stratifications/XY/ -n refNs/ -r GRCh38"
   ]
  },
  {
   "cell_type": "markdown",
   "metadata": {},
   "source": [
    "### Union"
   ]
  },
  {
   "cell_type": "code",
   "execution_count": 5,
   "metadata": {
    "scrolled": true
   },
   "outputs": [
    {
     "name": "stdout",
     "output_type": "stream",
     "text": [
      "Wed Jun 29 08:08:53 EDT 2022\n"
     ]
    }
   ],
   "source": [
    "#Get list of md5s for original files prior to any post processing\n",
    "date\n",
    "for f in ../GRCh38-stratifications/Union/*.bed*\n",
    "do\n",
    "date >> ../GRCh38-stratifications/Union/GRCh38-Union-v3.1-original_file_md5s.txt\n",
    "md5 $f >> ../GRCh38-stratifications/Union/GRCh38-Union-v3.1-original_file_md5s.txt\n",
    "done"
   ]
  },
  {
   "cell_type": "code",
   "execution_count": 6,
   "metadata": {
    "scrolled": true
   },
   "outputs": [
    {
     "name": "stdout",
     "output_type": "stream",
     "text": [
      "Wed Jun 29 08:08:58 EDT 2022\n",
      "bedtools v2.30.0\n",
      "ref is: GRCh38 \n",
      "Union\n",
      "post-processed/GRCh38/Union\n",
      "Processing for GRCh38\n",
      "processing: ../GRCh38-stratifications/Union/GRCh38_allTandemRepeats.bed.gz\n",
      "processed:   GRCh38_allTandemRepeats.bed.gz\n",
      "processing: ../GRCh38-stratifications/Union/GRCh38_alldifficultregions.bed.gz\n",
      "processed:   GRCh38_alldifficultregions.bed.gz\n",
      "processing: ../GRCh38-stratifications/Union/GRCh38_notinallTandemRepeats.bed.gz\n",
      "processed:   GRCh38_notinallTandemRepeats.bed.gz\n",
      "processing: ../GRCh38-stratifications/Union/GRCh38_notinalldifficultregions.bed.gz\n",
      "processed:   GRCh38_notinalldifficultregions.bed.gz\n"
     ]
    }
   ],
   "source": [
    "sh ../stratification_post-processing.sh -i ../GRCh38-stratifications/Union/ -n refNs/ -r GRCh38"
   ]
  },
  {
   "cell_type": "markdown",
   "metadata": {},
   "source": [
    "### LowComplexity"
   ]
  },
  {
   "cell_type": "code",
   "execution_count": 7,
   "metadata": {
    "scrolled": true
   },
   "outputs": [
    {
     "name": "stdout",
     "output_type": "stream",
     "text": [
      "Wed Jun 29 08:09:57 EDT 2022\n"
     ]
    }
   ],
   "source": [
    "#Get list of md5s for original files prior to any post processing\n",
    "date\n",
    "for f in ../GRCh38-stratifications/LowComplexity/*.bed*\n",
    "do\n",
    "date >> ../GRCh38-stratifications/LowComplexity/GRCh38-LowComplexity-v3.1-original_file_md5s.txt\n",
    "md5 $f >> ../GRCh38-stratifications/LowComplexity/GRCh38-LowComplexity-v3.1-original_file_md5s.txt\n",
    "done"
   ]
  },
  {
   "cell_type": "code",
   "execution_count": 8,
   "metadata": {
    "scrolled": false
   },
   "outputs": [
    {
     "name": "stdout",
     "output_type": "stream",
     "text": [
      "Wed Jun 29 08:10:29 EDT 2022\n",
      "bedtools v2.30.0\n",
      "ref is: GRCh38 \n",
      "LowComplexity\n",
      "post-processed/GRCh38/LowComplexity\n",
      "Processing for GRCh38\n",
      "processing: ../GRCh38-stratifications/LowComplexity/GRCh38_AllHomopolymers_gt6bp_imperfectgt10bp_slop5.bed.gz\n",
      "processed:   GRCh38_AllHomopolymers_gt6bp_imperfectgt10bp_slop5.bed.gz\n",
      "processing: ../GRCh38-stratifications/LowComplexity/GRCh38_AllTandemRepeats_201to10000bp_slop5.bed.gz\n",
      "processed:   GRCh38_AllTandemRepeats_201to10000bp_slop5.bed.gz\n",
      "processing: ../GRCh38-stratifications/LowComplexity/GRCh38_AllTandemRepeats_51to200bp_slop5.bed.gz\n",
      "processed:   GRCh38_AllTandemRepeats_51to200bp_slop5.bed.gz\n",
      "processing: ../GRCh38-stratifications/LowComplexity/GRCh38_AllTandemRepeats_gt10000bp_slop5.bed.gz\n",
      "processed:   GRCh38_AllTandemRepeats_gt10000bp_slop5.bed.gz\n",
      "processing: ../GRCh38-stratifications/LowComplexity/GRCh38_AllTandemRepeats_gt100bp_slop5.bed.gz\n",
      "processed:   GRCh38_AllTandemRepeats_gt100bp_slop5.bed.gz\n",
      "processing: ../GRCh38-stratifications/LowComplexity/GRCh38_AllTandemRepeats_lt51bp_slop5.bed.gz\n",
      "processed:   GRCh38_AllTandemRepeats_lt51bp_slop5.bed.gz\n",
      "processing: ../GRCh38-stratifications/LowComplexity/GRCh38_AllTandemRepeatsandHomopolymers_slop5.bed.gz\n",
      "processed:   GRCh38_AllTandemRepeatsandHomopolymers_slop5.bed.gz\n",
      "processing: ../GRCh38-stratifications/LowComplexity/GRCh38_SimpleRepeat_diTR_11to50_slop5.bed.gz\n",
      "processed:   GRCh38_SimpleRepeat_diTR_11to50_slop5.bed.gz\n",
      "processing: ../GRCh38-stratifications/LowComplexity/GRCh38_SimpleRepeat_diTR_51to200_slop5.bed.gz\n",
      "processed:   GRCh38_SimpleRepeat_diTR_51to200_slop5.bed.gz\n",
      "processing: ../GRCh38-stratifications/LowComplexity/GRCh38_SimpleRepeat_diTR_gt200_slop5.bed.gz\n",
      "processed:   GRCh38_SimpleRepeat_diTR_gt200_slop5.bed.gz\n",
      "processing: ../GRCh38-stratifications/LowComplexity/GRCh38_SimpleRepeat_homopolymer_4to6_slop5.bed.gz\n",
      "processed:   GRCh38_SimpleRepeat_homopolymer_4to6_slop5.bed.gz\n",
      "processing: ../GRCh38-stratifications/LowComplexity/GRCh38_SimpleRepeat_homopolymer_7to11_slop5.bed.gz\n",
      "processed:   GRCh38_SimpleRepeat_homopolymer_7to11_slop5.bed.gz\n",
      "processing: ../GRCh38-stratifications/LowComplexity/GRCh38_SimpleRepeat_homopolymer_gt11_slop5.bed.gz\n",
      "processed:   GRCh38_SimpleRepeat_homopolymer_gt11_slop5.bed.gz\n",
      "processing: ../GRCh38-stratifications/LowComplexity/GRCh38_SimpleRepeat_homopolymer_gt20_slop5.bed.gz\n",
      "processed:   GRCh38_SimpleRepeat_homopolymer_gt20_slop5.bed.gz\n",
      "processing: ../GRCh38-stratifications/LowComplexity/GRCh38_SimpleRepeat_imperfecthomopolgt10_slop5.bed.gz\n",
      "processed:   GRCh38_SimpleRepeat_imperfecthomopolgt10_slop5.bed.gz\n",
      "processing: ../GRCh38-stratifications/LowComplexity/GRCh38_SimpleRepeat_imperfecthomopolgt20_slop5.bed.gz\n",
      "processed:   GRCh38_SimpleRepeat_imperfecthomopolgt20_slop5.bed.gz\n",
      "processing: ../GRCh38-stratifications/LowComplexity/GRCh38_SimpleRepeat_quadTR_20to50_slop5.bed.gz\n",
      "processed:   GRCh38_SimpleRepeat_quadTR_20to50_slop5.bed.gz\n",
      "processing: ../GRCh38-stratifications/LowComplexity/GRCh38_SimpleRepeat_quadTR_51to200_slop5.bed.gz\n",
      "processed:   GRCh38_SimpleRepeat_quadTR_51to200_slop5.bed.gz\n",
      "processing: ../GRCh38-stratifications/LowComplexity/GRCh38_SimpleRepeat_quadTR_gt200_slop5.bed.gz\n",
      "processed:   GRCh38_SimpleRepeat_quadTR_gt200_slop5.bed.gz\n",
      "processing: ../GRCh38-stratifications/LowComplexity/GRCh38_SimpleRepeat_triTR_15to50_slop5.bed.gz\n",
      "processed:   GRCh38_SimpleRepeat_triTR_15to50_slop5.bed.gz\n",
      "processing: ../GRCh38-stratifications/LowComplexity/GRCh38_SimpleRepeat_triTR_51to200_slop5.bed.gz\n",
      "processed:   GRCh38_SimpleRepeat_triTR_51to200_slop5.bed.gz\n",
      "processing: ../GRCh38-stratifications/LowComplexity/GRCh38_SimpleRepeat_triTR_gt200_slop5.bed\n",
      "processed:   GRCh38_SimpleRepeat_triTR_gt200_slop5.bed\n",
      "processing: ../GRCh38-stratifications/LowComplexity/GRCh38_SimpleRepeat_triTR_gt200_slop5.bed.gz\n",
      "processed:   GRCh38_SimpleRepeat_triTR_gt200_slop5.bed.gz\n",
      "processing: ../GRCh38-stratifications/LowComplexity/GRCh38_notinAllHomopolymers_gt6bp_imperfectgt10bp_slop5.bed.gz\n",
      "processed:   GRCh38_notinAllHomopolymers_gt6bp_imperfectgt10bp_slop5.bed.gz\n",
      "processing: ../GRCh38-stratifications/LowComplexity/GRCh38_notinAllTandemRepeatsandHomopolymers_slop5.bed.gz\n",
      "processed:   GRCh38_notinAllTandemRepeatsandHomopolymers_slop5.bed.gz\n",
      "processing: ../GRCh38-stratifications/LowComplexity/GRCh38_notinsatellites_slop5.bed.gz\n",
      "processed:   GRCh38_notinsatellites_slop5.bed.gz\n",
      "processing: ../GRCh38-stratifications/LowComplexity/GRCh38_satellites_slop5.bed.gz\n",
      "processed:   GRCh38_satellites_slop5.bed.gz\n"
     ]
    }
   ],
   "source": [
    "sh ../stratification_post-processing.sh -i ../GRCh38-stratifications/LowComplexity/ -n refNs/ -r GRCh38"
   ]
  },
  {
   "cell_type": "markdown",
   "metadata": {},
   "source": [
    "### SegmentalDuplications"
   ]
  },
  {
   "cell_type": "code",
   "execution_count": 45,
   "metadata": {},
   "outputs": [
    {
     "name": "stdout",
     "output_type": "stream",
     "text": [
      "Wed Jun 29 11:15:38 EDT 2022\n"
     ]
    }
   ],
   "source": [
    "#Get list of md5s for original files prior to any post processing\n",
    "date\n",
    "for f in ../GRCh38-stratifications/SegmentalDuplications/*.bed*\n",
    "do\n",
    "date >> ../GRCh38-stratifications/SegmentalDuplications/GRCh38-SegmentalDuplications-v3.1-original_file_md5s.txt\n",
    "md5 $f >> ../GRCh38-stratifications/SegmentalDuplications/GRCh38-SegmentalDuplications-v3.1-original_file_md5s.txt\n",
    "done"
   ]
  },
  {
   "cell_type": "code",
   "execution_count": 46,
   "metadata": {},
   "outputs": [
    {
     "name": "stdout",
     "output_type": "stream",
     "text": [
      "Wed Jun 29 11:17:11 EDT 2022\n",
      "bedtools v2.30.0\n",
      "ref is: GRCh38 \n",
      "SegmentalDuplications\n",
      "post-processed/GRCh38/SegmentalDuplications\n",
      "Processing for GRCh38\n",
      "processing: ../GRCh38-stratifications/SegmentalDuplications/GRCh38_chainSelf.bed.gz\n",
      "processed:   GRCh38_chainSelf.bed.gz\n",
      "processing: ../GRCh38-stratifications/SegmentalDuplications/GRCh38_chainSelf_gt10kb.bed.gz\n",
      "processed:   GRCh38_chainSelf_gt10kb.bed.gz\n",
      "processing: ../GRCh38-stratifications/SegmentalDuplications/GRCh38_notinchainSelf.bed.gz\n",
      "processed:   GRCh38_notinchainSelf.bed.gz\n",
      "processing: ../GRCh38-stratifications/SegmentalDuplications/GRCh38_notinchainSelf_gt10kb.bed.gz\n",
      "processed:   GRCh38_notinchainSelf_gt10kb.bed.gz\n"
     ]
    }
   ],
   "source": [
    "sh ../stratification_post-processing.sh -i ../GRCh38-stratifications/SegmentalDuplications/ -n refNs/ -r GRCh38"
   ]
  },
  {
   "cell_type": "markdown",
   "metadata": {},
   "source": [
    "## GRCh37"
   ]
  },
  {
   "cell_type": "markdown",
   "metadata": {},
   "source": [
    "### XY"
   ]
  },
  {
   "cell_type": "code",
   "execution_count": 12,
   "metadata": {
    "scrolled": true
   },
   "outputs": [
    {
     "name": "stdout",
     "output_type": "stream",
     "text": [
      "Wed Jun 29 08:20:00 EDT 2022\n"
     ]
    }
   ],
   "source": [
    "#Get list of md5s for original files prior to any post processing\n",
    "date\n",
    "for f in ../GRCh37-stratifications/XY/*.bed*\n",
    "do\n",
    "date >> ../GRCh37-stratifications/XY/GRCh37-XY-v3.1-original_file_md5s.txt\n",
    "md5 $f >> ../GRCh37-stratifications/XY/GRCh37-XY-v3.1-original_file_md5s.txt\n",
    "done"
   ]
  },
  {
   "cell_type": "code",
   "execution_count": 13,
   "metadata": {},
   "outputs": [
    {
     "name": "stdout",
     "output_type": "stream",
     "text": [
      "Wed Jun 29 08:20:09 EDT 2022\n",
      "bedtools v2.30.0\n",
      "ref is: GRCh37 \n",
      "XY\n",
      "post-processed/GRCh37/XY\n",
      "Processing for GRCh37\n",
      "processing XY: ../GRCh37-stratifications/XY/GRCh37_AllAutosomes.bed\n",
      "processed XY:   GRCh37_AllAutosomes.bed\n",
      "processing XY: ../GRCh37-stratifications/XY/GRCh37_chrX_PAR.bed\n",
      "processed XY:   GRCh37_chrX_PAR.bed\n",
      "processing XY: ../GRCh37-stratifications/XY/GRCh37_chrX_XTR.bed\n",
      "processed XY:   GRCh37_chrX_XTR.bed\n",
      "processing XY: ../GRCh37-stratifications/XY/GRCh37_chrX_ampliconic.bed\n",
      "processed XY:   GRCh37_chrX_ampliconic.bed\n",
      "processing XY: ../GRCh37-stratifications/XY/GRCh37_chrX_nonPAR.bed\n",
      "processed XY:   GRCh37_chrX_nonPAR.bed\n",
      "processing XY: ../GRCh37-stratifications/XY/GRCh37_chrY_PAR.bed\n",
      "processed XY:   GRCh37_chrY_PAR.bed\n",
      "processing XY: ../GRCh37-stratifications/XY/GRCh37_chrY_XTR.bed\n",
      "processed XY:   GRCh37_chrY_XTR.bed\n",
      "processing XY: ../GRCh37-stratifications/XY/GRCh37_chrY_ampliconic.bed\n",
      "processed XY:   GRCh37_chrY_ampliconic.bed\n",
      "processing XY: ../GRCh37-stratifications/XY/GRCh37_chrY_nonPAR.bed\n",
      "processed XY:   GRCh37_chrY_nonPAR.bed\n"
     ]
    }
   ],
   "source": [
    "sh ../stratification_post-processing.sh -i ../GRCh37-stratifications/XY/ -n refNs/ -r GRCh37"
   ]
  },
  {
   "cell_type": "markdown",
   "metadata": {},
   "source": [
    "### Union"
   ]
  },
  {
   "cell_type": "code",
   "execution_count": 14,
   "metadata": {
    "scrolled": true
   },
   "outputs": [
    {
     "name": "stdout",
     "output_type": "stream",
     "text": [
      "Wed Jun 29 08:23:56 EDT 2022\n"
     ]
    }
   ],
   "source": [
    "#Get list of md5s for original files prior to any post processing\n",
    "date\n",
    "for f in ../GRCh37-stratifications/Union/*.bed*\n",
    "do\n",
    "date >> ../GRCh37-stratifications/Union/GRCh37-Union-v3.1-original_file_md5s.txt\n",
    "md5 $f >> ../GRCh37-stratifications/Union/GRCh37-Union-v3.1-original_file_md5s.txt\n",
    "done"
   ]
  },
  {
   "cell_type": "code",
   "execution_count": 15,
   "metadata": {
    "scrolled": true
   },
   "outputs": [
    {
     "name": "stdout",
     "output_type": "stream",
     "text": [
      "Wed Jun 29 08:24:02 EDT 2022\n",
      "bedtools v2.30.0\n",
      "ref is: GRCh37 \n",
      "Union\n",
      "post-processed/GRCh37/Union\n",
      "Processing for GRCh37\n",
      "processing: ../GRCh37-stratifications/Union/GRCh37_allTandemRepeats.bed.gz\n",
      "processed:   GRCh37_allTandemRepeats.bed.gz\n",
      "processing: ../GRCh37-stratifications/Union/GRCh37_alldifficultregions.bed.gz\n",
      "processed:   GRCh37_alldifficultregions.bed.gz\n",
      "processing: ../GRCh37-stratifications/Union/GRCh37_alllowmapandsegdupregions.bed.gz\n",
      "processed:   GRCh37_alllowmapandsegdupregions.bed.gz\n",
      "processing: ../GRCh37-stratifications/Union/GRCh37_notinallTandemRepeats.bed.gz\n",
      "processed:   GRCh37_notinallTandemRepeats.bed.gz\n",
      "processing: ../GRCh37-stratifications/Union/GRCh37_notinalldifficultregions.bed.gz\n",
      "processed:   GRCh37_notinalldifficultregions.bed.gz\n",
      "processing: ../GRCh37-stratifications/Union/GRCh37_notinalllowmapandsegdupregions.bed.gz\n",
      "processed:   GRCh37_notinalllowmapandsegdupregions.bed.gz\n"
     ]
    }
   ],
   "source": [
    "sh ../stratification_post-processing.sh -i ../GRCh37-stratifications/Union/ -n refNs/ -r GRCh37"
   ]
  },
  {
   "cell_type": "markdown",
   "metadata": {},
   "source": [
    "### LowComplexity"
   ]
  },
  {
   "cell_type": "code",
   "execution_count": 16,
   "metadata": {
    "scrolled": true
   },
   "outputs": [
    {
     "name": "stdout",
     "output_type": "stream",
     "text": [
      "Wed Jun 29 08:25:21 EDT 2022\n"
     ]
    }
   ],
   "source": [
    "#Get list of md5s for original files prior to any post processing\n",
    "date\n",
    "for f in ../GRCh37-stratifications/LowComplexity/*.bed*\n",
    "do\n",
    "date >> ../GRCh37-stratifications/LowComplexity/GRCh37-LowComplexity-v3.1-original_file_md5s.txt\n",
    "md5 $f >> ../GRCh37-stratifications/LowComplexity/GRCh37-LowComplexity-v3.1-original_file_md5s.txt\n",
    "done"
   ]
  },
  {
   "cell_type": "code",
   "execution_count": 17,
   "metadata": {
    "scrolled": true
   },
   "outputs": [
    {
     "name": "stdout",
     "output_type": "stream",
     "text": [
      "Wed Jun 29 08:25:28 EDT 2022\n",
      "bedtools v2.30.0\n",
      "ref is: GRCh37 \n",
      "LowComplexity\n",
      "post-processed/GRCh37/LowComplexity\n",
      "Processing for GRCh37\n",
      "processing: ../GRCh37-stratifications/LowComplexity/GRCh37_AllHomopolymers_gt6bp_imperfectgt10bp_slop5.bed.gz\n",
      "processed:   GRCh37_AllHomopolymers_gt6bp_imperfectgt10bp_slop5.bed.gz\n",
      "processing: ../GRCh37-stratifications/LowComplexity/GRCh37_AllTandemRepeats_201to10000bp_slop5.bed.gz\n",
      "processed:   GRCh37_AllTandemRepeats_201to10000bp_slop5.bed.gz\n",
      "processing: ../GRCh37-stratifications/LowComplexity/GRCh37_AllTandemRepeats_51to200bp_slop5.bed.gz\n",
      "processed:   GRCh37_AllTandemRepeats_51to200bp_slop5.bed.gz\n",
      "processing: ../GRCh37-stratifications/LowComplexity/GRCh37_AllTandemRepeats_gt10000bp_slop5.bed.gz\n",
      "processed:   GRCh37_AllTandemRepeats_gt10000bp_slop5.bed.gz\n",
      "processing: ../GRCh37-stratifications/LowComplexity/GRCh37_AllTandemRepeats_gt100bp_slop5.bed.gz\n",
      "processed:   GRCh37_AllTandemRepeats_gt100bp_slop5.bed.gz\n",
      "processing: ../GRCh37-stratifications/LowComplexity/GRCh37_AllTandemRepeats_lt51bp_slop5.bed.gz\n",
      "processed:   GRCh37_AllTandemRepeats_lt51bp_slop5.bed.gz\n",
      "processing: ../GRCh37-stratifications/LowComplexity/GRCh37_AllTandemRepeatsandHomopolymers_slop5.bed.gz\n",
      "processed:   GRCh37_AllTandemRepeatsandHomopolymers_slop5.bed.gz\n",
      "processing: ../GRCh37-stratifications/LowComplexity/GRCh37_SimpleRepeat_diTR_11to50_slop5.bed.gz\n",
      "processed:   GRCh37_SimpleRepeat_diTR_11to50_slop5.bed.gz\n",
      "processing: ../GRCh37-stratifications/LowComplexity/GRCh37_SimpleRepeat_diTR_51to200_slop5.bed.gz\n",
      "processed:   GRCh37_SimpleRepeat_diTR_51to200_slop5.bed.gz\n",
      "processing: ../GRCh37-stratifications/LowComplexity/GRCh37_SimpleRepeat_diTR_gt200_slop5.bed.gz\n",
      "processed:   GRCh37_SimpleRepeat_diTR_gt200_slop5.bed.gz\n",
      "processing: ../GRCh37-stratifications/LowComplexity/GRCh37_SimpleRepeat_homopolymer_4to6_slop5.bed.gz\n",
      "processed:   GRCh37_SimpleRepeat_homopolymer_4to6_slop5.bed.gz\n",
      "processing: ../GRCh37-stratifications/LowComplexity/GRCh37_SimpleRepeat_homopolymer_7to11_slop5.bed.gz\n",
      "processed:   GRCh37_SimpleRepeat_homopolymer_7to11_slop5.bed.gz\n",
      "processing: ../GRCh37-stratifications/LowComplexity/GRCh37_SimpleRepeat_homopolymer_gt11_slop5.bed.gz\n",
      "processed:   GRCh37_SimpleRepeat_homopolymer_gt11_slop5.bed.gz\n",
      "processing: ../GRCh37-stratifications/LowComplexity/GRCh37_SimpleRepeat_homopolymer_gt20_slop5.bed.gz\n",
      "processed:   GRCh37_SimpleRepeat_homopolymer_gt20_slop5.bed.gz\n",
      "processing: ../GRCh37-stratifications/LowComplexity/GRCh37_SimpleRepeat_imperfecthomopolgt10_slop5.bed.gz\n",
      "processed:   GRCh37_SimpleRepeat_imperfecthomopolgt10_slop5.bed.gz\n",
      "processing: ../GRCh37-stratifications/LowComplexity/GRCh37_SimpleRepeat_imperfecthomopolgt20_slop5.bed.gz\n",
      "processed:   GRCh37_SimpleRepeat_imperfecthomopolgt20_slop5.bed.gz\n",
      "processing: ../GRCh37-stratifications/LowComplexity/GRCh37_SimpleRepeat_quadTR_20to50_slop5.bed.gz\n",
      "processed:   GRCh37_SimpleRepeat_quadTR_20to50_slop5.bed.gz\n",
      "processing: ../GRCh37-stratifications/LowComplexity/GRCh37_SimpleRepeat_quadTR_51to200_slop5.bed.gz\n",
      "processed:   GRCh37_SimpleRepeat_quadTR_51to200_slop5.bed.gz\n",
      "processing: ../GRCh37-stratifications/LowComplexity/GRCh37_SimpleRepeat_quadTR_gt200_slop5.bed.gz\n",
      "processed:   GRCh37_SimpleRepeat_quadTR_gt200_slop5.bed.gz\n",
      "processing: ../GRCh37-stratifications/LowComplexity/GRCh37_SimpleRepeat_triTR_15to50_slop5.bed.gz\n",
      "processed:   GRCh37_SimpleRepeat_triTR_15to50_slop5.bed.gz\n",
      "processing: ../GRCh37-stratifications/LowComplexity/GRCh37_SimpleRepeat_triTR_51to200_slop5.bed.gz\n",
      "processed:   GRCh37_SimpleRepeat_triTR_51to200_slop5.bed.gz\n",
      "processing: ../GRCh37-stratifications/LowComplexity/GRCh37_SimpleRepeat_triTR_gt200_slop5.bed.gz\n",
      "processed:   GRCh37_SimpleRepeat_triTR_gt200_slop5.bed.gz\n",
      "processing: ../GRCh37-stratifications/LowComplexity/GRCh37_notinAllHomopolymers_gt6bp_imperfectgt10bp_slop5.bed.gz\n",
      "processed:   GRCh37_notinAllHomopolymers_gt6bp_imperfectgt10bp_slop5.bed.gz\n",
      "processing: ../GRCh37-stratifications/LowComplexity/GRCh37_notinAllTandemRepeatsandHomopolymers_slop5.bed.gz\n",
      "processed:   GRCh37_notinAllTandemRepeatsandHomopolymers_slop5.bed.gz\n",
      "processing: ../GRCh37-stratifications/LowComplexity/GRCh37_notinsatellites_slop5.bed.gz\n",
      "processed:   GRCh37_notinsatellites_slop5.bed.gz\n",
      "processing: ../GRCh37-stratifications/LowComplexity/GRCh37_satellites_slop5.bed.gz\n",
      "processed:   GRCh37_satellites_slop5.bed.gz\n"
     ]
    }
   ],
   "source": [
    "sh ../stratification_post-processing.sh -i ../GRCh37-stratifications/LowComplexity/ -n refNs/ -r GRCh37"
   ]
  },
  {
   "cell_type": "markdown",
   "metadata": {},
   "source": [
    "### SegmentalDuplicatons"
   ]
  },
  {
   "cell_type": "code",
   "execution_count": 49,
   "metadata": {},
   "outputs": [
    {
     "name": "stdout",
     "output_type": "stream",
     "text": [
      "Wed Jun 29 11:23:20 EDT 2022\n"
     ]
    }
   ],
   "source": [
    "#Get list of md5s for original files prior to any post processing\n",
    "date\n",
    "for f in ../GRCh37-stratifications/SegmentalDuplications/*.bed*\n",
    "do\n",
    "date >> ../GRCh37-stratifications/SegmentalDuplications/GRCh37-SegmentalDuplications-v3.1-original_file_md5s.txt\n",
    "md5 $f >> ../GRCh37-stratifications/SegmentalDuplications/GRCh37-SegmentalDuplications-v3.1-original_file_md5s.txt\n",
    "done"
   ]
  },
  {
   "cell_type": "code",
   "execution_count": 48,
   "metadata": {},
   "outputs": [
    {
     "name": "stdout",
     "output_type": "stream",
     "text": [
      "Wed Jun 29 11:18:24 EDT 2022\n",
      "bedtools v2.30.0\n",
      "ref is: GRCh37 \n",
      "SegmentalDuplications\n",
      "post-processed/GRCh37/SegmentalDuplications\n",
      "Processing for GRCh37\n",
      "processing: ../GRCh37-stratifications/SegmentalDuplications/GRCh37_chainSelf.bed.gz\n",
      "processed:   GRCh37_chainSelf.bed.gz\n",
      "processing: ../GRCh37-stratifications/SegmentalDuplications/GRCh37_chainSelf_gt10kb.bed.gz\n",
      "processed:   GRCh37_chainSelf_gt10kb.bed.gz\n",
      "processing: ../GRCh37-stratifications/SegmentalDuplications/GRCh37_notinchainSelf.bed.gz\n",
      "processed:   GRCh37_notinchainSelf.bed.gz\n",
      "processing: ../GRCh37-stratifications/SegmentalDuplications/GRCh37_notinchainSelf_gt10kb.bed.gz\n",
      "processed:   GRCh37_notinchainSelf_gt10kb.bed.gz\n",
      "processing: ../GRCh37-stratifications/SegmentalDuplications/GRCh37_notinsegdups.bed.gz\n",
      "processed:   GRCh37_notinsegdups.bed.gz\n",
      "processing: ../GRCh37-stratifications/SegmentalDuplications/GRCh37_notinsegdups_gt10kb.bed.gz\n",
      "processed:   GRCh37_notinsegdups_gt10kb.bed.gz\n",
      "processing: ../GRCh37-stratifications/SegmentalDuplications/GRCh37_segdups.bed.gz\n",
      "processed:   GRCh37_segdups.bed.gz\n",
      "processing: ../GRCh37-stratifications/SegmentalDuplications/GRCh37_segdups_gt10kb.bed.gz\n",
      "processed:   GRCh37_segdups_gt10kb.bed.gz\n"
     ]
    }
   ],
   "source": [
    "sh ../stratification_post-processing.sh -i ../GRCh37-stratifications/SegmentalDuplications/ -n refNs/ -r GRCh37"
   ]
  },
  {
   "cell_type": "markdown",
   "metadata": {},
   "source": [
    "## CHM13v2.0"
   ]
  },
  {
   "cell_type": "markdown",
   "metadata": {},
   "source": [
    "### XY"
   ]
  },
  {
   "cell_type": "code",
   "execution_count": 26,
   "metadata": {
    "scrolled": true
   },
   "outputs": [
    {
     "name": "stdout",
     "output_type": "stream",
     "text": [
      "Wed Jun 29 08:36:57 EDT 2022\n"
     ]
    }
   ],
   "source": [
    "#Get list of md5s for original files prior to any post processing\n",
    "date\n",
    "for f in ../T2T-CHM13v2.0-stratifications/XY/*.bed*\n",
    "do\n",
    "date >> ../T2T-CHM13v2.0-stratifications/XY/CHM13v2.0-XY-v3.1-original_file_md5s.txt\n",
    "md5 $f >> ../T2T-CHM13v2.0-stratifications/XY/CHM13v2.0-XY-v3.1-original_file_md5s.txt\n",
    "done"
   ]
  },
  {
   "cell_type": "code",
   "execution_count": 22,
   "metadata": {},
   "outputs": [
    {
     "name": "stdout",
     "output_type": "stream",
     "text": [
      "Wed Jun 29 08:33:28 EDT 2022\n",
      "bedtools v2.30.0\n",
      "ref is: CHM13 \n",
      "XY\n",
      "post-processed/CHM13/XY\n",
      "Processing for CHM13\n",
      "processing XY: ../T2T-CHM13v2.0-stratifications/XY/CHM13v2.0_AllAutosomes.bed\n",
      "processed XY:   CHM13v2.0_AllAutosomes.bed\n",
      "processing XY: ../T2T-CHM13v2.0-stratifications/XY/CHM13v2.0_chrX_PAR.bed\n",
      "processed XY:   CHM13v2.0_chrX_PAR.bed\n",
      "processing XY: ../T2T-CHM13v2.0-stratifications/XY/CHM13v2.0_chrX_XTR.bed\n",
      "processed XY:   CHM13v2.0_chrX_XTR.bed\n",
      "processing XY: ../T2T-CHM13v2.0-stratifications/XY/CHM13v2.0_chrX_nonPAR.bed\n",
      "processed XY:   CHM13v2.0_chrX_nonPAR.bed\n",
      "processing XY: ../T2T-CHM13v2.0-stratifications/XY/CHM13v2.0_chrY_PAR.bed\n",
      "processed XY:   CHM13v2.0_chrY_PAR.bed\n",
      "processing XY: ../T2T-CHM13v2.0-stratifications/XY/CHM13v2.0_chrY_XTR.bed\n",
      "processed XY:   CHM13v2.0_chrY_XTR.bed\n",
      "processing XY: ../T2T-CHM13v2.0-stratifications/XY/CHM13v2.0_chrY_nonPAR.bed\n",
      "processed XY:   CHM13v2.0_chrY_nonPAR.bed\n"
     ]
    }
   ],
   "source": [
    "sh ../stratification_post-processing.sh -i ../T2T-CHM13v2.0-stratifications/XY/ -n refNs/ -r CHM13"
   ]
  },
  {
   "cell_type": "markdown",
   "metadata": {},
   "source": [
    "### Union"
   ]
  },
  {
   "cell_type": "code",
   "execution_count": 25,
   "metadata": {
    "scrolled": true
   },
   "outputs": [
    {
     "name": "stdout",
     "output_type": "stream",
     "text": [
      "Wed Jun 29 08:36:24 EDT 2022\n"
     ]
    }
   ],
   "source": [
    "#Get list of md5s for original files prior to any post processing\n",
    "date\n",
    "for f in ../T2T-CHM13v2.0-stratifications/Union/*.bed*\n",
    "do\n",
    "date >> ../T2T-CHM13v2.0-stratifications/Union/CHM13v2.0-Union-v3.1-original_file_md5s.txt\n",
    "md5 $f >> ../T2T-CHM13v2.0-stratifications/Union/CHM13v2.0-Union-v3.1-original_file_md5s.txt\n",
    "done"
   ]
  },
  {
   "cell_type": "code",
   "execution_count": 24,
   "metadata": {},
   "outputs": [
    {
     "name": "stdout",
     "output_type": "stream",
     "text": [
      "Wed Jun 29 08:34:14 EDT 2022\n",
      "bedtools v2.30.0\n",
      "ref is: CHM13 \n",
      "Union\n",
      "post-processed/CHM13/Union\n",
      "Processing for CHM13\n",
      "processing: ../T2T-CHM13v2.0-stratifications/Union/CHM13v2.0_allTandemRepeats.bed.gz\n",
      "processed:   CHM13v2.0_allTandemRepeats.bed.gz\n",
      "processing: ../T2T-CHM13v2.0-stratifications/Union/CHM13v2.0_alldifficultregions.bed.gz\n",
      "processed:   CHM13v2.0_alldifficultregions.bed.gz\n",
      "processing: ../T2T-CHM13v2.0-stratifications/Union/CHM13v2.0_notinallTandemRepeats.bed.gz\n",
      "processed:   CHM13v2.0_notinallTandemRepeats.bed.gz\n",
      "processing: ../T2T-CHM13v2.0-stratifications/Union/CHM13v2.0_notinalldifficultregions.bed.gz\n",
      "processed:   CHM13v2.0_notinalldifficultregions.bed.gz\n"
     ]
    }
   ],
   "source": [
    "sh ../stratification_post-processing.sh -i ../T2T-CHM13v2.0-stratifications/Union/ -n refNs/ -r CHM13"
   ]
  },
  {
   "cell_type": "markdown",
   "metadata": {},
   "source": [
    "### LowComplexity"
   ]
  },
  {
   "cell_type": "code",
   "execution_count": 27,
   "metadata": {
    "scrolled": true
   },
   "outputs": [
    {
     "name": "stdout",
     "output_type": "stream",
     "text": [
      "Wed Jun 29 08:38:46 EDT 2022\n"
     ]
    }
   ],
   "source": [
    "#Get list of md5s for original files prior to any post processing\n",
    "date\n",
    "for f in ../T2T-CHM13v2.0-stratifications/LowComplexity/*.bed*\n",
    "do\n",
    "date >> ../T2T-CHM13v2.0-stratifications/LowComplexity/CHM13v2.0-LowComplexity-v3.1-original_file_md5s.txt\n",
    "md5 $f >> ../T2T-CHM13v2.0-stratifications/LowComplexity/CHM13v2.0-LowComplexity-v3.1-original_file_md5s.txt\n",
    "done"
   ]
  },
  {
   "cell_type": "code",
   "execution_count": 28,
   "metadata": {
    "scrolled": true
   },
   "outputs": [
    {
     "name": "stdout",
     "output_type": "stream",
     "text": [
      "Wed Jun 29 08:39:02 EDT 2022\n",
      "bedtools v2.30.0\n",
      "ref is: CHM13 \n",
      "LowComplexity\n",
      "post-processed/CHM13/LowComplexity\n",
      "Processing for CHM13\n",
      "processing: ../T2T-CHM13v2.0-stratifications/LowComplexity/CHM13v2.0_AllHomopolymers_gt6bp_imperfectgt10bp_slop5.bed.gz\n",
      "processed:   CHM13v2.0_AllHomopolymers_gt6bp_imperfectgt10bp_slop5.bed.gz\n",
      "processing: ../T2T-CHM13v2.0-stratifications/LowComplexity/CHM13v2.0_AllTandemRepeats_201to10000bp_slop5.bed.gz\n",
      "processed:   CHM13v2.0_AllTandemRepeats_201to10000bp_slop5.bed.gz\n",
      "processing: ../T2T-CHM13v2.0-stratifications/LowComplexity/CHM13v2.0_AllTandemRepeats_51to200bp_slop5.bed.gz\n",
      "processed:   CHM13v2.0_AllTandemRepeats_51to200bp_slop5.bed.gz\n",
      "processing: ../T2T-CHM13v2.0-stratifications/LowComplexity/CHM13v2.0_AllTandemRepeats_gt10000bp_slop5.bed.gz\n",
      "processed:   CHM13v2.0_AllTandemRepeats_gt10000bp_slop5.bed.gz\n",
      "processing: ../T2T-CHM13v2.0-stratifications/LowComplexity/CHM13v2.0_AllTandemRepeats_gt100bp_slop5.bed.gz\n",
      "processed:   CHM13v2.0_AllTandemRepeats_gt100bp_slop5.bed.gz\n",
      "processing: ../T2T-CHM13v2.0-stratifications/LowComplexity/CHM13v2.0_AllTandemRepeats_lt51bp_slop5.bed.gz\n",
      "processed:   CHM13v2.0_AllTandemRepeats_lt51bp_slop5.bed.gz\n",
      "processing: ../T2T-CHM13v2.0-stratifications/LowComplexity/CHM13v2.0_AllTandemRepeatsandHomopolymers_slop5.bed.gz\n",
      "processed:   CHM13v2.0_AllTandemRepeatsandHomopolymers_slop5.bed.gz\n",
      "processing: ../T2T-CHM13v2.0-stratifications/LowComplexity/CHM13v2.0_SimpleRepeat_diTR_11to50_slop5.bed.gz\n",
      "processed:   CHM13v2.0_SimpleRepeat_diTR_11to50_slop5.bed.gz\n",
      "processing: ../T2T-CHM13v2.0-stratifications/LowComplexity/CHM13v2.0_SimpleRepeat_diTR_51to200_slop5.bed.gz\n",
      "processed:   CHM13v2.0_SimpleRepeat_diTR_51to200_slop5.bed.gz\n",
      "processing: ../T2T-CHM13v2.0-stratifications/LowComplexity/CHM13v2.0_SimpleRepeat_diTR_gt200_slop5.bed.gz\n",
      "processed:   CHM13v2.0_SimpleRepeat_diTR_gt200_slop5.bed.gz\n",
      "processing: ../T2T-CHM13v2.0-stratifications/LowComplexity/CHM13v2.0_SimpleRepeat_homopolymer_4to6_slop5.bed.gz\n",
      "processed:   CHM13v2.0_SimpleRepeat_homopolymer_4to6_slop5.bed.gz\n",
      "processing: ../T2T-CHM13v2.0-stratifications/LowComplexity/CHM13v2.0_SimpleRepeat_homopolymer_7to11_slop5.bed.gz\n",
      "processed:   CHM13v2.0_SimpleRepeat_homopolymer_7to11_slop5.bed.gz\n",
      "processing: ../T2T-CHM13v2.0-stratifications/LowComplexity/CHM13v2.0_SimpleRepeat_homopolymer_gt11_slop5.bed.gz\n",
      "processed:   CHM13v2.0_SimpleRepeat_homopolymer_gt11_slop5.bed.gz\n",
      "processing: ../T2T-CHM13v2.0-stratifications/LowComplexity/CHM13v2.0_SimpleRepeat_homopolymer_gt20_slop5.bed.gz\n",
      "processed:   CHM13v2.0_SimpleRepeat_homopolymer_gt20_slop5.bed.gz\n",
      "processing: ../T2T-CHM13v2.0-stratifications/LowComplexity/CHM13v2.0_SimpleRepeat_imperfecthomopolgt10_slop5.bed.gz\n",
      "processed:   CHM13v2.0_SimpleRepeat_imperfecthomopolgt10_slop5.bed.gz\n",
      "processing: ../T2T-CHM13v2.0-stratifications/LowComplexity/CHM13v2.0_SimpleRepeat_imperfecthomopolgt20_slop5.bed.gz\n",
      "processed:   CHM13v2.0_SimpleRepeat_imperfecthomopolgt20_slop5.bed.gz\n",
      "processing: ../T2T-CHM13v2.0-stratifications/LowComplexity/CHM13v2.0_SimpleRepeat_quadTR_20to50_slop5.bed.gz\n",
      "processed:   CHM13v2.0_SimpleRepeat_quadTR_20to50_slop5.bed.gz\n",
      "processing: ../T2T-CHM13v2.0-stratifications/LowComplexity/CHM13v2.0_SimpleRepeat_quadTR_51to200_slop5.bed.gz\n",
      "processed:   CHM13v2.0_SimpleRepeat_quadTR_51to200_slop5.bed.gz\n",
      "processing: ../T2T-CHM13v2.0-stratifications/LowComplexity/CHM13v2.0_SimpleRepeat_quadTR_gt200_slop5.bed.gz\n",
      "processed:   CHM13v2.0_SimpleRepeat_quadTR_gt200_slop5.bed.gz\n",
      "processing: ../T2T-CHM13v2.0-stratifications/LowComplexity/CHM13v2.0_SimpleRepeat_triTR_15to50_slop5.bed.gz\n",
      "processed:   CHM13v2.0_SimpleRepeat_triTR_15to50_slop5.bed.gz\n",
      "processing: ../T2T-CHM13v2.0-stratifications/LowComplexity/CHM13v2.0_SimpleRepeat_triTR_51to200_slop5.bed.gz\n",
      "processed:   CHM13v2.0_SimpleRepeat_triTR_51to200_slop5.bed.gz\n",
      "processing: ../T2T-CHM13v2.0-stratifications/LowComplexity/CHM13v2.0_SimpleRepeat_triTR_gt200_slop5.bed.gz\n",
      "processed:   CHM13v2.0_SimpleRepeat_triTR_gt200_slop5.bed.gz\n",
      "processing: ../T2T-CHM13v2.0-stratifications/LowComplexity/CHM13v2.0_notinAllHomopolymers_gt6bp_imperfectgt10bp_slop5.bed.gz\n",
      "processed:   CHM13v2.0_notinAllHomopolymers_gt6bp_imperfectgt10bp_slop5.bed.gz\n",
      "processing: ../T2T-CHM13v2.0-stratifications/LowComplexity/CHM13v2.0_notinAllTandemRepeatsandHomopolymers_slop5.bed.gz\n",
      "processed:   CHM13v2.0_notinAllTandemRepeatsandHomopolymers_slop5.bed.gz\n",
      "processing: ../T2T-CHM13v2.0-stratifications/LowComplexity/CHM13v2.0_notinsatellites_slop5.bed.gz\n",
      "processed:   CHM13v2.0_notinsatellites_slop5.bed.gz\n",
      "processing: ../T2T-CHM13v2.0-stratifications/LowComplexity/CHM13v2.0_satellites_slop5.bed.gz\n",
      "processed:   CHM13v2.0_satellites_slop5.bed.gz\n"
     ]
    }
   ],
   "source": [
    "sh ../stratification_post-processing.sh -i ../T2T-CHM13v2.0-stratifications/LowComplexity/ -n refNs/ -r CHM13"
   ]
  },
  {
   "cell_type": "markdown",
   "metadata": {},
   "source": [
    "### OtherDifficult\n",
    "note: 6/29/22 renamed directories from rDNA to OtherDifficult"
   ]
  },
  {
   "cell_type": "code",
   "execution_count": 29,
   "metadata": {
    "scrolled": true
   },
   "outputs": [
    {
     "name": "stdout",
     "output_type": "stream",
     "text": [
      "Wed Jun 29 08:50:46 EDT 2022\n"
     ]
    }
   ],
   "source": [
    "#Get list of md5s for original files prior to any post processing\n",
    "date\n",
    "for f in ../T2T-CHM13v2.0-stratifications/rDNA/*.bed*\n",
    "do\n",
    "date >> ../T2T-CHM13v2.0-stratifications/rDNA/CHM13v2.0-OtherDifficult-v3.1-original_file_md5s.txt\n",
    "md5 $f >> ../T2T-CHM13v2.0-stratifications/rDNA/CHM13v2.0-OtherDifficult-v3.1-original_file_md5s.txt\n",
    "done"
   ]
  },
  {
   "cell_type": "code",
   "execution_count": 30,
   "metadata": {},
   "outputs": [
    {
     "name": "stdout",
     "output_type": "stream",
     "text": [
      "Wed Jun 29 08:50:56 EDT 2022\n",
      "bedtools v2.30.0\n",
      "ref is: CHM13 \n",
      "rDNA\n",
      "post-processed/CHM13/rDNA\n",
      "Processing for CHM13\n",
      "processing: ../T2T-CHM13v2.0-stratifications/rDNA/CHM13v1.1_rDNA.bed.gz\n",
      "processed:   CHM13v1.1_rDNA.bed.gz\n"
     ]
    }
   ],
   "source": [
    "sh ../stratification_post-processing.sh -i ../T2T-CHM13v2.0-stratifications/rDNA/ -n refNs/ -r CHM13"
   ]
  },
  {
   "cell_type": "markdown",
   "metadata": {},
   "source": [
    "### SegmentalDuplications\n",
    "note: 6/29/22 renamed directories from SegDups to SegmentalDuplications"
   ]
  },
  {
   "cell_type": "code",
   "execution_count": 35,
   "metadata": {
    "scrolled": true
   },
   "outputs": [
    {
     "name": "stdout",
     "output_type": "stream",
     "text": [
      "Wed Jun 29 08:58:32 EDT 2022\n"
     ]
    }
   ],
   "source": [
    "#Get list of md5s for original files prior to any post processing\n",
    "date\n",
    "for f in ../T2T-CHM13v2.0-stratifications/SegmentalDuplications/*.bed*\n",
    "do\n",
    "date >> ../T2T-CHM13v2.0-stratifications/SegmentalDuplications/CHM13v2.0-SegmentalDuplications-v3.1-original_file_md5s.txt\n",
    "md5 $f >> ../T2T-CHM13v2.0-stratifications/SegmentalDuplications/CHM13v2.0-SegmentalDuplications-v3.1-original_file_md5s.txt\n",
    "done"
   ]
  },
  {
   "cell_type": "code",
   "execution_count": 36,
   "metadata": {},
   "outputs": [
    {
     "name": "stdout",
     "output_type": "stream",
     "text": [
      "Wed Jun 29 08:58:37 EDT 2022\n",
      "bedtools v2.30.0\n",
      "ref is: CHM13 \n",
      "SegmentalDuplications\n",
      "post-processed/CHM13/SegmentalDuplications\n",
      "Processing for CHM13\n",
      "processing: ../T2T-CHM13v2.0-stratifications/SegmentalDuplications/CHM13v2.0_SegDups.bed.gz\n",
      "processed:   CHM13v2.0_SegDups.bed.gz\n",
      "processing: ../T2T-CHM13v2.0-stratifications/SegmentalDuplications/CHM13v2.0_notinSegDups.bed.gz\n",
      "processed:   CHM13v2.0_notinSegDups.bed.gz\n"
     ]
    }
   ],
   "source": [
    "sh ../stratification_post-processing.sh -i ../T2T-CHM13v2.0-stratifications/SegmentalDuplications/ -n refNs/ -r CHM13"
   ]
  },
  {
   "cell_type": "markdown",
   "metadata": {},
   "source": [
    "---"
   ]
  },
  {
   "cell_type": "markdown",
   "metadata": {},
   "source": [
    "## 2. Rename post-processed BEDs using standard convention<a id=\"rename\"></a>"
   ]
  },
  {
   "cell_type": "markdown",
   "metadata": {},
   "source": [
    "### GRCh38\n",
    "All files appropriately named in generation script, no need for re-naming."
   ]
  },
  {
   "cell_type": "markdown",
   "metadata": {},
   "source": [
    "### GRCh37\n",
    "All files appropriately named in generation script, no need for re-naming."
   ]
  },
  {
   "cell_type": "markdown",
   "metadata": {},
   "source": [
    "### CHM13v2.0\n",
    "With the exception of files below, all other files appropriately named in generation script. "
   ]
  },
  {
   "cell_type": "code",
   "execution_count": 37,
   "metadata": {},
   "outputs": [
    {
     "name": "stdout",
     "output_type": "stream",
     "text": [
      "Wed Jun 29 09:00:25 EDT 2022\n"
     ]
    }
   ],
   "source": [
    "date\n",
    "#Files needing rename\n",
    "mv post-processed/CHM13/OtherDifficult/CHM13v1.1_rDNA.bed.gz post-processed/CHM13/OtherDifficult/CHM13v2.0_rDNA.bed.gz"
   ]
  },
  {
   "cell_type": "markdown",
   "metadata": {},
   "source": [
    "---"
   ]
  },
  {
   "cell_type": "markdown",
   "metadata": {},
   "source": [
    "## 3. Consolidate files for release<a id=\"consolidate\"></a>\n",
    "The directory \"v3.0-carry-over-stratifications\" includes v3.0 stratifcations that will be directly carried over from v3.0.  These files have already been through post processing.  This step combines \"v3.0-carry-over-stratifications\" with new \"post-processed\" v3.1 stratifications into a candidate stratifcation release directory used for validation of all v3.1 stratifications and ulitmate release."
   ]
  },
  {
   "cell_type": "code",
   "execution_count": 40,
   "metadata": {},
   "outputs": [
    {
     "name": "stdout",
     "output_type": "stream",
     "text": [
      "Wed Jun 29 09:32:41 EDT 2022\n"
     ]
    }
   ],
   "source": [
    "#rename candidate files directory\n",
    "date\n",
    "cp -rp ../v3.0-carry-over-stratifications ../validation/v3.1-candidate-release-files"
   ]
  },
  {
   "cell_type": "code",
   "execution_count": 41,
   "metadata": {},
   "outputs": [
    {
     "name": "stdout",
     "output_type": "stream",
     "text": [
      "Wed Jun 29 09:32:55 EDT 2022\n"
     ]
    }
   ],
   "source": [
    "#CHM13\n",
    "date\n",
    "cp -rp post-processed/CHM13 ../validation/v3.1-candidate-release-files"
   ]
  },
  {
   "cell_type": "code",
   "execution_count": 50,
   "metadata": {},
   "outputs": [
    {
     "name": "stdout",
     "output_type": "stream",
     "text": [
      "Wed Jun 29 11:26:19 EDT 2022\n"
     ]
    }
   ],
   "source": [
    "#GRCh38\n",
    "date\n",
    "cp -rp post-processed/GRCh38/XY ../validation/v3.1-candidate-release-files/GRCh38\n",
    "cp -rp post-processed/GRCh38/Union/* ../validation/v3.1-candidate-release-files/GRCh38/Union\n",
    "cp -rp post-processed/GRCh38/LowComplexity ../validation/v3.1-candidate-release-files/GRCh38\n",
    "cp -rp post-processed/GRCh38/SegmentalDuplications/* ../validation/v3.1-candidate-release-files/GRCh38/SegmentalDuplications"
   ]
  },
  {
   "cell_type": "code",
   "execution_count": 51,
   "metadata": {},
   "outputs": [
    {
     "name": "stdout",
     "output_type": "stream",
     "text": [
      "Wed Jun 29 11:26:22 EDT 2022\n"
     ]
    }
   ],
   "source": [
    "#GRCh37\n",
    "date\n",
    "cp -rp post-processed/GRCh37/XY ../validation/v3.1-candidate-release-files/GRCh37\n",
    "cp -rp post-processed/GRCh37/Union/* ../validation/v3.1-candidate-release-files/GRCh37/Union\n",
    "cp -rp post-processed/GRCh37/LowComplexity ../validation/v3.1-candidate-release-files/GRCh37\n",
    "cp -rp post-processed/GRCh37/SegmentalDuplications/* ../validation/v3.1-candidate-release-files/GRCh37/SegmentalDuplications"
   ]
  },
  {
   "cell_type": "markdown",
   "metadata": {},
   "source": [
    "---"
   ]
  },
  {
   "cell_type": "markdown",
   "metadata": {},
   "source": [
    "## 4. Generate md5s for release files<a id=\"md5\"></a>"
   ]
  },
  {
   "cell_type": "code",
   "execution_count": 2,
   "metadata": {},
   "outputs": [
    {
     "name": "stdout",
     "output_type": "stream",
     "text": [
      "Mon Jul 11 14:52:38 EDT 2022\n"
     ]
    }
   ],
   "source": [
    "date\n",
    "date >> ../validation/v3.1-candidate-release-files/md5_checksums.txt\n",
    "find ../validation/v3.1-candidate-release-files -type f -name \"*.bed.gz\" -exec md5 -r '{}' \\; -maxdepth 3 >> ../validation/v3.1-candidate-release-files/md5_checksums.txt"
   ]
  },
  {
   "cell_type": "code",
   "execution_count": null,
   "metadata": {},
   "outputs": [],
   "source": []
  }
 ],
 "metadata": {
  "kernelspec": {
   "display_name": "Bash",
   "language": "bash",
   "name": "bash"
  },
  "language_info": {
   "codemirror_mode": "shell",
   "file_extension": ".sh",
   "mimetype": "text/x-sh",
   "name": "bash"
  }
 },
 "nbformat": 4,
 "nbformat_minor": 4
}
