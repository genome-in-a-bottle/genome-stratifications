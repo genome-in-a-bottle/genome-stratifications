{
 "cells": [
  {
   "cell_type": "markdown",
   "metadata": {},
   "source": [
    "# T2T-CHM13v2.0 XY v3.1 stratifications\n",
    "JMcDaniel started 5/9/22"
   ]
  },
  {
   "cell_type": "markdown",
   "metadata": {},
   "source": [
    "## TABLE OF CONTENTS\n",
    "<hr style=\"border:2px solid black\"> </hr>\n",
    "\n",
    "- [Background](#background)  \n",
    "- [File Descriptions](#files)  \n",
    "- [Files for release](#release)  \n",
    "- [Resources](#resources)  \n",
    "- [Code and File Sharing](#share)  \n",
    "- [Software Tools](#tools)  \n",
    "- [Get Dependency Files](#depend)  \n",
    "- [Stratification Prep](#prep)  \n",
    "    [XTR](#xtr)  \n",
    "    [Ampliconic](#amp)  \n",
    "    [PAR](#par)  \n",
    "    [non-par](#non)  \n",
    "    [All Autosomes](#auto)\n"
   ]
  },
  {
   "cell_type": "markdown",
   "metadata": {},
   "source": [
    "## Background<a id=\"background\"></a>\n"
   ]
  },
  {
   "cell_type": "markdown",
   "metadata": {},
   "source": [
    "XY feature regions from Melissa Wilson provided for all references however for CHM13v2.0 only XTR regions will be used. PAR for CHM13v2.0 from Heng Li (T2T) will be used for stratifications.\n",
    "\n",
    "**PAR -- used PAR from T2T**  \n",
    "regions similar between X and Y.  These regions do recombine with one another. We Usually mask chrY PAR and force all reads to X.\n",
    "\n",
    "**XTR -- used XTR from M.Wilson**    \n",
    "regions that are quite similar between X and Y.  Thes regions DO NOT recombine like PAR. They are easier to map however with 97% similarity they can be an issue for short-read technologies.\n",
    "\n",
    "\n",
    "Other files that will be included with XY stratifications:\n",
    "\n",
    "**AllAutosomes**  \n",
    "everything but XY, so 1-22\n",
    "\n",
    "**nonPAR**  \n",
    "chrX/Y minus PAR regions\n"
   ]
  },
  {
   "cell_type": "markdown",
   "metadata": {},
   "source": [
    "## Files for release<a id=\"release\"></a>\n",
    "CHM13v2.0_AllAutosomes.bed  \n",
    "CHM13v2.0_chrX_PAR.bed  \n",
    "CHM13v2.0_chrX_XTR.bed   \n",
    "CHM13v2.0_chrX_nonPAR.bed  \n",
    "CHM13v2.0_chrY_PAR.bed  \n",
    "CHM13v2.0_chrY_XTR.bed  \n",
    "CHM13v2.0_chrY_nonPAR.bed"
   ]
  },
  {
   "cell_type": "markdown",
   "metadata": {},
   "source": [
    "## Resources<a id=\"resources\"></a>\n",
    "N/A"
   ]
  },
  {
   "cell_type": "markdown",
   "metadata": {},
   "source": [
    "## Code and File Sharing<a id=\"share\"></a>\n",
    "- GIAB GitHub\n",
    "- GIAB FTP"
   ]
  },
  {
   "cell_type": "markdown",
   "metadata": {},
   "source": [
    "## Required tools and versions<a id=\"tools\"></a>"
   ]
  },
  {
   "cell_type": "code",
   "execution_count": 1,
   "metadata": {
    "scrolled": true
   },
   "outputs": [
    {
     "name": "stdout",
     "output_type": "stream",
     "text": [
      "# packages in environment at /Users/jmcdani/opt/anaconda3/envs/bedtools:\n",
      "#\n",
      "# Name                    Version                   Build  Channel\n",
      "appnope                   0.1.0            py27hb466136_0  \n",
      "backports                 1.1                pyhd3eb1b0_0  \n",
      "backports.shutil_get_terminal_size 1.0.0              pyhd3eb1b0_3  \n",
      "backports_abc             0.5                        py_1  \n",
      "bedtools                  2.30.0               haa7f73a_1    bioconda\n",
      "biopython                 1.74             py27h1de35cc_0  \n",
      "bleach                    3.1.0                    py27_0  \n",
      "bzip2                     1.0.8                h1de35cc_0  \n",
      "ca-certificates           2022.3.29            hecd8cb5_0  \n",
      "certifi                   2020.6.20          pyhd3eb1b0_3  \n",
      "configparser              4.0.2                    py27_0  \n",
      "dbus                      1.13.18              h18a8e69_0  \n",
      "decorator                 4.4.0                    py27_1  \n",
      "defusedxml                0.7.1              pyhd3eb1b0_0  \n",
      "entrypoints               0.3                      py27_0  \n",
      "enum34                    1.1.6                    py27_1  \n",
      "expat                     2.4.4                he9d5cce_0  \n",
      "functools32               3.2.3.2                  py27_1  \n",
      "futures                   3.3.0                    py27_0  \n",
      "gettext                   0.21.0               h7535e17_0  \n",
      "glib                      2.63.1               hd977a24_0  \n",
      "icu                       58.2                 h0a44026_3  \n",
      "ipykernel                 4.10.0                   py27_0  \n",
      "ipython                   4.2.1                    py27_1    conda-forge\n",
      "ipython_genutils          0.2.0              pyhd3eb1b0_1  \n",
      "ipywidgets                7.4.2                    py27_0  \n",
      "jinja2                    2.11.3             pyhd3eb1b0_0  \n",
      "jpeg                      9d                   h9ed2024_0  \n",
      "jsonschema                2.6.0            py27hd9b497e_0  \n",
      "jupyter                   1.0.0                    py27_7  \n",
      "jupyter_client            5.3.4                    py27_0  \n",
      "jupyter_console           5.1.0                    py27_0    conda-forge\n",
      "jupyter_core              4.6.1                    py27_0  \n",
      "libblas                   3.9.0           11_osx64_openblas    conda-forge\n",
      "libcblas                  3.9.0           11_osx64_openblas    conda-forge\n",
      "libcxx                    12.0.0               h2f01273_0  \n",
      "libffi                    3.2.1             h0a44026_1007  \n",
      "libgfortran               3.0.1                h93005f0_2  \n",
      "libiconv                  1.16                 h1de35cc_0  \n",
      "liblapack                 3.9.0           11_osx64_openblas    conda-forge\n",
      "libopenblas               0.3.17               h9a5756b_1  \n",
      "libpng                    1.6.37               ha441bb4_0  \n",
      "libsodium                 1.0.18               h1de35cc_0  \n",
      "libxml2                   2.9.12               hcdb78fc_0  \n",
      "llvm-openmp               12.0.0               h0dcd299_1  \n",
      "markupsafe                1.1.1            py27h1de35cc_0  \n",
      "mistune                   0.8.4            py27h1de35cc_0  \n",
      "nbconvert                 5.4.1                    py27_3  \n",
      "nbformat                  4.4.0                    py27_0  \n",
      "ncurses                   6.3                  hca72f7f_2  \n",
      "notebook                  5.5.0                    py27_0  \n",
      "numpy                     1.16.5           py27hde6bac1_0    conda-forge\n",
      "openssl                   1.1.1n               hca72f7f_0  \n",
      "pandoc                    2.12                 hecd8cb5_0  \n",
      "pandocfilters             1.5.0              pyhd3eb1b0_0  \n",
      "pathlib2                  2.3.5                    py27_0  \n",
      "pcre                      8.45                 h23ab428_0  \n",
      "pexpect                   4.8.0              pyhd3eb1b0_3  \n",
      "pickleshare               0.7.5                    py27_0  \n",
      "pip                       19.3.1                   py27_0  \n",
      "prompt-toolkit            3.0.20             pyhd3eb1b0_0  \n",
      "prompt_toolkit            3.0.20               hd3eb1b0_0  \n",
      "ptyprocess                0.7.0              pyhd3eb1b0_2  \n",
      "pygments                  2.5.2                      py_0  \n",
      "pyqt                      5.9.2            py27h655552a_2  \n",
      "python                    2.7.18               hc817775_0  \n",
      "python-dateutil           2.8.2              pyhd3eb1b0_0  \n",
      "python.app                2                        py27_9  \n",
      "pyzmq                     18.1.0           py27h0a44026_0  \n",
      "qt                        5.9.7                h468cd18_1  \n",
      "qtconsole                 4.4.3                    py27_0  \n",
      "readline                  8.1.2                hca72f7f_1  \n",
      "scandir                   1.10.0             pyh5d7bf9c_3  \n",
      "send2trash                1.8.0              pyhd3eb1b0_1  \n",
      "setuptools                44.0.0                   py27_0  \n",
      "simplegeneric             0.8.1                    py27_2  \n",
      "singledispatch            3.7.0           pyhd3eb1b0_1001  \n",
      "sip                       4.19.8           py27h0a44026_0  \n",
      "six                       1.16.0             pyhd3eb1b0_1  \n",
      "sqlite                    3.38.2               h707629a_0  \n",
      "terminado                 0.8.3                    py27_0  \n",
      "testpath                  0.4.4              pyhd3eb1b0_0  \n",
      "tk                        8.6.11               h7bc2e8c_0  \n",
      "tornado                   5.1.1            py27h1de35cc_0  \n",
      "traitlets                 4.3.3                    py27_0  \n",
      "wcwidth                   0.2.5              pyhd3eb1b0_0  \n",
      "webencodings              0.5.1                    py27_1  \n",
      "wheel                     0.37.1             pyhd3eb1b0_0  \n",
      "widgetsnbextension        3.4.2                    py27_0  \n",
      "xz                        5.2.5                h1de35cc_0  \n",
      "zeromq                    4.3.4                h23ab428_0  \n",
      "zlib                      1.2.11               h4dc903c_4  \n"
     ]
    }
   ],
   "source": [
    "# JMcDaniel bedtools conda environment \n",
    "conda list"
   ]
  },
  {
   "cell_type": "markdown",
   "metadata": {},
   "source": [
    "## Get Dependency Files<a id=\"depend\"></a>"
   ]
  },
  {
   "cell_type": "markdown",
   "metadata": {},
   "source": [
    "- JZ received regions (`XY/intermedidatefiles/CHM13XY_regions_from_Melissa.txt`) for CHM13 from Melissa Wilson via slack message. Only CHM13 XTR regions will be used from this file. \n",
    "\n",
    "\n",
    "- `T2T_files/chm13v2.0_PAR.bed` regions received from T2T.  PAR regions from T2T will be used for CHM13, these are the regions Heng Li had generated."
   ]
  },
  {
   "cell_type": "markdown",
   "metadata": {},
   "source": [
    "## Stratification Preparation<a id=\"prep\"></a>"
   ]
  },
  {
   "cell_type": "markdown",
   "metadata": {},
   "source": [
    "#### View input files"
   ]
  },
  {
   "cell_type": "code",
   "execution_count": 3,
   "metadata": {
    "scrolled": true
   },
   "outputs": [
    {
     "name": "stdout",
     "output_type": "stream",
     "text": [
      "# Received coordinates for CHM13 from JZ 5/5/22.  He got these from slack message with Melissa Wilson. \n",
      "# For CHM13 XY stratifications, we will use CHM13 XTR regions from Melissa however use\n",
      "# PAR regions from T2T, not those listed below\n",
      "CHM13\tchrX\t0\t2394410\tPAR1\n",
      "CHM13\tchrX\t87642550\t91570785\tXTR\n",
      "CHM13\tchrX\t153925834\t154259566\tPAR2\n",
      "HG002\tchrY\t0\t2458320\tPAR1\n",
      "HG002\tchrY\t2727072\t5914561\tXTR1\n",
      "HG002\tchrY\t6200973\t6400875\tXTR2\n",
      "HG002\tchrY\t62122809\t62460029\tPAR2\n"
     ]
    }
   ],
   "source": [
    "cat XY/intermediatefiles/CHM13XY_regions_from_Melissa.txt"
   ]
  },
  {
   "cell_type": "code",
   "execution_count": 4,
   "metadata": {},
   "outputs": [
    {
     "name": "stdout",
     "output_type": "stream",
     "text": [
      "chrX\t0\t2394410\n",
      "chrX\t153925834\t154259566\n"
     ]
    }
   ],
   "source": [
    "cat T2T_files/chm13v2.0_PAR-X.bed"
   ]
  },
  {
   "cell_type": "code",
   "execution_count": 8,
   "metadata": {},
   "outputs": [
    {
     "name": "stdout",
     "output_type": "stream",
     "text": [
      "chrY\t0\t2458320\n",
      "chrY\t62122809\t62460029\n"
     ]
    }
   ],
   "source": [
    "cat T2T_files/chm13v2.0_PAR-Y.bed"
   ]
  },
  {
   "cell_type": "markdown",
   "metadata": {},
   "source": [
    "## XTR<a id=\"xtr\"></a>"
   ]
  },
  {
   "cell_type": "code",
   "execution_count": 6,
   "metadata": {},
   "outputs": [
    {
     "name": "stdout",
     "output_type": "stream",
     "text": [
      "Mon May  9 11:25:04 EDT 2022\n"
     ]
    }
   ],
   "source": [
    "# chrX\n",
    "date\n",
    "grep \"chrX\" XY/intermediatefiles/CHM13XY_regions_from_Melissa.txt \\\n",
    "| grep \"XTR\" \\\n",
    "| cut -f 2,3,4 \\\n",
    "| sortBed -i stdin -faidx T2T_files/chm13v2.0.fa.fai > XY/CHM13v2.0_chrX_XTR.bed"
   ]
  },
  {
   "cell_type": "code",
   "execution_count": 7,
   "metadata": {},
   "outputs": [
    {
     "name": "stdout",
     "output_type": "stream",
     "text": [
      "Mon May  9 11:25:50 EDT 2022\n"
     ]
    }
   ],
   "source": [
    "# chrY\n",
    "date\n",
    "grep \"chrY\" XY/intermediatefiles/CHM13XY_regions_from_Melissa.txt \\\n",
    "| grep \"XTR\" \\\n",
    "| cut -f 2,3,4 \\\n",
    "| sortBed -i stdin -faidx T2T_files/chm13v2.0.fa.fai > XY/CHM13v2.0_chrY_XTR.bed"
   ]
  },
  {
   "cell_type": "markdown",
   "metadata": {},
   "source": [
    "## PAR<a id=\"par\"></a>\n",
    "PAR X and Y previously split from T2T_files/chm13v2.0_PAR.bed"
   ]
  },
  {
   "cell_type": "code",
   "execution_count": 1,
   "metadata": {},
   "outputs": [
    {
     "name": "stdout",
     "output_type": "stream",
     "text": [
      "Mon Jun 27 08:58:27 EDT 2022\n"
     ]
    }
   ],
   "source": [
    "#rename PAR beds\n",
    "date\n",
    "cp T2T_files/chm13v2.0_PAR-X.bed XY/CHM13v2.0_chrX_PAR.bed\n",
    "cp T2T_files/chm13v2.0_PAR-Y.bed XY/CHM13v2.0_chrY_PAR.bed"
   ]
  },
  {
   "cell_type": "markdown",
   "metadata": {},
   "source": [
    "## non-par<a id=\"non\"></a>\n",
    "NOTE: CHM13 is different from 37/38 (nonPAR_nonampliconic_nonXTR)for this file because as of now there are no annotations from ampliconic regions.\n",
    "update 6/27/22 - JZ decided not to include nonXTR_nonampliconic, rather only have nonPARX and nonPARY"
   ]
  },
  {
   "cell_type": "code",
   "execution_count": 13,
   "metadata": {},
   "outputs": [],
   "source": [
    "# Prepare chrX and chrY bedfiles from .fai\n",
    "awk -v OFS='\\t' {'print $1,\"0\",$2'} T2T_files/chm13v2.0.fa.fai | grep \"chrX\" > XY/intermediatefiles/CHM13v2.0_chrX.bed\n",
    "awk -v OFS='\\t' {'print $1,\"0\",$2'} T2T_files/chm13v2.0.fa.fai | grep \"chrY\" > XY/intermediatefiles/CHM13v2.0_chrY.bed"
   ]
  },
  {
   "cell_type": "code",
   "execution_count": 2,
   "metadata": {},
   "outputs": [
    {
     "name": "stdout",
     "output_type": "stream",
     "text": [
      "Mon Jun 27 09:04:31 EDT 2022\n"
     ]
    }
   ],
   "source": [
    "# subtract PAR-X region from chrX bed\n",
    "date\n",
    "subtractBed -a XY/intermediatefiles/CHM13v2.0_chrX.bed -b XY/CHM13v2.0_chrX_PAR.bed > XY/CHM13v2.0_chrX_nonPAR.bed"
   ]
  },
  {
   "cell_type": "code",
   "execution_count": 3,
   "metadata": {},
   "outputs": [
    {
     "name": "stdout",
     "output_type": "stream",
     "text": [
      "Mon Jun 27 09:04:33 EDT 2022\n"
     ]
    }
   ],
   "source": [
    "# subtract PAR-Y region from chrY bed\n",
    "date\n",
    "subtractBed -a XY/intermediatefiles/CHM13v2.0_chrY.bed -b XY/CHM13v2.0_chrY_PAR.bed > XY/CHM13v2.0_chrY_nonPAR.bed"
   ]
  },
  {
   "cell_type": "markdown",
   "metadata": {},
   "source": [
    "## All Autosomes<a id=\"auto\"></a>"
   ]
  },
  {
   "cell_type": "code",
   "execution_count": 4,
   "metadata": {},
   "outputs": [
    {
     "name": "stdout",
     "output_type": "stream",
     "text": [
      "Mon Jun 27 09:05:09 EDT 2022\n"
     ]
    }
   ],
   "source": [
    "date\n",
    "awk -v OFS='\\t' {'print $1,\"0\",$2'} T2T_files/chm13v2.0.fa.fai \\\n",
    "| grep -v \"chrX\\|chrY\\|chrM\" > XY/CHM13v2.0_AllAutosomes.bed"
   ]
  }
 ],
 "metadata": {
  "kernelspec": {
   "display_name": "Bash",
   "language": "bash",
   "name": "bash"
  },
  "language_info": {
   "codemirror_mode": "shell",
   "file_extension": ".sh",
   "mimetype": "text/x-sh",
   "name": "bash"
  }
 },
 "nbformat": 4,
 "nbformat_minor": 2
}
