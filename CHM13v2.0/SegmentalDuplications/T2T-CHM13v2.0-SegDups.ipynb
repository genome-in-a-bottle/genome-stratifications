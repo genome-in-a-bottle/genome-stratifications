{
 "cells": [
  {
   "cell_type": "markdown",
   "metadata": {},
   "source": [
    "# T2T-CHM13v2.0 Segmental Duplication Stratifications\n",
    "JMcDaniel started 2022-03-01"
   ]
  },
  {
   "cell_type": "markdown",
   "metadata": {},
   "source": [
    "## TABLE OF CONTENTS\n",
    "<hr style=\"border:2px solid black\"> </hr>\n",
    "\n",
    "- [Background](#background)  \n",
    "- [File Descriptions](#files)  \n",
    "- [Files for release](#release)  \n",
    "- [Resources](#resources)  \n",
    "- [Code and File Sharing](#share)  \n",
    "- [Software Tools](#tools)  \n",
    "- [Get Dependency Files](#depend)  \n",
    "- [Stratification Prep](#prep)  \n"
   ]
  },
  {
   "cell_type": "markdown",
   "metadata": {},
   "source": [
    "## Background<a id=\"background\"></a>\n",
    "Prepare stratifications for use with T2T CHM13 v2.0 as a reference.\n",
    "- chr1-22 and chrX from CHM13\n",
    "- chrY from HG002 (NA24385)\n",
    "\n",
    "These files can be used as standard resource of BED files for use with GA4GH benchmarking tools such as [hap.py](https://github.com/Illumina/hap.py) to stratify true positive, false positive, and false negative variant calls into whether they are in segmental duplications."
   ]
  },
  {
   "cell_type": "markdown",
   "metadata": {},
   "source": [
    "## Files for release<a id=\"release\"></a>\n",
    "CHM13v2.0_SegDups.bed.gz  \n",
    "CHM13v2.0_notinSegDups.bed.gz"
   ]
  },
  {
   "cell_type": "markdown",
   "metadata": {},
   "source": [
    "## Resources<a id=\"resources\"></a>\n",
    "- [T2T annotations](https://docs.google.com/spreadsheets/d/13BXuEFB904aje6zWXyZ0znZnXvQiu1qxKADA2uV2JU4/edit#gid=1966247802)\n",
    "- [Stratification JZ would like to see and info on generating them](https://docs.google.com/spreadsheets/d/1xSsmq48pBJVOXa2dP-845I4qkCzTCzyR_iXRs9RPdBE/edit#gid=0)\n",
    "- [T2T CHM13 v2.0 assembly](https://s3-us-west-2.amazonaws.com/human-pangenomics/T2T/CHM13/assemblies/chm13v2.0.fasta)"
   ]
  },
  {
   "cell_type": "markdown",
   "metadata": {},
   "source": [
    "## Code and File Sharing<a id=\"share\"></a>\n",
    "- GIAB GitHub\n",
    "- GIAB FTP"
   ]
  },
  {
   "cell_type": "markdown",
   "metadata": {},
   "source": [
    "## Required tools and versions<a id=\"tools\"></a>"
   ]
  },
  {
   "cell_type": "markdown",
   "metadata": {},
   "source": [
    "bedtools"
   ]
  },
  {
   "cell_type": "markdown",
   "metadata": {},
   "source": [
    "## Get Dependency Files<a id=\"depend\"></a>"
   ]
  },
  {
   "cell_type": "markdown",
   "metadata": {},
   "source": [
    "#### Download T2T SegDups from Globus\n",
    "Transferred via globus web interface `T2T-CHM13v2.SDs.lowid.bed` from https://app.globus.org/file-manager?origin_id=9db1f0a6-a05a-11ea-8f06-0a21f750d19b&origin_path=%2Fteam-segdups%2FAssembly_analysis%2FSEDEF%2F ( /team-segdups/Assembly_analysis/SEDEF/T2T-CHM13v2.SDs.lowid.bed)to T2T_files/.  This file will be used directly in post processing where sorting and merging will occur.   "
   ]
  },
  {
   "cell_type": "markdown",
   "metadata": {},
   "source": [
    "## Stratification Preparation<a id=\"prep\"></a>"
   ]
  },
  {
   "cell_type": "markdown",
   "metadata": {},
   "source": [
    "updated 5/2/22 to include sort and merge of T2T SegDups file. "
   ]
  },
  {
   "cell_type": "markdown",
   "metadata": {},
   "source": [
    "#### Sort, Merge, Zip"
   ]
  },
  {
   "cell_type": "code",
   "execution_count": 1,
   "metadata": {},
   "outputs": [],
   "source": [
    "sortBed -faidx T2T_files/chm13v2.0.fa.fai -i SegDups/intermediatefiles/T2T-CHM13v2.SDs.lowid.bed | mergeBed -i stdin | bgzip -c > SegDups/CHM13v2.0_SegDups.bed.gz"
   ]
  },
  {
   "cell_type": "markdown",
   "metadata": {},
   "source": [
    "**notin**  \n",
    "CHM13v2.0.genome.bed generated in T2T-CHM13v2.0-LowComplexity.ipynb"
   ]
  },
  {
   "cell_type": "code",
   "execution_count": 2,
   "metadata": {},
   "outputs": [],
   "source": [
    "subtractBed -a LowComplexity/intermediatefiles/CHM13v2.0.genome.bed -b SegDups/CHM13v2.0_SegDups.bed.gz | bgzip -c > SegDups/CHM13v2.0_notinSegDups.bed.gz"
   ]
  }
 ],
 "metadata": {
  "kernelspec": {
   "display_name": "Bash",
   "language": "bash",
   "name": "bash"
  },
  "language_info": {
   "codemirror_mode": "shell",
   "file_extension": ".sh",
   "mimetype": "text/x-sh",
   "name": "bash"
  }
 },
 "nbformat": 4,
 "nbformat_minor": 2
}
