{
 "cells": [
  {
   "cell_type": "markdown",
   "metadata": {},
   "source": [
    "# T2T-CHM13v2.0 rDNA\n",
    "JMcDaniel started 2022-03-23"
   ]
  },
  {
   "cell_type": "markdown",
   "metadata": {},
   "source": [
    "## TABLE OF CONTENTS\n",
    "<hr style=\"border:2px solid black\"> </hr>\n",
    "\n",
    "- [Background](#background)  \n",
    "- [File Descriptions](#files)  \n",
    "- [Files for release](#release)  \n",
    "- [Resources](#resources)  \n",
    "- [Code and File Sharing](#share)\n",
    "- [Get Dependency Files](#depend) \n",
    "- [Prep Stratification](#prep)\n"
   ]
  },
  {
   "cell_type": "markdown",
   "metadata": {},
   "source": [
    "## Background<a id=\"background\"></a>\n",
    "Prepare stratifications for use with T2T CHM13 v2.0 as a reference.\n",
    "- chr1-22 and chrX from CHM13\n",
    "- chrY from HG002 (NA24385)\n",
    "\n",
    "The rDNA (ribosomal DNA) is the hardest part of the genome to assemble, and is long repeats on 4 chromosomes. It wasn't perfectly assembled in T2T, so it's best just to exclude from our benchmark. when doing exclusions for the benchmark regions, we check to see if segdups, satellites, and long TRs are completely covered by the dip.bed, and only exclude them if they are not. For gaps and rDNA, we want to exclude them from the benchmark regions regardless of whether they are covered by the dip.bedrDNA will be used as exclusion. We will exclude this +15kb, like the gaps in GRCh38--  use as exclusion from our benchmark when we are aligning to CHM13v2 in defrabb."
   ]
  },
  {
   "cell_type": "markdown",
   "metadata": {},
   "source": [
    "## Files for release<a id=\"release\"></a>"
   ]
  },
  {
   "cell_type": "markdown",
   "metadata": {},
   "source": [
    "## Resources<a id=\"resources\"></a>\n",
    "- [T2T annotations](https://docs.google.com/spreadsheets/d/13BXuEFB904aje6zWXyZ0znZnXvQiu1qxKADA2uV2JU4/edit#gid=1966247802)\n",
    "- [Stratification JZ would like to see and info on generating them](https://docs.google.com/spreadsheets/d/1xSsmq48pBJVOXa2dP-845I4qkCzTCzyR_iXRs9RPdBE/edit#gid=0)\n",
    "- [T2T CHM13 v2.0 assembly](https://s3-us-west-2.amazonaws.com/human-pangenomics/T2T/CHM13/assemblies/chm13v2.0.fasta)"
   ]
  },
  {
   "cell_type": "markdown",
   "metadata": {},
   "source": [
    "## Code and File Sharing<a id=\"share\"></a>\n",
    "- GIAB GitHub\n",
    "- GIAB FTP"
   ]
  },
  {
   "cell_type": "markdown",
   "metadata": {},
   "source": [
    "## Get Dependency Files<a id=\"depend\"></a>"
   ]
  },
  {
   "cell_type": "markdown",
   "metadata": {},
   "source": [
    "#### Download T2T rDNA from S3\n",
    "This will will be post processed for release using `post_processing.ipynb`"
   ]
  },
  {
   "cell_type": "code",
   "execution_count": 1,
   "metadata": {},
   "outputs": [
    {
     "name": "stdout",
     "output_type": "stream",
     "text": [
      "--2022-03-23 13:57:54--  https://s3-us-west-2.amazonaws.com/human-pangenomics/T2T/CHM13/assemblies/annotation/chm13v1.1.rdna_model.bed\n",
      "Resolving s3-us-west-2.amazonaws.com... 52.92.163.200\n",
      "Connecting to s3-us-west-2.amazonaws.com|52.92.163.200|:443... connected.\n",
      "HTTP request sent, awaiting response... 200 OK\n",
      "Length: 286 [application/vnd.realvnc.bed]\n",
      "Saving to: 'rDNA/chm13v1.1.rdna_model.bed'\n",
      "\n",
      "chm13v1.1.rdna_mode 100%[===================>]     286  --.-KB/s    in 0s      \n",
      "\n",
      "2022-03-23 13:57:55 (6.99 MB/s) - 'rDNA/chm13v1.1.rdna_model.bed' saved [286/286]\n",
      "\n"
     ]
    }
   ],
   "source": [
    "wget https://s3-us-west-2.amazonaws.com/human-pangenomics/T2T/CHM13/assemblies/annotation/chm13v1.1.rdna_model.bed -P rDNA/"
   ]
  },
  {
   "cell_type": "markdown",
   "metadata": {},
   "source": [
    "## Prep Stratification<a id=\"prep\"></a>"
   ]
  },
  {
   "cell_type": "markdown",
   "metadata": {},
   "source": [
    "#### Sort, Merge, Zip\n",
    "updated 5/2/22 to include these steps. Original files was sorted but merge did merge the two regions on chr21."
   ]
  },
  {
   "cell_type": "code",
   "execution_count": 2,
   "metadata": {},
   "outputs": [],
   "source": [
    "sortBed -faidx T2T_files/chm13v2.0.fa.fai -i rDNA/chm13v1.1.rdna_model.bed | mergeBed -i stdin | bgzip -c > rDNA/CHM13v1.1_rDNA.bed.gz"
   ]
  }
 ],
 "metadata": {
  "kernelspec": {
   "display_name": "Bash",
   "language": "bash",
   "name": "bash"
  },
  "language_info": {
   "codemirror_mode": "shell",
   "file_extension": ".sh",
   "mimetype": "text/x-sh",
   "name": "bash"
  }
 },
 "nbformat": 4,
 "nbformat_minor": 2
}
