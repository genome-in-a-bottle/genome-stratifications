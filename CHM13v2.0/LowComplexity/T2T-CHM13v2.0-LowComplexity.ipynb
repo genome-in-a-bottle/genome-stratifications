{
 "cells": [
  {
   "cell_type": "markdown",
   "metadata": {},
   "source": [
    "# T2T-CHM13v2.0 LowComplexity Stratifications (v3.1)\n",
    "JMcDaniel started 2022-03-04"
   ]
  },
  {
   "cell_type": "markdown",
   "metadata": {},
   "source": [
    "## TABLE OF CONTENTS\n",
    "<hr style=\"border:2px solid black\"> </hr>\n",
    "\n",
    "### General Information \n",
    "- [Background](#background)\n",
    "- [File Descriptions](#files)\n",
    "- [Files for release](#release)\n",
    "- [Resources](#resources)\n",
    "- [Code and File Sharing](#share)\n",
    "- [Required Tools and Versions](#tools)\n",
    "- [Dependency Files](#depend)\n",
    "- [JM local working directory](#wd)\n",
    "\n",
    "### Stratification Preparation Steps\n",
    "#### Individual Files\n",
    "**1. [homopolymers](#homopolymers)**  \n",
    "**2. [di-nucleotide repeats](#dinuc)**  \n",
    "**3. [tri-nucleotide repeats](#trinuc)**  \n",
    "**4. [quad-nucleotide repeats](#quadnuc)**  \n",
    "**5. [Create CHM13v2.0.genome file](#genomefile)**  \n",
    "**6. [find range of repeats](#findreprange)**  \n",
    "**7. [Find imperfect homopolymers](#imphomo)**  \n",
    "**8. [SimpleRepeats & LowComplexity in CHM13 from RepeatMasker](#repmask)**  \n",
    "**9. [SimpleRepeats in CHM13v2.0 from TRF](#trf)**  \n",
    "**10. [Satellites](#satellites)**  \n",
    "#### Intersected Files\n",
    "**11. [Merge all homopolymers and find complement](#mergehopol)**  \n",
    "**12. [Merge exact repeats and T2T repeats bed files and subtract homopolymers](#mergeexact)**  \n",
    "**13. [Merge all homopolymers and TRs and find complement](#\"mergehomTR\")**  \n",
    "**14. [All Tandem Repeat](#alltr)**  \n",
    "\n"
   ]
  },
  {
   "cell_type": "markdown",
   "metadata": {},
   "source": [
    "#### JM local working directory<a id=\"wd\"></a>  \n",
    "after completing the stratification 'T2T-CHM13v2.0-stratifications' directory was moved to '/Users/jmcdani/Documents/GiaB/Benchmarking/Stratifications/v3.1_genome-stratifications'. All paths in this ipynb are relative to the old directory listed below. "
   ]
  },
  {
   "cell_type": "code",
   "execution_count": 2,
   "metadata": {},
   "outputs": [
    {
     "name": "stdout",
     "output_type": "stream",
     "text": [
      "/Users/jmcdani/Documents/GiaB/Benchmarking/assembly-benchmark-development/T2T-CHM13v2.0-stratifications\n"
     ]
    }
   ],
   "source": [
    "pwd"
   ]
  },
  {
   "cell_type": "markdown",
   "metadata": {},
   "source": [
    "## GENERAL INFORMATION\n",
    "<hr style=\"border:2px solid black\"> </hr>"
   ]
  },
  {
   "cell_type": "markdown",
   "metadata": {},
   "source": [
    "## Background<a id=\"background\"></a>\n",
    "This ipynb was created to combine all code neccessary for generating LowComplexity Stratifications and is new for v3.1. The same ipynb structure and corresponding code was applied to all references (GRCh37, GRCh38 and CHM13v2.0) for v3.1 LowComplexity stratifications for consistency.\n",
    "\n",
    "Prepare stratifications for use with T2T CHM13 v2.0 as a reference.\n",
    "- chr1-22 and chrX from CHM13\n",
    "- chrY from HG002 (NA24385)\n",
    "\n",
    "These files can be used as standard resource of BED files for use with GA4GH benchmarking tools such as [hap.py](https://github.com/Illumina/hap.py) to stratify true positive, false positive, and false negative variant calls into regions with different types and sizes of low complexity sequence (e.g., homopolymers, STRs, VNTRs, other locally repetitive sequences). \n",
    "\n",
    "Code used to generate \"LowComplexity\" stratifications was adapted from JZook generated scripts for GRCh37/38 stratifications: `FindSimpleRepeats_GRCh38_v2.sh`, `GRCh38_SimpleRepeat_homopolymer_gt20.sh` , `GRCh38_SimpleRepeat_imperfecthomoplgt20_slop5.sh`, located with the GIAB GitHub for v3.0 LowComplexity stratifications.  \n",
    "\n",
    "**Statellites stratification**  \n",
    "Satellites are a new addition for v3.1 stratifications. Centromeric and Pericentromeric Satellite Annotations (cenSat) from T2T for CHM13v2.0. The broad definition of peri/centromeric regions on each chromosome includes the satellite-rich regions and 5 Mb of sequence on the p-arm and q-arm. Satellite DNA consists of very large arrays of tandemly repeating, non-coding DNA. Satellite DNA is the main component of functional centromeres, and form the main structural constituent of heterochromatin."
   ]
  },
  {
   "cell_type": "markdown",
   "metadata": {},
   "source": [
    "## File Descriptions<a id=\"files\"></a>\n",
    "- `CHM13v2.0_SimpleRepeat*_slop5.bed.gz`\\\n",
    "perfect repeats of different unit sizes (i.e., homopolymers, and dinucleotide, trinucleotide, and quadnucleotide STRs) and different total repeat lengths (i.e., <=50bp, 51-200bp, or >200bp)\n",
    "- `CHM13v2.0_SimpleRepeat_imperfecthomopolgt*_slop5.bed.gz`\\\n",
    "perfect homopolymers >*p as well as imperfect homopolymers where a single base was repeated >10bp except for a 1bp interruption by a different base\n",
    "- `CHM13v2.0_AllTandemRepeats_*_slop5.bed.gz`\\\n",
    "union of SimpleRepeat dinucleotide, trinucleotide, and quadnucleotide STRs as well as T2T RepeatMasker_LowComplexity, RepeatMasker_SimpleRepeats,TRF_SimpleRepeats and satellites. \n",
    "- `CHM13v2.0_AllHomopolymers_gt6bp_imperfectgt10bp_slop5.bed.gz`\\\n",
    "union of all perfect homopolymers >6bp and imperfect homopolymers >10bp\n",
    "- `CHM13v2.0_AllTandemRepeatsandHomopolymers_slop5.bed.gz`\\\n",
    "union of AllTandemRepeats_* with AllHomopolymers_gt6bp_imperfectgt10bp_slop5.bed.gz\n",
    "- `CHM13v2.0_satellites_slop5.bed.gz`\\\n",
    "satellite tandem repeats from T2T CHM13v2.0 censtat track. Centromeric and Pericentromeric regions.\n",
    "- `CHM13v2.0_notin*_slop5.bed.gz`\\\n",
    "are non-overlapping complements of the stratification regions (i.e., genome after excluding the regions).  \n",
    "- `CHM13v2.0_allTandemRepeats.bed.gz`  \n",
    "union of all tandem repeats  \n",
    "- `notin`  \n",
    "complement regions are non-overlapping genomic regions that remain after excluding stratification regions.\n"
   ]
  },
  {
   "cell_type": "markdown",
   "metadata": {},
   "source": [
    "## Files for release<a id=\"release\"></a>\n",
    "CHM13v2.0_AllHomopolymers_gt6bp_imperfectgt10bp_slop5.bed.gz  \n",
    "CHM13v2.0_AllTandemRepeats_201to10000bp_slop5.bed.gz  \n",
    "CHM13v2.0_AllTandemRepeats_51to200bp_slop5.bed.gz  \n",
    "CHM13v2.0_AllTandemRepeats_gt10000bp_slop5.bed.gz  \n",
    "CHM13v2.0_AllTandemRepeats_gt100bp_slop5.bed.gz  \n",
    "CHM13v2.0_AllTandemRepeats_lt51bp_slop5.bed.gz  \n",
    "CHM13v2.0_AllTandemRepeatsandHomopolymers_slop5.bed.gz  \n",
    "CHM13v2.0_allTandemRepeats.bed.gz  \n",
    "CHM13v2.0_notinallTandemRepeats.bed.gz  \n",
    "CHM13v2.0_SimpleRepeat_diTR_11to50_slop5.bed.gz  \n",
    "CHM13v2.0_SimpleRepeat_diTR_51to200_slop5.bed.gz  \n",
    "CHM13v2.0_SimpleRepeat_diTR_gt200_slop5.bed.gz  \n",
    "CHM13v2.0_SimpleRepeat_homopolymer_4to6_slop5.bed.gz  \n",
    "CHM13v2.0_SimpleRepeat_homopolymer_7to11_slop5.bed.gz  \n",
    "CHM13v2.0_SimpleRepeat_homopolymer_gt11_slop5.bed.gz   \n",
    "CHM13v2.0_SimpleRepeat_homopolymer_gt20_slop5.bed.gz  \n",
    "CHM13v2.0_SimpleRepeat_imperfecthomopolgt10_slop5.bed.gz  \n",
    "CHM13v2.0_SimpleRepeat_imperfecthomopolgt20_slop5.bed.gz  \n",
    "CHM13v2.0_SimpleRepeat_quadTR_20to50_slop5.bed.gz  \n",
    "CHM13v2.0_SimpleRepeat_quadTR_51to200_slop5.bed.gz  \n",
    "CHM13v2.0_SimpleRepeat_quadTR_gt200_slop5.bed.gz  \n",
    "CHM13v2.0_SimpleRepeat_triTR_15to50_slop5.bed.gz  \n",
    "CHM13v2.0_SimpleRepeat_triTR_51to200_slop5.bed.gz  \n",
    "CHM13v2.0_SimpleRepeat_triTR_gt200_slop5.bed.gz  \n",
    "CHM13v2.0_notinAllHomopolymers_gt6bp_imperfectgt10bp_slop5.bed.gz  \n",
    "CHM13v2.0_notinAllTandemRepeatsandHomopolymers_slop5.bed.gz  \n",
    "CHM13v2.0_satellites_slop5.bed.gz  \n",
    "CHM13v2.0_notinsatellites_slop.bed.gz"
   ]
  },
  {
   "cell_type": "markdown",
   "metadata": {},
   "source": [
    "## Resources<a id=\"resources\"></a>\n",
    "- [T2T annotations](https://docs.google.com/spreadsheets/d/13BXuEFB904aje6zWXyZ0znZnXvQiu1qxKADA2uV2JU4/edit#gid=1966247802)\n",
    "- [Stratification JZ would like to see and info on generating them](https://docs.google.com/spreadsheets/d/1xSsmq48pBJVOXa2dP-845I4qkCzTCzyR_iXRs9RPdBE/edit#gid=0)\n",
    "- [GitLab v3.0 LowComplexity stratifications scripts](https://github.com/genome-in-a-bottle/genome-stratifications/tree/master/GRCh38/LowComplexity)\n",
    "- [T2T CHM13 v2.0 assembly](https://s3-us-west-2.amazonaws.com/human-pangenomics/T2T/CHM13/assemblies/chm13v2.0.fasta)\n",
    "- [JZ slack message about sattelites](https://t2t-consortium.slack.com/archives/D015NGSRTUK/p1648647830778769)"
   ]
  },
  {
   "cell_type": "markdown",
   "metadata": {},
   "source": [
    "## Code and File Sharing<a id=\"share\"></a>\n",
    "- GIAB GitHub\n",
    "- GIAB FTP"
   ]
  },
  {
   "cell_type": "markdown",
   "metadata": {},
   "source": [
    "## Required tools and versions<a id=\"tools\"></a>"
   ]
  },
  {
   "cell_type": "code",
   "execution_count": 1,
   "metadata": {},
   "outputs": [
    {
     "name": "stdout",
     "output_type": "stream",
     "text": [
      "Python 2.7.15 :: Anaconda, Inc.\n"
     ]
    }
   ],
   "source": [
    "#needed to run findSimpleRegions_quad.py from inVitae and it requires python 2.7.15.  I have this python version in my samtools_env conda environment.\n",
    "python --version"
   ]
  },
  {
   "cell_type": "code",
   "execution_count": 10,
   "metadata": {},
   "outputs": [
    {
     "name": "stdout",
     "output_type": "stream",
     "text": [
      "# packages in environment at /Users/jmcdani/opt/anaconda3/envs/samtools_env:\n",
      "#\n",
      "# Name                    Version                   Build  Channel\n",
      "appnope                   0.1.0            py27hb466136_0    anaconda\n",
      "backports                 1.1                pyhd3eb1b0_0  \n",
      "backports.shutil_get_terminal_size 1.0.0              pyhd3eb1b0_3  \n",
      "backports_abc             0.5                        py_1  \n",
      "bamtools                  2.5.1                h5c9b4e4_4    bioconda\n",
      "bcftools                  1.8                  h4da6232_3    bioconda\n",
      "bedtools                  2.27.1               h5c9b4e4_3    bioconda\n",
      "biopython                 1.74             py27h1de35cc_0  \n",
      "blas                      1.0                         mkl  \n",
      "bleach                    3.3.1              pyhd3eb1b0_0  \n",
      "bzip2                     1.0.6                h1de35cc_5  \n",
      "ca-certificates           2021.10.26           hecd8cb5_2  \n",
      "certifi                   2020.6.20          pyhd3eb1b0_3  \n",
      "configparser              4.0.2                    py27_0  \n",
      "curl                      7.64.0               ha441bb4_2  \n",
      "db                        6.1.26                        0    biobuilds\n",
      "decorator                 4.4.0                    py27_1  \n",
      "defusedxml                0.7.1              pyhd3eb1b0_0  \n",
      "entrypoints               0.3                      py27_0  \n",
      "enum34                    1.1.6                    py27_1    anaconda\n",
      "functools32               3.2.3.2                  py27_1  \n",
      "futures                   3.3.0                    py27_0  \n",
      "gdbm                      1.18                 h941a26a_0    conda-forge\n",
      "htslib                    1.6.0                h248b3ce_0    biobuilds\n",
      "icu                       58.2                 h0a44026_3  \n",
      "intel-openmp              2022.0.0          hecd8cb5_3615  \n",
      "ipaddress                 1.0.23                     py_0  \n",
      "ipykernel                 4.10.0                   py27_0    anaconda\n",
      "ipython                   5.8.0                    py27_0    anaconda\n",
      "ipython_genutils          0.2.0              pyhd3eb1b0_1  \n",
      "ipywidgets                7.6.0              pyhd3eb1b0_1  \n",
      "jinja2                    2.11.3             pyhd3eb1b0_0  \n",
      "jpeg                      9d                   h9ed2024_0  \n",
      "jsonschema                2.6.0            py27hd9b497e_0  \n",
      "jupyter                   1.0.0                    py27_7  \n",
      "jupyter_client            5.3.4                    py27_0  \n",
      "jupyter_console           5.2.0                    py27_1  \n",
      "jupyter_core              4.6.1                    py27_0    anaconda\n",
      "krb5                      1.16.1               hddcf347_7  \n",
      "libcurl                   7.64.0               h051b688_2  \n",
      "libcxx                    4.0.1                hcfea43d_1  \n",
      "libcxxabi                 4.0.1                hcfea43d_1  \n",
      "libdeflate                1.0                  h470a237_0    bioconda\n",
      "libedit                   3.1.20170329         hb402a30_2    anaconda\n",
      "libffi                    3.2.1                h475c297_4    anaconda\n",
      "libgfortran               3.0.1                h93005f0_2  \n",
      "libpng                    1.6.37               ha441bb4_0  \n",
      "libsodium                 1.0.16               h3efe00b_0    anaconda\n",
      "libssh2                   1.8.0                ha12b0ac_4  \n",
      "markupsafe                1.1.1            py27h1de35cc_0  \n",
      "mistune                   0.8.4            py27h1de35cc_0  \n",
      "mkl                       2019.4                      233  \n",
      "mkl-service               2.3.0            py27hfbe908c_0  \n",
      "mkl_fft                   1.0.15           py27h5e564d8_0  \n",
      "mkl_random                1.1.0            py27ha771720_0  \n",
      "nbconvert                 5.6.1                    py27_0  \n",
      "nbformat                  4.4.0                    py27_0  \n",
      "ncurses                   6.1                  h0a44026_0  \n",
      "notebook                  5.7.10                   py27_0  \n",
      "numpy                     1.16.6           py27h81c90fd_0  \n",
      "numpy-base                1.16.6           py27h6575580_0  \n",
      "openjdk                   11.0.9.1             h5dbffcc_0    conda-forge\n",
      "openssl                   1.1.1                h1de35cc_0    anaconda\n",
      "packaging                 20.9               pyhd3eb1b0_0  \n",
      "pandoc                    2.12                 hecd8cb5_0  \n",
      "pandocfilters             1.5.0              pyhd3eb1b0_0  \n",
      "pathlib2                  2.3.5                    py27_0    anaconda\n",
      "perl                      5.22.0                        2    biobuilds\n",
      "pexpect                   4.8.0              pyhd3eb1b0_3  \n",
      "pickleshare               0.7.5                    py27_0  \n",
      "pip                       18.1                     py27_0    anaconda\n",
      "prometheus_client         0.11.0             pyhd3eb1b0_0  \n",
      "prompt_toolkit            1.0.15           py27h4a7b9c2_0    anaconda\n",
      "ptyprocess                0.7.0              pyhd3eb1b0_2  \n",
      "pyfaidx                   0.5.9.5                  pypi_0    pypi\n",
      "pygments                  2.3.1                    py27_0  \n",
      "pyparsing                 2.4.7              pyhd3eb1b0_0  \n",
      "pyqt                      5.6.0            py27h655552a_6  \n",
      "python                    2.7.15               h8f8e585_4    anaconda\n",
      "python-dateutil           2.8.2              pyhd3eb1b0_0  \n",
      "pyzmq                     18.1.0           py27h0a44026_0    anaconda\n",
      "qt                        5.6.3                h1d42b2f_0  \n",
      "qtconsole                 4.7.7                      py_0  \n",
      "qtpy                      1.11.2             pyhd3eb1b0_0  \n",
      "readline                  7.0                  h1de35cc_5    anaconda\n",
      "rtg-tools                 3.9.1                         0    bioconda\n",
      "samtools                  1.6.0                h2a6d717_0    biobuilds\n",
      "scandir                   1.10.0             pyh5d7bf9c_3  \n",
      "send2trash                1.8.0              pyhd3eb1b0_1  \n",
      "setuptools                40.6.2                   py27_0    anaconda\n",
      "simplegeneric             0.8.1                    py27_2  \n",
      "singledispatch            3.7.0           pyhd3eb1b0_1001  \n",
      "sip                       4.18.1           py27h0a44026_2  \n",
      "six                       1.16.0             pyhd3eb1b0_1  \n",
      "sqlite                    3.25.3               ha441bb4_0    anaconda\n",
      "terminado                 0.8.3                    py27_0  \n",
      "testpath                  0.4.4              pyhd3eb1b0_0  \n",
      "tk                        8.6.8                ha441bb4_0    anaconda\n",
      "tornado                   5.1.1            py27h1de35cc_0  \n",
      "traitlets                 4.3.3                    py27_0  \n",
      "wcwidth                   0.2.5              pyhd3eb1b0_0  \n",
      "webencodings              0.5.1                    py27_1  \n",
      "wheel                     0.32.3                   py27_0    anaconda\n",
      "widgetsnbextension        3.5.1                    py27_0  \n",
      "xz                        5.2.4                h1de35cc_4  \n",
      "zeromq                    4.3.1                h0a44026_3    anaconda\n",
      "zlib                      1.2.11               h1de35cc_3  \n"
     ]
    }
   ],
   "source": [
    "# samtools_env conda environment used by JMcDaniel for steps 1-5\n",
    "conda list"
   ]
  },
  {
   "cell_type": "code",
   "execution_count": 1,
   "metadata": {
    "scrolled": true
   },
   "outputs": [
    {
     "name": "stdout",
     "output_type": "stream",
     "text": [
      "# packages in environment at /Users/jmcdani/opt/anaconda3/envs/bedtools:\n",
      "#\n",
      "# Name                    Version                   Build  Channel\n",
      "appnope                   0.1.0            py27hb466136_0  \n",
      "attrs                     21.4.0             pyhd3eb1b0_0  \n",
      "backcall                  0.2.0                      py_0    anaconda\n",
      "backports                 1.1                pyhd3eb1b0_0  \n",
      "backports.shutil_get_terminal_size 1.0.0              pyhd3eb1b0_3  \n",
      "backports_abc             0.5                        py_1  \n",
      "bedtools                  2.30.0               haa7f73a_1    bioconda\n",
      "biopython                 1.74             py27h1de35cc_0  \n",
      "bleach                    3.3.1              pyhd3eb1b0_0  \n",
      "bzip2                     1.0.8                h1de35cc_0  \n",
      "ca-certificates           2022.2.1             hecd8cb5_0  \n",
      "certifi                   2020.6.20          pyhd3eb1b0_3  \n",
      "configparser              4.0.2                    py27_0  \n",
      "dbus                      1.13.18              h18a8e69_0  \n",
      "decorator                 4.4.2                      py_0    anaconda\n",
      "defusedxml                0.7.1              pyhd3eb1b0_0  \n",
      "entrypoints               0.3                      py27_0  \n",
      "enum34                    1.1.6                    py27_1  \n",
      "expat                     2.4.1                h23ab428_2  \n",
      "functools32               3.2.3.2                  py27_1  \n",
      "futures                   3.3.0                    py27_0  \n",
      "gettext                   0.21.0               h7535e17_0  \n",
      "glib                      2.63.1               hd977a24_0  \n",
      "icu                       58.2                 h0a44026_3  \n",
      "ipykernel                 4.10.0                   py27_0  \n",
      "ipython                   4.2.1                    py27_1    conda-forge\n",
      "ipython_genutils          0.2.0              pyhd3eb1b0_1  \n",
      "ipywidgets                4.1.1                    py27_0    conda-forge\n",
      "jinja2                    2.11.3             pyhd3eb1b0_0  \n",
      "jpeg                      9d                   h9ed2024_0  \n",
      "jsonschema                2.6.0            py27hd9b497e_0  \n",
      "jupyter                   1.0.0                    py27_7  \n",
      "jupyter_client            5.3.4                    py27_0  \n",
      "jupyter_console           5.1.0                    py27_0    conda-forge\n",
      "jupyter_core              4.6.1                    py27_0  \n",
      "jupyterlab_pygments       0.1.2                      py_0  \n",
      "libblas                   3.9.0           13_osx64_openblas    conda-forge\n",
      "libcblas                  3.9.0           13_osx64_openblas    conda-forge\n",
      "libcxx                    11.1.0               habf9029_0    conda-forge\n",
      "libedit                   3.1.20191231         h1de35cc_1    anaconda\n",
      "libffi                    3.2.1             h0a44026_1007  \n",
      "libgfortran               5.0.0           9_3_0_h6c81a4c_23    conda-forge\n",
      "libgfortran5              9.3.0               h6c81a4c_23    conda-forge\n",
      "libiconv                  1.16                 h1de35cc_0  \n",
      "liblapack                 3.9.0           13_osx64_openblas    conda-forge\n",
      "libopenblas               0.3.18          openmp_h3351f45_0    conda-forge\n",
      "libpng                    1.6.37               ha441bb4_0  \n",
      "libsodium                 1.0.18               h1de35cc_0    anaconda\n",
      "libxml2                   2.9.12               hcdb78fc_0  \n",
      "llvm-openmp               12.0.0               h0dcd299_1  \n",
      "markupsafe                1.1.1            py27h1de35cc_0  \n",
      "mistune                   0.8.4            py27h1de35cc_0  \n",
      "nbconvert                 5.4.1                    py27_3  \n",
      "nbformat                  4.4.0                    py27_0  \n",
      "ncurses                   6.2                  h0a44026_1    anaconda\n",
      "notebook                  5.5.0                    py27_0  \n",
      "numpy                     1.16.5           py27hde6bac1_0    conda-forge\n",
      "openssl                   1.1.1m               hca72f7f_0  \n",
      "packaging                 20.9               pyhd3eb1b0_0  \n",
      "pandoc                    2.12                 hecd8cb5_0  \n",
      "pandocfilters             1.5.0              pyhd3eb1b0_0  \n",
      "parso                     0.8.0                      py_0    anaconda\n",
      "pathlib2                  2.3.5                    py27_0  \n",
      "pcre                      8.45                 h23ab428_0  \n",
      "pexpect                   4.8.0              pyhd3eb1b0_3  \n",
      "pickleshare               0.7.5                    py27_0  \n",
      "pip                       19.3.1                   py27_0  \n",
      "prompt-toolkit            3.0.20             pyhd3eb1b0_0  \n",
      "prompt_toolkit            3.0.20               hd3eb1b0_0  \n",
      "ptyprocess                0.7.0              pyhd3eb1b0_2  \n",
      "pygments                  2.5.2                      py_0  \n",
      "pyparsing                 2.4.7              pyhd3eb1b0_0  \n",
      "pyqt                      5.9.2            py27h655552a_2  \n",
      "python                    2.7.18               hc817775_0  \n",
      "python-dateutil           2.8.1                      py_0    anaconda\n",
      "python.app                2                        py27_9  \n",
      "pyzmq                     18.1.0           py27h0a44026_0  \n",
      "qt                        5.9.7                h468cd18_1  \n",
      "qtconsole                 4.7.7                      py_0  \n",
      "qtpy                      1.11.2             pyhd3eb1b0_0  \n",
      "readline                  8.0                  h1de35cc_0    anaconda\n",
      "scandir                   1.10.0             pyh5d7bf9c_3  \n",
      "send2trash                1.8.0              pyhd3eb1b0_1  \n",
      "setuptools                44.0.0                   py27_0  \n",
      "simplegeneric             0.8.1                    py27_2  \n",
      "singledispatch            3.7.0           pyhd3eb1b0_1001  \n",
      "sip                       4.19.8           py27h0a44026_0  \n",
      "six                       1.15.0                     py_0    anaconda\n",
      "sqlite                    3.37.2               h707629a_0  \n",
      "terminado                 0.8.3                    py27_0  \n",
      "testpath                  0.4.4              pyhd3eb1b0_0  \n",
      "tk                        8.6.10               hb0a8c7a_0    anaconda\n",
      "tornado                   5.1.1            py27h1de35cc_0  \n",
      "traitlets                 4.3.3                    py27_0  \n",
      "wcwidth                   0.2.5                      py_0    anaconda\n",
      "webencodings              0.5.1                    py27_1  \n",
      "wheel                     0.35.1                     py_0    anaconda\n",
      "xz                        5.2.5                h1de35cc_0  \n",
      "zeromq                    4.3.3                hb1e8313_3    anaconda\n",
      "zlib                      1.2.11               h1de35cc_3  \n"
     ]
    }
   ],
   "source": [
    "# bedtools conda environment used by JMcDaniel for steps 6-13\n",
    "conda list"
   ]
  },
  {
   "cell_type": "markdown",
   "metadata": {},
   "source": [
    "## Get Dependency Files<a id=\"depend\"></a>"
   ]
  },
  {
   "cell_type": "markdown",
   "metadata": {},
   "source": [
    "**Download T2T CHM13 v2.0 assembly**"
   ]
  },
  {
   "cell_type": "markdown",
   "metadata": {},
   "source": [
    "File was downloaded outside ipynb on 4/1/22 using  \n",
    "`wget https://s3-us-west-2.amazonaws.com/human-pangenomics/index.html?prefix=T2T/CHM13/assemblies/analysis_set/chm13v2.0.fa.gz -P T2T_files/`  \n",
    "This file was then unzipped and indexed. "
   ]
  },
  {
   "cell_type": "markdown",
   "metadata": {},
   "source": [
    "**Download T2T CHM13 Repeatmasker file**"
   ]
  },
  {
   "cell_type": "code",
   "execution_count": 10,
   "metadata": {
    "scrolled": false
   },
   "outputs": [
    {
     "name": "stdout",
     "output_type": "stream",
     "text": [
      "--2022-02-24 11:30:59--  https://s3-us-west-2.amazonaws.com/human-pangenomics/T2T/CHM13/assemblies/annotation/chm13v2.0_RepeatMasker_4.1.2p1.bed\n",
      "Resolving s3-us-west-2.amazonaws.com (s3-us-west-2.amazonaws.com)... 52.92.165.248\n",
      "Connecting to s3-us-west-2.amazonaws.com (s3-us-west-2.amazonaws.com)|52.92.165.248|:443... connected.\n",
      "HTTP request sent, awaiting response... 200 OK\n",
      "Length: 356948938 (340M) [application/vnd.realvnc.bed]\n",
      "Saving to: ‘T2T_files/chm13v2.0_RepeatMasker_4.1.2p1.bed’\n",
      "\n",
      "chm13v2.0_RepeatMas 100%[===================>] 340.41M  7.22MB/s    in 61s     \n",
      "\n",
      "2022-02-24 11:32:01 (5.55 MB/s) - ‘T2T_files/chm13v2.0_RepeatMasker_4.1.2p1.bed’ saved [356948938/356948938]\n",
      "\n"
     ]
    }
   ],
   "source": [
    "wget https://s3-us-west-2.amazonaws.com/human-pangenomics/T2T/CHM13/assemblies/annotation/chm13v2.0_RepeatMasker_4.1.2p1.bed -P T2T_files/"
   ]
  },
  {
   "cell_type": "markdown",
   "metadata": {},
   "source": [
    "**Download T2T TRF SimpleRepeats**  \n",
    "Transferred via globus web interface `T2T-CHM13v2_trf.bed` from https://app.globus.org/file-manager?origin_id=9db1f0a6-a05a-11ea-8f06-0a21f750d19b&origin_path=%2Fteam-segdups%2FAssembly_analysis%2FMasked%2F/T2T_CHM13v2_trf.bed to `T2T_files/`"
   ]
  },
  {
   "cell_type": "markdown",
   "metadata": {},
   "source": [
    "**Download censtat (satellites) track files from browser including chrY**  \n",
    "`t2t_censat_CHM13v2.0_trackv2.0.bed` and `.html` describing file provided as slack download in slack message about satellites referenced in \"resouces\" section\n",
    "https://t2t-consortium.slack.com/files/ULT7E06GL/F039A96RY84/t2t_censat_chm13v2.0_trackv2.0.bed\n",
    "https://t2t-consortium.slack.com/files/ULT7E06GL/F039A96RY84/t2t_censat_chm13v2.0_trackv2.0.html"
   ]
  },
  {
   "cell_type": "markdown",
   "metadata": {},
   "source": [
    "## STRATIFICATION FILE PREPARATION STEPS\n",
    "<hr style=\"border:2px solid black\"> </hr>"
   ]
  },
  {
   "cell_type": "markdown",
   "metadata": {},
   "source": [
    "## 1. homopolymers<a id=\"hompolymers\"></a>\n"
   ]
  },
  {
   "cell_type": "code",
   "execution_count": 4,
   "metadata": {},
   "outputs": [],
   "source": [
    "#findSimpleRegions_quad.py requires python 2.7.15. Run in JM conda env 'samtools_env' where this version of python is located.\n",
    "python LowComplexity/scripts/findSimpleRegions_quad.py -p 3 -d 100000 -t 100000 -q 100000 T2T_files/chm13v2.0.fa LowComplexity/intermediatefiles/CHM13v2.0_SimpleRepeat_p3.bed\n",
    "python LowComplexity/scripts/findSimpleRegions_quad.py -p 6 -d 100000 -t 100000 -q 100000 T2T_files/chm13v2.0.fa LowComplexity/intermediatefiles/CHM13v2.0_SimpleRepeat_p6.bed \n",
    "python LowComplexity/scripts/findSimpleRegions_quad.py -p 11 -d 100000 -t 100000 -q 100000 T2T_files/chm13v2.0.fa LowComplexity/intermediatefiles/CHM13v2.0_SimpleRepeat_p11.bed\n",
    "python LowComplexity/scripts/findSimpleRegions_quad.py -p 20 -d 100000 -t 100000 -q 100000 T2T_files/chm13v2.0.fa LowComplexity/intermediatefiles/CHM13v2.0_SimpleRepeat_p20.bed"
   ]
  },
  {
   "cell_type": "markdown",
   "metadata": {},
   "source": [
    "## 2. di-nucleotide repeats<a id=\"dinuc\"></a>"
   ]
  },
  {
   "cell_type": "code",
   "execution_count": 1,
   "metadata": {},
   "outputs": [
    {
     "name": "stdout",
     "output_type": "stream",
     "text": [
      "[1] 37693\n",
      "[2] 37694\n",
      "[3] 37695\n"
     ]
    }
   ],
   "source": [
    "#findSimpleRegions_quad.py requires python 2.7.15. Run in JM conda env 'samtools_env' where this version of python is located.\n",
    "python LowComplexity/scripts/findSimpleRegions_quad.py -p 100000 -d 11 -t 100000 -q 100000 T2T_files/chm13v2.0.fa LowComplexity/intermediatefiles/CHM13v2.0_SimpleRepeat_d11.bed &\n",
    "python LowComplexity/scripts/findSimpleRegions_quad.py -p 100000 -d 51 -t 100000 -q 100000 T2T_files/chm13v2.0.fa LowComplexity/intermediatefiles/CHM13v2.0_SimpleRepeat_d51.bed &\n",
    "python LowComplexity/scripts/findSimpleRegions_quad.py -p 100000 -d 201 -t 100000 -q 100000 T2T_files/chm13v2.0.fa LowComplexity/intermediatefiles/CHM13v2.0_SimpleRepeat_d201.bed & "
   ]
  },
  {
   "cell_type": "markdown",
   "metadata": {},
   "source": [
    "## 3. tri-nucleotide repeats<a id=\"trinuc\"></a>"
   ]
  },
  {
   "cell_type": "code",
   "execution_count": 6,
   "metadata": {},
   "outputs": [
    {
     "name": "stdout",
     "output_type": "stream",
     "text": [
      "[1]   Done                    python LowComplexity/scripts/findSimpleRegions_quad.py -p 100000 -d 11 -t 100000 -q 100000 T2T_files/chm13v2.0.fa LowComplexity/intermediatefiles/CHM13v2.0_SimpleRepeat_d11.bed\n",
      "[3]+  Done                    python LowComplexity/scripts/findSimpleRegions_quad.py -p 100000 -d 201 -t 100000 -q 100000 T2T_files/chm13v2.0.fa LowComplexity/intermediatefiles/CHM13v2.0_SimpleRepeat_d201.bed\n",
      "[2]+  Done                    python LowComplexity/scripts/findSimpleRegions_quad.py -p 100000 -d 51 -t 100000 -q 100000 T2T_files/chm13v2.0.fa LowComplexity/intermediatefiles/CHM13v2.0_SimpleRepeat_d51.bed\n"
     ]
    }
   ],
   "source": [
    "#findSimpleRegions_quad.py requires python 2.7.15. Run in JM conda env 'samtools_env' where this version of python is located.\n",
    "python LowComplexity/scripts/findSimpleRegions_quad.py -p 100000 -d 100000 -t 15 -q 100000 T2T_files/chm13v2.0.fa LowComplexity/intermediatefiles/CHM13v2.0_SimpleRepeat_t15.bed\n",
    "python LowComplexity/scripts/findSimpleRegions_quad.py -p 100000 -d 100000 -t 51 -q 100000 T2T_files/chm13v2.0.fa LowComplexity/intermediatefiles/CHM13v2.0_SimpleRepeat_t51.bed\n",
    "python LowComplexity/scripts/findSimpleRegions_quad.py -p 100000 -d 100000 -t 201 -q 100000 T2T_files/chm13v2.0.fa LowComplexity/intermediatefiles/CHM13v2.0_SimpleRepeat_t201.bed "
   ]
  },
  {
   "cell_type": "markdown",
   "metadata": {},
   "source": [
    "## 4. quad-nucleotide repeats<a id=\"quadnuc\"></a>"
   ]
  },
  {
   "cell_type": "code",
   "execution_count": 7,
   "metadata": {},
   "outputs": [
    {
     "name": "stdout",
     "output_type": "stream",
     "text": [
      "[1] 98529\n",
      "[2] 98530\n",
      "[3] 98531\n"
     ]
    }
   ],
   "source": [
    "#findSimpleRegions_quad.py requires python 2.7.15. Run in JM conda env 'samtools_env' where this version of python is located.\n",
    "python LowComplexity/scripts/findSimpleRegions_quad.py -p 100000 -d 100000 -t 100000 -q 20 T2T_files/chm13v2.0.fa LowComplexity/intermediatefiles/CHM13v2.0_SimpleRepeat_q20.bed &\n",
    "python LowComplexity/scripts/findSimpleRegions_quad.py -p 100000 -d 100000 -t 100000 -q 51 T2T_files/chm13v2.0.fa LowComplexity/intermediatefiles/CHM13v2.0_SimpleRepeat_q51.bed &\n",
    "python LowComplexity/scripts/findSimpleRegions_quad.py -p 100000 -d 100000 -t 100000 -q 201 T2T_files/chm13v2.0.fa LowComplexity/intermediatefiles/CHM13v2.0_SimpleRepeat_q201.bed & "
   ]
  },
  {
   "cell_type": "markdown",
   "metadata": {},
   "source": [
    "## 5. Create CHM13v2.genome file for use with bedtools slopbed (-g .genome) and subtractbed (genome.bed)<a id=\"genomefile\"></a> \n",
    "this generates file with chromosome sizes for CHM13v2"
   ]
  },
  {
   "cell_type": "code",
   "execution_count": 11,
   "metadata": {},
   "outputs": [],
   "source": [
    "#run in JM conda env 'samtools_env'\n",
    "samtools faidx T2T_files/chm13v2.0.fa\n",
    "# prints 1st and 2nd column of index file and separates by tab\n",
    "awk -v OFS='\\t' {'print $1,$2'} T2T_files/chm13v2.0.fa.fai > LowComplexity/intermediatefiles/CHM13v2.0.genome\n",
    "\n",
    "# prints 1st and 2nd column of index file and separates by tab but adds field 2  = 0. This results in 3 column bedfile.\n",
    "awk -v OFS='\\t' {'print $1,\"0\",$2'} T2T_files/chm13v2.0.fa.fai > LowComplexity/intermediatefiles/CHM13v2.0.genome.bed"
   ]
  },
  {
   "cell_type": "markdown",
   "metadata": {},
   "source": [
    "## 6. find LowComplexity and SimpleRepeat ranges <a id=\"findreprange\"></a>\n",
    "activated bedtools conda env from here on"
   ]
  },
  {
   "cell_type": "code",
   "execution_count": 2,
   "metadata": {},
   "outputs": [],
   "source": [
    "# HOMOPOLYMERS\n",
    "subtractBed -a LowComplexity/intermediatefiles/CHM13v2.0_SimpleRepeat_p3.bed -b LowComplexity/intermediatefiles/CHM13v2.0_SimpleRepeat_p6.bed | sed 's/^chr//' | grep \"^[0-9XY]\" | grep -v '_' | sed 's/^X/23/;s/^Y/24/' | sort -k1,1n -k2,2n -k3,3n | sed 's/^23/X/;s/^24/Y/;s/^/chr/' | bgzip -c > LowComplexity/intermediatefiles/CHM13v2.0_SimpleRepeat_homopolymer_4to6.bed.gz\n",
    "subtractBed -a LowComplexity/intermediatefiles/CHM13v2.0_SimpleRepeat_p6.bed -b LowComplexity/intermediatefiles/CHM13v2.0_SimpleRepeat_p11.bed | sed 's/^chr//' | grep \"^[0-9XY]\" | grep -v '_' | sed 's/^X/23/;s/^Y/24/' | sort -k1,1n -k2,2n -k3,3n | sed 's/^23/X/;s/^24/Y/;s/^/chr/' | bgzip -c > LowComplexity/intermediatefiles/CHM13v2.0_SimpleRepeat_homopolymer_7to11.bed.gz\n",
    "sed 's/^chr//' LowComplexity/intermediatefiles/CHM13v2.0_SimpleRepeat_p11.bed | grep \"^[0-9XY]\" | grep -v '_' | sed 's/^X/23/;s/^Y/24/' | sort -k1,1n -k2,2n -k3,3n | sed 's/^23/X/;s/^24/Y/;s/^/chr/' | bgzip -c > LowComplexity/intermediatefiles/CHM13v2.0_SimpleRepeat_homopolymer_gt11.bed.gz\n",
    "sed 's/^chr//' LowComplexity/intermediatefiles/CHM13v2.0_SimpleRepeat_p20.bed | grep \"^[0-9XY]\" | grep -v '_' | sed 's/^X/23/;s/^Y/24/' | sort -k1,1n -k2,2n -k3,3n | sed 's/^23/X/;s/^24/Y/;s/^/chr/' | bgzip -c > LowComplexity/intermediatefiles/CHM13v2.0_SimpleRepeat_homopolymer_gt20.bed.gz"
   ]
  },
  {
   "cell_type": "code",
   "execution_count": 3,
   "metadata": {},
   "outputs": [],
   "source": [
    "# DI-NUCLEOTIDES\n",
    "subtractBed -a LowComplexity/intermediatefiles/CHM13v2.0_SimpleRepeat_d11.bed -b LowComplexity/intermediatefiles/CHM13v2.0_SimpleRepeat_d51.bed | sed 's/^chr//' | grep \"^[0-9XY]\" | grep -v '_' | sed 's/^X/23/;s/^Y/24/' | sort -k1,1n -k2,2n -k3,3n | sed 's/^23/X/;s/^24/Y/;s/^/chr/' | bgzip -c > LowComplexity/intermediatefiles/CHM13v2.0_SimpleRepeat_diTR_11to50.bed.gz\n",
    "subtractBed -a LowComplexity/intermediatefiles/CHM13v2.0_SimpleRepeat_d51.bed -b LowComplexity/intermediatefiles/CHM13v2.0_SimpleRepeat_d201.bed | sed 's/^chr//' | grep \"^[0-9XY]\" | grep -v '_' | sed 's/^X/23/;s/^Y/24/' | sort -k1,1n -k2,2n -k3,3n | sed 's/^23/X/;s/^24/Y/;s/^/chr/' | bgzip -c > LowComplexity/intermediatefiles/CHM13v2.0_SimpleRepeat_diTR_51to200.bed.gz\n",
    "sed 's/^chr//' LowComplexity/intermediatefiles/CHM13v2.0_SimpleRepeat_d201.bed | grep \"^[0-9XY]\" | grep -v '_' | sed 's/^X/23/;s/^Y/24/' | sort -k1,1n -k2,2n -k3,3n | sed 's/^23/X/;s/^24/Y/;s/^/chr/' | bgzip -c > LowComplexity/intermediatefiles/CHM13v2.0_SimpleRepeat_diTR_gt200.bed.gz"
   ]
  },
  {
   "cell_type": "code",
   "execution_count": 4,
   "metadata": {},
   "outputs": [],
   "source": [
    "# TRI-NUCLEOTIDES\n",
    "subtractBed -a LowComplexity/intermediatefiles/CHM13v2.0_SimpleRepeat_t15.bed -b LowComplexity/intermediatefiles/CHM13v2.0_SimpleRepeat_t51.bed | sed 's/^chr//' | grep \"^[0-9XY]\" | grep -v '_' | sed 's/^X/23/;s/^Y/24/' | sort -k1,1n -k2,2n -k3,3n | sed 's/^23/X/;s/^24/Y/;s/^/chr/' | bgzip -c > LowComplexity/intermediatefiles/CHM13v2.0_SimpleRepeat_triTR_15to50.bed.gz\n",
    "subtractBed -a LowComplexity/intermediatefiles/CHM13v2.0_SimpleRepeat_t51.bed -b LowComplexity/intermediatefiles/CHM13v2.0_SimpleRepeat_t201.bed | sed 's/^chr//'  | grep \"^[0-9XY]\" | grep -v '_' | sed 's/^X/23/;s/^Y/24/' | sort -k1,1n -k2,2n -k3,3n | sed 's/^23/X/;s/^24/Y/;s/^/chr/' | bgzip -c > LowComplexity/intermediatefiles/CHM13v2.0_SimpleRepeat_triTR_51to200.bed.gz\n",
    "sed 's/^chr//' LowComplexity/intermediatefiles/CHM13v2.0_SimpleRepeat_t201.bed | grep \"^[0-9XY]\" | grep -v '_' | sed 's/^X/23/;s/^Y/24/' | sort -k1,1n -k2,2n -k3,3n | sed 's/^23/X/;s/^24/Y/;s/^/chr/' | bgzip -c > LowComplexity/intermediatefiles/CHM13v2.0_SimpleRepeat_triTR_gt200.bed.gz"
   ]
  },
  {
   "cell_type": "code",
   "execution_count": 5,
   "metadata": {},
   "outputs": [],
   "source": [
    "# QUAD-NUCLEOTIDES\n",
    "subtractBed -a LowComplexity/intermediatefiles/CHM13v2.0_SimpleRepeat_q20.bed -b LowComplexity/intermediatefiles/CHM13v2.0_SimpleRepeat_q51.bed | sed 's/^chr//' | grep \"^[0-9XY]\" | grep -v '_' | sed 's/^X/23/;s/^Y/24/' | sort -k1,1n -k2,2n -k3,3n | sed 's/^23/X/;s/^24/Y/;s/^/chr/' | bgzip -c > LowComplexity/intermediatefiles/CHM13v2.0_SimpleRepeat_quadTR_20to50.bed.gz\n",
    "subtractBed -a LowComplexity/intermediatefiles/CHM13v2.0_SimpleRepeat_q51.bed -b LowComplexity/intermediatefiles/CHM13v2.0_SimpleRepeat_q201.bed | sed 's/^chr//' | grep \"^[0-9XY]\" | grep -v '_' | sed 's/^X/23/;s/^Y/24/' | sort -k1,1n -k2,2n -k3,3n | sed 's/^23/X/;s/^24/Y/;s/^/chr/' | bgzip -c > LowComplexity/intermediatefiles/CHM13v2.0_SimpleRepeat_quadTR_51to200.bed.gz\n",
    "sed 's/^chr//' LowComplexity/intermediatefiles/CHM13v2.0_SimpleRepeat_q201.bed | grep \"^[0-9XY]\" | grep -v '_' | sed 's/^X/23/;s/^Y/24/' | sort -k1,1n -k2,2n -k3,3n | sed 's/^23/X/;s/^24/Y/;s/^/chr/' | bgzip -c > LowComplexity/intermediatefiles/CHM13v2.0_SimpleRepeat_quadTR_gt200.bed.gz"
   ]
  },
  {
   "cell_type": "code",
   "execution_count": 6,
   "metadata": {},
   "outputs": [],
   "source": [
    "# Add 5bp slop on either side of repeats to ensure insertions at the edge of the repeat and any adjacent repetitive structures are captured\n",
    "\n",
    "slopBed -i LowComplexity/intermediatefiles/CHM13v2.0_SimpleRepeat_homopolymer_4to6.bed.gz -b 5 -g LowComplexity/intermediatefiles/CHM13v2.0.genome | bgzip -c  > LowComplexity/intermediatefiles/CHM13v2.0_SimpleRepeat_homopolymer_4to6_slop5_withUNITS.bed.gz\n",
    "slopBed -i LowComplexity/intermediatefiles/CHM13v2.0_SimpleRepeat_homopolymer_7to11.bed.gz -b 5 -g LowComplexity/intermediatefiles/CHM13v2.0.genome | bgzip -c  > LowComplexity/intermediatefiles/CHM13v2.0_SimpleRepeat_homopolymer_7to11_slop5_withUNITS.bed.gz\n",
    "slopBed -i LowComplexity/intermediatefiles/CHM13v2.0_SimpleRepeat_homopolymer_gt11.bed.gz -b 5 -g LowComplexity/intermediatefiles/CHM13v2.0.genome | bgzip -c  > LowComplexity/intermediatefiles/CHM13v2.0_SimpleRepeat_homopolymer_gt11_slop5_withUNITS.bed.gz\n",
    "slopBed -i LowComplexity/intermediatefiles/CHM13v2.0_SimpleRepeat_homopolymer_gt20.bed.gz -b 5 -g LowComplexity/intermediatefiles/CHM13v2.0.genome | bgzip -c  > LowComplexity/intermediatefiles/CHM13v2.0_SimpleRepeat_homopolymer_gt20_slop5_withUNITS.bed.gz\n",
    "slopBed -i LowComplexity/intermediatefiles/CHM13v2.0_SimpleRepeat_diTR_11to50.bed.gz -b 5 -g LowComplexity/intermediatefiles/CHM13v2.0.genome | bgzip -c  > LowComplexity/intermediatefiles/CHM13v2.0_SimpleRepeat_diTR_11to50_slop5_withUNITS.bed.gz\n",
    "slopBed -i LowComplexity/intermediatefiles/CHM13v2.0_SimpleRepeat_diTR_51to200.bed.gz -b 5 -g LowComplexity/intermediatefiles/CHM13v2.0.genome | bgzip -c  > LowComplexity/intermediatefiles/CHM13v2.0_SimpleRepeat_diTR_51to200_slop5_withUNITS.bed.gz\n",
    "slopBed -i LowComplexity/intermediatefiles/CHM13v2.0_SimpleRepeat_diTR_gt200.bed.gz -b 5 -g LowComplexity/intermediatefiles/CHM13v2.0.genome | bgzip -c  > LowComplexity/intermediatefiles/CHM13v2.0_SimpleRepeat_diTR_gt200_slop5_withUNITS.bed.gz\n",
    "slopBed -i LowComplexity/intermediatefiles/CHM13v2.0_SimpleRepeat_triTR_15to50.bed.gz -b 5 -g LowComplexity/intermediatefiles/CHM13v2.0.genome | bgzip -c  > LowComplexity/intermediatefiles/CHM13v2.0_SimpleRepeat_triTR_15to50_slop5_withUNITS.bed.gz\n",
    "slopBed -i LowComplexity/intermediatefiles/CHM13v2.0_SimpleRepeat_triTR_51to200.bed.gz -b 5 -g LowComplexity/intermediatefiles/CHM13v2.0.genome | bgzip -c  > LowComplexity/intermediatefiles/CHM13v2.0_SimpleRepeat_triTR_51to200_slop5_withUNITS.bed.gz\n",
    "slopBed -i LowComplexity/intermediatefiles/CHM13v2.0_SimpleRepeat_triTR_gt200.bed.gz -b 5 -g LowComplexity/intermediatefiles/CHM13v2.0.genome | bgzip -c  > LowComplexity/intermediatefiles/CHM13v2.0_SimpleRepeat_triTR_gt200_slop5_withUNITS.bed.gz\n",
    "slopBed -i LowComplexity/intermediatefiles/CHM13v2.0_SimpleRepeat_quadTR_20to50.bed.gz -b 5 -g LowComplexity/intermediatefiles/CHM13v2.0.genome | bgzip -c  > LowComplexity/intermediatefiles/CHM13v2.0_SimpleRepeat_quadTR_20to50_slop5_withUNITS.bed.gz\n",
    "slopBed -i LowComplexity/intermediatefiles/CHM13v2.0_SimpleRepeat_quadTR_51to200.bed.gz -b 5 -g LowComplexity/intermediatefiles/CHM13v2.0.genome | bgzip -c  > LowComplexity/intermediatefiles/CHM13v2.0_SimpleRepeat_quadTR_51to200_slop5_withUNITS.bed.gz\n",
    "slopBed -i LowComplexity/intermediatefiles/CHM13v2.0_SimpleRepeat_quadTR_gt200.bed.gz -b 5 -g LowComplexity/intermediatefiles/CHM13v2.0.genome | bgzip -c  > LowComplexity/intermediatefiles/CHM13v2.0_SimpleRepeat_quadTR_gt200_slop5_withUNITS.bed.gz"
   ]
  },
  {
   "cell_type": "code",
   "execution_count": 7,
   "metadata": {},
   "outputs": [],
   "source": [
    "# Make 3 column versions so that hap.py doesn't perform more granular stratification\n",
    "\n",
    "gzcat LowComplexity/intermediatefiles/CHM13v2.0_SimpleRepeat_homopolymer_4to6_slop5_withUNITS.bed.gz | cut -f1-3 | bgzip -c  > LowComplexity/CHM13v2.0_SimpleRepeat_homopolymer_4to6_slop5.bed.gz\n",
    "gzcat LowComplexity/intermediatefiles/CHM13v2.0_SimpleRepeat_homopolymer_7to11_slop5_withUNITS.bed.gz | cut -f1-3  | bgzip -c  > LowComplexity/CHM13v2.0_SimpleRepeat_homopolymer_7to11_slop5.bed.gz\n",
    "gzcat LowComplexity/intermediatefiles/CHM13v2.0_SimpleRepeat_homopolymer_gt11_slop5_withUNITS.bed.gz | cut -f1-3 | bgzip -c  > LowComplexity/CHM13v2.0_SimpleRepeat_homopolymer_gt11_slop5.bed.gz\n",
    "gzcat LowComplexity/intermediatefiles/CHM13v2.0_SimpleRepeat_homopolymer_gt20_slop5_withUNITS.bed.gz | cut -f1-3 | bgzip -c  > LowComplexity/CHM13v2.0_SimpleRepeat_homopolymer_gt20_slop5.bed.gz\n",
    "gzcat LowComplexity/intermediatefiles/CHM13v2.0_SimpleRepeat_diTR_11to50_slop5_withUNITS.bed.gz | cut -f1-3 | bgzip -c  > LowComplexity/CHM13v2.0_SimpleRepeat_diTR_11to50_slop5.bed.gz\n",
    "gzcat LowComplexity/intermediatefiles/CHM13v2.0_SimpleRepeat_diTR_51to200_slop5_withUNITS.bed.gz | cut -f1-3 | bgzip -c  > LowComplexity/CHM13v2.0_SimpleRepeat_diTR_51to200_slop5.bed.gz\n",
    "gzcat LowComplexity/intermediatefiles/CHM13v2.0_SimpleRepeat_diTR_gt200_slop5_withUNITS.bed.gz | cut -f1-3 | bgzip -c  > LowComplexity/CHM13v2.0_SimpleRepeat_diTR_gt200_slop5.bed.gz\n",
    "gzcat LowComplexity/intermediatefiles/CHM13v2.0_SimpleRepeat_triTR_15to50_slop5_withUNITS.bed.gz | cut -f1-3 | bgzip -c  > LowComplexity/CHM13v2.0_SimpleRepeat_triTR_15to50_slop5.bed.gz\n",
    "gzcat LowComplexity/intermediatefiles/CHM13v2.0_SimpleRepeat_triTR_51to200_slop5_withUNITS.bed.gz | cut -f1-3 | bgzip -c  > LowComplexity/CHM13v2.0_SimpleRepeat_triTR_51to200_slop5.bed.gz\n",
    "gzcat LowComplexity/intermediatefiles/CHM13v2.0_SimpleRepeat_triTR_gt200_slop5_withUNITS.bed.gz | cut -f1-3 | bgzip -c  > LowComplexity/CHM13v2.0_SimpleRepeat_triTR_gt200_slop5.bed.gz\n",
    "gzcat LowComplexity/intermediatefiles/CHM13v2.0_SimpleRepeat_quadTR_20to50_slop5_withUNITS.bed.gz | cut -f1-3 | bgzip -c  > LowComplexity/CHM13v2.0_SimpleRepeat_quadTR_20to50_slop5.bed.gz\n",
    "gzcat LowComplexity/intermediatefiles/CHM13v2.0_SimpleRepeat_quadTR_51to200_slop5_withUNITS.bed.gz| cut -f1-3 | bgzip -c  > LowComplexity/CHM13v2.0_SimpleRepeat_quadTR_51to200_slop5.bed.gz\n",
    "gzcat LowComplexity/intermediatefiles/CHM13v2.0_SimpleRepeat_quadTR_gt200_slop5_withUNITS.bed.gz | cut -f1-3 | bgzip -c  > LowComplexity/CHM13v2.0_SimpleRepeat_quadTR_gt200_slop5.bed.gz"
   ]
  },
  {
   "cell_type": "markdown",
   "metadata": {},
   "source": [
    "## 7. Find imperfect homopolymers >10bp & >20<a id=\"imphomo\"></a>\n",
    "by merging homopolymers >=4bp separated by 1bp. Also, add 5bp padding on both sides to include errors around edges"
   ]
  },
  {
   "cell_type": "code",
   "execution_count": 8,
   "metadata": {},
   "outputs": [],
   "source": [
    "# IMPERFECT HOMOPOLYMERS >10\n",
    "# SimpleRepeat_homopolymer_gt11.bed.gz previously generated would be the corresponding \"PERFECT HOMOPOLYMERS\" file\n",
    "\n",
    "grep 'unit=C' LowComplexity/intermediatefiles/CHM13v2.0_SimpleRepeat_p3.bed | mergeBed -i stdin -d 1 | awk '$3-$2>10' > LowComplexity/intermediatefiles/CHM13v2.0_SimpleRepeat_imperfecthomopolgt10_C.bed\n",
    "grep 'unit=G' LowComplexity/intermediatefiles/CHM13v2.0_SimpleRepeat_p3.bed | mergeBed -i stdin -d 1 | awk '$3-$2>10' > LowComplexity/intermediatefiles/CHM13v2.0_SimpleRepeat_imperfecthomopolgt10_G.bed\n",
    "grep 'unit=A' LowComplexity/intermediatefiles/CHM13v2.0_SimpleRepeat_p3.bed | mergeBed -i stdin -d 1 | awk '$3-$2>10' > LowComplexity/intermediatefiles/CHM13v2.0_SimpleRepeat_imperfecthomopolgt10_A.bed\n",
    "grep 'unit=T' LowComplexity/intermediatefiles/CHM13v2.0_SimpleRepeat_p3.bed | mergeBed -i stdin -d 1 | awk '$3-$2>10' > LowComplexity/intermediatefiles/CHM13v2.0_SimpleRepeat_imperfecthomopolgt10_T.bed\n",
    "\n",
    "multiIntersectBed -i LowComplexity/intermediatefiles/CHM13v2.0_SimpleRepeat_imperfecthomopolgt10_C.bed \\\n",
    "\tLowComplexity/intermediatefiles/CHM13v2.0_SimpleRepeat_imperfecthomopolgt10_G.bed \\\n",
    "\tLowComplexity/intermediatefiles/CHM13v2.0_SimpleRepeat_imperfecthomopolgt10_A.bed \\\n",
    "\tLowComplexity/intermediatefiles/CHM13v2.0_SimpleRepeat_imperfecthomopolgt10_T.bed | \n",
    "\tsed 's/^chr//' |\n",
    "\tcut -f1-3 | grep \"^[0-9XY]\" | grep -v '_' |\n",
    "\tsed 's/^/chr/' |\n",
    "\tslopBed -i stdin -b 5 -g LowComplexity/intermediatefiles/CHM13v2.0.genome |\n",
    "\tsed 's/^chr//' |\n",
    "\tsed 's/^X/23/;s/^Y/24/' | \n",
    "\tsort -k1,1n -k2,2n -k3,3n | \n",
    "\tsed 's/^23/X/;s/^24/Y/;s/^/chr/' | \n",
    "\tmergeBed -i stdin | \n",
    "\tbgzip -c > LowComplexity/CHM13v2.0_SimpleRepeat_imperfecthomopolgt10_slop5.bed.gz"
   ]
  },
  {
   "cell_type": "code",
   "execution_count": 9,
   "metadata": {},
   "outputs": [],
   "source": [
    "# IMPERFECT HOMOPOLYMERS >20\n",
    "\n",
    "grep 'unit=C' LowComplexity/intermediatefiles/CHM13v2.0_SimpleRepeat_p3.bed | mergeBed -i stdin -d 1 | awk '$3-$2>20' > LowComplexity/intermediatefiles/CHM13v2.0_SimpleRepeat_imperfecthomopolgt20_C.bed\n",
    "grep 'unit=G' LowComplexity/intermediatefiles/CHM13v2.0_SimpleRepeat_p3.bed | mergeBed -i stdin -d 1 | awk '$3-$2>20' > LowComplexity/intermediatefiles/CHM13v2.0_SimpleRepeat_imperfecthomopolgt20_G.bed\n",
    "grep 'unit=A' LowComplexity/intermediatefiles/CHM13v2.0_SimpleRepeat_p3.bed | mergeBed -i stdin -d 1 | awk '$3-$2>20' > LowComplexity/intermediatefiles/CHM13v2.0_SimpleRepeat_imperfecthomopolgt20_A.bed\n",
    "grep 'unit=T' LowComplexity/intermediatefiles/CHM13v2.0_SimpleRepeat_p3.bed | mergeBed -i stdin -d 1 | awk '$3-$2>20' > LowComplexity/intermediatefiles/CHM13v2.0_SimpleRepeat_imperfecthomopolgt20_T.bed\n",
    "\n",
    "multiIntersectBed -i LowComplexity/intermediatefiles/CHM13v2.0_SimpleRepeat_imperfecthomopolgt20_C.bed \\\n",
    "\tLowComplexity/intermediatefiles/CHM13v2.0_SimpleRepeat_imperfecthomopolgt20_G.bed \\\n",
    "\tLowComplexity/intermediatefiles/CHM13v2.0_SimpleRepeat_imperfecthomopolgt20_A.bed \\\n",
    "\tLowComplexity/intermediatefiles/CHM13v2.0_SimpleRepeat_imperfecthomopolgt20_T.bed |\n",
    "\tsed 's/^chr//' |\n",
    "\tcut -f1-3 | grep \"^[0-9XY]\" | grep -v '_' |\n",
    "\tsed 's/^/chr/' |\n",
    "\tslopBed -i stdin -b 5 -g LowComplexity/intermediatefiles/CHM13v2.0.genome |\n",
    "\tsed 's/^chr//' |\n",
    "\tsed 's/^X/23/;s/^Y/24/' |\n",
    "\tsort -k1,1n -k2,2n -k3,3n |\n",
    "\tsed 's/^23/X/;s/^24/Y/;s/^/chr/' |\n",
    "\tmergeBed -i stdin |\n",
    "\tbgzip -c > LowComplexity/CHM13v2.0_SimpleRepeat_imperfecthomopolgt20_slop5.bed.gz"
   ]
  },
  {
   "cell_type": "markdown",
   "metadata": {},
   "source": [
    "## 8. Get SimpleRepeats and LowComplexity from CHM13v2.0 RepeatMasker file <a id=\"repmask\"></a>\n",
    "note: format of CHM13 RepeatMasker bed (`chm13v2.0_RepeatMasker_4.1.2p1.bed`) is different from UCSC GRCh3X rmsk. Code below was updated to use the correct fields in the CHM13 formatted rmsk bed."
   ]
  },
  {
   "cell_type": "code",
   "execution_count": 10,
   "metadata": {},
   "outputs": [],
   "source": [
    "# SIMPLE REPEATS\n",
    "grep Simple_repeat T2T_files/chm13v2.0_RepeatMasker_4.1.2p1.bed |\n",
    "\tawk '{ print $1 \"\\t\" $2 \"\\t\" $3 ; }' |\n",
    "\tsed 's/^chr//' |\n",
    "\tgrep \"^[0-9XY]\" | grep -v '_' |\n",
    "\tsed 's/^X/23/;s/^Y/24/' | \n",
    "\tsort -k1,1n -k2,2n -k3,3n | \n",
    "\tsed 's/^23/X/;s/^24/Y/;s/^/chr/' | \n",
    "\tmergeBed -i stdin | \n",
    "\tbgzip -c > LowComplexity/intermediatefiles/CHM13v2.0_rmsk_Simple_repeat.bed.gz\n",
    "    \n",
    "gunzip -c LowComplexity/intermediatefiles/CHM13v2.0_rmsk_Simple_repeat.bed.gz |\n",
    "\tawk '$3-$2<51' | \n",
    "\tbgzip -c > LowComplexity/intermediatefiles/CHM13v2.0_rmsk_Simple_repeat_lt51.bed.gz\n",
    "    \n",
    "gunzip -c LowComplexity/intermediatefiles/CHM13v2.0_rmsk_Simple_repeat.bed.gz |\n",
    "\tawk '$3-$2>50 && $3-$2<201' | \n",
    "\tbgzip -c > LowComplexity/intermediatefiles/CHM13v2.0_rmsk_Simple_repeat_51to200.bed.gz\n",
    "    \n",
    "gunzip -c LowComplexity/intermediatefiles/CHM13v2.0_rmsk_Simple_repeat.bed.gz |\n",
    "\tawk '$3-$2>200' | \n",
    "\tbgzip -c > LowComplexity/intermediatefiles/CHM13v2.0_rmsk_Simple_repeat_gt200.bed.gz"
   ]
  },
  {
   "cell_type": "code",
   "execution_count": 11,
   "metadata": {},
   "outputs": [],
   "source": [
    "# LOW COMPLEXITY\n",
    "\n",
    "zgrep Low_complexity T2T_files/chm13v2.0_RepeatMasker_4.1.2p1.bed |\n",
    "\tawk '{ print $1 \"\\t\" $2 \"\\t\" $3 ; }' |\n",
    "\tsed 's/^chr//' |\n",
    "\tgrep \"^[0-9XY]\" | grep -v '_' |\n",
    "\tsed 's/^X/23/;s/^Y/24/' | \n",
    "\tsort -k1,1n -k2,2n -k3,3n | \n",
    "\tsed 's/^23/X/;s/^24/Y/;s/^/chr/' | \n",
    "\tmergeBed -i stdin | \n",
    "    bgzip -c > LowComplexity/intermediatefiles/CHM13v2.0_rmsk_Low_complexity.bed.gz\n",
    "    \n",
    "gunzip -c LowComplexity/intermediatefiles/CHM13v2.0_rmsk_Low_complexity.bed.gz |\n",
    "\tawk '$3-$2<51' | \n",
    "\tbgzip -c > LowComplexity/intermediatefiles/CHM13v2.0_rmsk_Low_complexity_lt51.bed.gz\n",
    "\n",
    "gunzip -c LowComplexity/intermediatefiles/CHM13v2.0_rmsk_Low_complexity.bed.gz |\n",
    "\tawk '$3-$2>50 && $3-$2<201' | \n",
    "\tbgzip -c > LowComplexity/intermediatefiles/CHM13v2.0_rmsk_Low_complexity_51to200.bed.gz\n",
    "\n",
    "gunzip -c LowComplexity/intermediatefiles/CHM13v2.0_rmsk_Low_complexity.bed.gz |\n",
    "\tawk '$3-$2>200' | \n",
    "\tbgzip -c > LowComplexity/intermediatefiles/CHM13v2.0_rmsk_Low_complexity_gt200.bed.gz\n"
   ]
  },
  {
   "cell_type": "markdown",
   "metadata": {},
   "source": [
    "## 9. Get SimpleRepeats from CHM13v2.0 TRF <a id=\"trf\"></a>\n",
    "note: format of CHM13 simple repeat file (`T2T-CHM13v2_trf.bed`) is different from UCSC GRCh3X simpleRepeat (trf file). Code below was updated to use the correct fields in the CHM13 formatted simpleRepeat (from TRF) bed."
   ]
  },
  {
   "cell_type": "code",
   "execution_count": 12,
   "metadata": {},
   "outputs": [],
   "source": [
    "cut -f1-3 T2T_files/T2T-CHM13v2_trf.bed |\n",
    "\tsed 's/^chr//' |\n",
    "\tgrep \"^[0-9XY]\" | grep -v '_' |\n",
    "\tsed 's/^X/23/;s/^Y/24/' | \n",
    "\tsort -k1,1n -k2,2n -k3,3n | \n",
    "\tsed 's/^23/X/;s/^24/Y/;s/^/chr/' | \n",
    "\tmergeBed -i stdin | \n",
    "    bgzip -c > LowComplexity/intermediatefiles/CHM13v2.0_trf_simpleRepeat.bed.gz\n",
    "\n",
    "gunzip -c LowComplexity/intermediatefiles/CHM13v2.0_trf_simpleRepeat.bed.gz |\n",
    "\tawk '$3-$2<51' | \n",
    "\tbgzip -c > LowComplexity/intermediatefiles/CHM13v2.0_trf_simpleRepeat_lt51.bed.gz\n",
    "\n",
    "gunzip -c LowComplexity/intermediatefiles/CHM13v2.0_trf_simpleRepeat.bed.gz |\n",
    "\tawk '$3-$2>50 && $3-$2<201' | \n",
    "\tbgzip -c > LowComplexity/intermediatefiles/CHM13v2.0_trf_simpleRepeat_51to200.bed.gz\n",
    "\n",
    "gunzip -c LowComplexity/intermediatefiles/CHM13v2.0_trf_simpleRepeat.bed.gz |\n",
    "\tawk '$3-$2>200' | \n",
    "\tbgzip -c > LowComplexity/intermediatefiles/CHM13v2.0_trf_simpleRepeat_gt200.bed.gz\n"
   ]
  },
  {
   "cell_type": "markdown",
   "metadata": {},
   "source": [
    "## 10. Satellites (censat)<a id=\"satellites\"></a>\n",
    "remove regions in the centromere that are not classified as satellite repeats (often they are segmental duplications or other challenging regions)"
   ]
  },
  {
   "cell_type": "code",
   "execution_count": 28,
   "metadata": {},
   "outputs": [
    {
     "name": "stdout",
     "output_type": "stream",
     "text": [
      "Tue Jun  7 12:48:44 EDT 2022\n",
      "sum of regions:\n",
      "240530553\n"
     ]
    }
   ],
   "source": [
    "date\n",
    "grep -v 'ct_' T2T_files/t2t_censat_chm13v2.0_trackv2.0.bed \\\n",
    "| sortBed -faidx T2T_files/chm13v2.0.fa.fai -i stdin \\\n",
    "| mergeBed -i stdin \\\n",
    "| bgzip -c > LowComplexity/intermediatefiles/CHM13v2.0_satellites.bed.gz\n",
    "\n",
    "slopBed -i LowComplexity/intermediatefiles/CHM13v2.0_satellites.bed -b 5 -g LowComplexity/intermediatefiles/CHM13v2.0.genome \\\n",
    "| mergeBed -i stdin \\\n",
    "| bgzip -c  > LowComplexity/CHM13v2.0_satellites_slop5.bed.gz\n",
    "\n",
    "echo \"sum of regions:\"\n",
    "gzcat LowComplexity/CHM13v2.0_satellites_slop5.bed.gz | awk -F'\\t' 'BEGIN{SUM=0}{ SUM+=$3-$2 }END{print SUM}'"
   ]
  },
  {
   "cell_type": "code",
   "execution_count": 29,
   "metadata": {},
   "outputs": [
    {
     "name": "stdout",
     "output_type": "stream",
     "text": [
      "Tue Jun  7 12:48:47 EDT 2022\n",
      "sum of regions:\n",
      "2876761517\n"
     ]
    }
   ],
   "source": [
    "date\n",
    "#notin\n",
    "subtractBed -a LowComplexity/intermediatefiles/CHM13v2.0.genome.bed -b LowComplexity/CHM13v2.0_satellites_slop5.bed.gz | bgzip -c > LowComplexity/CHM13v2.0_notinsatellites_slop5.bed.gz\n",
    "\n",
    "echo \"sum of regions:\"\n",
    "gzcat LowComplexity/CHM13v2.0_notinsatellites_slop5.bed.gz | awk -F'\\t' 'BEGIN{SUM=0}{ SUM+=$3-$2 }END{print SUM}'"
   ]
  },
  {
   "cell_type": "markdown",
   "metadata": {},
   "source": [
    "## 11. Merge all homopolymers and find complement<a id=\"mergehopol\"></a>\n",
    "\n",
    "note: got segmenation fault error with subtractbed using bedtools v2.27. Found updates to bed/samtools have been done to try to handle these faults, tried with v2.30 and it worked."
   ]
  },
  {
   "cell_type": "code",
   "execution_count": 17,
   "metadata": {},
   "outputs": [],
   "source": [
    "slopBed -i LowComplexity/intermediatefiles/CHM13v2.0_SimpleRepeat_p6.bed -b 5 -g LowComplexity/intermediatefiles/CHM13v2.0.genome |\n",
    "\tmergeBed -i stdin |\n",
    "\tmultiIntersectBed -i stdin LowComplexity/CHM13v2.0_SimpleRepeat_imperfecthomopolgt10_slop5.bed.gz |\n",
    "\tsed 's/^chr//' |\n",
    "\tcut -f1-3 | grep \"^[0-9XY]\" | grep -v '_' |\n",
    "\tsed 's/^X/23/;s/^Y/24/' | \n",
    "\tsort -k1,1n -k2,2n -k3,3n | \n",
    "\tsed 's/^23/X/;s/^24/Y/;s/^/chr/' | \n",
    "\tmergeBed -i stdin | \n",
    "\tbgzip -c > LowComplexity/CHM13v2.0_AllHomopolymers_gt6bp_imperfectgt10bp_slop5.bed.gz\n",
    "\n",
    "subtractBed -a LowComplexity/intermediatefiles/CHM13v2.0.genome.bed -b LowComplexity/CHM13v2.0_AllHomopolymers_gt6bp_imperfectgt10bp_slop5.bed.gz | bgzip -c > LowComplexity/CHM13v2.0_notinAllHomopolymers_gt6bp_imperfectgt10bp_slop5.bed.gz"
   ]
  },
  {
   "cell_type": "markdown",
   "metadata": {},
   "source": [
    "## 12. Multiintersect exact repeats and rmsk/trf repeats bed files and subtract homopolymers<a id=\"mergeexact\"></a>"
   ]
  },
  {
   "cell_type": "code",
   "execution_count": 30,
   "metadata": {},
   "outputs": [
    {
     "name": "stdout",
     "output_type": "stream",
     "text": [
      "Tue Jun  7 12:49:03 EDT 2022\n",
      "sum of regions:\n",
      "309153634\n"
     ]
    }
   ],
   "source": [
    "#Intermediate AllTandemRepeats before any size range selection\n",
    "date\n",
    "multiIntersectBed -i LowComplexity/intermediatefiles/CHM13v2.0_SimpleRepeat_d11.bed \\\n",
    "\tLowComplexity/intermediatefiles/CHM13v2.0_SimpleRepeat_t15.bed \\\n",
    "\tLowComplexity/intermediatefiles/CHM13v2.0_SimpleRepeat_q20.bed \\\n",
    "\tLowComplexity/intermediatefiles/CHM13v2.0_rmsk_Simple_repeat.bed.gz \\\n",
    "\tLowComplexity/intermediatefiles/CHM13v2.0_rmsk_Low_complexity.bed.gz \\\n",
    "\tLowComplexity/intermediatefiles/CHM13v2.0_trf_simpleRepeat.bed.gz \\\n",
    "\tLowComplexity/intermediatefiles/CHM13v2.0_satellites.bed.gz | \n",
    "\tsed 's/^chr//' | \n",
    "\tcut -f1-3 | grep \"^[0-9XY]\" | grep -v '_' | \n",
    "\tsed 's/^/chr/' | \n",
    "\tslopBed -i stdin -b 5 -g LowComplexity/intermediatefiles/CHM13v2.0.genome | \n",
    "\tsed 's/^chr//' | \n",
    "\tsed 's/^X/23/;s/^Y/24/' | \n",
    "\tsort -k1,1n -k2,2n -k3,3n | \n",
    "\tsed 's/^23/X/;s/^24/Y/;s/^/chr/' | \n",
    "\tmergeBed -i stdin > LowComplexity/intermediatefiles/CHM13v2.0_AllTandemRepeats_intermediate.bed\n",
    "    \n",
    "echo \"sum of regions:\"\n",
    "cat LowComplexity/intermediatefiles/CHM13v2.0_AllTandemRepeats_intermediate.bed | awk -F'\\t' 'BEGIN{SUM=0}{ SUM+=$3-$2 }END{print SUM}'"
   ]
  },
  {
   "cell_type": "code",
   "execution_count": 31,
   "metadata": {},
   "outputs": [
    {
     "name": "stdout",
     "output_type": "stream",
     "text": [
      "Tue Jun  7 12:49:26 EDT 2022\n",
      "sum of regions:\n",
      "26612507\n"
     ]
    }
   ],
   "source": [
    "#AllTandemRepeats_lt51bp\n",
    "date\n",
    "awk '$3-$2<61' LowComplexity/intermediatefiles/CHM13v2.0_AllTandemRepeats_intermediate.bed | \n",
    "\tsubtractBed -a stdin -b LowComplexity/CHM13v2.0_AllHomopolymers_gt6bp_imperfectgt10bp_slop5.bed.gz | \n",
    "\tbgzip -c > LowComplexity/CHM13v2.0_AllTandemRepeats_lt51bp_slop5.bed.gz\n",
    "    \n",
    "echo \"sum of regions:\"\n",
    "gzcat LowComplexity/CHM13v2.0_AllTandemRepeats_lt51bp_slop5.bed.gz | awk -F'\\t' 'BEGIN{SUM=0}{ SUM+=$3-$2 }END{print SUM}'"
   ]
  },
  {
   "cell_type": "code",
   "execution_count": 32,
   "metadata": {},
   "outputs": [
    {
     "name": "stdout",
     "output_type": "stream",
     "text": [
      "Tue Jun  7 12:49:35 EDT 2022\n",
      "sum of regions:\n",
      "18670809\n"
     ]
    }
   ],
   "source": [
    "#AllTandemRepeats_51to200bp\n",
    "date\n",
    "awk '$3-$2>60 && $3-$2<211' LowComplexity/intermediatefiles/CHM13v2.0_AllTandemRepeats_intermediate.bed | \n",
    "\tsubtractBed -a stdin -b LowComplexity/CHM13v2.0_AllHomopolymers_gt6bp_imperfectgt10bp_slop5.bed.gz | \n",
    "\tbgzip -c > LowComplexity/CHM13v2.0_AllTandemRepeats_51to200bp_slop5.bed.gz\n",
    "    \n",
    "echo \"sum of regions:\"\n",
    "gzcat LowComplexity/CHM13v2.0_AllTandemRepeats_51to200bp_slop5.bed.gz | awk -F'\\t' 'BEGIN{SUM=0}{ SUM+=$3-$2 }END{print SUM}'"
   ]
  },
  {
   "cell_type": "code",
   "execution_count": 33,
   "metadata": {},
   "outputs": [
    {
     "name": "stdout",
     "output_type": "stream",
     "text": [
      "Tue Jun  7 12:49:41 EDT 2022\n",
      "sum of regions:\n",
      "14334051\n"
     ]
    }
   ],
   "source": [
    "#AllTandemRepeats_201to10000bp\n",
    "date\n",
    "awk '$3-$2>210 && $3-$2<10011' LowComplexity/intermediatefiles/CHM13v2.0_AllTandemRepeats_intermediate.bed | \n",
    "\tsubtractBed -a stdin -b LowComplexity/CHM13v2.0_AllHomopolymers_gt6bp_imperfectgt10bp_slop5.bed.gz | \n",
    "\tbgzip -c > LowComplexity/CHM13v2.0_AllTandemRepeats_201to10000bp_slop5.bed.gz\n",
    "    \n",
    "echo \"sum of regions:\"\n",
    "gzcat LowComplexity/CHM13v2.0_AllTandemRepeats_201to10000bp_slop5.bed.gz | awk -F'\\t' 'BEGIN{SUM=0}{ SUM+=$3-$2 }END{print SUM}'"
   ]
  },
  {
   "cell_type": "code",
   "execution_count": 34,
   "metadata": {},
   "outputs": [
    {
     "name": "stdout",
     "output_type": "stream",
     "text": [
      "Tue Jun  7 12:49:46 EDT 2022\n",
      "sum of regions:\n",
      "237270765\n"
     ]
    }
   ],
   "source": [
    "#AllTandemRepeats_gt10000bp\n",
    "date\n",
    "awk '$3-$2>10010' LowComplexity/intermediatefiles/CHM13v2.0_AllTandemRepeats_intermediate.bed | \n",
    "\tsubtractBed -a stdin -b LowComplexity/CHM13v2.0_AllHomopolymers_gt6bp_imperfectgt10bp_slop5.bed.gz | \n",
    "\tbgzip -c > LowComplexity/CHM13v2.0_AllTandemRepeats_gt10000bp_slop5.bed.gz\n",
    "    \n",
    "echo \"sum of regions:\"\n",
    "gzcat LowComplexity/CHM13v2.0_AllTandemRepeats_gt10000bp_slop5.bed.gz | awk -F'\\t' 'BEGIN{SUM=0}{ SUM+=$3-$2 }END{print SUM}'"
   ]
  },
  {
   "cell_type": "code",
   "execution_count": 35,
   "metadata": {},
   "outputs": [
    {
     "name": "stdout",
     "output_type": "stream",
     "text": [
      "Tue Jun  7 12:49:52 EDT 2022\n",
      "sum of regions:\n",
      "258228311\n"
     ]
    }
   ],
   "source": [
    "#AllTandemRepeats_gt100bp\n",
    "date\n",
    "awk '$3-$2>110' LowComplexity/intermediatefiles/CHM13v2.0_AllTandemRepeats_intermediate.bed | \n",
    "\tsubtractBed -a stdin -b LowComplexity/CHM13v2.0_AllHomopolymers_gt6bp_imperfectgt10bp_slop5.bed.gz | \n",
    "\tbgzip -c > LowComplexity/CHM13v2.0_AllTandemRepeats_gt100bp_slop5.bed.gz\n",
    "\n",
    "echo \"sum of regions:\"\n",
    "gzcat LowComplexity/CHM13v2.0_AllTandemRepeats_gt100bp_slop5.bed.gz | awk -F'\\t' 'BEGIN{SUM=0}{ SUM+=$3-$2 }END{print SUM}'"
   ]
  },
  {
   "cell_type": "markdown",
   "metadata": {},
   "source": [
    "## 13. Merge all homopolymers and TRs and find complement<a id=\"mergehomTR\"></a>"
   ]
  },
  {
   "cell_type": "code",
   "execution_count": 36,
   "metadata": {},
   "outputs": [
    {
     "name": "stdout",
     "output_type": "stream",
     "text": [
      "Tue Jun  7 12:50:01 EDT 2022\n",
      "sum of regions:\n",
      "382764544\n"
     ]
    }
   ],
   "source": [
    "date\n",
    "multiIntersectBed -i LowComplexity/CHM13v2.0_AllTandemRepeats_lt51bp_slop5.bed.gz \\\n",
    "\tLowComplexity/CHM13v2.0_AllTandemRepeats_51to200bp_slop5.bed.gz \\\n",
    "\tLowComplexity/CHM13v2.0_AllTandemRepeats_201to10000bp_slop5.bed.gz \\\n",
    "\tLowComplexity/CHM13v2.0_AllTandemRepeats_gt10000bp_slop5.bed.gz \\\n",
    "\tLowComplexity/CHM13v2.0_AllHomopolymers_gt6bp_imperfectgt10bp_slop5.bed.gz | \n",
    "\tsed 's/^chr//' | \n",
    "\tcut -f1-3 | grep \"^[0-9XY]\" | grep -v '_' | \n",
    "\tsed 's/^X/23/;s/^Y/24/' | \n",
    "\tsort -k1,1n -k2,2n -k3,3n | \n",
    "\tsed 's/^23/X/;s/^24/Y/;s/^/chr/' | \n",
    "\tmergeBed -i stdin | \n",
    "\tbgzip -c > LowComplexity/CHM13v2.0_AllTandemRepeatsandHomopolymers_slop5.bed.gz\n",
    "\n",
    "subtractBed -a LowComplexity/intermediatefiles/CHM13v2.0.genome.bed \\\n",
    "-b LowComplexity/CHM13v2.0_AllTandemRepeatsandHomopolymers_slop5.bed.gz | \n",
    "bgzip -c > LowComplexity/CHM13v2.0_notinAllTandemRepeatsandHomopolymers_slop5.bed.gz\n",
    "\n",
    "echo \"sum of regions:\"\n",
    "gzcat LowComplexity/CHM13v2.0_AllTandemRepeatsandHomopolymers_slop5.bed.gz | awk -F'\\t' 'BEGIN{SUM=0}{ SUM+=$3-$2 }END{print SUM}'"
   ]
  },
  {
   "cell_type": "markdown",
   "metadata": {},
   "source": [
    "## 14. All TandemRepeats and its complement<a id=\"alltr\"></a>\n",
    "\n",
    "NOTE: allTR strats were erroneously generated in Union ipynb however should have been generated in LowComplexity ipynb.  Code has been copied over for future use and files transferred to LowComplexity. "
   ]
  },
  {
   "cell_type": "markdown",
   "metadata": {},
   "source": [
    "date\n",
    "multiIntersectBed -i \\\n",
    "LowComplexity/CHM13v2.0_AllTandemRepeats_lt51bp_slop5.bed.gz \\\n",
    "LowComplexity/CHM13v2.0_AllTandemRepeats_51to200bp_slop5.bed.gz \\\n",
    "LowComplexity/CHM13v2.0_AllTandemRepeats_201to10000bp_slop5.bed.gz \\\n",
    "LowComplexity/CHM13v2.0_AllTandemRepeats_gt10000bp_slop5.bed.gz \\\n",
    "| sortBed -faidx T2T_files/chm13v2.0.fa.fai -i stdin \\\n",
    "| mergeBed -i stdin \\\n",
    "| bgzip -c > Union/CHM13v2.0_allTandemRepeats.bed.gz\n",
    "\n",
    "subtractBed \\\n",
    "-a LowComplexity/intermediatefiles/CHM13v2.0.genome.bed -b Union/CHM13v2.0_allTandemRepeats.bed.gz \\\n",
    "| bgzip -c > Union/CHM13v2.0_notinallTandemRepeats.bed.gz\n",
    "\n",
    "echo \"sum of regions:\"\n",
    "gzcat Union/CHM13v2.0_allTandemRepeats.bed.gz | awk -F'\\t' 'BEGIN{SUM=0}{ SUM+=$3-$2 }END{print SUM}'"
   ]
  }
 ],
 "metadata": {
  "kernelspec": {
   "display_name": "Bash",
   "language": "bash",
   "name": "bash"
  },
  "language_info": {
   "codemirror_mode": "shell",
   "file_extension": ".sh",
   "mimetype": "text/x-sh",
   "name": "bash"
  }
 },
 "nbformat": 4,
 "nbformat_minor": 5
}
