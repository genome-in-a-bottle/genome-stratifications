{
 "cells": [
  {
   "cell_type": "markdown",
   "metadata": {},
   "source": [
    "# GRCh37 XY v3.1 stratifications\n",
    "JMcDaniel started 5/9/22"
   ]
  },
  {
   "cell_type": "markdown",
   "metadata": {},
   "source": [
    "## TABLE OF CONTENTS\n",
    "<hr style=\"border:2px solid black\"> </hr>\n",
    "\n",
    "- [Background](#background)  \n",
    "- [File Descriptions](#files)  \n",
    "- [Files for release](#release)  \n",
    "- [Resources](#resources)  \n",
    "- [Code and File Sharing](#share)  \n",
    "- [Software Tools](#tools)  \n",
    "- [Get Dependency Files](#depend)  \n",
    "- [Stratification Prep](#prep)  \n",
    "    [Prep input genomic region files](#inprep)  \n",
    "    [XTR](#xtr)  \n",
    "    [Ampliconic](#amp)  \n",
    "    [PAR](#par)  \n",
    "    [non-PAR](#non)  \n",
    "    [All Autosomes](#auto)\n"
   ]
  },
  {
   "cell_type": "markdown",
   "metadata": {},
   "source": [
    "## Background<a id=\"background\"></a>\n"
   ]
  },
  {
   "cell_type": "markdown",
   "metadata": {},
   "source": [
    "XY feature regions from Melissa Wilson and Heng Li will be parsed for the following startifications:\n",
    "\n",
    "**PAR - The following PARs were used  \n",
    "PAR-X [hs37d5.PAR.bed from Heng Li](https://github.com/lh3/dipcall/tree/master/data)  \n",
    "PAR-Y [PSA_Y_hg19.bed regions from UCSC](https://genome.ucsc.edu/cgi-bin/hgGateway)**  \n",
    "regions similar between X and Y.  These regions do recombine with one another. We Usually mask chrY PAR and force all reads to X.\n",
    "\n",
    "**Ampliconic - from Melissa Wilson (ASU)     \n",
    "[chrX_genomic_features_hg19.bed](https://github.com/SexChrLab/SexChrCoordinates/blob/main/hg19/chrX_genomic_features_hg19.bed)  \n",
    "[chrY_genomic_features_hg19.bed](https://github.com/SexChrLab/SexChrCoordinates/blob/main/hg19/chrY_genomic_features_hg19.bed)**    \n",
    "segmentally duplicated regions within and possibly between X and Y\n",
    "\n",
    "**XTR - from Melissa Wilson (ASU)  \n",
    "[chrX_genomic_features_hg19.bed](https://github.com/SexChrLab/SexChrCoordinates/blob/main/hg19/chrX_genomic_features_hg19.bed)    \n",
    "[chrY_genomic_features_hg19.bed](https://github.com/SexChrLab/SexChrCoordinates/blob/main/hg19/chrY_genomic_features_hg19.bed)**     \n",
    "regions that are quite similar between X and Y.  Thes regions DO NOT recombine like PAR. They are easier to map however with 97% similarity they can be an issue for short-read technologies.\n",
    "\n",
    "**AllAutosomes**  \n",
    "everything but XY, so 1-22\n",
    "\n",
    "**nonPAR**  \n",
    "chrX minus PAR"
   ]
  },
  {
   "cell_type": "markdown",
   "metadata": {},
   "source": [
    "## Files for release<a id=\"release\"></a>\n",
    "GRCh37_AllAutosomes.bed  \n",
    "GRCh37_chrX_PAR.bed  \n",
    "GRCh37_chrX_XTR.bed  \n",
    "GRCh37_chrX_ampliconic.bed  \n",
    "GRCh37_chrX_nonPAR.bed  \n",
    "GRCh37_chrY_PAR.bed  \n",
    "GRCh37_chrY_XTR.bed  \n",
    "GRCh37_chrY_ampliconic.bed  \n",
    "GRCh37_chrY_nonPAR.bed"
   ]
  },
  {
   "cell_type": "markdown",
   "metadata": {},
   "source": [
    "## Resources<a id=\"resources\"></a>\n",
    "[Melissa Wilson GRCh37 and GRCh38 XY regions](https://github.com/SexChrLab/SexChrCoordinates)"
   ]
  },
  {
   "cell_type": "markdown",
   "metadata": {},
   "source": [
    "## Code and File Sharing<a id=\"share\"></a>\n",
    "- GIAB GitHub\n",
    "- GIAB FTP"
   ]
  },
  {
   "cell_type": "markdown",
   "metadata": {},
   "source": [
    "## Required tools and versions<a id=\"tools\"></a>"
   ]
  },
  {
   "cell_type": "code",
   "execution_count": 1,
   "metadata": {
    "scrolled": true
   },
   "outputs": [
    {
     "name": "stdout",
     "output_type": "stream",
     "text": [
      "# packages in environment at /Users/jmcdani/opt/anaconda3/envs/bedtools:\n",
      "#\n",
      "# Name                    Version                   Build  Channel\n",
      "appnope                   0.1.0            py27hb466136_0  \n",
      "backports                 1.1                pyhd3eb1b0_0  \n",
      "backports.shutil_get_terminal_size 1.0.0              pyhd3eb1b0_3  \n",
      "backports_abc             0.5                        py_1  \n",
      "bedtools                  2.30.0               haa7f73a_1    bioconda\n",
      "biopython                 1.74             py27h1de35cc_0  \n",
      "bleach                    3.1.0                    py27_0  \n",
      "bzip2                     1.0.8                h1de35cc_0  \n",
      "ca-certificates           2022.3.29            hecd8cb5_0  \n",
      "certifi                   2020.6.20          pyhd3eb1b0_3  \n",
      "configparser              4.0.2                    py27_0  \n",
      "dbus                      1.13.18              h18a8e69_0  \n",
      "decorator                 4.4.0                    py27_1  \n",
      "defusedxml                0.7.1              pyhd3eb1b0_0  \n",
      "entrypoints               0.3                      py27_0  \n",
      "enum34                    1.1.6                    py27_1  \n",
      "expat                     2.4.4                he9d5cce_0  \n",
      "functools32               3.2.3.2                  py27_1  \n",
      "futures                   3.3.0                    py27_0  \n",
      "gettext                   0.21.0               h7535e17_0  \n",
      "glib                      2.63.1               hd977a24_0  \n",
      "icu                       58.2                 h0a44026_3  \n",
      "ipykernel                 4.10.0                   py27_0  \n",
      "ipython                   4.2.1                    py27_1    conda-forge\n",
      "ipython_genutils          0.2.0              pyhd3eb1b0_1  \n",
      "ipywidgets                7.4.2                    py27_0  \n",
      "jinja2                    2.11.3             pyhd3eb1b0_0  \n",
      "jpeg                      9d                   h9ed2024_0  \n",
      "jsonschema                2.6.0            py27hd9b497e_0  \n",
      "jupyter                   1.0.0                    py27_7  \n",
      "jupyter_client            5.3.4                    py27_0  \n",
      "jupyter_console           5.1.0                    py27_0    conda-forge\n",
      "jupyter_core              4.6.1                    py27_0  \n",
      "libblas                   3.9.0           11_osx64_openblas    conda-forge\n",
      "libcblas                  3.9.0           11_osx64_openblas    conda-forge\n",
      "libcxx                    12.0.0               h2f01273_0  \n",
      "libffi                    3.2.1             h0a44026_1007  \n",
      "libgfortran               3.0.1                h93005f0_2  \n",
      "libiconv                  1.16                 h1de35cc_0  \n",
      "liblapack                 3.9.0           11_osx64_openblas    conda-forge\n",
      "libopenblas               0.3.17               h9a5756b_1  \n",
      "libpng                    1.6.37               ha441bb4_0  \n",
      "libsodium                 1.0.18               h1de35cc_0  \n",
      "libxml2                   2.9.12               hcdb78fc_0  \n",
      "llvm-openmp               12.0.0               h0dcd299_1  \n",
      "markupsafe                1.1.1            py27h1de35cc_0  \n",
      "mistune                   0.8.4            py27h1de35cc_0  \n",
      "nbconvert                 5.4.1                    py27_3  \n",
      "nbformat                  4.4.0                    py27_0  \n",
      "ncurses                   6.3                  hca72f7f_2  \n",
      "notebook                  5.5.0                    py27_0  \n",
      "numpy                     1.16.5           py27hde6bac1_0    conda-forge\n",
      "openssl                   1.1.1n               hca72f7f_0  \n",
      "pandoc                    2.12                 hecd8cb5_0  \n",
      "pandocfilters             1.5.0              pyhd3eb1b0_0  \n",
      "pathlib2                  2.3.5                    py27_0  \n",
      "pcre                      8.45                 h23ab428_0  \n",
      "pexpect                   4.8.0              pyhd3eb1b0_3  \n",
      "pickleshare               0.7.5                    py27_0  \n",
      "pip                       19.3.1                   py27_0  \n",
      "prompt-toolkit            3.0.20             pyhd3eb1b0_0  \n",
      "prompt_toolkit            3.0.20               hd3eb1b0_0  \n",
      "ptyprocess                0.7.0              pyhd3eb1b0_2  \n",
      "pygments                  2.5.2                      py_0  \n",
      "pyqt                      5.9.2            py27h655552a_2  \n",
      "python                    2.7.18               hc817775_0  \n",
      "python-dateutil           2.8.2              pyhd3eb1b0_0  \n",
      "python.app                2                        py27_9  \n",
      "pyzmq                     18.1.0           py27h0a44026_0  \n",
      "qt                        5.9.7                h468cd18_1  \n",
      "qtconsole                 4.4.3                    py27_0  \n",
      "readline                  8.1.2                hca72f7f_1  \n",
      "scandir                   1.10.0             pyh5d7bf9c_3  \n",
      "send2trash                1.8.0              pyhd3eb1b0_1  \n",
      "setuptools                44.0.0                   py27_0  \n",
      "simplegeneric             0.8.1                    py27_2  \n",
      "singledispatch            3.7.0           pyhd3eb1b0_1001  \n",
      "sip                       4.19.8           py27h0a44026_0  \n",
      "six                       1.16.0             pyhd3eb1b0_1  \n",
      "sqlite                    3.38.2               h707629a_0  \n",
      "terminado                 0.8.3                    py27_0  \n",
      "testpath                  0.4.4              pyhd3eb1b0_0  \n",
      "tk                        8.6.11               h7bc2e8c_0  \n",
      "tornado                   5.1.1            py27h1de35cc_0  \n",
      "traitlets                 4.3.3                    py27_0  \n",
      "wcwidth                   0.2.5              pyhd3eb1b0_0  \n",
      "webencodings              0.5.1                    py27_1  \n",
      "wheel                     0.37.1             pyhd3eb1b0_0  \n",
      "widgetsnbextension        3.4.2                    py27_0  \n",
      "xz                        5.2.5                h1de35cc_0  \n",
      "zeromq                    4.3.4                h23ab428_0  \n",
      "zlib                      1.2.11               h4dc903c_4  \n"
     ]
    }
   ],
   "source": [
    "# JMcDaniel bedtools conda environment \n",
    "conda list"
   ]
  },
  {
   "cell_type": "markdown",
   "metadata": {},
   "source": [
    "## Get Dependency Files<a id=\"depend\"></a>"
   ]
  },
  {
   "cell_type": "markdown",
   "metadata": {},
   "source": [
    "Retrieve XY regions from Melissa Wilson GitHub\n",
    "Downloaded the following files from GitHub site linked in resources\n",
    "- https://github.com/SexChrLab/SexChrCoordinates/blob/main/hg19/chrX_genomic_features_hg19.bed\n",
    "- https://github.com/SexChrLab/SexChrCoordinates/blob/main/hg19/chrY_genomic_features_hg19.bed"
   ]
  },
  {
   "cell_type": "markdown",
   "metadata": {},
   "source": [
    "## Stratification Preparation<a id=\"prep\"></a>"
   ]
  },
  {
   "cell_type": "markdown",
   "metadata": {},
   "source": [
    "## Prep input genomic region files<a id=\"inprep\"></a>"
   ]
  },
  {
   "cell_type": "markdown",
   "metadata": {},
   "source": [
    "#### View files from Melissa"
   ]
  },
  {
   "cell_type": "code",
   "execution_count": 1,
   "metadata": {
    "scrolled": true
   },
   "outputs": [
    {
     "name": "stdout",
     "output_type": "stream",
     "text": [
      "chrX\t60001\t2699520\tPAR1\n",
      "chrX 48202745 48292983 Ampliconic_region_1\n",
      "chrX 48976199 49062381 Ampliconic_region_2\n",
      "chrX 51395467 51492862 Ampliconic_region_3\n",
      "chrX 51775560 51966529 Ampliconic_region_4\n",
      "chrX 52518132 53027386 Ampliconic_region_5\n",
      "chrX 55464117 55574172 Ampliconic_region_6\n",
      "chrX 62335733 62495350 Ampliconic_region_7\n",
      "chrX 70894117 71055682 Ampliconic_region_8\n",
      "chrX 71941159 72325075 Ampliconic_region_9\n",
      "chrX\t88193855\t93193855\tXTR\n",
      "chrX 100818723 100903977 Ampliconic_region_10\n",
      "chrX 101435778 101774391 Ampliconic_region_11\n",
      "chrX 103195105 103362341 Ampliconic_region_12\n",
      "chrX\t154931044\t155260560\tPAR2\n"
     ]
    }
   ],
   "source": [
    "cat XY/intermediatefiles/chrX_genomic_features_hg19.bed"
   ]
  },
  {
   "cell_type": "code",
   "execution_count": 2,
   "metadata": {},
   "outputs": [
    {
     "name": "stdout",
     "output_type": "stream",
     "text": [
      "chrY\t0\t2749806\tPAR1\n",
      "chrY\t2918085\t6103152\tXTR\n",
      "chrY\t6103152\t6400947\tAmpliconic\n",
      "chrY\t6400947\t6616754\tXTR\n",
      "chrY\t7442522\t10135224\tAmpliconic\n",
      "chrY\t16096353\t16170613\tAmpliconic\n",
      "chrY\t17986973\t18017094\tAmpliconic\n",
      "chrY\t18271675\t18537845\tAmpliconic\n",
      "chrY\t19568146\t21032220\tAmpliconic\n",
      "chrY\t23467839\t28561582\tAmpliconic\n",
      "chrY\t59133470\t59373566\tPAR2\n"
     ]
    }
   ],
   "source": [
    "cat XY/intermediatefiles/chrY_genomic_features_hg19.bed"
   ]
  },
  {
   "cell_type": "markdown",
   "metadata": {},
   "source": [
    "**remove chr prefix from chromo name for GRCh37**  \n",
    "NOTE: Found rows with Ampliconic regions in chrX_genomic_features_hg19.bed were not tab delimited. Manually added tabs in chrX_genomic_features_GRCh37.bed, chrY appeared to be fine. "
   ]
  },
  {
   "cell_type": "code",
   "execution_count": 10,
   "metadata": {},
   "outputs": [
    {
     "name": "stdout",
     "output_type": "stream",
     "text": [
      "chrX_genomic_features_GRCh37.bed\n",
      "X\t60001\t2699520\tPAR1\n",
      "X 48202745 48292983 Ampliconic_region_1\n",
      "X 48976199 49062381 Ampliconic_region_2\n",
      "X 51395467 51492862 Ampliconic_region_3\n",
      "X 51775560 51966529 Ampliconic_region_4\n",
      "X 52518132 53027386 Ampliconic_region_5\n",
      "X 55464117 55574172 Ampliconic_region_6\n",
      "X 62335733 62495350 Ampliconic_region_7\n",
      "X 70894117 71055682 Ampliconic_region_8\n",
      "X 71941159 72325075 Ampliconic_region_9\n",
      "X\t88193855\t93193855\tXTR\n",
      "X 100818723 100903977 Ampliconic_region_10\n",
      "X 101435778 101774391 Ampliconic_region_11\n",
      "X 103195105 103362341 Ampliconic_region_12\n",
      "X\t154931044\t155260560\tPAR2\n",
      "chrY_genomic_features_GRCh37.bed\n",
      "Y\t0\t2749806\tPAR1\n",
      "Y\t2918085\t6103152\tXTR\n",
      "Y\t6103152\t6400947\tAmpliconic\n",
      "Y\t6400947\t6616754\tXTR\n",
      "Y\t7442522\t10135224\tAmpliconic\n",
      "Y\t16096353\t16170613\tAmpliconic\n",
      "Y\t17986973\t18017094\tAmpliconic\n",
      "Y\t18271675\t18537845\tAmpliconic\n",
      "Y\t19568146\t21032220\tAmpliconic\n",
      "Y\t23467839\t28561582\tAmpliconic\n",
      "Y\t59133470\t59373566\tPAR2\n"
     ]
    }
   ],
   "source": [
    "sed 's/chrX/X/' XY/intermediatefiles/chrX_genomic_features_hg19.bed > XY/intermediatefiles/chrX_genomic_features_GRCh37.bed\n",
    "echo \"chrX_genomic_features_GRCh37.bed\"\n",
    "cat XY/intermediatefiles/chrX_genomic_features_GRCh37.bed\n",
    "\n",
    "sed 's/chrY/Y/' XY/intermediatefiles/chrY_genomic_features_hg19.bed  > XY/intermediatefiles/chrY_genomic_features_GRCh37.bed\n",
    "echo \"chrY_genomic_features_GRCh37.bed\"\n",
    "cat XY/intermediatefiles/chrY_genomic_features_GRCh37.bed"
   ]
  },
  {
   "cell_type": "markdown",
   "metadata": {},
   "source": [
    "## XTR<a id=\"xtr\"></a>\n",
    "From Melissa Wilson"
   ]
  },
  {
   "cell_type": "code",
   "execution_count": 1,
   "metadata": {},
   "outputs": [
    {
     "name": "stdout",
     "output_type": "stream",
     "text": [
      "Mon May  9 10:35:45 EDT 2022\n"
     ]
    }
   ],
   "source": [
    "# chrX\n",
    "date\n",
    "grep \"XTR\" XY/intermediatefiles/chrX_genomic_features_GRCh37.bed \\\n",
    "| cut -f 1-3 \\\n",
    "| sortBed -i stdin -faidx ref-files/hs37d5.fa.gz.fai > XY/GRCh37_chrX_XTR.bed"
   ]
  },
  {
   "cell_type": "code",
   "execution_count": 2,
   "metadata": {},
   "outputs": [
    {
     "name": "stdout",
     "output_type": "stream",
     "text": [
      "Mon May  9 10:35:46 EDT 2022\n"
     ]
    }
   ],
   "source": [
    "# chrY\n",
    "date\n",
    "grep \"XTR\" XY/intermediatefiles/chrY_genomic_features_GRCh37.bed \\\n",
    "| cut -f 1-3 \\\n",
    "| sortBed -i stdin -faidx ref-files/hs37d5.fa.gz.fai > XY/GRCh37_chrY_XTR.bed"
   ]
  },
  {
   "cell_type": "markdown",
   "metadata": {},
   "source": [
    "## Ampliconic<a id=\"amp\"></a>\n",
    "From Melissa Wilson"
   ]
  },
  {
   "cell_type": "code",
   "execution_count": 3,
   "metadata": {},
   "outputs": [
    {
     "name": "stdout",
     "output_type": "stream",
     "text": [
      "Mon May  9 10:35:50 EDT 2022\n"
     ]
    }
   ],
   "source": [
    "# chrX (see not regarding chrX_genomic_features_GRCh37.bed in above prep of this file)\n",
    "date\n",
    "grep -e \"Ampliconic\" XY/intermediatefiles/chrX_genomic_features_GRCh37.bed \\\n",
    "| cut -f 1-3 \\\n",
    "| sortBed -i stdin -faidx ref-files/hs37d5.fa.gz.fai > XY/GRCh37_chrX_ampliconic.bed"
   ]
  },
  {
   "cell_type": "code",
   "execution_count": 4,
   "metadata": {},
   "outputs": [
    {
     "name": "stdout",
     "output_type": "stream",
     "text": [
      "Mon May  9 10:35:52 EDT 2022\n"
     ]
    }
   ],
   "source": [
    "# chrY\n",
    "date\n",
    "grep \"Ampliconic\" XY/intermediatefiles/chrY_genomic_features_GRCh37.bed \\\n",
    "| cut -f 1-3 \\\n",
    "| sortBed -i stdin -faidx ref-files/hs37d5.fa.gz.fai > XY/GRCh37_chrY_ampliconic.bed"
   ]
  },
  {
   "cell_type": "markdown",
   "metadata": {},
   "source": [
    "## PAR<a id=\"par\"></a>\n",
    "chrX from Heng Li, chrY from UCSC  \n",
    "NOTE: updated 6/28/22 to use Heng and UCSC PARs"
   ]
  },
  {
   "cell_type": "code",
   "execution_count": 1,
   "metadata": {},
   "outputs": [
    {
     "name": "stdout",
     "output_type": "stream",
     "text": [
      "Tue Jun 28 15:44:41 EDT 2022\n"
     ]
    }
   ],
   "source": [
    "# chrX\n",
    "date\n",
    "cp ref-files/hs37d5.PAR.bed XY/GRCh37_chrX_PAR.bed"
   ]
  },
  {
   "cell_type": "code",
   "execution_count": 2,
   "metadata": {},
   "outputs": [
    {
     "name": "stdout",
     "output_type": "stream",
     "text": [
      "Tue Jun 28 15:46:16 EDT 2022\n"
     ]
    }
   ],
   "source": [
    "# chrY\n",
    "date\n",
    "cp ref-files/PSA_Y_hg19.bed XY/GRCh37_chrY_PAR.bed"
   ]
  },
  {
   "cell_type": "markdown",
   "metadata": {},
   "source": [
    "## non-par<a id=\"non\"></a>\n",
    "NOTE: updated 6/28/22 only have nonPAR, remove nonXTR and nonAmpliconic"
   ]
  },
  {
   "cell_type": "code",
   "execution_count": 7,
   "metadata": {},
   "outputs": [
    {
     "name": "stdout",
     "output_type": "stream",
     "text": [
      "Mon May  9 10:36:01 EDT 2022\n"
     ]
    }
   ],
   "source": [
    "# Prepare chrX and chrY bedfiles from .fai\n",
    "date\n",
    "awk -v OFS='\\t' {'print $1,\"0\",$2'} ref-files/hs37d5.fa.gz.fai | grep \"X\" > XY/intermediatefiles/GRCh37_chrX.bed\n",
    "awk -v OFS='\\t' {'print $1,\"0\",$2'} ref-files/hs37d5.fa.gz.fai | grep \"Y\" > XY/intermediatefiles/GRCh37_chrY.bed"
   ]
  },
  {
   "cell_type": "code",
   "execution_count": 3,
   "metadata": {},
   "outputs": [
    {
     "name": "stdout",
     "output_type": "stream",
     "text": [
      "Tue Jun 28 15:50:37 EDT 2022\n"
     ]
    }
   ],
   "source": [
    "# subtract PAR-X regions from chrX bed\n",
    "# chrX\n",
    "date\n",
    "subtractBed -a XY/intermediatefiles/GRCh37_chrX.bed -b XY/GRCh37_chrX_PAR.bed > XY/GRCh37_chrX_nonPAR.bed"
   ]
  },
  {
   "cell_type": "code",
   "execution_count": 4,
   "metadata": {},
   "outputs": [
    {
     "name": "stdout",
     "output_type": "stream",
     "text": [
      "Tue Jun 28 15:50:38 EDT 2022\n"
     ]
    }
   ],
   "source": [
    "# subtract PAR-Y regions from chrY bed\n",
    "# chrY\n",
    "date\n",
    "subtractBed -a XY/intermediatefiles/GRCh37_chrY.bed -b XY/GRCh37_chrY_PAR.bed > XY/GRCh37_chrY_nonPAR.bed"
   ]
  },
  {
   "cell_type": "markdown",
   "metadata": {},
   "source": [
    "## All Autosomes<a id=\"auto\"></a>"
   ]
  },
  {
   "cell_type": "code",
   "execution_count": 10,
   "metadata": {},
   "outputs": [
    {
     "name": "stdout",
     "output_type": "stream",
     "text": [
      "Mon May  9 10:36:07 EDT 2022\n"
     ]
    }
   ],
   "source": [
    "date\n",
    "awk -v OFS='\\t' {'print $1,\"0\",$2'} ref-files/hs37d5.fa.gz.fai \\\n",
    "| grep -v \"X\\|Y\\|M\\|^GL\\|^NC\\|^hs\" > XY/GRCh37_AllAutosomes.bed"
   ]
  }
 ],
 "metadata": {
  "kernelspec": {
   "display_name": "Bash",
   "language": "bash",
   "name": "bash"
  },
  "language_info": {
   "codemirror_mode": "shell",
   "file_extension": ".sh",
   "mimetype": "text/x-sh",
   "name": "bash"
  }
 },
 "nbformat": 4,
 "nbformat_minor": 2
}
