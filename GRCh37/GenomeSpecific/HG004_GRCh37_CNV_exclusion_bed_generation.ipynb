{
 "cells": [
  {
   "cell_type": "markdown",
   "metadata": {},
   "source": [
    "### Intersection of mrcanavar, PacBio CCS, and ONT high coverage regions to identify potential CNV\n",
    "\n",
    "Generating excessive coverage bed files using calculations from mosdepth for both PacBio CCS 15kb_20kb merged and ONT bam files.\n",
    "\n",
    "HG004_GRCh37_ONT-UL_UCSC_20200508.bam is from https://ftp-trace.ncbi.nlm.nih.gov/ReferenceSamples/giab/data/AshkenazimTrio/HG004_NA24143_mother/UCSC_Ultralong_OxfordNanopore_Promethion/HG004_GRCh37_ONT-UL_UCSC_20200508.bam\n",
    "\n",
    "HG004.SequelII.merged_15kb_20kb.pbmm2.hs37d5.haplotag.RTG.10x.trio.bam is from https://drive.google.com/file/d/13UyMXW8zm-6uxn9oKUZ9DaFS_dSmmRd6/view?usp=sharing\n",
    "\n",
    "HG004.hs37d5.300x.bam.bilkentuniv.052119.dups.bed is from https://ftp-trace.ncbi.nlm.nih.gov/ReferenceSamples/giab/data/AshkenazimTrio/analysis/BilkentUni_IlluminaHiSeq_TARDIS_mrCaNaVar_05212019/AJtrio-HG004.hs37d5.300x.bam.bilkentuniv.052119.dups.bed.gz\n",
    "\n",
    "pbsv_HG004_SequelII.hs37d5.vcf.gz is from https://ftp-trace.ncbi.nlm.nih.gov/ReferenceSamples/giab/data/AshkenazimTrio/analysis/PacBio_CCS_15kb_20kb_chemistry2_10312019/pbsv/pbsv_HG004_SequelII.hs37d5.vcf.gz\n",
    "\n",
    "convert_mosdepth_to_excessive_coverage.py is at the end of this notebook"
   ]
  },
  {
   "cell_type": "code",
   "execution_count": null,
   "metadata": {},
   "outputs": [],
   "source": [
    "### mosdepth commands"
   ]
  },
  {
   "cell_type": "code",
   "execution_count": null,
   "metadata": {},
   "outputs": [],
   "source": [
    "mosdepth -b 1000 -x --mapq 20 --no-per-base HG004.SequelII.merged_15kb_20kb.pbmm2.hs37d5.haplotag.RTG.10x_1000_window_size HG004.SequelII.merged_15kb_20kb.pbmm2.hs37d5.haplotag.RTG.10x.trio.bam\n",
    "\n",
    "samtools view -1 -F 0x100 HG004_GRCh37_ONT-UL_UCSC_20200508.bam -h > filtered_HG004_GRCh37_ONT-UL_UCSC_20200508.bam\n",
    "\n",
    "mosdepth -b 1000 -x --no-per-base HG004_filtered_combined_GRCh37_1000_window_size filtered_HG004_GRCh37_ONT-UL_UCSC_20200508.bam"
   ]
  },
  {
   "cell_type": "code",
   "execution_count": null,
   "metadata": {},
   "outputs": [],
   "source": [
    "### HG004_mrcanavar_intersect_ccs_window_size_cnv_threshold_intersect_ont_window_size_cnv_threshold.bed\n",
    "### What this does: find potential CNVs in HG4 from intersecting coverage files from PacBio HiFi, ONT, and Illumina data. This generates PacBio HiFi excessive coverage bed, intersect with mrCaNaVar dups bed, generates ONT excessive coverage bed, intersects to these all to generate exclusion bed"
   ]
  },
  {
   "cell_type": "code",
   "execution_count": null,
   "metadata": {},
   "outputs": [],
   "source": [
    "python convert_mosdepth_to_excessive_coverage.py --input HG004.SequelII.merged_15kb_20kb.pbmm2.hs37d5.haplotag.RTG.10x_1000_window_size.regions.bed --output HG004.SequelII.merged_15kb_20kb.pbmm2.hs37d5.haplotag.RTG.10x_1000_window_size_excessive_coverage_cnv_threshold.bed --threshold 77.7625\n",
    "\n",
    "bedtools intersect -a AJtrio-HG004.hs37d5.300x.bam.bilkentuniv.052119.dups.bed -b HG004.SequelII.merged_15kb_20kb.pbmm2.hs37d5.haplotag.RTG.10x_1000_window_size_excessive_coverage_cnv_threshold.bed > mrcanavar_intersect_ccs_cnv_threshold.bed\n",
    "\n",
    "python convert_mosdepth_to_excessive_coverage.py --input HG004_filtered_combined_GRCh37_1000_window_size.regions.bed --output HG004_filtered_combined_GRCh37_1000_window_size_excessive_coverage_cnv_threshold.bed --threshold 106.3375\n",
    "\n",
    "bedtools intersect -a mrcanavar_intersect_ccs_cnv_threshold.bed -b HG004_filtered_combined_GRCh37_1000_window_size_excessive_coverage_cnv_threshold.bed > mrcanavar_intersect_ccs_window_size_cnv_threshold_intersect_ont_window_size_cnv_threshold.bed\n"
   ]
  },
  {
   "cell_type": "code",
   "execution_count": null,
   "metadata": {},
   "outputs": [],
   "source": [
    "### Find coverage levels of excessive coverage on CCS and ONT data in R"
   ]
  },
  {
   "cell_type": "code",
   "execution_count": null,
   "metadata": {},
   "outputs": [],
   "source": [
    "chr_1_22 <- c(\"1\",\"2\",\"3\",\"4\",\"5\",\"6\",\"7\",\"8\",\"9\",\"10\",\"11\",\"12\",\"13\",\"14\",\"15\",\"16\",\"17\",\"18\",\"19\",\"20\",\"21\",\"22\")\n",
    "mosdepth_HG004_CCS_15kb_20kb_merged_MAPQ20_GRCh37 = read.delim(\"HG004.SequelII.merged_15kb_20kb.pbmm2.hs37d5.haplotag.RTG.10x_1000_window_size.regions.bed\", col.names = c(\"CHR\",\"START\",\"END\",\"DEPTH\"))\n",
    "mosdepth_HG004_CCS_15kb_20kb_merged_MAPQ20_GRCh37_chr_1_22 <- mosdepth_HG004_CCS_15kb_20kb_merged_MAPQ20_GRCh37[which(mosdepth_HG004_CCS_15kb_20kb_merged_MAPQ20_GRCh37[,\"CHR\"] %in% chr_1_22),] \n",
    "quantile(mosdepth_HG004_CCS_15kb_20kb_merged_MAPQ20_GRCh37_chr_1_22[,\"DEPTH\"])\n",
    "\n",
    "IQR(mosdepth_HG004_CCS_15kb_20kb_merged_MAPQ20_GRCh37_chr_1_22[,\"DEPTH\"])\n",
    "#: 17.83\n",
    "(quantile(mosdepth_HG004_CCS_15kb_20kb_merged_MAPQ20_GRCh37_chr_1_22[,\"DEPTH\"])[3]/2)*2.5\n",
    "#: 77.7625\n",
    "\n",
    "unname(quantile(mosdepth_HG004_CCS_15kb_20kb_merged_MAPQ20_GRCh37_chr_1_22[,\"DEPTH\"])[4]) + unname(IQR(mosdepth_HG004_CCS_15kb_20kb_merged_MAPQ20_GRCh37_chr_1_22[,\"DEPTH\"]))*1.5\n",
    "# 96.985\n",
    "\n",
    "mosdepth_ONT_1000_window_size = read.delim(\"HG004_filtered_combined_GRCh37_1000_window_size.regions.bed\", col.names = c(\"CHR\",\"START\",\"END\",\"DEPTH\"))\n",
    "mosdepth_ONT_1000_window_size_chr_1_22 <- mosdepth_ONT_1000_window_size[which(mosdepth_ONT_1000_window_size[,\"CHR\"] %in% chr_1_22),]\n",
    "\n",
    "quantile(mosdepth_ONT_1000_window_size_chr_1_22[,\"DEPTH\"])\n",
    "\n",
    "IQR(mosdepth_ONT_1000_window_size_chr_1_22[,\"DEPTH\"])\n",
    "#: 16.34\n",
    "(quantile(mosdepth_ONT_1000_window_size_chr_1_22[,\"DEPTH\"])[3]/2)*2.5\n",
    "#: 106.3375"
   ]
  },
  {
   "cell_type": "code",
   "execution_count": null,
   "metadata": {},
   "outputs": [],
   "source": [
    "### GRCh37_union_HG004_CCS_15kb_20kb_merged_ONT_1000_window_size_combined_elliptical_outlier_threshold.bed\n",
    "\n",
    "### What this does: Find another set of potential CNVs from computing a coverage threshold using an elliciptal outlier for PacBio HiFi and ONT CNV file steps in R"
   ]
  },
  {
   "cell_type": "markdown",
   "metadata": {},
   "source": [
    "mosdepth_CCS_15kb_20kb_merged_1000_window_size = read.delim(\"HG004.SequelII.merged_15kb_20kb.pbmm2.hs37d5.haplotag.RTG.10x_1000_window_size.regions.bed\", col.names = c(\"CHR\",\"START\",\"END\",\"DEPTH\"))\n",
    "\n",
    "mosdepth_ONT_1000_window_size = read.delim(\"HG004_filtered_combined_GRCh37_1000_window_size.regions.bed\", col.names = c(\"CHR\",\"START\",\"END\",\"DEPTH\"))\n",
    "\n",
    "chr_1_22 <- c(\"1\",\"2\",\"3\",\"4\",\"5\",\"6\",\"7\",\"8\",\"9\",\"10\",\"11\",\"12\",\"13\",\"14\",\"15\",\"16\",\"17\",\"18\",\"19\",\"20\",\"21\",\"22\")\n",
    "\n",
    "mosdepth_CCS_15kb_20kb_merged_1000_window_size_chr_1_22 <- mosdepth_CCS_15kb_20kb_merged_1000_window_size[which(mosdepth_CCS_15kb_20kb_merged_1000_window_size[,\"CHR\"] %in% chr_1_22),]\n",
    "\n",
    "mosdepth_ONT_1000_window_size_chr_1_22 <- mosdepth_ONT_1000_window_size[which(mosdepth_ONT_1000_window_size[,\"CHR\"] %in% chr_1_22),]\n",
    "\n",
    "df_mosdepth_CCS_15kb_20kb_merged_1000_window_size <- data.frame(mosdepth_CCS_15kb_20kb_merged_1000_window_size_chr_1_22) \n",
    "\n",
    "df_mosdepth_ONT_1000_window_size <- data.frame(mosdepth_ONT_1000_window_size_chr_1_22)\n",
    "\n",
    "df_mosdepth_CCS_15kb_20kb_merged_1000_window_size_ONT_1000_combined <- df_mosdepth_CCS_15kb_20kb_merged_1000_window_size\n",
    "\n",
    "df_mosdepth_CCS_15kb_20kb_merged_1000_window_size_ONT_1000_combined[,5] <- mosdepth_ONT_1000_window_size_chr_1_22[,4]\n",
    "\n",
    "colnames(df_mosdepth_CCS_15kb_20kb_merged_1000_window_size_ONT_1000_combined) <- c(\"CHR\", \"START\", \"END\", \"CCS_DEPTH\", \"ONT_DEPTH\")\n",
    "\n",
    "df_mosdepth_CCS_15kb_20kb_merged_1000_window_size_ONT_1000_combined_elliptical_values <- df_mosdepth_CCS_15kb_20kb_merged_1000_window_size_ONT_1000_combined \n",
    "\n",
    "medianccsdepth = median(mosdepth_CCS_15kb_20kb_merged_1000_window_size_chr_1_22[,\"DEPTH\"]) \n",
    "\n",
    "medianontdepth = median(mosdepth_ONT_1000_window_size_chr_1_22[,\"DEPTH\"]) \n",
    "\n",
    "df_mosdepth_CCS_15kb_20kb_merged_1000_window_size_ONT_1000_combined_elliptical_values[,6] <- sqrt(((df_mosdepth_CCS_15kb_20kb_merged_1000_window_size_ONT_1000_combined[,4]/medianccsdepth)^2 + (df_mosdepth_CCS_15kb_20kb_merged_1000_window_size_ONT_1000_combined[,5]/medianontdepth)^2)/2) \n",
    "\n",
    "threshold_ellipctial_outlier = unname(quantile(df_mosdepth_CCS_15kb_20kb_merged_1000_window_size_ONT_1000_combined_elliptical_values[,6])[4]+(1.5*IQR(df_mosdepth_CCS_15kb_20kb_merged_1000_window_size_ONT_1000_combined_elliptical_values[,6])[1]))\n",
    "\n",
    "df_mosdepth_CCS_15kb_20kb_merged_1000_window_size_ONT_1000_combined_outliers <- df_mosdepth_CCS_15kb_20kb_merged_1000_window_size_ONT_1000_combined_elliptical_values[which(df_mosdepth_CCS_15kb_20kb_merged_1000_window_size_ONT_1000_combined_elliptical_values[,6] > threshold_ellipctial_outlier),]\n",
    "\n",
    "write.csv(df_mosdepth_CCS_15kb_20kb_merged_1000_window_size_ONT_1000_combined_outliers, file = \"GRCh37_union_HG004_CCS_15kb_20kb_merged_ONT_1000_window_size_combined_elliptical_outlier_threshold.bed\", row.names = FALSE)"
   ]
  },
  {
   "cell_type": "code",
   "execution_count": null,
   "metadata": {},
   "outputs": [],
   "source": [
    "### pbsv_HG004_SequelII.GRCh37_gt49bp_slop50_repeatexpanded_slop25percent.bed\n",
    "\n",
    "### What this does: find SV calls from PacBio HiFi that will be excluded from HG4 in addition to the v0.6 GIAB SV calls"
   ]
  },
  {
   "cell_type": "code",
   "execution_count": null,
   "metadata": {},
   "outputs": [],
   "source": [
    "zgrep -v ^# pbsv_HG004_SequelII.hs37d5.vcf.gz | awk '{FS=OFS=\"\\t\"} {  if(length($4)>49 || length($5)>49) print $1,$2-50,$2+length($4)+50} '  > pbsv_HG004_SequelII.GRCh37.pbsv_gt49bp_slop50.bed\n",
    "\n",
    "intersectBed -wa -a GRCh37_AllTandemRepeatsandHomopolymers_slop5.bed.gz -b pbsv_HG004_SequelII.GRCh37.pbsv_gt49bp_slop50.bed | multiIntersectBed -i stdin pbsv_HG004_SequelII.GRCh37.pbsv_gt49bp_slop50.bed | mergeBed -i stdin -d 1000 | awk '{FS=OFS=\"\\t\"} { print $1, $2-int(0.25*($3-$2)), $3+int(0.25*($3-$2))}' | awk '{FS=OFS=\"\\t\"} { if($2<0) $2=0; print}' > pbsv_HG004_SequelII.GRCh37.pbsv_gt49bp_slop50_repeatexpanded_slop25percent.bed"
   ]
  },
  {
   "cell_type": "code",
   "execution_count": null,
   "metadata": {},
   "outputs": [],
   "source": [
    "#### convert_mosdepth_to_excessive_coverage.py script\n",
    "\n",
    "import argparse\n",
    "\n",
    "parser = argparse.ArgumentParser(description=\"Subset bed file to callable regions only\")\n",
    "parser.add_argument('--input_file', metavar=\"I\", type=str, nargs=\"+\", help=\"input bed file\")\n",
    "parser.add_argument('--output_file', metavar=\"O\", type=str, nargs=\"+\", help=\"output file\")\n",
    "parser.add_argument('--threshold', metavar=\"T\", type=str, nargs=\"+\", help=\"input threshold\")\n",
    "args = parser.parse_args()\n",
    "\n",
    "f = open(args.input_file[0], \"r\") \n",
    "f_lines = f.readlines()\n",
    "\n",
    "f_out = open(args.output_file[0], \"w+\")\n",
    "threshold = float(args.threshold[0])\n",
    "\n",
    "for line in f_lines:   \n",
    "    if \"DEPTH\" in line: \n",
    "        continue\n",
    "    line_split = line.split(\"\\t\")\n",
    "    depth_field = float(line_split[3])\n",
    "    if depth_field > threshold:\n",
    "        f_out.write(line)\n",
    "        f_out.flush()  \n",
    "\n",
    "f.close()\n",
    "f_out.close()"
   ]
  }
 ],
 "metadata": {
  "kernelspec": {
   "display_name": "Bash",
   "language": "bash",
   "name": "bash"
  },
  "language_info": {
   "codemirror_mode": "shell",
   "file_extension": ".sh",
   "mimetype": "text/x-sh",
   "name": "bash"
  }
 },
 "nbformat": 4,
 "nbformat_minor": 2
}
