{
 "cells": [
  {
   "cell_type": "markdown",
   "metadata": {},
   "source": [
    "### Intersection of mrcanavar, PacBio CCS, and ONT high coverage regions to identify potential CNV\n",
    "\n",
    "Generating excessive coverage bed files using calculations from mosdepth for both PacBio CCS 15kb_20kb merged and ONT bam files.\n",
    "\n",
    "ultra-long-ont_hs37d5_phased_reheader.bam is from https://ftp-trace.ncbi.nlm.nih.gov/ReferenceSamples/giab/data/AshkenazimTrio/HG003_NA24149_father/UCSC_Ultralong_OxfordNanopore_Promethion/HG003_GRCh37_ONT-UL_UCSC_20200508.bam\n",
    "\n",
    "HG003.SequelII.merged_15kb_20kb.pbmm2.hs37d5.haplotag.RTG.10x.trio.bam is from https://drive.google.com/file/d/1iOIRM8vybg0iepFh-b6hIjeOhfXHq-EV/view?usp=sharing\n",
    "\n",
    "AJtrio-HG003.hs37d5.300x.bam.bilkentuniv.052119.dups.bed is from https://ftp-trace.ncbi.nlm.nih.gov/ReferenceSamples/giab/data/AshkenazimTrio/analysis/BilkentUni_IlluminaHiSeq_TARDIS_mrCaNaVar_05212019/AJtrio-HG003.hs37d5.300x.bam.bilkentuniv.052119.dups.bed.gz\n",
    "\n",
    "pbsv_HG003_SequelII.hs37d5.vcf.gz is from https://ftp-trace.ncbi.nlm.nih.gov/ReferenceSamples/giab/data/AshkenazimTrio/analysis/PacBio_CCS_15kb_20kb_chemistry2_10312019/pbsv/pbsv_HG003_SequelII.hs37d5.vcf.gz\n",
    "\n",
    "convert_mosdepth_to_excessive_coverage.py is at the end of this notebook"
   ]
  },
  {
   "cell_type": "markdown",
   "metadata": {},
   "source": [
    "### mosdepth commands"
   ]
  },
  {
   "cell_type": "code",
   "execution_count": null,
   "metadata": {},
   "outputs": [],
   "source": [
    "mosdepth -b 1000 -x --no-per-base HG002.SequelII.merged_15kb_20kb_1000_window_size HG002.SequelII.merged_15kb_20kb.pbmm2.hs37d5.haplotag.RTG.10x.trio.bam\n",
    "\n",
    "\n",
    "samtools view -1 -F 0x100 ultra-long-ont_hs37d5_phased_reheader.bam -h > filtered_ultra-long-ont_hs37d5_phased_reheader.bam\n",
    "\n",
    "mosdepth -b 1000 -x --no-per-base HG002_GRCh37.ultra_long_ONT_1000_window_size filtered_ultra-long-ont_hs37d5_phased_complete.bam"
   ]
  },
  {
   "cell_type": "markdown",
   "metadata": {},
   "source": [
    "### Find coverage levels of excessive coverage on CCS and ONT data in R"
   ]
  },
  {
   "cell_type": "code",
   "execution_count": null,
   "metadata": {},
   "outputs": [],
   "source": [
    "chr_1_22 <- seq(1,22) \n",
    "mosdepth_CCS_15kb_20kb_merged_1000_window_size = read.delim(\"HG003.SequelII.merged_15kb_20kb.pbmm2.hs37d5.haplotag.RTG.10x.trio.1000_window_size.regions.bed\", col.names = c(\"CHR\",\"START\",\"END\",\"DEPTH\"))\n",
    "mosdepth_CCS_15kb_20kb_merged_1000_window_size_chr_1_22 <- mosdepth_CCS_15kb_20kb_merged_1000_window_size[which(mosdepth_CCS_15kb_20kb_merged_1000_window_size[,\"CHR\"] %in% chr_1_22),] \n",
    "quantile(mosdepth_CCS_15kb_20kb_merged_1000_window_size_chr_1_22[,\"DEPTH\"])\n",
    "\n",
    "\n",
    "IQR(mosdepth_CCS_15kb_20kb_merged_1000_window_size_chr_1_22[,\"DEPTH\"])\n",
    "#: 17.03\n",
    "(quantile(mosdepth_CCS_15kb_20kb_merged_1000_window_size_chr_1_22[,\"DEPTH\"])[3]/2)*2.5\n",
    "#: 81.35\n",
    "\n",
    "mosdepth_ONT_1000_window_size = read.delim(\"filtered_combined_hs37d5_1000_window_size.regions.bed\", col.names = c(\"CHR\",\"START\",\"END\",\"DEPTH\"))\n",
    "mosdepth_ONT_1000_window_size_chr_1_22 <- mosdepth_ONT_1000_window_size[which(mosdepth_ONT_1000_window_size[,\"CHR\"] %in% chr_1_22),]\n",
    "\n",
    "quantile(mosdepth_ONT_1000_window_size_chr_1_22[,\"DEPTH\"])\n",
    "\n",
    "IQR(mosdepth_ONT_1000_window_size_chr_1_22[,\"DEPTH\"])\n",
    "#: 16.21\n",
    "(quantile(mosdepth_ONT_1000_window_size_chr_1_22[,\"DEPTH\"])[3]/2)*2.5\n",
    "#: 105.55"
   ]
  },
  {
   "cell_type": "markdown",
   "metadata": {},
   "source": [
    "### HG003_mrcanavar_intersect_ccs_window_size_cnv_threshold_intersect_ont_window_size_cnv_threshold.bed\n",
    "### What this does: find potential CNVs in HG3 from intersecting coverage files from PacBio HiFi, ONT, and Illumina data. This generates PacBio HiFi excessive coverage bed, intersect with mrCaNaVar dups bed, generates ONT excessive coverage bed, intersects to these all to generate exclusion bed"
   ]
  },
  {
   "cell_type": "code",
   "execution_count": null,
   "metadata": {},
   "outputs": [],
   "source": [
    "python convert_mosdepth_to_excessive_coverage.py --input HG003.SequelII.merged_15kb_20kb.pbmm2.hs37d5.haplotag.RTG.10x.trio.1000_window_size.regions.bed --output HG003.SequelII.merged_15kb_20kb.pbmm2.hs37d5.haplotag.RTG.10x.trio.1000_window_size_excessive_coverage_cnv_threshold.bed --threshold 81.35\n",
    "\n",
    "\n",
    "bedtools intersect -a AJtrio-HG003.hs37d5.300x.bam.bilkentuniv.052119.dups.bed -b HG003.SequelII.merged_15kb_20kb.pbmm2.hs37d5.haplotag.RTG.10x.trio.1000_window_size_excessive_coverage_cnv_threshold.bed > mrcanavar_intersect_ccs_cnv_threshold.bed\n",
    "\n",
    "\n",
    "python convert_mosdepth_to_excessive_coverage.py --input filtered_combined_hs37d5_1000_window_size.regions.bed --output filtered_combined_hs37d5_1000_window_size_excessive_coverage_cnv_threshold.bed --threshold 105.55\n",
    "\n",
    "\n",
    "bedtools intersect -a mrcanavar_intersect_ccs_cnv_threshold.bed -b filtered_combined_hs37d5_1000_window_size_excessive_coverage_cnv_threshold.bed > mrcanavar_intersect_ccs_window_size_cnv_threshold_intersect_ont_window_size_cnv_threshold.bed\n",
    "\n",
    "cp mrcanavar_intersect_ccs_window_size_cnv_threshold_intersect_ont_window_size_cnv_threshold.bed HG003_mrcanavar_intersect_ccs_window_size_cnv_threshold_intersect_ont_window_size_cnv_threshold.bed"
   ]
  },
  {
   "cell_type": "code",
   "execution_count": null,
   "metadata": {},
   "outputs": [],
   "source": [
    "### union_HG003_CCS_15kb_20kb_merged_ONT_1000_window_size_combined_elliptical_outlier_threshold\n",
    "### What this does: Find another set of potential CNVs from computing a coverage threshold using an elliciptal outlier for PacBio HiFi and ONT CNV file steps in R"
   ]
  },
  {
   "cell_type": "markdown",
   "metadata": {},
   "source": [
    "mosdepth_CCS_15kb_20kb_merged_1000_window_size = read.delim(\"HG003.SequelII.merged_15kb_20kb.pbmm2.hs37d5.haplotag.RTG.10x.trio.1000_window_size.regions.bed\", col.names = c(\"CHR\",\"START\",\"END\",\"DEPTH\"))\n",
    "\n",
    "mosdepth_ONT_1000_window_size = read.delim(\"filtered_combined_hs37d5_1000_window_size.regions.bed\", col.names = c(\"CHR\",\"START\",\"END\",\"DEPTH\"))\n",
    "\n",
    "chr_1_22 <- seq(1,22) \n",
    "\n",
    "mosdepth_CCS_15kb_20kb_merged_1000_window_size_chr_1_22 <- mosdepth_CCS_15kb_20kb_merged_1000_window_size[which(mosdepth_CCS_15kb_20kb_merged_1000_window_size[,\"CHR\"] %in% chr_1_22),]\n",
    "\n",
    "mosdepth_ONT_1000_window_size_chr_1_22 <- mosdepth_ONT_1000_window_size[which(mosdepth_ONT_1000_window_size[,\"CHR\"] %in% chr_1_22),]\n",
    "\n",
    "df_mosdepth_CCS_15kb_20kb_merged_1000_window_size <- data.frame(mosdepth_CCS_15kb_20kb_merged_1000_window_size_chr_1_22) \n",
    "\n",
    "df_mosdepth_ONT_1000_window_size <- data.frame(mosdepth_ONT_1000_window_size_chr_1_22)\n",
    "\n",
    "df_mosdepth_CCS_15kb_20kb_merged_1000_window_size_ONT_1000_combined <- df_mosdepth_CCS_15kb_20kb_merged_1000_window_size\n",
    "\n",
    "df_mosdepth_CCS_15kb_20kb_merged_1000_window_size_ONT_1000_combined[,5] <- mosdepth_ONT_1000_window_size_chr_1_22[,4]\n",
    "\n",
    "colnames(df_mosdepth_CCS_15kb_20kb_merged_1000_window_size_ONT_1000_combined) <- c(\"CHR\", \"START\", \"END\", \"CCS_DEPTH\", \"ONT_DEPTH\")\n",
    "\n",
    "df_mosdepth_CCS_15kb_20kb_merged_1000_window_size_ONT_1000_combined_elliptical_values <- df_mosdepth_CCS_15kb_20kb_merged_1000_window_size_ONT_1000_combined \n",
    "\n",
    "medianccsdepth = median(mosdepth_CCS_15kb_20kb_merged_1000_window_size_chr_1_22[,\"DEPTH\"]) \n",
    "\n",
    "medianontdepth = median(mosdepth_ONT_1000_window_size_chr_1_22[,\"DEPTH\"]) \n",
    "\n",
    "df_mosdepth_CCS_15kb_20kb_merged_1000_window_size_ONT_1000_combined_elliptical_values[,6] <- sqrt(((df_mosdepth_CCS_15kb_20kb_merged_1000_window_size_ONT_1000_combined[,4]/medianccsdepth)^2 + (df_mosdepth_CCS_15kb_20kb_merged_1000_window_size_ONT_1000_combined[,5]/medianontdepth)^2)/2) \n",
    "\n",
    "threshold_ellipctial_outlier = unname(quantile(df_mosdepth_CCS_15kb_20kb_merged_1000_window_size_ONT_1000_combined_elliptical_values[,6])[4]+(1.5*IQR(df_mosdepth_CCS_15kb_20kb_merged_1000_window_size_ONT_1000_combined_elliptical_values[,6])[1]))\n",
    "\n",
    "df_mosdepth_CCS_15kb_20kb_merged_1000_window_size_ONT_1000_combined_outliers <- df_mosdepth_CCS_15kb_20kb_merged_1000_window_size_ONT_1000_combined_elliptical_values[which(df_mosdepth_CCS_15kb_20kb_merged_1000_window_size_ONT_1000_combined_elliptical_values[,6] > threshold_ellipctial_outlier),]\n",
    "\n",
    "write.csv(df_mosdepth_CCS_15kb_20kb_merged_1000_window_size_ONT_1000_combined_outliers, file = \"union_HG003_CCS_15kb_20kb_merged_ONT_1000_window_size_combined_elliptical_outlier_threshold.bed\", row.names = FALSE)\n"
   ]
  },
  {
   "cell_type": "markdown",
   "metadata": {},
   "source": [
    "### pbsv_HG003_SequelII.GRCh37_gt49bp_slop50_repeatexpanded_slop25percent.bed\n",
    "### What this does: find SV calls from PacBio HiFi that will be excluded from HG3 in addition to the v0.6 GIAB SV calls"
   ]
  },
  {
   "cell_type": "code",
   "execution_count": null,
   "metadata": {},
   "outputs": [],
   "source": [
    "#Form bed to exclude SV regions from HG003 v4.2.1 benchmark\n",
    "\n",
    "zgrep -v ^# pbsv_HG003_SequelII.hs37d5.vcf.gz | awk '{FS=OFS=\"\\t\"} {  if(length($4)>49 || length($5)>49) print $1,$2-50,$2+length($4)+50} ' > pbsv_HG003_SequelII.GRCh37_gt49bp_slop50.bed\n",
    "\n",
    "intersectBed -wa -a GRCh37_AllTandemRepeatsandHomopolymers_slop5.bed.gz -b pbsv_HG003_SequelII.GRCh37_gt49bp_slop50.bed | multiIntersectBed -i stdin pbsv_HG003_SequelII.GRCh37_gt49bp_slop50.bed | mergeBed -i stdin -d 1000 | awk '{FS=OFS=\"\\t\"} { slop=int(0.25*($3-$2)); if(slop>5000) slop=5000; print $1, $2-slop, $3+slop}' | awk '{FS=OFS=\"\\t\"} { if($2<0) $2=0; print}' > pbsv_HG003_SequelII.GRCh37_gt49bp_slop50_repeatexpanded_slop25percent.bed"
   ]
  },
  {
   "cell_type": "markdown",
   "metadata": {},
   "source": [
    "#### convert_mosdepth_to_excessive_coverage.py script\n",
    "\n",
    "import argparse\n",
    "\n",
    "parser = argparse.ArgumentParser(description=\"Subset bed file to callable regions only\")\n",
    "parser.add_argument('--input_file', metavar=\"I\", type=str, nargs=\"+\", help=\"input bed file\")\n",
    "parser.add_argument('--output_file', metavar=\"O\", type=str, nargs=\"+\", help=\"output file\")\n",
    "parser.add_argument('--threshold', metavar=\"T\", type=str, nargs=\"+\", help=\"input threshold\")\n",
    "args = parser.parse_args()\n",
    "\n",
    "f = open(args.input_file[0], \"r\") \n",
    "f_lines = f.readlines()\n",
    "\n",
    "f_out = open(args.output_file[0], \"w+\")\n",
    "threshold = float(args.threshold[0])\n",
    "\n",
    "for line in f_lines:   \n",
    "    if \"DEPTH\" in line: \n",
    "        continue\n",
    "    line_split = line.split(\"\\t\")\n",
    "    depth_field = float(line_split[3])\n",
    "    if depth_field > threshold:\n",
    "        f_out.write(line)\n",
    "        f_out.flush()  \n",
    "\n",
    "f.close()\n",
    "f_out.close()"
   ]
  }
 ],
 "metadata": {
  "kernelspec": {
   "display_name": "Bash",
   "language": "bash",
   "name": "bash"
  },
  "language_info": {
   "codemirror_mode": "shell",
   "file_extension": ".sh",
   "mimetype": "text/x-sh",
   "name": "bash"
  }
 },
 "nbformat": 4,
 "nbformat_minor": 2
}
