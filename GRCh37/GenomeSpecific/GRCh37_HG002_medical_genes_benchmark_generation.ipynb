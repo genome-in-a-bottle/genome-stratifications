{
 "cells": [
  {
   "cell_type": "markdown",
   "metadata": {},
   "source": [
    "#  Generating GRCh37 Medical Genes Benchmark\n",
    "This notebook details the steps to generate the challenging medically relevant genes benchmark. All paths are from the top level directory of the repository and large dependency files. External data dependencies are downloaded from the GIAB FTP site as needed.\n",
    "\n",
    "## Steps  \n",
    "\n",
    "1. Look up coordinates for gene symbols in ENSEMBLE GRCh37 Human Genes v101 of the union of Mandelker et al Supplementary Table 13, COSMIC Cancer Gene Census, Steve Lincoln Medical Gene Lists -- `scripts\\GRCh37_lookup_MRG_symbol_coordinates_ENSEMBL.R`\n",
    "\n",
    "2. Find overlap of genes with HG002 v4.2.1, then add slop and find overlap with HG002 trio-hifiasm (v0.11) diploid assembly confident regions `HG002v11-align2-GRCh37.dip.bed`\n",
    "\n",
    "3. Find genes with < 90% included bases in v4.2.1 HG002 small variant benchmark and fully covered with overlapping segdups and flanking sequence in HG002 hifiasm v0.11 GRCh37 dip.bed, find union of GRCh37 and GRCh38 MRG lists, then add genes that are unique to GRCh37 but still fully covered with overlapping segdups and flanking sequence in HG002 hifiasm v0.11 GRCh37 dip.bed -- `scripts/find_coordinates_of_MRG_GRCh37_GRCh38_union.R`\n",
    "\n",
    "4. Use coordinates for benchmark then remove\n",
    "    - homopolymers and imperfect homopolymers > 20\n",
    "    - SVs with 50bp flanking and overlapping tandem repeats\n",
    "    - hifiasm error\n",
    "    - GRCh37 GAPs\n",
    "    - Remove partially covered tandem repeats\n",
    "    - Remove MHC region\n",
    "    \n",
    "5. Generate stratification files for Complex Variants in Tandem Repeats\n",
    "    - GRCh37_MRG_stratification_ComplexVar_in_TR.bed"
   ]
  },
  {
   "cell_type": "markdown",
   "metadata": {},
   "source": [
    "# Downloading Data Dependencies"
   ]
  },
  {
   "cell_type": "markdown",
   "metadata": {},
   "source": [
    "## hifiasm Variants and Diploid Regions"
   ]
  },
  {
   "cell_type": "code",
   "execution_count": 1,
   "metadata": {},
   "outputs": [
    {
     "name": "stdout",
     "output_type": "stream",
     "text": [
      "--2021-08-31 12:22:05--  https://ftp-trace.ncbi.nlm.nih.gov/ReferenceSamples/giab/data/AshkenazimTrio/analysis/NIST_HG002_medical_genes_benchmark_v0.02/GRCh37/hifiasm_v0.11/HG002v11-align2-GRCh37.dip.bed\n",
      "Resolving ftp-trace.ncbi.nlm.nih.gov (ftp-trace.ncbi.nlm.nih.gov)... 2607:f220:41e:250::12, 2607:f220:41e:250::10, 165.112.9.229, ...\n",
      "Connecting to ftp-trace.ncbi.nlm.nih.gov (ftp-trace.ncbi.nlm.nih.gov)|2607:f220:41e:250::12|:443... connected.\n",
      "HTTP request sent, awaiting response... 200 OK\n",
      "Length: 20530 (20K) [application/vnd.realvnc.bed]\n",
      "Saving to: ‘data/hifiasm_dipcall_output/HG002v11-align2-GRCh37.dip.bed’\n",
      "\n",
      "data/hifiasm_dipcal 100%[===================>]  20.05K  --.-KB/s    in 0.02s   \n",
      "\n",
      "2021-08-31 12:22:05 (1.25 MB/s) - ‘data/hifiasm_dipcall_output/HG002v11-align2-GRCh37.dip.bed’ saved [20530/20530]\n",
      "\n",
      "\u001b[?2004h"
     ]
    },
    {
     "ename": "",
     "evalue": "1",
     "output_type": "error",
     "traceback": []
    }
   ],
   "source": [
    "mkdir -p data/hifiasm_dipcall_output\n",
    "wget -O data/hifiasm_dipcall_output/HG002v11-align2-GRCh37.dip.bed \\\n",
    "    https://ftp-trace.ncbi.nlm.nih.gov/ReferenceSamples/giab/data/AshkenazimTrio/analysis/NIST_HG002_medical_genes_benchmark_v0.02/GRCh37/hifiasm_v0.11/HG002v11-align2-GRCh37.dip.bed\n",
    "wget -O data/hifiasm_dipcall_output/HG002v11-align2-GRCh37.dip.vcf.gz \\\n",
    "    https://ftp-trace.ncbi.nlm.nih.gov/ReferenceSamples/giab/release/AshkenazimTrio/HG002_NA24385_son/CMRG_v1.00/GRCh37/SupplementaryFiles/HG002v11-align2-GRCh37/HG002v11-align2-GRCh37.dip.vcf.gz"
   ]
  },
  {
   "cell_type": "markdown",
   "metadata": {},
   "source": [
    "## Reference Genome"
   ]
  },
  {
   "cell_type": "code",
   "execution_count": null,
   "metadata": {},
   "outputs": [],
   "source": [
    "wget -O resources/hs37d5.fa.gz \\\n",
    "    https://ftp-trace.ncbi.nlm.nih.gov/ReferenceSamples/giab/release/references/GRCh37/hs37d5.fa.gz\n",
    "gunzip resources/hs37d5.fa.gz\n",
    "samtools faidx resources/hs37d5.fa"
   ]
  },
  {
   "cell_type": "markdown",
   "metadata": {},
   "source": [
    "## Genomic Stratifications"
   ]
  },
  {
   "cell_type": "code",
   "execution_count": null,
   "metadata": {},
   "outputs": [],
   "source": [
    "mkdir -p resources/giab_stratifications\n",
    "wget -O resources/giab_stratifications/GRCh37_segdups.bed.gz \\\n",
    "    https://ftp-trace.ncbi.nlm.nih.gov/ReferenceSamples/giab/release/genome-stratifications/v2.0/GRCh37/SegmentalDuplications/GRCh37_segdups.bed.gz\n",
    "\n",
    "wget -O resources/giab_stratifications/GRCh37_MHC.bed.gz \\\n",
    "    https://ftp-trace.ncbi.nlm.nih.gov/ReferenceSamples/giab/release/genome-stratifications/v2.0/GRCh37/OtherDifficult/GRCh37_MHC.bed.gz\n",
    "    \n",
    "wget -O resources/giab_stratifications/GRCh37_AllTandemRepeatsandHomopolymers_slop5.bed.gz \\\n",
    "    ftp://ftp-trace.ncbi.nlm.nih.gov/ReferenceSamples/giab/release/genome-stratifications/v2.0/GRCh37/LowComplexity/GRCh37_AllTandemRepeatsandHomopolymers_slop5.bed.gz\n",
    "\n",
    "wget -O resources/giab_stratifications/GRCh37_AllTandemRepeats_gt100bp_slop5.bed \\\n",
    "    https://ftp-trace.ncbi.nlm.nih.gov/ReferenceSamples/giab/release/genome-stratifications/v2.0/GRCh37/LowComplexity/GRCh37_AllTandemRepeats_gt100bp_slop5.bed.gz"
   ]
  },
  {
   "cell_type": "markdown",
   "metadata": {},
   "source": [
    "## GIAB Benchmark Sets"
   ]
  },
  {
   "cell_type": "markdown",
   "metadata": {},
   "source": [
    "### CMRG Draft Benchmarks"
   ]
  },
  {
   "cell_type": "code",
   "execution_count": null,
   "metadata": {},
   "outputs": [],
   "source": [
    "mkdir -p data/manually_created_files/cmrg_draft_benchmarks\n",
    "\n",
    "## v0.02.03 small variant benchmark\n",
    "wget -O data/manually_created_files/cmrg_draft_benchmarks/HG002_GRCh37_difficult_medical_gene_smallvar_benchmark_v0.02.03.bed  \\\n",
    "    https://ftp-trace.ncbi.nlm.nih.gov/giab/ftp/data/AshkenazimTrio/analysis/NIST_HG002_medical_genes_benchmark_v0.02/GRCh37/HG002_GRCh37_difficult_medical_gene_smallvar_benchmark_v0.02.03.bed\n",
    "wget -O data/manually_created_files/cmrg_draft_benchmarks/HG002_GRCh37_difficult_medical_gene_smallvar_benchmark_v0.02.03.vcf.gz  \\\n",
    "    https://ftp-trace.ncbi.nlm.nih.gov/giab/ftp/data/AshkenazimTrio/analysis/NIST_HG002_medical_genes_benchmark_v0.02/GRCh37/HG002_GRCh37_difficult_medical_gene_smallvar_benchmark_v0.02.03.vcf.gz\n",
    "wget -O data/manually_created_files/cmrg_draft_benchmarks/HG002_GRCh37_difficult_medical_gene_smallvar_benchmark_v0.02.03.vcf.gz.tbi  \\\n",
    "    https://ftp-trace.ncbi.nlm.nih.gov/giab/ftp/data/AshkenazimTrio/analysis/NIST_HG002_medical_genes_benchmark_v0.02/GRCh37/HG002_GRCh37_difficult_medical_gene_smallvar_benchmark_v0.02.03.vcf.gz.tbi\n",
    "    \n",
    "\n",
    "## v0.01 SV benchmark\n",
    "wget -O data/manually_created_files/cmrg_draft_benchmarks/HG002_GRCh37_difficult_medical_gene_SV_benchmark_v0.01.bed \\\n",
    "    https://ftp-trace.ncbi.nlm.nih.gov/giab/ftp/data/AshkenazimTrio/analysis/NIST_HG002_medical_genes_SV_benchmark_v0.01/HG002_GRCh37_difficult_medical_gene_SV_benchmark_v0.01.bed\n",
    "wget -O data/manually_created_files/cmrg_draft_benchmarks/HG002_GRCh37_difficult_medical_gene_SV_benchmark_v0.01.vcf.gz \\\n",
    "    https://ftp-trace.ncbi.nlm.nih.gov/giab/ftp/data/AshkenazimTrio/analysis/NIST_HG002_medical_genes_SV_benchmark_v0.01/HG002_GRCh37_difficult_medical_gene_SV_benchmark_v0.01.vcf.gz\n",
    "wget -O data/manually_created_files/cmrg_draft_benchmarks/HG002_GRCh37_difficult_medical_gene_SV_benchmark_v0.01.vcf.gz.tbi \\\n",
    "    https://ftp-trace.ncbi.nlm.nih.gov/giab/ftp/data/AshkenazimTrio/analysis/NIST_HG002_medical_genes_SV_benchmark_v0.01/HG002_GRCh37_difficult_medical_gene_SV_benchmark_v0.01.vcf.gz.tbi\n"
   ]
  },
  {
   "cell_type": "markdown",
   "metadata": {},
   "source": [
    "### V4.2.1 GRCh37 Benchmark"
   ]
  },
  {
   "cell_type": "code",
   "execution_count": null,
   "metadata": {},
   "outputs": [],
   "source": [
    "mkdir -p data/v4.2.1_benchmark_regions\n",
    "wget -O data/v4.2.1_benchmark_regions/HG002_GRCh37_1_22_v4.2.1_benchmark_noinconsistent.bed \\\n",
    "    https://ftp-trace.ncbi.nlm.nih.gov/ReferenceSamples/giab/release/AshkenazimTrio/HG002_NA24385_son/NISTv4.2.1/GRCh37/HG002_GRCh37_1_22_v4.2.1_benchmark_noinconsistent.bed"
   ]
  },
  {
   "cell_type": "markdown",
   "metadata": {},
   "source": [
    "# From these genes to be benchmarked remove the following regions that we exclude from the diploid assembly based variant calls:\n",
    "\n",
    "    - homopolymers and imperfect homopolymers > 20\n",
    "    - SVs with 50bp flanking and overlapping tandem repeats\n",
    "    - hifiasm error\n",
    "    - GRCh37 GAPs\n",
    "    - Remove partially covered tandem repeats\n",
    "    \n",
    "    "
   ]
  },
  {
   "cell_type": "markdown",
   "metadata": {},
   "source": [
    "## Remove homopolymers > 20bp"
   ]
  },
  {
   "cell_type": "code",
   "execution_count": null,
   "metadata": {},
   "outputs": [],
   "source": [
    "bedtools subtract \\\n",
    "    -a workflow/smallvar_benchmark/GRCh37/HG002_GRCh37_CMRG_coordinates_temp_bedtools_merge.bed \\\n",
    "    -b data/giab_stratifications/GRCh37/GRCh37_SimpleRepeat_homopolymer_gt20_slop5.bed.gz \\\n",
    "    > workflow/smallvar_benchmark/GRCh37/HG002_GRCh37_CMRG_coordinates_temp_subtract_GRCh37_SimpleRepeat_homopolymer_gt20_slop5.bed"
   ]
  },
  {
   "cell_type": "markdown",
   "metadata": {},
   "source": [
    "## Remove imperfect homopolymers > 20bp"
   ]
  },
  {
   "cell_type": "code",
   "execution_count": null,
   "metadata": {},
   "outputs": [],
   "source": [
    "bedtools subtract \\\n",
    "    -a workflow/smallvar_benchmark/GRCh37/HG002_GRCh37_CMRG_coordinates_temp_subtract_GRCh37_SimpleRepeat_homopolymer_gt20_slop5.bed \\\n",
    "    -b data/giab_stratifications/GRCh37/GRCh37_SimpleRepeat_imperfecthomopolgt20_slop5.bed.gz \\\n",
    "    > workflow/smallvar_benchmark/GRCh37/HG002_GRCh37_CMRG_coordinates_temp_subtract_GRCh37_SimpleRepeat_imperfecthomopolgt20_slop5.bed"
   ]
  },
  {
   "cell_type": "markdown",
   "metadata": {},
   "source": [
    "## SVs with 50bp flanking and overlapping tandem repeats\n",
    "`GRCh37_AllTandemRepeatsandHomopolymers_slop5.bed.gz` is from ftp://ftp-trace.ncbi.nlm.nih.gov/ReferenceSamples/giab/release/genome-stratifications/v2.0/GRCh38/LowComplexity/GRCh37_AllTandemRepeatsandHomopolymers_slop5.bed.gz"
   ]
  },
  {
   "cell_type": "code",
   "execution_count": null,
   "metadata": {},
   "outputs": [],
   "source": [
    "gunzip \\\n",
    "    -c data/hifiasm_dipcall_output/HG002v11-align2-GRCh37.dip.vcf.gz \\\n",
    "    | awk 'length($4)>49 || length($5)>49' \\\n",
    "    | awk '{FS=OFS=\"\\t\"} {print $1,$2-1,$2+length($4)}' \\\n",
    "    > workflow/smallvar_benchmark/GRCh37/HG002v11-align2-GRCh37.dip_SVsgt49bp.bed"
   ]
  },
  {
   "cell_type": "code",
   "execution_count": null,
   "metadata": {},
   "outputs": [],
   "source": [
    "intersectBed \\\n",
    "    -wa -a resources/giab_stratifications/GRCh37_AllTandemRepeatsandHomopolymers_slop5.bed.gz \\\n",
    "    -b workflow/smallvar_benchmark/GRCh37/HG002v11-align2-GRCh37.dip_SVsgt49bp.bed \\\n",
    "    | multiIntersectBed -i stdin workflow/smallvar_benchmark/GRCh37/HG002v11-align2-GRCh37.dip_SVsgt49bp.bed \\\n",
    "    |  awk '{FS=OFS=\"\\t\"} {print $1,$2-50,$3+50}' \\\n",
    "    | mergeBed -i stdin -d 1000 \\\n",
    "    > workflow/smallvar_benchmark/GRCh37/HG002v11-align2-GRCh37.dip_SVsgt49bp_repeatexpanded_slop50_merge1000.bed"
   ]
  },
  {
   "cell_type": "code",
   "execution_count": null,
   "metadata": {},
   "outputs": [],
   "source": [
    "bedtools subtract \\\n",
    "    -a workflow/smallvar_benchmark/GRCh37/HG002_GRCh37_CMRG_coordinates_temp_subtract_GRCh37_SimpleRepeat_imperfecthomopolgt20_slop5.bed \\\n",
    "    -b workflow/smallvar_benchmark/GRCh37/HG002v11-align2-GRCh37.dip_SVsgt49bp_repeatexpanded_slop50_merge1000.bed \\\n",
    "    > workflow/smallvar_benchmark/GRCh37/HG002_GRCh37_CMRG_coordinates_temp_subtract_SVsgt49bp_repeatexpanded_slop50_merge1000.bed"
   ]
  },
  {
   "cell_type": "markdown",
   "metadata": {},
   "source": [
    "## Remove hifiasm error on chr21\n",
    "`GRCh37_hifiasm_error.bed`\n",
    " was created through manual curation of clusters of errors identified during evaluation steps of benchmark development"
   ]
  },
  {
   "cell_type": "code",
   "execution_count": null,
   "metadata": {},
   "outputs": [],
   "source": [
    "bedtools subtract \\\n",
    "    -a workflow/smallvar_benchmark/GRCh37/HG002_GRCh37_CMRG_coordinates_temp_subtract_SVsgt49bp_repeatexpanded_slop50_merge1000.bed \\\n",
    "    -b data/manually_created_files/GRCh37_hifiasm_error.bed \\\n",
    "    > workflow/smallvar_benchmark/GRCh37/HG002_GRCh37_CMRG_coordinates_temp_subtract_hifiasm_error.bed"
   ]
  },
  {
   "cell_type": "markdown",
   "metadata": {},
   "source": [
    "## Remove GRCh37 GAPs\n",
    "`GRCh37_MRG_GAPs.bed` was created through manual curation of clusters of errors identified during evaluation steps of benchmark development\n"
   ]
  },
  {
   "cell_type": "code",
   "execution_count": null,
   "metadata": {},
   "outputs": [],
   "source": [
    "bedtools subtract \\\n",
    "    -a workflow/smallvar_benchmark/GRCh37/HG002_GRCh37_CMRG_coordinates_temp_subtract_hifiasm_error.bed \\\n",
    "    -b data/manually_created_files/GRCh37_MRG_GAPs.bed \\\n",
    "    > workflow/smallvar_benchmark/GRCh37/HG002_GRCh37_CMRG_coordinates_temp_subtract_GRCh37_MRG_GAPs.bed"
   ]
  },
  {
   "cell_type": "markdown",
   "metadata": {},
   "source": [
    "## Sort"
   ]
  },
  {
   "cell_type": "code",
   "execution_count": null,
   "metadata": {},
   "outputs": [],
   "source": [
    "cat workflow/smallvar_benchmark/GRCh37/HG002_GRCh37_CMRG_coordinates_temp_subtract_GRCh37_MRG_GAPs.bed \\\n",
    "    | sort -k1,1n -k2,2n \\\n",
    "    > workflow/smallvar_benchmark/GRCh37/HG002_GRCh37_CMRG_coordinates_temp_subtract_GRCh37_MRG_GAPs_sorted.bed"
   ]
  },
  {
   "cell_type": "markdown",
   "metadata": {},
   "source": [
    "## Remove partially covered tandem repeats"
   ]
  },
  {
   "cell_type": "code",
   "execution_count": null,
   "metadata": {},
   "outputs": [],
   "source": [
    "complementBed \\\n",
    "    -i workflow/smallvar_benchmark/GRCh37/HG002_GRCh37_CMRG_coordinates_temp_subtract_GRCh37_MRG_GAPs_sorted.bed \\\n",
    "    -g resources/human.b37.genome \\\n",
    "    | intersectBed \\\n",
    "        -wa -a resources/giab_stratifications/GRCh37_AllTandemRepeatsandHomopolymers_slop5.bed.gz \\\n",
    "        -b stdin \\\n",
    "    | subtractBed \\\n",
    "        -a workflow/smallvar_benchmark/GRCh37/HG002_GRCh37_CMRG_coordinates_temp_subtract_GRCh37_MRG_GAPs_sorted.bed \\\n",
    "        -b stdin \\\n",
    "    > workflow/smallvar_benchmark/GRCh37/HG002_GRCh37_CMRG_coordinates_temp_subtract_partial_tandem_repeats.bed"
   ]
  },
  {
   "cell_type": "markdown",
   "metadata": {},
   "source": [
    "## Prepare Small Variant benchmark VCF\n",
    "\n",
    "__Notes__\n",
    "1. `workflow/smallvar_benchmark/GRCh37/HG002_GRCh37_difficult_medical_gene_smallvar_benchmark.vcf.gz` is  https://ftp-trace.ncbi.nlm.nih.gov/ReferenceSamples/giab/data/AshkenazimTrio/analysis/NIST_HG002_medical_genes_benchmark_v0.02/GRCh37/HG002_GRCh37_difficult_medical_gene_smallvar_benchmark_v0.02.03.vcf.gz after updates to the headers\n",
    "\n",
    "2. `workflow/smallvar_benchmark/GRCh37/HG002_GRCh37_difficult_medical_gene_smallvar_benchmark.bed` is https://ftp-trace.ncbi.nlm.nih.gov/ReferenceSamples/giab/data/AshkenazimTrio/analysis/NIST_HG002_medical_genes_benchmark_v0.02/GRCh37/HG002_GRCh37_difficult_medical_gene_smallvar_benchmark_v0.02.03.bed"
   ]
  },
  {
   "cell_type": "code",
   "execution_count": null,
   "metadata": {},
   "outputs": [],
   "source": [
    "cp workflow/smallvar_benchmark/GRCh37/HG002_GRCh37_CMRG_coordinates_temp_subtract_partial_tandem_repeats.bed \\\n",
    "    workflow/smallvar_benchmark/GRCh37/HG002_GRCh37_difficult_medical_gene_smallvar_benchmark.bed\n",
    "\n",
    "cat workflow/smallvar_benchmark/GRCh37/HG002_GRCh37_difficult_medical_gene_smallvar_benchmark.bed \\\n",
    "    | awk '{sum+=$3-$2} END {print sum}'\n",
    "\n",
    "bedtools intersect \\\n",
    "    -a data/hifiasm_dipcall_output/HG002v11-align2-GRCh37.dip.vcf.gz \\\n",
    "    -b workflow/smallvar_benchmark/GRCh37/HG002_GRCh37_CMRG_coordinates_temp_bedtools_merge.bed \\\n",
    "    -header \\\n",
    "    > workflow/smallvar_benchmark/GRCh37/HG002_GRCh37_difficult_medical_gene_smallvar_benchmark.vcf\n",
    "\n",
    "bgzip -f workflow/smallvar_benchmark/GRCh37/HG002_GRCh37_difficult_medical_gene_smallvar_benchmark.vcf\n",
    "\n",
    "tabix -f workflow/smallvar_benchmark/GRCh37/HG002_GRCh37_difficult_medical_gene_smallvar_benchmark.vcf.gz"
   ]
  },
  {
   "cell_type": "markdown",
   "metadata": {},
   "source": [
    "## SV Benchmark"
   ]
  },
  {
   "cell_type": "code",
   "execution_count": null,
   "metadata": {},
   "outputs": [],
   "source": [
    "# Find SVs MRG benchmark gene coordinates\n",
    "mkdir -p workflow/SV_benchmark/GRCh37/\n",
    "bedtools intersect \\\n",
    "    -a workflow/smallvar_benchmark/GRCh37//HG002v11-align2-GRCh37.dip_SVsgt49bp_repeatexpanded_slop50_merge1000.bed \\\n",
    "    -b workflow/smallvar_benchmark/GRCh37/HG002_GRCh37_CMRG_coordinates_temp_bedtools_merge.bed \\\n",
    "    > workflow/SV_benchmark/GRCh37/HG002v11-align2-GRCh37.dip_SVsgt49bp_repeatexpanded_slop50_merge1000_intersect_MRG_benchmark_coordinates.bed"
   ]
  },
  {
   "cell_type": "code",
   "execution_count": null,
   "metadata": {},
   "outputs": [],
   "source": [
    "# Find SVs MRG benchmark gene coordinates\n",
    "bedtools intersect \\\n",
    "    -a workflow/smallvar_benchmark/GRCh37//HG002v11-align2-GRCh37.dip_SVsgt49bp_repeatexpanded_slop50_merge1000.bed \\\n",
    "    -b workflow/smallvar_benchmark/GRCh37/HG002_GRCh37_CMRG_coordinates_temp_bedtools_merge.bed \\\n",
    "    > workflow/SV_benchmark/GRCh37/HG002v11-align2-GRCh37.dip_SVsgt49bp_repeatexpanded_slop50_merge1000_intersect_MRG_benchmark_coordinates.bed\n",
    "\n",
    "# Subset to SVs only gt49bp \n",
    "gunzip \\\n",
    "    -c data/hifiasm_dipcall_output/HG002v11-align2-GRCh37.dip.vcf.gz \\\n",
    "    | awk '{FS=\"\\t|,\"} {if($1 ~ /^#/ || length($4)-length($5)>49 || length($5)-length($4)>49 || length($6)-length($4)>49) print}' \\\n",
    "    | intersectBed \\\n",
    "        -a workflow/SV_benchmark/GRCh37/HG002v11-align2-GRCh37.dip_SVsgt49bp_repeatexpanded_slop50_merge1000_intersect_MRG_benchmark_coordinates.bed \\\n",
    "        -b stdin -c \\\n",
    "    | awk '$4>0' \\\n",
    "    | cut -f1-3 \\\n",
    "    > workflow/SV_benchmark/GRCh37/HG002v11-align2-GRCh37.dip_SVsgt49bp_repeatexpanded_slop50_merge1000_intersect_MRG_benchmark_coordinates_onlygt49bp.bed \n",
    "\n",
    "# Find isolated SVs  \n",
    "\n",
    "gunzip \\\n",
    "    -c data/hifiasm_dipcall_output/HG002v11-align2-GRCh37.dip.vcf.gz \\\n",
    "    | awk '{FS=\"\\t|,\"} {if($1 ~ /^#/ || length($4)-length($5)>9 || length($5)-length($4)>9 || length($6)-length($4)>9) print}' \\\n",
    "    | intersectBed -a workflow/SV_benchmark/GRCh37/HG002v11-align2-GRCh37.dip_SVsgt49bp_repeatexpanded_slop50_merge1000_intersect_MRG_benchmark_coordinates_onlygt49bp.bed \\\n",
    "    -b stdin -c \\\n",
    "    | awk '$4==1' \\\n",
    "    | cut -f1-3 \\\n",
    "    > workflow/SV_benchmark/GRCh37/HG002v11-align2-GRCh37.dip_SVsgt49bp_repeatexpanded_slop50_merge1000_intersect_MRG_benchmark_coordinates_onlygt49bp_isolated.bed \n",
    "\n",
    "# Find complex SVs  \n",
    "\n",
    "gunzip \\\n",
    "    -c data/hifiasm_dipcall_output/HG002v11-align2-GRCh37.dip.vcf.gz \\\n",
    "    | awk '{FS=\"\\t|,\"} {if($1 ~ /^#/ || length($4)-length($5)>9 || length($5)-length($4)>9 || length($6)-length($4)>9) print}' \\\n",
    "    | intersectBed \\\n",
    "        -a workflow/SV_benchmark/GRCh37/HG002v11-align2-GRCh37.dip_SVsgt49bp_repeatexpanded_slop50_merge1000_intersect_MRG_benchmark_coordinates_onlygt49bp.bed \\\n",
    "        -b stdin -c \\\n",
    "        | awk '$4>1' \\\n",
    "        | cut -f1-3 \\\n",
    "        > workflow/SV_benchmark/GRCh37/HG002v11-align2-GRCh37.dip_SVsgt49bp_repeatexpanded_slop50_merge1000_intersect_MRG_benchmark_coordinates_onlygt49bp_complexSVs.bed \n",
    "\n",
    "# Remove complex SVs from MRG gene candidate coordinates and remove GAPs \n",
    "bedtools subtract \\\n",
    "    -a workflow/smallvar_benchmark/GRCh37/HG002_GRCh37_CMRG_coordinates_temp_bedtools_merge.bed \\\n",
    "    -b workflow/SV_benchmark/GRCh37/HG002v11-align2-GRCh37.dip_SVsgt49bp_repeatexpanded_slop50_merge1000_intersect_MRG_benchmark_coordinates_onlygt49bp_complexSVs.bed \\\n",
    "    | bedtools subtract \\\n",
    "        -a stdin \\\n",
    "        -b  data/manually_created_files/GRCh37_MRG_GAPs.bed \\\n",
    "    > workflow/SV_benchmark/GRCh37/HG002_GRCh37_MRG_draft_SV_benchmark_temp.bed\n",
    "\n",
    "#HG002v11-align2-GRCh37.dip_complexindelsgt9bpinRepeats.bed  from the SV benchmark bed:\n",
    "# Find tandem repeats and homopolymers that have multiple indels >9bp, since these can add up to >49bp and should be subtracted from the benchmark SV bed\n",
    "gunzip \\\n",
    "    -c data/hifiasm_dipcall_output/HG002v11-align2-GRCh37.dip.vcf.gz \\\n",
    "    | awk '{FS=\"\\t|,\"} {if($1 ~ /^#/ || length($4)-length($5)>9 || length($5)-length($4)>9 || length($6)-length($4)>9) print}' \\\n",
    "    | intersectBed \\\n",
    "        -a resources/giab_stratifications/GRCh37_AllTandemRepeatsandHomopolymers_slop5.bed.gz \\\n",
    "        -b stdin -c \\\n",
    "    | awk '$4>1' \\\n",
    "    | cut -f1-3 \\\n",
    "    | intersectBed \\\n",
    "        -v -a stdin \\\n",
    "        -b workflow/SV_benchmark/GRCh37/HG002v11-align2-GRCh37.dip_SVsgt49bp_repeatexpanded_slop50_merge1000_intersect_MRG_benchmark_coordinates_onlygt49bp.bed \\\n",
    "        > workflow/SV_benchmark/GRCh37/HG002v11-align2-GRCh37.dip_complexindelsgt9bpinRepeats.bed\n",
    "\n",
    "bedtools subtract \\\n",
    "    -a workflow/SV_benchmark/GRCh37/HG002_GRCh37_MRG_draft_SV_benchmark_temp.bed \\\n",
    "    -b workflow/SV_benchmark/GRCh37/HG002v11-align2-GRCh37.dip_complexindelsgt9bpinRepeats.bed \\\n",
    "    > workflow/SV_benchmark/GRCh37/HG002_GRCh37_MRG_draft_SV_benchmark.bed\n",
    "\n",
    "cat workflow/SV_benchmark/GRCh37/HG002_GRCh37_MRG_draft_SV_benchmark.bed \\\n",
    "    | awk '{sum+=$3-$2} END {print sum}'\n",
    "\n",
    "# Decompose for truvari comparison\n",
    "#vt decompose -s HG002v11-align2-GRCh37.dip.vcf -o HG002v11-align2-GRCh37.dip_decomposed.vcf\n",
    "#python script to remove ambiguous (non-ACTGN) REF\n",
    "\n",
    "gunzip \\\n",
    "    -c data/hifiasm_dipcall_output/HG002v11-align2-GRCh37.dip.vcf.gz \\\n",
    "    > data/hifiasm_dipcall_output/HG002v11-align2-GRCh37.dip.vcf\n",
    "\n",
    "\n",
    "## remove ambiguous (non-ACGTN) in REF field. Adjust path to where you keep this file\n",
    "python scripts/fix_reference_allele.py \\\n",
    "    --input_vcf_file data/hifiasm_dipcall_output/HG002v11-align2-GRCh37.dip.vcf \\\n",
    "    --output_file workflow/SV_benchmark/GRCh37/HG002v11-align2-GRCh37_noambig.dip.vcf\n",
    "\n",
    "rm data/hifiasm_dipcall_output/HG002v11-align2-GRCh37.dip.vcf\n",
    "\n",
    "## zip for bcftools\n",
    "bgzip \\\n",
    "    -c workflow/SV_benchmark/GRCh37/HG002v11-align2-GRCh37_noambig.dip.vcf \\\n",
    "    > workflow/SV_benchmark/GRCh37/HG002v11-align2-GRCh37_noambig.dip.vcf.gz\n",
    "\n",
    "tabix workflow/SV_benchmark/GRCh37/HG002v11-align2-GRCh37_noambig.dip.vcf.gz"
   ]
  },
  {
   "cell_type": "code",
   "execution_count": null,
   "metadata": {},
   "outputs": [],
   "source": [
    "## split multiallelic to biallelic\n",
    "bcftools norm -m- \\\n",
    "    -Oz workflow/SV_benchmark/GRCh37/HG002v11-align2-GRCh37_noambig.dip.vcf.gz \\\n",
    "    -o workflow/SV_benchmark/GRCh37/HG002v11-align2-GRCh37_noambig_norm_m.vcf.gz\n",
    "\n",
    "## left align and normalize indels. \n",
    "bcftools norm \\\n",
    "    -f resources/hs37d5.fa \\\n",
    "    -Oz -o workflow/SV_benchmark/GRCh37/HG002v11-align2-GRCh37_noambig_norm_mf.vcf.gz \\\n",
    "    workflow/SV_benchmark/GRCh37/HG002v11-align2-GRCh37_noambig_norm_m.vcf.gz\n",
    "\n",
    "## remove duplicate records\n",
    "bcftools norm -d none \\\n",
    "    -Oz workflow/SV_benchmark/GRCh37/HG002v11-align2-GRCh37_noambig_norm_mf.vcf.gz \\\n",
    "    -o workflow/SV_benchmark/GRCh37/HG002v11-align2-GRCh37_noambig_norm_mfd.vcf.gz"
   ]
  },
  {
   "cell_type": "code",
   "execution_count": null,
   "metadata": {},
   "outputs": [],
   "source": [
    "## remove MHC region\n",
    "bedtools subtract \\\n",
    "    -header \\\n",
    "    -a workflow/SV_benchmark/GRCh37/HG002v11-align2-GRCh37_noambig_norm_mfd.vcf.gz \\\n",
    "    -b resources/giab_stratifications/GRCh37_MHC.bed.gz \\\n",
    "    | bgzip -c \\\n",
    "    > workflow/SV_benchmark/GRCh37/HG002v11-align2-GRCh37_noambig_norm_mfd_noMHC.vcf.gz"
   ]
  },
  {
   "cell_type": "code",
   "execution_count": null,
   "metadata": {},
   "outputs": [],
   "source": [
    "## intersect w/ benchmark bed and subset to >39bp in REF or ALT fields. \n",
    "#intersect w/ MRG target regions and subset >39 bp\n",
    "\n",
    "bedtools intersect -header \\\n",
    "    -a workflow/SV_benchmark/GRCh37/HG002v11-align2-GRCh37_noambig_norm_mfd_noMHC.vcf.gz \\\n",
    "    -b workflow/SV_benchmark/GRCh37/HG002_GRCh37_MRG_draft_SV_benchmark.bed \\\n",
    "    | awk '$1 ~ /^#/ || length($4)>39 || length($5)>39' \\\n",
    "    | bgzip -c \\\n",
    "    > workflow/SV_benchmark/GRCh37/HG002v11-align2-GRCh37_noambig_norm_mfd_noMHC_intersectBenchBED_gt39bp.vcf.gz\n",
    "\n",
    "## index vcf, required by truvari\n",
    "tabix -p vcf workflow/SV_benchmark/GRCh37/HG002v11-align2-GRCh37_noambig_norm_mfd_noMHC_intersectBenchBED_gt39bp.vcf.gz"
   ]
  },
  {
   "cell_type": "code",
   "execution_count": null,
   "metadata": {},
   "outputs": [],
   "source": [
    "## Find benchmark variants between 35 and 49 base pairs in size and exclude overlapping tandem repeats plus slop 50bp on either side. Remove these from the benchmark regions bed so that it includes only SVs that are greater than 49 base pairs\n",
    "gunzip workflow/SV_benchmark/GRCh37/HG002v11-align2-GRCh37_noambig_norm_mfd_noMHC_intersectBenchBED_gt39bp.vcf\n",
    "python scripts/SVs_between_35_50bp.py \\\n",
    "    --input workflow/SV_benchmark/GRCh37/HG002v11-align2-GRCh37_noambig_norm_mfd_noMHC_intersectBenchBED_gt39bp.vcf \\\n",
    "    --output workflow/SV_benchmark/GRCh37/HG002_GRCh37_difficult_medical_gene_SV_benchmark_v0.01.02_SVs_gt34_and_lt_50bp.vcF"
   ]
  },
  {
   "cell_type": "code",
   "execution_count": null,
   "metadata": {},
   "outputs": [],
   "source": [
    "# vcf2bed from bedops\n",
    "vcf2bed < workflow/SV_benchmark/GRCh37/HG002_GRCh37_difficult_medical_gene_SV_benchmark_v0.01.02_SVs_gt34_and_lt_50bp.vcf \\\n",
    "    > workflow/SV_benchmark/GRCh37/HG002_GRCh37_difficult_medical_gene_SV_benchmark_v0.01.02_SVs_gt34_and_lt_50bp.bed"
   ]
  },
  {
   "cell_type": "code",
   "execution_count": null,
   "metadata": {},
   "outputs": [],
   "source": [
    "intersectBed -wa \\\n",
    "    -a resources/giab_stratifications/GRCh37_AllTandemRepeatsandHomopolymers_slop5.bed.gz \\\n",
    "    -b workflow/SV_benchmark/GRCh37/HG002_GRCh37_difficult_medical_gene_SV_benchmark_v0.01.02_SVs_gt34_and_lt_50bp.bed \\\n",
    "    | multiIntersectBed \\\n",
    "        -i stdin workflow/SV_benchmark/GRCh37/HG002_GRCh37_difficult_medical_gene_SV_benchmark_v0.01.02_SVs_gt34_and_lt_50bp.bed \\\n",
    "    |  awk '{FS=OFS=\"\\t\"} {print $1,$2-50,$3+50}' \\\n",
    "    > workflow/SV_benchmark/GRCh37/HG002_GRCh37_difficult_medical_gene_SV_benchmark_v0.01.02_gt34_and_lt_50bp_repeatexpanded_slop50.bed"
   ]
  },
  {
   "cell_type": "code",
   "execution_count": null,
   "metadata": {},
   "outputs": [],
   "source": [
    "bedtools subtract \\\n",
    "    -a workflow/SV_benchmark/GRCh37/HG002_GRCh37_MRG_draft_SV_benchmark.bed \\\n",
    "    -b workflow/SV_benchmark/GRCh37/HG002_GRCh37_difficult_medical_gene_SV_benchmark_v0.01.02_gt34_and_lt_50bp_repeatexpanded_slop50.bed \\\n",
    "    > workflow/SV_benchmark/GRCh37/HG002_GRCh37_difficult_medical_gene_SV_benchmark_v0.01.bed"
   ]
  },
  {
   "cell_type": "markdown",
   "metadata": {},
   "source": [
    "## Prepare release benchmark files\n",
    "\n",
    "Steps for creating excluding errors found in curation of the MRG benchmark, in order to create v1.0 bed files for small variants and SVs  \n",
    "\n",
    "Updated 4/27/21 to exclude 50bp on either side of errors and unsure variants found in curation, because sometimes a deletion and overlapping SNVs outside a repeat weren't excluded from benchmark stats. Also, remove \".;\" at beginning of INFO field introduced by svanalyzer svwiden. Produces v1.00.01 small variant and structural variant MRG benchmarks\n",
    "\n",
    "__used NCBI remap to generate__ GRCh38_curation_medicalgene_SV_errorsorunsure_repeatexpanded.bed\n"
   ]
  },
  {
   "cell_type": "code",
   "execution_count": null,
   "metadata": {},
   "outputs": [],
   "source": [
    "##errors to exclude found in curation of SVs\n",
    "#only found 2 errors so manually created bed GRCh37_curation_medicalgene_SV_errorsorunsure.bed\n",
    "#expand bed coordinates to completely cover any overlapping homopolymers and tandem repeats\n",
    "mkdir -p workflow/release_benchmark_generation\n",
    "intersectBed -wa \\\n",
    "    -a resources/giab_stratifications/GRCh37_AllTandemRepeatsandHomopolymers_slop5.bed.gz \\\n",
    "    -b data/manually_created_files/GRCh37_curation_medicalgene_SV_errorsorunsure.bed \\\n",
    "    | multiIntersectBed -i stdin data/manually_created_files/GRCh37_curation_medicalgene_SV_errorsorunsure.bed \\\n",
    "    | mergeBed -i stdin \\\n",
    "    > workflow/release_benchmark_generation/GRCh37_curation_medicalgene_SV_errorsorunsure_repeatexpanded.bed"
   ]
  },
  {
   "cell_type": "code",
   "execution_count": null,
   "metadata": {},
   "outputs": [],
   "source": [
    "#create bed with sites curated as unsure or incorrect in the benchmark in GRCh37 coordinates\n",
    "cut -f3,6,8,12,20 \\\n",
    "    data/manually_created_files/combined\\ curation\\ responses\\ from\\ benchmarking\\ with\\ sm\\ variant\\ v0.02.03\\ -\\ GRCh37andGRCh38.tsv \\\n",
    "    | grep 'sure\\|o' \\\n",
    "    | grep -v ^ref \\\n",
    "    | awk '{FS=OFS=\"\\t\"} {print $2, $3-50, $3+length($4)+50}' \\\n",
    "    | sort -k1,1n -k2,2n -k3,3n \\\n",
    "    | mergeBed -i stdin -d 100 \\\n",
    "    > workflow/release_benchmark_generation/GRCh37_curation_medicalgene_smallvar_errorsorunsure.bed\n",
    "\n",
    "intersectBed -wa \\\n",
    "    -a resources/giab_stratifications/GRCh37_AllTandemRepeatsandHomopolymers_slop5.bed.gz \\\n",
    "    -b workflow/release_benchmark_generation/GRCh37_curation_medicalgene_smallvar_errorsorunsure.bed \\\n",
    "    | multiIntersectBed \\\n",
    "        -i stdin workflow/release_benchmark_generation/GRCh37_curation_medicalgene_smallvar_errorsorunsure.bed \\\n",
    "    | mergeBed -i stdin \\\n",
    "    > workflow/release_benchmark_generation/GRCh37_curation_medicalgene_smallvar_errorsorunsure_repeatexpanded.bed"
   ]
  },
  {
   "cell_type": "code",
   "execution_count": null,
   "metadata": {},
   "outputs": [],
   "source": [
    "cd data/manually_created_files/\n",
    "##for manuscript, identify number of errors/unsure identified in curation and the number of these that would have been excluded by curating common FPs/FNs first\n",
    "#create bed with sites curated as unsure or incorrect in the benchmark in GRCh37 coordinates\n",
    "grep ^Common combined\\ curation\\ responses\\ from\\ benchmarking\\ with\\ sm\\ variant\\ v0.02.03\\ -\\ GRCh37andGRCh38.tsv \\\n",
    "    | cut -f3,6,8,12,20 \\\n",
    "    | grep 'sure\\|o' \\\n",
    "    | grep -v ^ref \\\n",
    "    | awk '{FS=OFS=\"\\t\"} {print $2, $3-50, $3+length($4)+50}' \\\n",
    "    | sort -k1,1n -k2,2n -k3,3n \\\n",
    "    | mergeBed -i stdin -d 100 \\\n",
    "    > ../../workflow/release_benchmark_generation/GRCh37_curation_medicalgene_smallvar_errorsorunsure_Commononly.bed\n",
    "\n",
    "grep -v ^Common combined\\ curation\\ responses\\ from\\ benchmarking\\ with\\ sm\\ variant\\ v0.02.03\\ -\\ GRCh37andGRCh38.tsv \\\n",
    "    | cut -f3,6,8,12,20 \\\n",
    "    | grep 'sure\\|o' \\\n",
    "    | grep -v ^ref \\\n",
    "    | grep ^GRCh37 \\\n",
    "    | awk '{FS=OFS=\"\\t\"} {print $2, $3-50, $3+length($4)+50}' \\\n",
    "    | sort -k1,1n -k2,2n -k3,3n  \\\n",
    "    > ../../workflow/release_benchmark_generation/GRCh37_curation_medicalgene_smallvar_errorsorunsure_evaluationonly.bed\n",
    "\n",
    "cd ../.."
   ]
  },
  {
   "cell_type": "code",
   "execution_count": null,
   "metadata": {},
   "outputs": [],
   "source": [
    "## Sanity check - expected value 50\n",
    "wc -l workflow/release_benchmark_generation/GRCh37_curation_medicalgene_smallvar_errorsorunsure_evaluationonly.bed"
   ]
  },
  {
   "cell_type": "code",
   "execution_count": null,
   "metadata": {},
   "outputs": [],
   "source": [
    "#expand bed coordinates to completely cover any overlapping homopolymers and tandem repeats\n",
    "## Sanity Check - expected value 6\n",
    "intersectBed -wa \\\n",
    "    -a resources/giab_stratifications/GRCh37_AllTandemRepeatsandHomopolymers_slop5.bed.gz \\\n",
    "    -b workflow/release_benchmark_generation/GRCh37_curation_medicalgene_smallvar_errorsorunsure_Commononly.bed \\\n",
    "    | multiIntersectBed \\\n",
    "        -i stdin workflow/release_benchmark_generation/GRCh37_curation_medicalgene_smallvar_errorsorunsure_Commononly.bed \\\n",
    "    | mergeBed -i stdin \\\n",
    "    | intersectBed -v \\\n",
    "        -a workflow/release_benchmark_generation/GRCh37_curation_medicalgene_smallvar_errorsorunsure_evaluationonly.bed \\\n",
    "        -b stdin \\\n",
    "    | wc -l"
   ]
  },
  {
   "cell_type": "markdown",
   "metadata": {},
   "source": [
    "exclude errors/unsure sites found in SV curation, small variant curation, small variant complex TR curation, and FPs from complex TR comparison\n"
   ]
  },
  {
   "cell_type": "code",
   "execution_count": null,
   "metadata": {},
   "outputs": [],
   "source": [
    "subtractBed \\\n",
    "        -a data/manually_created_files/cmrg_draft_benchmarks/HG002_GRCh37_difficult_medical_gene_smallvar_benchmark_v0.02.03.bed \\\n",
    "        -b workflow/release_benchmark_generation/GRCh37_curation_medicalgene_SV_errorsorunsure_repeatexpanded.bed \\\n",
    "    | subtractBed \\\n",
    "        -a stdin \\\n",
    "        -b workflow/release_benchmark_generation/GRCh37_curation_medicalgene_smallvar_errorsorunsure_repeatexpanded.bed \\\n",
    "    | subtractBed \\\n",
    "        -a stdin \\\n",
    "        -b data/manually_created_files/GRCh37_curation_medicalgene_smallvar_complexrepeat_errorsorunsure_repeatexpanded.bed \\\n",
    "    | subtractBed \\\n",
    "        -a stdin \\\n",
    "        -b data/manually_created_files/HiCanu_2.1_HG002_GRCh37_difficult_medical_gene_smallvar_benchmark_v0.02.03_intersected_FPs_repeatexpanded_slop50.bed \\\n",
    "        > workflow/release_benchmark_generation/HG002_GRCh37_difficult_medical_gene_smallvar_benchmark_v1.00.01.bed"
   ]
  },
  {
   "cell_type": "markdown",
   "metadata": {},
   "source": [
    "__Sanity Checks__ Make sure the bed size doesn't decrease more than expected"
   ]
  },
  {
   "cell_type": "code",
   "execution_count": null,
   "metadata": {},
   "outputs": [],
   "source": [
    "## Sanity Check - expected value 11712171\n",
    "awk '{sum+=$3-$2} END {print sum}' \\\n",
    "    data/manually_created_files/cmrg_draft_benchmarks/HG002_GRCh37_difficult_medical_gene_smallvar_benchmark_v0.02.03.bed "
   ]
  },
  {
   "cell_type": "code",
   "execution_count": null,
   "metadata": {},
   "outputs": [],
   "source": [
    "## Sanity Check - expected value 11679803\n",
    "awk '{sum+=$3-$2} END {print sum}' \\\n",
    "    workflow/release_benchmark_generation/HG002_GRCh37_difficult_medical_gene_smallvar_benchmark_v1.00.01.bed "
   ]
  },
  {
   "cell_type": "markdown",
   "metadata": {},
   "source": [
    "Make sure the number of variants in the bed don't decrease more than expected"
   ]
  },
  {
   "cell_type": "code",
   "execution_count": null,
   "metadata": {},
   "outputs": [],
   "source": [
    "## Sanity check - expected number of lines 21907\n",
    "intersectBed -a data/manually_created_files/cmrg_draft_benchmarks/HG002_GRCh37_difficult_medical_gene_smallvar_benchmark_v0.02.03.vcf.gz \\\n",
    "    -b data/manually_created_files/cmrg_draft_benchmarks/HG002_GRCh37_difficult_medical_gene_smallvar_benchmark_v0.02.03.bed \\\n",
    "    | wc -l"
   ]
  },
  {
   "cell_type": "code",
   "execution_count": null,
   "metadata": {},
   "outputs": [],
   "source": [
    "## Sanity check - expected number of lines 21591\n",
    "intersectBed -a data/manually_created_files/cmrg_draft_benchmarks/HG002_GRCh37_difficult_medical_gene_smallvar_benchmark_v0.02.03.vcf.gz \\\n",
    "    -b workflow/release_benchmark_generation/HG002_GRCh37_difficult_medical_gene_smallvar_benchmark_v1.00.01.bed | wc -l\n"
   ]
  },
  {
   "cell_type": "markdown",
   "metadata": {},
   "source": [
    "Using v0.02.03 vcf as v1.00.01 vcf"
   ]
  },
  {
   "cell_type": "code",
   "execution_count": null,
   "metadata": {},
   "outputs": [],
   "source": [
    "cp data/manually_created_files/cmrg_draft_benchmarks/HG002_GRCh37_difficult_medical_gene_smallvar_benchmark_v0.02.03.vcf.gz \\\n",
    "    workflow/release_benchmark_generation/HG002_GRCh37_difficult_medical_gene_smallvar_benchmark_v1.00.01.vcf.gz \n",
    "cp data/manually_created_files/cmrg_draft_benchmarks/HG002_GRCh37_difficult_medical_gene_smallvar_benchmark_v0.02.03.vcf.gz.tbi \\\n",
    "    workflow/release_benchmark_generation/HG002_GRCh37_difficult_medical_gene_smallvar_benchmark_v1.00.01.vcf.gz.tbi"
   ]
  },
  {
   "cell_type": "markdown",
   "metadata": {},
   "source": [
    "Excluding errors/unsure sites found in SV curation"
   ]
  },
  {
   "cell_type": "code",
   "execution_count": null,
   "metadata": {},
   "outputs": [],
   "source": [
    "subtractBed \\\n",
    "    -a data/manually_created_files/cmrg_draft_benchmarks/HG002_GRCh37_difficult_medical_gene_SV_benchmark_v0.01.bed \\\n",
    "    -b workflow/release_benchmark_generation/GRCh37_curation_medicalgene_SV_errorsorunsure_repeatexpanded.bed \\\n",
    "    > workflow/release_benchmark_generation/HG002_GRCh37_difficult_medical_gene_SV_benchmark_v0.02.00.bed"
   ]
  },
  {
   "cell_type": "markdown",
   "metadata": {},
   "source": [
    "__Sanity Check__ Make sure the bed size doesn't decrease more than expected\n"
   ]
  },
  {
   "cell_type": "code",
   "execution_count": null,
   "metadata": {},
   "outputs": [],
   "source": [
    "## Sanity Check - expected value 11966919\n",
    "awk '{sum+=$3-$2} END {print sum}' \\\n",
    "    data/manually_created_files/cmrg_draft_benchmarks/HG002_GRCh37_difficult_medical_gene_SV_benchmark_v0.01.bed "
   ]
  },
  {
   "cell_type": "code",
   "execution_count": null,
   "metadata": {},
   "outputs": [],
   "source": [
    "## Sanity Check - expected value 11966249\n",
    "awk '{sum+=$3-$2} END {print sum}' \\\n",
    "    workflow/release_benchmark_generation/HG002_GRCh37_difficult_medical_gene_SV_benchmark_v0.02.00.bed "
   ]
  },
  {
   "cell_type": "markdown",
   "metadata": {},
   "source": [
    "__Sanity Check__ Make sure the number of variants in the bed don't decrease more than expected"
   ]
  },
  {
   "cell_type": "code",
   "execution_count": null,
   "metadata": {},
   "outputs": [],
   "source": [
    "## Sanity Check - expected value 205\n",
    "intersectBed \\\n",
    "    -a data/manually_created_files/cmrg_draft_benchmarks/HG002_GRCh37_difficult_medical_gene_SV_benchmark_v0.01.vcf.gz \\\n",
    "    -b data/manually_created_files/cmrg_draft_benchmarks/HG002_GRCh37_difficult_medical_gene_SV_benchmark_v0.01.bed \\\n",
    "    | wc -l"
   ]
  },
  {
   "cell_type": "code",
   "execution_count": null,
   "metadata": {},
   "outputs": [],
   "source": [
    "## Sanity check - expected value 204\n",
    "intersectBed \\\n",
    "    -a data/manually_created_files/cmrg_draft_benchmarks/HG002_GRCh37_difficult_medical_gene_SV_benchmark_v0.01.vcf.gz \\\n",
    "    -b workflow/release_benchmark_generation/HG002_GRCh37_difficult_medical_gene_SV_benchmark_v0.02.00.bed \\\n",
    "    | wc -l\n"
   ]
  },
  {
   "cell_type": "markdown",
   "metadata": {},
   "source": [
    "Using v0.01 variant calls as v0.02 variant calls"
   ]
  },
  {
   "cell_type": "code",
   "execution_count": null,
   "metadata": {},
   "outputs": [],
   "source": [
    "cp data/manually_created_files/cmrg_draft_benchmarks/HG002_GRCh37_difficult_medical_gene_SV_benchmark_v0.01.vcf.gz \\\n",
    "    workflow/release_benchmark_generation/HG002_GRCh37_difficult_medical_gene_SV_benchmark_v0.02.00.vcf.gz \n",
    "cp data/manually_created_files/cmrg_draft_benchmarks/HG002_GRCh37_difficult_medical_gene_SV_benchmark_v0.01.vcf.gz.tbi \\\n",
    "    workflow/release_benchmark_generation/HG002_GRCh37_difficult_medical_gene_SV_benchmark_v0.02.00.vcf.gz.tbi "
   ]
  },
  {
   "cell_type": "code",
   "execution_count": null,
   "metadata": {},
   "outputs": [],
   "source": [
    "#remove \".;\" at beginning of INFO field introduced by svanalyzer svwiden\n",
    "gunzip -c workflow/release_benchmark_generation/HG002_GRCh37_difficult_medical_gene_SV_benchmark_v0.02.00.vcf.gz \\\n",
    "    | sed 's/\\.;REPTYPE/REPTYPE/' \\\n",
    "    | bgzip -c \\\n",
    "    > workflow/release_benchmark_generation/HG002_GRCh37_difficult_medical_gene_SV_benchmark_v1.00.01.vcf.gz\n",
    "\n",
    "tabix workflow/release_benchmark_generation/HG002_GRCh37_difficult_medical_gene_SV_benchmark_v1.00.01.vcf.gz"
   ]
  },
  {
   "cell_type": "code",
   "execution_count": null,
   "metadata": {},
   "outputs": [],
   "source": [
    "cp workflow/release_benchmark_generation/HG002_GRCh37_difficult_medical_gene_SV_benchmark_v0.02.00.bed \\\n",
    "    workflow/release_benchmark_generation/HG002_GRCh37_difficult_medical_gene_SV_benchmark_v1.00.01.bed "
   ]
  },
  {
   "cell_type": "markdown",
   "metadata": {},
   "source": [
    "### Software versions\n",
    "\n",
    "See `environment.yml` for dependencies. \n"
   ]
  }
 ],
 "metadata": {
  "kernelspec": {
   "display_name": "Bash",
   "language": "bash",
   "name": "bash"
  },
  "language_info": {
   "codemirror_mode": "shell",
   "file_extension": ".sh",
   "mimetype": "text/x-sh",
   "name": "bash"
  }
 },
 "nbformat": 4,
 "nbformat_minor": 2
}
