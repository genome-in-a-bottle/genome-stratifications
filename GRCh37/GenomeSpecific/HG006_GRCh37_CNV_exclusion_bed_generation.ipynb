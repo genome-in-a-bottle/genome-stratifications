{
 "cells": [
  {
   "cell_type": "code",
   "execution_count": null,
   "metadata": {},
   "outputs": [],
   "source": [
    "### Intersection of mrcanavar, PacBio CCS, and ONT high coverage regions to identify potential CNV\n",
    "\n",
    "Generating excessive coverage bed files using calculations from mosdepth for both PacBio CCS 15kb_20kb merged and ONT bam files.\n",
    "\n",
    "HG006vGRCh37_wm_ONT.sort.bam is from T2T Finishing Workshop globus /team-variants/read_aligns/hg005_grch37/HG006vGRCh37_wm_ONT.sort.bam\n",
    "\n",
    "HG005.hs37d5.haplotagged_w_10x.bam is from https://drive.google.com/file/d/1htmiOyGU2sgNLQaYg98833fGEiwQSStv/view?usp=sharing\n",
    "\n",
    "Chinese-trio-HG006.hs37d5.100x.bam.bilkentuniv.052119.dups.bed is from https://ftp-trace.ncbi.nlm.nih.gov/ReferenceSamples/giab/data/ChineseTrio/analysis/BilkentUni_IlluminaHiSeq_TARDIS_mrCaNaVar_05212019/Chinese-trio-HG006.hs37d5.100x.bam.bilkentuniv.052119.dups.bed.gz\n",
    "\n",
    "HG006.hs37d5.pbsv.vcf.gz is from https://ftp-trace.ncbi.nlm.nih.gov/ReferenceSamples/giab/data/ChineseTrio/analysis/PacBio_deepvariant_gatk_pbsv_08282020/HG006/HG006.hs37d5.pbsv.vcf.gz\n",
    "\n",
    "convert_mosdepth_to_excessive_coverage.py is at the end of this notebook"
   ]
  },
  {
   "cell_type": "code",
   "execution_count": null,
   "metadata": {},
   "outputs": [],
   "source": [
    "### mosdepth commands"
   ]
  },
  {
   "cell_type": "code",
   "execution_count": null,
   "metadata": {},
   "outputs": [],
   "source": [
    "mosdepth -b 1000 --mapq 20 --no-per-base HG006_GRCh37_PacBio_HiFi_1000_window_size_MAPQ20 HG006.hs37d5.haplotagged.bam\n",
    "\n",
    "samtools view -1 -F 0x100 HG006vGRCh37_wm_ONT.sort.bam -h > HG006vGRCh37_wm_ONT.sort_filtered.bam\n",
    "\n",
    "mosdepth -b 1000 -x --no-per-base HG006_GRCh37_ONT_filtered_window_size HG006vGRCh37_wm_ONT.sort_filtered.bam"
   ]
  },
  {
   "cell_type": "code",
   "execution_count": null,
   "metadata": {},
   "outputs": [],
   "source": [
    "### Find coverage levels of excessive coverage on CCS and ONT data in R"
   ]
  },
  {
   "cell_type": "code",
   "execution_count": null,
   "metadata": {},
   "outputs": [],
   "source": [
    "chr_1_22 <- c(\"1\",\"2\",\"3\",\"4\",\"5\",\"6\",\"7\",\"8\",\"9\",\"10\",\"11\",\"12\",\"13\",\"14\",\"15\",\"16\",\"17\",\"18\",\"19\",\"20\",\"21\",\"22\")\n",
    "mosdepth_PB_HiFi_1000_window_size = read.delim(\"HG006_GRCh37_PacBio_HiFi_1000_window_size_MAPQ20.regions.bed\", col.names = c(\"CHR\",\"START\",\"END\",\"DEPTH\"))\n",
    "mosdepth_PB_HiFi_1000_window_size_chr_1_22 <- mosdepth_PB_HiFi_1000_window_size[which(mosdepth_PB_HiFi_1000_window_size[,\"CHR\"] %in% chr_1_22),] \n",
    "quantile(mosdepth_PB_HiFi_1000_window_size_chr_1_22[,\"DEPTH\"])\n",
    "\n",
    "\n",
    "IQR(mosdepth_PB_HiFi_1000_window_size_chr_1_22[,\"DEPTH\"])\n",
    "#: 18.08\n",
    "(quantile(mosdepth_PB_HiFi_1000_window_size_chr_1_22[,\"DEPTH\"])[3]/2)*2.5\n",
    "#: 86.525 \n",
    "\n",
    "mosdepth_ONT_1000_window_size = read.delim(\"HG006_GRCh37_ONT_filtered_window_size.regions.bed\", col.names = c(\"CHR\",\"START\",\"END\",\"DEPTH\"))\n",
    "mosdepth_ONT_1000_window_size_chr_1_22 <- mosdepth_ONT_1000_window_size[which(mosdepth_ONT_1000_window_size[,\"CHR\"] %in% chr_1_22),]\n",
    "\n",
    "quantile(mosdepth_ONT_1000_window_size_chr_1_22[,\"DEPTH\"])\n",
    "\n",
    "IQR(mosdepth_ONT_1000_window_size_chr_1_22[,\"DEPTH\"])\n",
    "#: 11.59\n",
    "(quantile(mosdepth_ONT_1000_window_size_chr_1_22[,\"DEPTH\"])[3]/2)*2.5\n",
    "#: 63.8"
   ]
  },
  {
   "cell_type": "code",
   "execution_count": null,
   "metadata": {},
   "outputs": [],
   "source": [
    "### GRCh37_HG006_GIABv4.2.1_CNV_mrcanavarIllumina_CCShighcov_ONThighcov_intersection.bed\n",
    "\n",
    "### What this does: find potential CNVs in HG6 from intersecting coverage files from PacBio HiFi, ONT, and Illumina data. This generates PacBio HiFi excessive coverage bed, intersect with mrCaNaVar dups bed, generates ONT excessive coverage bed, intersects to these all to generate exclusion bed"
   ]
  },
  {
   "cell_type": "code",
   "execution_count": null,
   "metadata": {},
   "outputs": [],
   "source": [
    "python convert_mosdepth_to_excessive_coverage.py --input HG006_GRCh37_PacBio_HiFi_1000_window_size_MAPQ20.regions.bed --output HG006_GRCh37_PacBio_HiFi_1000_window_size_excessive_coverage_cnv_threshold.bed --threshold 86.525  \n",
    "\n",
    "bedtools intersect -a Chinese-trio-HG006.hs37d5.100x.bam.bilkentuniv.052119.dups.bed -b HG006_GRCh37_PacBio_HiFi_1000_window_size_excessive_coverage_cnv_threshold.bed > mrcanavar_intersect_PacBio_HiFi_cnv_threshold.bed\n",
    "\n",
    "python convert_mosdepth_to_excessive_coverage.py --input HG006_GRCh37_ONT_filtered_window_size.regions.bed --output HG006_GRCh37_ONT_filtered_1000_window_size_excessive_coverage_cnv_threshold.bed --threshold 63.8\n",
    "\n",
    "bedtools intersect -a mrcanavar_intersect_PacBio_HiFi_cnv_threshold.bed -b HG006_GRCh37_ONT_filtered_1000_window_size_excessive_coverage_cnv_threshold.bed > mrcanavar_intersect_PacBio_HiFi_cnv_threshold_intersect_ONT_cnv_threshold.bed\n",
    "\n",
    "cp mrcanavar_intersect_PacBio_HiFi_cnv_threshold_intersect_ONT_cnv_threshold.bed GRCh37_HG006_GIABv4.2.1_CNV_mrcanavarIllumina_CCShighcov_ONThighcov_intersection.bed"
   ]
  },
  {
   "cell_type": "code",
   "execution_count": null,
   "metadata": {},
   "outputs": [],
   "source": [
    "### HG006_GRCh37_PacBio_HiFi_1000_window_size_ONT_1000_combined_elliptical_outlier_threshold.bed\n",
    "\n",
    "### What this does: Find another set of potential CNVs from computing a coverage threshold using an elliciptal outlier for PacBio HiFi and ONT CNV file steps in R"
   ]
  },
  {
   "cell_type": "code",
   "execution_count": null,
   "metadata": {},
   "outputs": [],
   "source": [
    "mosdepth_PacBio_HiFi_1000_window_size = read.delim(\"HG006_GRCh37_PacBio_HiFi_1000_window_size_MAPQ20.regions.bed\", col.names = c(\"CHR\",\"START\",\"END\",\"DEPTH\"))\n",
    "\n",
    "mosdepth_ONT_1000_window_size = read.delim(\"HG006_GRCh37_ONT_filtered_window_size.regions.bed\", col.names = c(\"CHR\",\"START\",\"END\",\"DEPTH\"))\n",
    "\n",
    "chr_1_22 <- c(\"1\",\"2\",\"3\",\"4\",\"5\",\"6\",\"7\",\"8\",\"9\",\"10\",\"11\",\"12\",\"13\",\"14\",\"15\",\"16\",\"17\",\"18\",\"19\",\"20\",\"21\",\"22\")\n",
    "\n",
    "mosdepth_PacBio_HiFi_1000_window_size_chr_1_22 <- mosdepth_PacBio_HiFi_1000_window_size[which(mosdepth_PacBio_HiFi_1000_window_size[,\"CHR\"] %in% chr_1_22),]\n",
    "\n",
    "mosdepth_ONT_1000_window_size_chr_1_22 <- mosdepth_ONT_1000_window_size[which(mosdepth_ONT_1000_window_size[,\"CHR\"] %in% chr_1_22),]\n",
    "\n",
    "df_mosdepth_PacBio_HiFi_1000_window_size <- data.frame(mosdepth_PacBio_HiFi_1000_window_size_chr_1_22) \n",
    "\n",
    "df_mosdepth_ONT_1000_window_size <- data.frame(mosdepth_ONT_1000_window_size_chr_1_22)\n",
    "\n",
    "df_mosdepth_PacBio_HiFi_1000_window_size_ONT_1000_combined <- df_mosdepth_PacBio_HiFi_1000_window_size\n",
    "\n",
    "df_mosdepth_PacBio_HiFi_1000_window_size_ONT_1000_combined[,5] <- mosdepth_ONT_1000_window_size_chr_1_22[,4]\n",
    "\n",
    "colnames(df_mosdepth_PacBio_HiFi_1000_window_size_ONT_1000_combined) <- c(\"CHR\", \"START\", \"END\", \"CCS_DEPTH\", \"ONT_DEPTH\")\n",
    "\n",
    "df_mosdepth_PacBio_HiFi_1000_window_size_ONT_1000_combined_elliptical_values <- df_mosdepth_PacBio_HiFi_1000_window_size_ONT_1000_combined \n",
    "\n",
    "medianccsdepth = median(mosdepth_PacBio_HiFi_1000_window_size_chr_1_22[,\"DEPTH\"]) \n",
    "\n",
    "medianontdepth = median(mosdepth_ONT_1000_window_size_chr_1_22[,\"DEPTH\"]) \n",
    "\n",
    "df_mosdepth_PacBio_HiFi_1000_window_size_ONT_1000_combined_elliptical_values[,6] <- sqrt(((df_mosdepth_PacBio_HiFi_1000_window_size_ONT_1000_combined[,4]/medianccsdepth)^2 + (df_mosdepth_PacBio_HiFi_1000_window_size_ONT_1000_combined[,5]/medianontdepth)^2)/2) \n",
    "\n",
    "threshold_ellipctial_outlier = unname(quantile(df_mosdepth_PacBio_HiFi_1000_window_size_ONT_1000_combined_elliptical_values[,6])[4]+(1.5*IQR(df_mosdepth_PacBio_HiFi_1000_window_size_ONT_1000_combined_elliptical_values[,6])[1]))\n",
    "\n",
    "df_mosdepth_PacBio_HiFi_1000_window_size_ONT_1000_combined_outliers <- df_mosdepth_PacBio_HiFi_1000_window_size_ONT_1000_combined_elliptical_values[which(df_mosdepth_PacBio_HiFi_1000_window_size_ONT_1000_combined_elliptical_values[,6] > threshold_ellipctial_outlier),]\n",
    "\n",
    "write.csv(df_mosdepth_PacBio_HiFi_1000_window_size_ONT_1000_combined_outliers, file = \"HG006_GRCh37_PacBio_HiFi_1000_window_size_ONT_1000_combined_elliptical_outlier_threshold.bed\", row.names = FALSE)\n",
    "\n",
    "\n"
   ]
  },
  {
   "cell_type": "code",
   "execution_count": null,
   "metadata": {},
   "outputs": [],
   "source": [
    "### pbsv_HG006.GRCh37_gt49bp_slop50_repeatexpanded_slop25percent.bed\n",
    "### What this does: find SV calls from PacBio HiFi that will be excluded from HG6 in addition to the v0.6 GIAB SV calls"
   ]
  },
  {
   "cell_type": "code",
   "execution_count": null,
   "metadata": {},
   "outputs": [],
   "source": [
    "#Form bed to exclude SV regions from HG003 v4.2.1 benchmark\n",
    "\n",
    "zgrep -v ^# HG006.hs37d5.pbsv.vcf.gz | awk '{FS=OFS=\"\\t\"} {  if(length($4)>49 || length($5)>49) print $1,$2-50,$2+length($4)+50} ' > pbsv_HG006.GRCh37_gt49bp_slop50.bed\n",
    "\n",
    "cat  pbsv_HG006.GRCh37_gt49bp_slop50.bed | sed 's/^X/23/;s/^Y/24/'| grep -Ev '^M|^[0-9][0-9]_|^[0-9]_|^[0-9]\\||^[0-9][0-9]\\||^Un|^HS' | sort -k1,1n -k2,2n -k3,3n  | sed 's/^23/X/;s/^24/Y/' >  pbsv_HG006.GRCh37_gt49bp_slop50_sorted.bed\n",
    "\n",
    "# pbsv_HG006.GRCh37_gt49bp_slop50_repeatexpanded_slop25percent.bed\n",
    "intersectBed -wa -a GRCh37_AllTandemRepeatsandHomopolymers_slop5.bed.gz -b pbsv_HG006.GRCh37_gt49bp_slop50_sorted.bed | multiIntersectBed -i stdin pbsv_HG006.GRCh37_gt49bp_slop50_sorted.bed | mergeBed -i stdin -d 1000 | awk '{FS=OFS=\"\\t\"} { slop=int(0.25*($3-$2)); if(slop>5000) slop=5000; print $1, $2-slop, $3+slop}' | awk '{FS=OFS=\"\\t\"} { if($2<0) $2=0; print}' > GRCh37_HG006_GIABv4.2.1_SV_pbsv_slop25percent.bed"
   ]
  },
  {
   "cell_type": "code",
   "execution_count": null,
   "metadata": {},
   "outputs": [],
   "source": []
  },
  {
   "cell_type": "code",
   "execution_count": null,
   "metadata": {},
   "outputs": [],
   "source": [
    "#### convert_mosdepth_to_excessive_coverage.py script\n",
    "\n",
    "import argparse\n",
    "\n",
    "parser = argparse.ArgumentParser(description=\"Subset bed file to callable regions only\")\n",
    "parser.add_argument('--input_file', metavar=\"I\", type=str, nargs=\"+\", help=\"input bed file\")\n",
    "parser.add_argument('--output_file', metavar=\"O\", type=str, nargs=\"+\", help=\"output file\")\n",
    "parser.add_argument('--threshold', metavar=\"T\", type=str, nargs=\"+\", help=\"input threshold\")\n",
    "args = parser.parse_args()\n",
    "\n",
    "f = open(args.input_file[0], \"r\") \n",
    "f_lines = f.readlines()\n",
    "\n",
    "f_out = open(args.output_file[0], \"w+\")\n",
    "threshold = float(args.threshold[0])\n",
    "\n",
    "for line in f_lines:   \n",
    "    if \"DEPTH\" in line: \n",
    "        continue\n",
    "    line_split = line.split(\"\\t\")\n",
    "    depth_field = float(line_split[3])\n",
    "    if depth_field > threshold:\n",
    "        f_out.write(line)\n",
    "        f_out.flush()  \n",
    "\n",
    "f.close()\n",
    "f_out.close()"
   ]
  }
 ],
 "metadata": {
  "kernelspec": {
   "display_name": "Bash",
   "language": "bash",
   "name": "bash"
  },
  "language_info": {
   "codemirror_mode": "shell",
   "file_extension": ".sh",
   "mimetype": "text/x-sh",
   "name": "bash"
  }
 },
 "nbformat": 4,
 "nbformat_minor": 2
}
