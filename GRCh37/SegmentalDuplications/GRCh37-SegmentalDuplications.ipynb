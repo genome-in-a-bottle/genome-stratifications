{
 "cells": [
  {
   "cell_type": "markdown",
   "metadata": {},
   "source": [
    "# GRCh37 Segmental Duplications - (v3.1)\n",
    "started 6/27/22"
   ]
  },
  {
   "cell_type": "code",
   "execution_count": 1,
   "metadata": {},
   "outputs": [
    {
     "name": "stdout",
     "output_type": "stream",
     "text": [
      "/Users/jmcdani/Documents/GiaB/Benchmarking/Stratifications/v3.1_genome-stratifications/GRCh37-stratifications\n"
     ]
    }
   ],
   "source": [
    "pwd"
   ]
  },
  {
   "cell_type": "markdown",
   "metadata": {},
   "source": [
    "## Background\n",
    "Following validation with benchmarking of v3.1 startifications we found that PAR-X regions were annotated in  segdup and selfchain files.  To correct this we will take the v3.0 stratification file and subtract the PAR-X region file. "
   ]
  },
  {
   "cell_type": "markdown",
   "metadata": {},
   "source": [
    "## Updates specific to GRCh37\n",
    "PAR-X region is improperly annotated in GRCh37 segdups and selfchain.  The following stratifications will be updated, removing the PAR-X, within this ipynb.\n",
    "- GRCh37_chainSelf_gt10kb.bed.gz\n",
    "- GRCh37_notinchainSelf_gt10kb.bed.gz\n",
    "- GRCh37_chainSelf.bed.gz\n",
    "- GRCh37_notinchainSelf.bed.gz\n",
    "- GRCh37_segdups.bed.gz\n",
    "- GRCh37_notinsegdups.bed.gz\n",
    "- GRCh37_segdups_gt10kb.bed.gz\n",
    "- GRCh37_notinsegdups_gt10kb.bed.gz\n",
    "\n",
    "All other GRCh37 \"SegmentalDuplication\" stratifications, generated as part of v3.0 and carried over for v3.1, were generated in `GRCh37_new_chainSelf_and_Segdups.ipynb`\n",
    "- GRCh38_gt5segdups_gt10kb_gt99percidentity.bed.gz"
   ]
  },
  {
   "cell_type": "markdown",
   "metadata": {},
   "source": [
    "## required tools and versions"
   ]
  },
  {
   "cell_type": "code",
   "execution_count": 2,
   "metadata": {
    "scrolled": true
   },
   "outputs": [
    {
     "name": "stdout",
     "output_type": "stream",
     "text": [
      "# packages in environment at /Users/jmcdani/opt/anaconda3/envs/bedtools:\n",
      "#\n",
      "# Name                    Version                   Build  Channel\n",
      "appnope                   0.1.0            py27hb466136_0  \n",
      "backports                 1.1                pyhd3eb1b0_0  \n",
      "backports.shutil_get_terminal_size 1.0.0              pyhd3eb1b0_3  \n",
      "backports_abc             0.5                        py_1  \n",
      "bedtools                  2.30.0               haa7f73a_1    bioconda\n",
      "biopython                 1.74             py27h1de35cc_0  \n",
      "bleach                    3.1.0                    py27_0  \n",
      "bzip2                     1.0.8                h1de35cc_0  \n",
      "ca-certificates           2022.3.29            hecd8cb5_0  \n",
      "certifi                   2020.6.20          pyhd3eb1b0_3  \n",
      "configparser              4.0.2                    py27_0  \n",
      "dbus                      1.13.18              h18a8e69_0  \n",
      "decorator                 4.4.0                    py27_1  \n",
      "defusedxml                0.7.1              pyhd3eb1b0_0  \n",
      "entrypoints               0.3                      py27_0  \n",
      "enum34                    1.1.6                    py27_1  \n",
      "expat                     2.4.4                he9d5cce_0  \n",
      "functools32               3.2.3.2                  py27_1  \n",
      "futures                   3.3.0                    py27_0  \n",
      "gettext                   0.21.0               h7535e17_0  \n",
      "glib                      2.63.1               hd977a24_0  \n",
      "icu                       58.2                 h0a44026_3  \n",
      "ipykernel                 4.10.0                   py27_0  \n",
      "ipython                   4.2.1                    py27_1    conda-forge\n",
      "ipython_genutils          0.2.0              pyhd3eb1b0_1  \n",
      "ipywidgets                7.4.2                    py27_0  \n",
      "jinja2                    2.11.3             pyhd3eb1b0_0  \n",
      "jpeg                      9d                   h9ed2024_0  \n",
      "jsonschema                2.6.0            py27hd9b497e_0  \n",
      "jupyter                   1.0.0                    py27_7  \n",
      "jupyter_client            5.3.4                    py27_0  \n",
      "jupyter_console           5.1.0                    py27_0    conda-forge\n",
      "jupyter_core              4.6.1                    py27_0  \n",
      "libblas                   3.9.0           11_osx64_openblas    conda-forge\n",
      "libcblas                  3.9.0           11_osx64_openblas    conda-forge\n",
      "libcxx                    12.0.0               h2f01273_0  \n",
      "libffi                    3.2.1             h0a44026_1007  \n",
      "libgfortran               3.0.1                h93005f0_2  \n",
      "libiconv                  1.16                 h1de35cc_0  \n",
      "liblapack                 3.9.0           11_osx64_openblas    conda-forge\n",
      "libopenblas               0.3.17               h9a5756b_1  \n",
      "libpng                    1.6.37               ha441bb4_0  \n",
      "libsodium                 1.0.18               h1de35cc_0  \n",
      "libxml2                   2.9.12               hcdb78fc_0  \n",
      "llvm-openmp               12.0.0               h0dcd299_1  \n",
      "markupsafe                1.1.1            py27h1de35cc_0  \n",
      "mistune                   0.8.4            py27h1de35cc_0  \n",
      "nbconvert                 5.4.1                    py27_3  \n",
      "nbformat                  4.4.0                    py27_0  \n",
      "ncurses                   6.3                  hca72f7f_2  \n",
      "notebook                  5.5.0                    py27_0  \n",
      "numpy                     1.16.5           py27hde6bac1_0    conda-forge\n",
      "openssl                   1.1.1n               hca72f7f_0  \n",
      "pandoc                    2.12                 hecd8cb5_0  \n",
      "pandocfilters             1.5.0              pyhd3eb1b0_0  \n",
      "pathlib2                  2.3.5                    py27_0  \n",
      "pcre                      8.45                 h23ab428_0  \n",
      "pexpect                   4.8.0              pyhd3eb1b0_3  \n",
      "pickleshare               0.7.5                    py27_0  \n",
      "pip                       19.3.1                   py27_0  \n",
      "prompt-toolkit            3.0.20             pyhd3eb1b0_0  \n",
      "prompt_toolkit            3.0.20               hd3eb1b0_0  \n",
      "ptyprocess                0.7.0              pyhd3eb1b0_2  \n",
      "pygments                  2.5.2                      py_0  \n",
      "pyqt                      5.9.2            py27h655552a_2  \n",
      "python                    2.7.18               hc817775_0  \n",
      "python-dateutil           2.8.2              pyhd3eb1b0_0  \n",
      "python.app                2                        py27_9  \n",
      "pyzmq                     18.1.0           py27h0a44026_0  \n",
      "qt                        5.9.7                h468cd18_1  \n",
      "qtconsole                 4.4.3                    py27_0  \n",
      "readline                  8.1.2                hca72f7f_1  \n",
      "scandir                   1.10.0             pyh5d7bf9c_3  \n",
      "send2trash                1.8.0              pyhd3eb1b0_1  \n",
      "setuptools                44.0.0                   py27_0  \n",
      "simplegeneric             0.8.1                    py27_2  \n",
      "singledispatch            3.7.0           pyhd3eb1b0_1001  \n",
      "sip                       4.19.8           py27h0a44026_0  \n",
      "six                       1.16.0             pyhd3eb1b0_1  \n",
      "sqlite                    3.38.2               h707629a_0  \n",
      "terminado                 0.8.3                    py27_0  \n",
      "testpath                  0.4.4              pyhd3eb1b0_0  \n",
      "tk                        8.6.11               h7bc2e8c_0  \n",
      "tornado                   5.1.1            py27h1de35cc_0  \n",
      "traitlets                 4.3.3                    py27_0  \n",
      "wcwidth                   0.2.5              pyhd3eb1b0_0  \n",
      "webencodings              0.5.1                    py27_1  \n",
      "wheel                     0.37.1             pyhd3eb1b0_0  \n",
      "widgetsnbextension        3.4.2                    py27_0  \n",
      "xz                        5.2.5                h1de35cc_0  \n",
      "zeromq                    4.3.4                h23ab428_0  \n",
      "zlib                      1.2.11               h4dc903c_4  \n"
     ]
    }
   ],
   "source": [
    "# bedtools conda environment used by J.McDaniel\n",
    "conda list"
   ]
  },
  {
   "cell_type": "markdown",
   "metadata": {},
   "source": [
    "## Subtract PAR-X region from self-chain region stratifications\n",
    "PAR-X from Heng Li, that is used with [dipcall (hs37d5.PAR.bed)](https://github.com/lh3/dipcall/tree/master/data), will be subtracted from stratifications carried over from v3.0.  \n",
    "NOTE: `grep -v \"#\"` used to remove header from carry over v3.0 stratifications so it is not doubled in post-processing"
   ]
  },
  {
   "cell_type": "code",
   "execution_count": 6,
   "metadata": {},
   "outputs": [
    {
     "name": "stdout",
     "output_type": "stream",
     "text": [
      "Tue Jun 28 12:01:21 EDT 2022\n"
     ]
    }
   ],
   "source": [
    "# chainSelf\n",
    "date\n",
    "gzcat ../v3.0-carry-over-stratifications/GRCh37/SegmentalDuplications/GRCh37_chainSelf.bed.gz \\\n",
    "| grep -v '#' \\\n",
    "| subtractBed -a stdin -b ref-files/hs37d5.PAR.bed \\\n",
    "| sortBed -faidx ref-files/hs37d5.fa.gz.fai -i stdin \\\n",
    "| mergeBed -i stdin -d 100 \\\n",
    "| bgzip -c > SegmentalDuplications/GRCh37_chainSelf.bed.gz"
   ]
  },
  {
   "cell_type": "code",
   "execution_count": 2,
   "metadata": {},
   "outputs": [
    {
     "name": "stdout",
     "output_type": "stream",
     "text": [
      "Wed Jun 29 11:10:28 EDT 2022\n"
     ]
    }
   ],
   "source": [
    "# notinchainSelf\n",
    "date\n",
    "subtractBed -a ref-files/human.b37.genome.bed -b SegmentalDuplications/GRCh37_chainSelf.bed.gz \\\n",
    "| sortBed -faidx ref-files/hs37d5.fa.gz.fai -i stdin \\\n",
    "| mergeBed -i stdin -d 100 \\\n",
    "| bgzip -c > SegmentalDuplications/GRCh37_notinchainSelf.bed.gz"
   ]
  },
  {
   "cell_type": "code",
   "execution_count": 8,
   "metadata": {},
   "outputs": [
    {
     "name": "stdout",
     "output_type": "stream",
     "text": [
      "Tue Jun 28 12:01:25 EDT 2022\n"
     ]
    }
   ],
   "source": [
    "# chainSelf_gt10kb\n",
    "date\n",
    "gzcat ../v3.0-carry-over-stratifications/GRCh37/SegmentalDuplications/GRCh37_chainSelf_gt10kb.bed.gz \\\n",
    "| grep -v '#' \\\n",
    "| subtractBed -a stdin -b ref-files/hs37d5.PAR.bed \\\n",
    "| sortBed -faidx ref-files/hs37d5.fa.gz.fai -i stdin \\\n",
    "| mergeBed -i stdin -d 100 \\\n",
    "| bgzip -c > SegmentalDuplications/GRCh37_chainSelf_gt10kb.bed.gz"
   ]
  },
  {
   "cell_type": "code",
   "execution_count": 3,
   "metadata": {},
   "outputs": [
    {
     "name": "stdout",
     "output_type": "stream",
     "text": [
      "Wed Jun 29 11:11:36 EDT 2022\n"
     ]
    }
   ],
   "source": [
    "# notinchainSelf_gt10kb\n",
    "date\n",
    "subtractBed -a ref-files/human.b37.genome.bed -b SegmentalDuplications/GRCh37_chainSelf_gt10kb.bed.gz \\\n",
    "| sortBed -faidx ref-files/hs37d5.fa.gz.fai -i stdin \\\n",
    "| mergeBed -i stdin -d 100 \\\n",
    "| bgzip -c > SegmentalDuplications/GRCh37_notinchainSelf_gt10kb.bed.gz"
   ]
  },
  {
   "cell_type": "code",
   "execution_count": 10,
   "metadata": {},
   "outputs": [
    {
     "name": "stdout",
     "output_type": "stream",
     "text": [
      "Tue Jun 28 12:01:28 EDT 2022\n"
     ]
    }
   ],
   "source": [
    "# segdups\n",
    "date\n",
    "gzcat ../v3.0-carry-over-stratifications/GRCh37/SegmentalDuplications/GRCh37_segdups.bed.gz \\\n",
    "| grep -v '#' \\\n",
    "| subtractBed -a stdin -b ref-files/hs37d5.PAR.bed \\\n",
    "| sortBed -faidx ref-files/hs37d5.fa.gz.fai -i stdin \\\n",
    "| mergeBed -i stdin -d 100 \\\n",
    "| bgzip -c > SegmentalDuplications/GRCh37_segdups.bed.gz"
   ]
  },
  {
   "cell_type": "code",
   "execution_count": 4,
   "metadata": {},
   "outputs": [
    {
     "name": "stdout",
     "output_type": "stream",
     "text": [
      "Wed Jun 29 11:12:22 EDT 2022\n"
     ]
    }
   ],
   "source": [
    "# notinsegdups\n",
    "date\n",
    "subtractBed -a ref-files/human.b37.genome.bed -b SegmentalDuplications/GRCh37_segdups.bed.gz \\\n",
    "| sortBed -faidx ref-files/hs37d5.fa.gz.fai -i stdin \\\n",
    "| mergeBed -i stdin -d 100 \\\n",
    "| bgzip -c > SegmentalDuplications/GRCh37_notinsegdups.bed.gz"
   ]
  },
  {
   "cell_type": "code",
   "execution_count": 12,
   "metadata": {},
   "outputs": [
    {
     "name": "stdout",
     "output_type": "stream",
     "text": [
      "Tue Jun 28 12:01:33 EDT 2022\n"
     ]
    }
   ],
   "source": [
    "# segdups_gt10kb\n",
    "date\n",
    "gzcat ../v3.0-carry-over-stratifications/GRCh37/SegmentalDuplications/GRCh37_segdups_gt10kb.bed.gz \\\n",
    "| grep -v '#' \\\n",
    "| subtractBed -a stdin -b ref-files/hs37d5.PAR.bed \\\n",
    "| sortBed -faidx ref-files/hs37d5.fa.gz.fai -i stdin \\\n",
    "| mergeBed -i stdin -d 100 \\\n",
    "| bgzip -c > SegmentalDuplications/GRCh37_segdups_gt10kb.bed.gz"
   ]
  },
  {
   "cell_type": "code",
   "execution_count": 5,
   "metadata": {},
   "outputs": [
    {
     "name": "stdout",
     "output_type": "stream",
     "text": [
      "Wed Jun 29 11:13:09 EDT 2022\n"
     ]
    }
   ],
   "source": [
    "# notinsegdups_gt10kb\n",
    "date\n",
    "subtractBed -a ref-files/human.b37.genome.bed -b SegmentalDuplications/GRCh37_segdups_gt10kb.bed.gz \\\n",
    "| sortBed -faidx ref-files/hs37d5.fa.gz.fai -i stdin \\\n",
    "| mergeBed -i stdin -d 100 \\\n",
    "| bgzip -c > SegmentalDuplications/GRCh37_notinsegdups_gt10kb.bed.gz"
   ]
  },
  {
   "cell_type": "code",
   "execution_count": null,
   "metadata": {},
   "outputs": [],
   "source": []
  }
 ],
 "metadata": {
  "kernelspec": {
   "display_name": "Bash",
   "language": "bash",
   "name": "bash"
  },
  "language_info": {
   "codemirror_mode": "shell",
   "file_extension": ".sh",
   "mimetype": "text/x-sh",
   "name": "bash"
  }
 },
 "nbformat": 4,
 "nbformat_minor": 5
}
