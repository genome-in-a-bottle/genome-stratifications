{
 "cells": [
  {
   "cell_type": "markdown",
   "metadata": {},
   "source": [
    "# GRCh37 Union Stratifications (v3.1)\n",
    "JMcDaniel started 5/13/22"
   ]
  },
  {
   "cell_type": "markdown",
   "metadata": {},
   "source": [
    "## TABLE OF CONTENTS\n",
    "<hr style=\"border:2px solid black\"> </hr>  \n",
    "\n",
    "### GENERAL INFORMATION\n",
    "- [Background](#background)  \n",
    "- [File Descriptions](#files)  \n",
    "- [Files for release](#release)  \n",
    "- [Resources](#resources)  \n",
    "- [Code and File Sharing](#share)  \n",
    "- [Software Tools](#tools)  \n",
    "- [Get Dependency Files](#depend)  \n",
    "### STRATIFICATION PREP\n",
    "- [All Lowmap and Segdups](#alllow)\n",
    "- [All Difficult Regions](#alldiff)\n",
    "- [All Tandem Repeats](#alltr)"
   ]
  },
  {
   "cell_type": "markdown",
   "metadata": {},
   "source": [
    "## GENERAL INFORMATION\n",
    "<hr style=\"border:2px solid black\"> </hr>"
   ]
  },
  {
   "cell_type": "code",
   "execution_count": 1,
   "metadata": {},
   "outputs": [
    {
     "name": "stdout",
     "output_type": "stream",
     "text": [
      "/Users/jmcdani/Documents/GiaB/Benchmarking/Stratifications/v3.1_genome-stratifications/GRCh37-stratifications\n"
     ]
    }
   ],
   "source": [
    "#JM workign directory\n",
    "pwd"
   ]
  },
  {
   "cell_type": "markdown",
   "metadata": {},
   "source": [
    "## Background<a id=\"background\"></a>\n",
    "These files can be used as standard resource of BED files for use with GA4GH benchmarking tools such as [hap.py](https://github.com/Illumina/hap.py) to stratify true positive, false positive, and false negative variant calls into difficult regions. \n",
    "\n",
    "`alldifficultregions` is being updated in v3.1 stratificaitons to include the following new/updated files:\n",
    "- AllTandemRepeatsandHomopolymers_slop5.bed.gz (now includes satellites)\n",
    "- XY XTR regions\n",
    "- XY ampliconic regions\n",
    "\n",
    "`allTandemRepeats` is a new LowComplexity file for v3.1 stratification of all Tandem Repeats. "
   ]
  },
  {
   "cell_type": "markdown",
   "metadata": {},
   "source": [
    "## Files for release<a id=\"release\"></a>\n",
    "Union  \n",
    "GRCh37_alldifficultregions.bed.gz  \n",
    "GRCh37_notinalldifficultregions.bed.gz  \n",
    "GRCh37_alllowmapandsegdupregions.bed.gz  \n",
    "GRCh37_notinalllowmapandsegdupregions.bed.gz\n",
    "\n",
    "LowComplexity  \n",
    "GRCh37_allTandemRepeats.bed.gz  \n",
    "GRCh37_notinallTandemRepeats.bed.gz"
   ]
  },
  {
   "cell_type": "markdown",
   "metadata": {},
   "source": [
    "## Resources<a id=\"resources\"></a>\n"
   ]
  },
  {
   "cell_type": "markdown",
   "metadata": {},
   "source": [
    "## Code and File Sharing<a id=\"share\"></a>\n",
    "- GIAB GitHub\n",
    "- GIAB FTP"
   ]
  },
  {
   "cell_type": "markdown",
   "metadata": {},
   "source": [
    "## Required tools and versions<a id=\"tools\"></a>"
   ]
  },
  {
   "cell_type": "code",
   "execution_count": 1,
   "metadata": {
    "scrolled": true
   },
   "outputs": [
    {
     "name": "stdout",
     "output_type": "stream",
     "text": [
      "# packages in environment at /Users/jmcdani/opt/anaconda3/envs/bedtools:\n",
      "#\n",
      "# Name                    Version                   Build  Channel\n",
      "appnope                   0.1.0            py27hb466136_0  \n",
      "backports                 1.1                pyhd3eb1b0_0  \n",
      "backports.shutil_get_terminal_size 1.0.0              pyhd3eb1b0_3  \n",
      "backports_abc             0.5                        py_1  \n",
      "bedtools                  2.30.0               haa7f73a_1    bioconda\n",
      "biopython                 1.74             py27h1de35cc_0  \n",
      "bleach                    3.1.0                    py27_0  \n",
      "bzip2                     1.0.8                h1de35cc_0  \n",
      "ca-certificates           2022.3.29            hecd8cb5_0  \n",
      "certifi                   2020.6.20          pyhd3eb1b0_3  \n",
      "configparser              4.0.2                    py27_0  \n",
      "dbus                      1.13.18              h18a8e69_0  \n",
      "decorator                 4.4.0                    py27_1  \n",
      "defusedxml                0.7.1              pyhd3eb1b0_0  \n",
      "entrypoints               0.3                      py27_0  \n",
      "enum34                    1.1.6                    py27_1  \n",
      "expat                     2.4.4                he9d5cce_0  \n",
      "functools32               3.2.3.2                  py27_1  \n",
      "futures                   3.3.0                    py27_0  \n",
      "gettext                   0.21.0               h7535e17_0  \n",
      "glib                      2.63.1               hd977a24_0  \n",
      "icu                       58.2                 h0a44026_3  \n",
      "ipykernel                 4.10.0                   py27_0  \n",
      "ipython                   4.2.1                    py27_1    conda-forge\n",
      "ipython_genutils          0.2.0              pyhd3eb1b0_1  \n",
      "ipywidgets                7.4.2                    py27_0  \n",
      "jinja2                    2.11.3             pyhd3eb1b0_0  \n",
      "jpeg                      9d                   h9ed2024_0  \n",
      "jsonschema                2.6.0            py27hd9b497e_0  \n",
      "jupyter                   1.0.0                    py27_7  \n",
      "jupyter_client            5.3.4                    py27_0  \n",
      "jupyter_console           5.1.0                    py27_0    conda-forge\n",
      "jupyter_core              4.6.1                    py27_0  \n",
      "libblas                   3.9.0           11_osx64_openblas    conda-forge\n",
      "libcblas                  3.9.0           11_osx64_openblas    conda-forge\n",
      "libcxx                    12.0.0               h2f01273_0  \n",
      "libffi                    3.2.1             h0a44026_1007  \n",
      "libgfortran               3.0.1                h93005f0_2  \n",
      "libiconv                  1.16                 h1de35cc_0  \n",
      "liblapack                 3.9.0           11_osx64_openblas    conda-forge\n",
      "libopenblas               0.3.17               h9a5756b_1  \n",
      "libpng                    1.6.37               ha441bb4_0  \n",
      "libsodium                 1.0.18               h1de35cc_0  \n",
      "libxml2                   2.9.12               hcdb78fc_0  \n",
      "llvm-openmp               12.0.0               h0dcd299_1  \n",
      "markupsafe                1.1.1            py27h1de35cc_0  \n",
      "mistune                   0.8.4            py27h1de35cc_0  \n",
      "nbconvert                 5.4.1                    py27_3  \n",
      "nbformat                  4.4.0                    py27_0  \n",
      "ncurses                   6.3                  hca72f7f_2  \n",
      "notebook                  5.5.0                    py27_0  \n",
      "numpy                     1.16.5           py27hde6bac1_0    conda-forge\n",
      "openssl                   1.1.1n               hca72f7f_0  \n",
      "pandoc                    2.12                 hecd8cb5_0  \n",
      "pandocfilters             1.5.0              pyhd3eb1b0_0  \n",
      "pathlib2                  2.3.5                    py27_0  \n",
      "pcre                      8.45                 h23ab428_0  \n",
      "pexpect                   4.8.0              pyhd3eb1b0_3  \n",
      "pickleshare               0.7.5                    py27_0  \n",
      "pip                       19.3.1                   py27_0  \n",
      "prompt-toolkit            3.0.20             pyhd3eb1b0_0  \n",
      "prompt_toolkit            3.0.20               hd3eb1b0_0  \n",
      "ptyprocess                0.7.0              pyhd3eb1b0_2  \n",
      "pygments                  2.5.2                      py_0  \n",
      "pyqt                      5.9.2            py27h655552a_2  \n",
      "python                    2.7.18               hc817775_0  \n",
      "python-dateutil           2.8.2              pyhd3eb1b0_0  \n",
      "python.app                2                        py27_9  \n",
      "pyzmq                     18.1.0           py27h0a44026_0  \n",
      "qt                        5.9.7                h468cd18_1  \n",
      "qtconsole                 4.4.3                    py27_0  \n",
      "readline                  8.1.2                hca72f7f_1  \n",
      "scandir                   1.10.0             pyh5d7bf9c_3  \n",
      "send2trash                1.8.0              pyhd3eb1b0_1  \n",
      "setuptools                44.0.0                   py27_0  \n",
      "simplegeneric             0.8.1                    py27_2  \n",
      "singledispatch            3.7.0           pyhd3eb1b0_1001  \n",
      "sip                       4.19.8           py27h0a44026_0  \n",
      "six                       1.16.0             pyhd3eb1b0_1  \n",
      "sqlite                    3.38.2               h707629a_0  \n",
      "terminado                 0.8.3                    py27_0  \n",
      "testpath                  0.4.4              pyhd3eb1b0_0  \n",
      "tk                        8.6.11               h7bc2e8c_0  \n",
      "tornado                   5.1.1            py27h1de35cc_0  \n",
      "traitlets                 4.3.3                    py27_0  \n",
      "wcwidth                   0.2.5              pyhd3eb1b0_0  \n",
      "webencodings              0.5.1                    py27_1  \n",
      "wheel                     0.37.1             pyhd3eb1b0_0  \n",
      "widgetsnbextension        3.4.2                    py27_0  \n",
      "xz                        5.2.5                h1de35cc_0  \n",
      "zeromq                    4.3.4                h23ab428_0  \n",
      "zlib                      1.2.11               h4dc903c_4  \n"
     ]
    }
   ],
   "source": [
    "# bedtools conda environment used by JMcDaniel\n",
    "conda list"
   ]
  },
  {
   "cell_type": "markdown",
   "metadata": {},
   "source": [
    "## Get Dependency Files<a id=\"depend\"></a>"
   ]
  },
  {
   "cell_type": "markdown",
   "metadata": {},
   "source": [
    "human.b37.genome.bed used for preparing complement (notin) startification, generated in GRCh37-LowComplexity.ipynb.  \n",
    "File Location: LowComplexity/ref-files/human.b37.genome.bed"
   ]
  },
  {
   "cell_type": "markdown",
   "metadata": {},
   "source": [
    "## STRATIFICATION FILE PREPARATION STEPS\n",
    "<hr style=\"border:2px solid black\"> </hr>"
   ]
  },
  {
   "cell_type": "markdown",
   "metadata": {},
   "source": [
    "### All Low Mappability  and Segdups and its complement<a id=\"alllow\"></a>   \n",
    "merge all low mappable and segdup regions\n",
    "NOTE: updated on 6/28/22, we removed PAR-X from segdups therefor required re-generating alldifficultregions with revised segdups"
   ]
  },
  {
   "cell_type": "code",
   "execution_count": 4,
   "metadata": {},
   "outputs": [
    {
     "name": "stdout",
     "output_type": "stream",
     "text": [
      "Tue Jun 28 12:44:06 EDT 2022\n"
     ]
    }
   ],
   "source": [
    "date\n",
    "multiIntersectBed -i \\\n",
    "../v3.0-carry-over-stratifications/GRCh37/mappability/GRCh37_lowmappabilityall.bed.gz \\\n",
    "SegmentalDuplications/GRCh37_segdups.bed.gz \\\n",
    "| grep -v 'gl\\|hap\\|MT' \\\n",
    "| mergeBed -i stdin \\\n",
    "| bgzip -c > Union/GRCh37_alllowmapandsegdupregions.bed.gz\n",
    "\n",
    "subtractBed \\\n",
    "-a ref-files/human.b37.genome.bed -b Union/GRCh37_alllowmapandsegdupregions.bed.gz \\\n",
    "| bgzip -c > Union/GRCh37_notinalllowmapandsegdupregions.bed.gz"
   ]
  },
  {
   "cell_type": "markdown",
   "metadata": {},
   "source": [
    "### All Difficult and its complement<a id=\"alldiff\"></a>   \n",
    "NOTE: updated on 6/28/22, we removed PAR-X from segdups therefor required re-generating alldifficultregions with revised segdups"
   ]
  },
  {
   "cell_type": "code",
   "execution_count": 5,
   "metadata": {},
   "outputs": [
    {
     "name": "stdout",
     "output_type": "stream",
     "text": [
      "Tue Jun 28 12:44:27 EDT 2022\n",
      "sum of regions:\n",
      "552733350\n"
     ]
    }
   ],
   "source": [
    "date \n",
    "multiIntersectBed -i \\\n",
    "../v3.0-carry-over-stratifications/GRCh37/mappability/GRCh37_lowmappabilityall.bed.gz \\\n",
    "../v3.0-carry-over-stratifications/GRCh37/GCcontent/GRCh37_gclt25orgt65_slop50.bed.gz \\\n",
    "LowComplexity/GRCh37_AllTandemRepeatsandHomopolymers_slop5.bed.gz \\\n",
    "SegmentalDuplications/GRCh37_segdups.bed.gz \\\n",
    "../v3.0-carry-over-stratifications/GRCh37/FunctionalTechnicallyDifficultRegions/GRCh37_BadPromoters.bed.gz \\\n",
    "../v3.0-carry-over-stratifications/GRCh37/OtherDifficult/GRCh37_allOtherDifficultregions.bed.gz \\\n",
    "XY/GRCh37_chrX_XTR.bed \\\n",
    "XY/GRCh37_chrY_XTR.bed \\\n",
    "XY/GRCh37_chrX_ampliconic.bed \\\n",
    "XY/GRCh37_chrY_ampliconic.bed \\\n",
    "| sortBed -faidx ref-files/hs37d5.fa.gz.fai -i stdin \\\n",
    "| mergeBed -i stdin \\\n",
    "| bgzip -c > Union/GRCh37_alldifficultregions.bed.gz\n",
    "\n",
    "subtractBed \\\n",
    "-a ref-files/human.b37.genome.bed -b Union/GRCh37_alldifficultregions.bed.gz \\\n",
    "| bgzip -c > Union/GRCh37_notinalldifficultregions.bed.gz\n",
    "\n",
    "echo \"sum of regions:\"\n",
    "gzcat Union/GRCh37_alldifficultregions.bed.gz | awk -F'\\t' 'BEGIN{SUM=0}{ SUM+=$3-$2 }END{print SUM}'"
   ]
  },
  {
   "cell_type": "markdown",
   "metadata": {},
   "source": [
    "### All TandemRepeats and its complement<a id=\"alldiff\"></a>  \n",
    "\n",
    "NOTE: allTR strats were erroneously generated in Union ipynb however should have been genreated in LowComplexity ipynb.  Code has been copied over to LowComplexity for future use and files transferred to LowComplexity."
   ]
  },
  {
   "cell_type": "code",
   "execution_count": 6,
   "metadata": {},
   "outputs": [
    {
     "name": "stdout",
     "output_type": "stream",
     "text": [
      "Tue Jun 28 12:46:56 EDT 2022\n",
      "sum of regions:\n",
      "91043560\n"
     ]
    }
   ],
   "source": [
    "date\n",
    "multiIntersectBed -i \\\n",
    "LowComplexity/GRCh37_AllTandemRepeats_lt51bp_slop5.bed.gz \\\n",
    "LowComplexity/GRCh37_AllTandemRepeats_51to200bp_slop5.bed.gz \\\n",
    "LowComplexity/GRCh37_AllTandemRepeats_201to10000bp_slop5.bed.gz \\\n",
    "LowComplexity/GRCh37_AllTandemRepeats_gt10000bp_slop5.bed.gz \\\n",
    "| sortBed -faidx ref-files/hs37d5.fa.gz.fai -i stdin \\\n",
    "| mergeBed -i stdin \\\n",
    "| bgzip -c > Union/GRCh37_allTandemRepeats.bed.gz\n",
    "\n",
    "subtractBed \\\n",
    "-a ref-files/human.b37.genome.bed -b Union/GRCh37_allTandemRepeats.bed.gz \\\n",
    "| bgzip -c > Union/GRCh37_notinallTandemRepeats.bed.gz\n",
    "\n",
    "echo \"sum of regions:\"\n",
    "gzcat Union/GRCh37_allTandemRepeats.bed.gz | awk -F'\\t' 'BEGIN{SUM=0}{ SUM+=$3-$2 }END{print SUM}'"
   ]
  },
  {
   "cell_type": "code",
   "execution_count": null,
   "metadata": {},
   "outputs": [],
   "source": []
  }
 ],
 "metadata": {
  "kernelspec": {
   "display_name": "Bash",
   "language": "bash",
   "name": "bash"
  },
  "language_info": {
   "codemirror_mode": "shell",
   "file_extension": ".sh",
   "mimetype": "text/x-sh",
   "name": "bash"
  }
 },
 "nbformat": 4,
 "nbformat_minor": 2
}
