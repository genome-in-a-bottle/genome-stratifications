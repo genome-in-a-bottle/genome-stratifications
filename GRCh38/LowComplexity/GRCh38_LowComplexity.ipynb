{
 "cells": [
  {
   "cell_type": "markdown",
   "metadata": {},
   "source": [
    "# GRCh38 LowComplexity Stratifications (v3.1)\n",
    "JMcDaniel started 5/12/22"
   ]
  },
  {
   "cell_type": "markdown",
   "metadata": {},
   "source": [
    "## TABLE OF CONTENTS\n",
    "<hr style=\"border:2px solid black\"> </hr>  \n",
    "\n",
    "### GENERAL INFORMATION  \n",
    "- [Background](#background)  \n",
    "- [File Descriptions](#files)  \n",
    "- [Files for release](#release)  \n",
    "- [Resources](#resources)  \n",
    "- [Code and File Sharing](#share)  \n",
    "- [Software Tools](#tools)  \n",
    "- [Get Dependency Files](#depend)  \n",
    "\n",
    "### STRATIFICATION PREPARATION  \n",
    "#### Individual Files\n",
    "**1. [homopolymers](#homopolymers)**  \n",
    "**2. [di-nucleotide repeats](#dinuc)**  \n",
    "**3. [tri-nucleotide repeats](#trinuc)**  \n",
    "**4. [quad-nucleotide repeats](#quadnuc)**  \n",
    "**5. [Create GRCh38.genome file](#genomefile)**  \n",
    "**6. [find range of repeats](#findreprange)**  \n",
    "**7. [Find imperfect homopolymers](#imphomo)**  \n",
    "**8. [SimpleRepeats & LowComplexity from UCSC RepeatMasker](#repmask)**  \n",
    "**9. [SimpleRepeats in UCSC simpleRepeats (from TRF)](#trf)**  \n",
    "**10. [Satellites](#satellites)**  \n",
    "#### Intersected Files\n",
    "**11. [Merge all homopolymers and find complement](#mergehopol)**  \n",
    "**12. [Merge exact repeats and UCSC (rmsk/trf) repeats and subtract homopolymers](#mergeexact)**  \n",
    "**13. [Merge all homopolymers and TRs and find complement](#\"mergehomTR\")**  \n",
    "**14. [All Tandem Repeats](#allTR)**\n",
    "\n"
   ]
  },
  {
   "cell_type": "markdown",
   "metadata": {},
   "source": [
    "## GENERAL INFORMATION\n",
    "<hr style=\"border:2px solid black\"> </hr>"
   ]
  },
  {
   "cell_type": "code",
   "execution_count": 39,
   "metadata": {},
   "outputs": [
    {
     "name": "stdout",
     "output_type": "stream",
     "text": [
      "/Users/jmcdani/Documents/GiaB/Benchmarking/Stratifications/v3.1_genome-stratifications/GRCh38-stratifications\n"
     ]
    }
   ],
   "source": [
    "#JMcDaniel workign directory\n",
    "pwd"
   ]
  },
  {
   "cell_type": "markdown",
   "metadata": {},
   "source": [
    "## Background<a id=\"background\"></a>\n",
    "These files can be used as standard resource of BED files for use with GA4GH benchmarking tools such as [hap.py](https://github.com/Illumina/hap.py) to stratify true positive, false positive, and false negative variant calls into regions with different types and sizes of low complexity sequence (e.g., homopolymers, STRs, VNTRs, other locally repetitive sequences). \n",
    "\n",
    "Code used to generate \"LowComplexity\" stratifications was adapted from JZook generated scripts for GRCh37/38 stratifications: `FindSimpleRepeats_GRCh38_v2.sh`, `GRCh38_SimpleRepeat_homopolymer_gt20.sh` , `GRCh38_SimpleRepeat_imperfecthomoplgt20_slop5.sh`located with the GIAB GitHub for v3.0 LowComplexity stratifications.  \n",
    "\n",
    "Satellite file is a new addtion for v3.1 while this is an individual stratification it also feeds into the intersected files (steps #12 and #13).  This ipynb was created to combine all code neccessary for generating LowComplexity Stratifications and is new for v3.1.  This ipynb was created to combine all code neccessary for generating LowComplexity Stratifications and is new for v3.1. The same ipynb structure and corresponding code was applied to all references (GRCh37, GRCh38 and CHM13v2.0) for v3.1 LowComplexity stratifications for consistency."
   ]
  },
  {
   "cell_type": "markdown",
   "metadata": {},
   "source": [
    "## File Descriptions<a id=\"files\"></a>\n",
    "- `GRCh3X_SimpleRepeat*_slop5.bed.gz`\\\n",
    "perfect repeats of different unit sizes (i.e., homopolymers, and dinucleotide, trinucleotide, and quadnucleotide STRs) and different total repeat lengths (i.e., <=50bp, 51-200bp, or >200bp)\n",
    "- `GRCh3X_SimpleRepeat_imperfecthomopolgt*_slop5.bed.gz`\\\n",
    "perfect homopolymers >*p as well as imperfect homopolymers where a single base was repeated >10bp except for a 1bp interruption by a different base\n",
    "- `GRCh3X_AllTandemRepeats_*_slop5.bed.gz`\\\n",
    "union of SimpleRepeat dinucleotide, trinucleotide, and quadnucleotide STRs as well as UCSC Genome Brower RepeatMasker_LowComplexity, RepeatMasker_SimpleRepeats, RepeatMasker_Satellite, and TRF_SimpleRepeat.\n",
    "- `GRCh3X_AllHomopolymers_gt6bp_imperfectgt10bp_slop5.bed.gz`\\\n",
    "union of all perfect homopolymers >6bp and imperfect homopolymers >10bp\n",
    "- `GRCh3X_AllTandemRepeatsandHomopolymers_slop5.bed.gz`\\\n",
    "union of AllTandemRepeats_* with AllHomopolymers_gt6bp_imperfectgt10bp_slop5.bed.gz\n",
    "- `GRCh3X_satellites_slop5.bed.gz`\\\n",
    "Centromeric and Pericentromeric Satellite Annotations\n",
    "- `GRCh3X_notin*_slop5.bed.gz`\\\n",
    "are non-overlapping complements of the stratification regions (i.e., genome after excluding the regions).\n",
    "- `GRCh3X_allTandemRepeats.bed.gz`  \n",
    "union of all tandem repeats  \n",
    "- `notin`  \n",
    "complement regions are non-overlapping genomic regions that remain after excluding stratification regions.  "
   ]
  },
  {
   "cell_type": "markdown",
   "metadata": {},
   "source": [
    "## Files for release<a id=\"release\"></a>\n",
    "GRCh38_AllHomopolymers_gt6bp_imperfectgt10bp_slop5.bed.gz  \n",
    "GRCh38_AllTandemRepeats_201to10000bp_slop5.bed.gz  \n",
    "GRCh38_AllTandemRepeats_51to200bp_slop5.bed.gz  \n",
    "GRCh38_AllTandemRepeats_gt10000bp_slop5.bed.gz  \n",
    "GRCh38_AllTandemRepeats_gt100bp_slop5.bed.gz  \n",
    "GRCh38_AllTandemRepeats_lt51bp_slop5.bed.gz  \n",
    "GRCh38_AllTandemRepeatsandHomopolymers_slop5.bed.gz   \n",
    "GRCh38_allTandemRepeats.bed.gz  \n",
    "GRCh38_notinallTandemRepeats.bed.gz  \n",
    "GRCh38_SimpleRepeat_diTR_11to50_slop5.bed.gz  \n",
    "GRCh38_SimpleRepeat_diTR_51to200_slop5.bed.gz  \n",
    "GRCh38_SimpleRepeat_diTR_gt200_slop5.bed.gz  \n",
    "GRCh38_SimpleRepeat_homopolymer_4to6_slop5.bed.gz  \n",
    "GRCh38_SimpleRepeat_homopolymer_7to11_slop5.bed.gz  \n",
    "GRCh38_SimpleRepeat_homopolymer_gt11_slop5.bed.gz   \n",
    "GRCh38_SimpleRepeat_homopolymer_gt20_slop5.bed.gz  \n",
    "GRCh38_SimpleRepeat_imperfecthomopolgt10_slop5.bed.gz  \n",
    "GRCh38_SimpleRepeat_imperfecthomopolgt20_slop5.bed.gz  \n",
    "GRCh38_SimpleRepeat_quadTR_20to50_slop5.bed.gz  \n",
    "GRCh38_SimpleRepeat_quadTR_51to200_slop5.bed.gz  \n",
    "GRCh38_SimpleRepeat_quadTR_gt200_slop5.bed.gz  \n",
    "GRCh38_SimpleRepeat_triTR_15to50_slop5.bed.gz  \n",
    "GRCh38_SimpleRepeat_triTR_51to200_slop5.bed.gz  \n",
    "GRCh38_SimpleRepeat_triTR_gt200_slop5.bed.gz  \n",
    "GRCh38_notinAllHomopolymers_gt6bp_imperfectgt10bp_slop5.bed.gz  \n",
    "GRCh38_notinAllTandemRepeatsandHomopolymers_slop5.bed.gz  \n",
    "GRCh38_satellites_slop5.bed.gz  \n",
    "GRCh38_notinsatellites_slop5.bed.gz"
   ]
  },
  {
   "cell_type": "markdown",
   "metadata": {},
   "source": [
    "## Resources<a id=\"resources\"></a>\n",
    "- GIAB GitHub\n",
    "- GIAB FTP"
   ]
  },
  {
   "cell_type": "markdown",
   "metadata": {},
   "source": [
    "## Code and File Sharing<a id=\"share\"></a>\n",
    "- add GIAB GitHub\n",
    "- data.nist.gov"
   ]
  },
  {
   "cell_type": "markdown",
   "metadata": {},
   "source": [
    "## Required tools and versions<a id=\"tools\"></a>"
   ]
  },
  {
   "cell_type": "code",
   "execution_count": 12,
   "metadata": {},
   "outputs": [
    {
     "name": "stdout",
     "output_type": "stream",
     "text": [
      "# packages in environment at /Users/jmcdani/opt/anaconda3/envs/samtools_env:\n",
      "#\n",
      "# Name                    Version                   Build  Channel\n",
      "appnope                   0.1.0            py27hb466136_0    anaconda\n",
      "backports                 1.1                pyhd3eb1b0_0  \n",
      "backports.shutil_get_terminal_size 1.0.0              pyhd3eb1b0_3  \n",
      "backports_abc             0.5                        py_1  \n",
      "bamtools                  2.5.1                h5c9b4e4_4    bioconda\n",
      "bcftools                  1.8                  h4da6232_3    bioconda\n",
      "bedtools                  2.27.1               h5c9b4e4_3    bioconda\n",
      "biopython                 1.74             py27h1de35cc_0  \n",
      "blas                      1.0                         mkl  \n",
      "bleach                    3.3.1              pyhd3eb1b0_0  \n",
      "bzip2                     1.0.6                h1de35cc_5  \n",
      "ca-certificates           2021.10.26           hecd8cb5_2  \n",
      "certifi                   2020.6.20          pyhd3eb1b0_3  \n",
      "configparser              4.0.2                    py27_0  \n",
      "curl                      7.64.0               ha441bb4_2  \n",
      "db                        6.1.26                        0    biobuilds\n",
      "decorator                 4.4.0                    py27_1  \n",
      "defusedxml                0.7.1              pyhd3eb1b0_0  \n",
      "entrypoints               0.3                      py27_0  \n",
      "enum34                    1.1.6                    py27_1    anaconda\n",
      "functools32               3.2.3.2                  py27_1  \n",
      "futures                   3.3.0                    py27_0  \n",
      "gdbm                      1.18                 h941a26a_0    conda-forge\n",
      "htslib                    1.6.0                h248b3ce_0    biobuilds\n",
      "icu                       58.2                 h0a44026_3  \n",
      "intel-openmp              2022.0.0          hecd8cb5_3615  \n",
      "ipaddress                 1.0.23                     py_0  \n",
      "ipykernel                 4.10.0                   py27_0    anaconda\n",
      "ipython                   5.8.0                    py27_0    anaconda\n",
      "ipython_genutils          0.2.0              pyhd3eb1b0_1  \n",
      "ipywidgets                7.6.0              pyhd3eb1b0_1  \n",
      "jinja2                    2.11.3             pyhd3eb1b0_0  \n",
      "jpeg                      9d                   h9ed2024_0  \n",
      "jsonschema                2.6.0            py27hd9b497e_0  \n",
      "jupyter                   1.0.0                    py27_7  \n",
      "jupyter_client            5.3.4                    py27_0  \n",
      "jupyter_console           5.2.0                    py27_1  \n",
      "jupyter_core              4.6.1                    py27_0    anaconda\n",
      "krb5                      1.16.1               hddcf347_7  \n",
      "libcurl                   7.64.0               h051b688_2  \n",
      "libcxx                    4.0.1                hcfea43d_1  \n",
      "libcxxabi                 4.0.1                hcfea43d_1  \n",
      "libdeflate                1.0                  h470a237_0    bioconda\n",
      "libedit                   3.1.20170329         hb402a30_2    anaconda\n",
      "libffi                    3.2.1                h475c297_4    anaconda\n",
      "libgfortran               3.0.1                h93005f0_2  \n",
      "libpng                    1.6.37               ha441bb4_0  \n",
      "libsodium                 1.0.16               h3efe00b_0    anaconda\n",
      "libssh2                   1.8.0                ha12b0ac_4  \n",
      "markupsafe                1.1.1            py27h1de35cc_0  \n",
      "mistune                   0.8.4            py27h1de35cc_0  \n",
      "mkl                       2019.4                      233  \n",
      "mkl-service               2.3.0            py27hfbe908c_0  \n",
      "mkl_fft                   1.0.15           py27h5e564d8_0  \n",
      "mkl_random                1.1.0            py27ha771720_0  \n",
      "nbconvert                 5.6.1                    py27_0  \n",
      "nbformat                  4.4.0                    py27_0  \n",
      "ncurses                   6.1                  h0a44026_0  \n",
      "notebook                  5.7.10                   py27_0  \n",
      "numpy                     1.16.6           py27h81c90fd_0  \n",
      "numpy-base                1.16.6           py27h6575580_0  \n",
      "openjdk                   11.0.9.1             h5dbffcc_0    conda-forge\n",
      "openssl                   1.1.1                h1de35cc_0    anaconda\n",
      "packaging                 20.9               pyhd3eb1b0_0  \n",
      "pandoc                    2.12                 hecd8cb5_0  \n",
      "pandocfilters             1.5.0              pyhd3eb1b0_0  \n",
      "pathlib2                  2.3.5                    py27_0    anaconda\n",
      "perl                      5.22.0                        2    biobuilds\n",
      "pexpect                   4.8.0              pyhd3eb1b0_3  \n",
      "pickleshare               0.7.5                    py27_0  \n",
      "pip                       18.1                     py27_0    anaconda\n",
      "prometheus_client         0.11.0             pyhd3eb1b0_0  \n",
      "prompt_toolkit            1.0.15           py27h4a7b9c2_0    anaconda\n",
      "ptyprocess                0.7.0              pyhd3eb1b0_2  \n",
      "pyfaidx                   0.5.9.5                  pypi_0    pypi\n",
      "pygments                  2.3.1                    py27_0  \n",
      "pyparsing                 2.4.7              pyhd3eb1b0_0  \n",
      "pyqt                      5.6.0            py27h655552a_6  \n",
      "python                    2.7.15               h8f8e585_4    anaconda\n",
      "python-dateutil           2.8.2              pyhd3eb1b0_0  \n",
      "pyzmq                     18.1.0           py27h0a44026_0    anaconda\n",
      "qt                        5.6.3                h1d42b2f_0  \n",
      "qtconsole                 4.7.7                      py_0  \n",
      "qtpy                      1.11.2             pyhd3eb1b0_0  \n",
      "readline                  7.0                  h1de35cc_5    anaconda\n",
      "rtg-tools                 3.9.1                         0    bioconda\n",
      "samtools                  1.6.0                h2a6d717_0    biobuilds\n",
      "scandir                   1.10.0             pyh5d7bf9c_3  \n",
      "send2trash                1.8.0              pyhd3eb1b0_1  \n",
      "setuptools                40.6.2                   py27_0    anaconda\n",
      "simplegeneric             0.8.1                    py27_2  \n",
      "singledispatch            3.7.0           pyhd3eb1b0_1001  \n",
      "sip                       4.18.1           py27h0a44026_2  \n",
      "six                       1.16.0             pyhd3eb1b0_1  \n",
      "sqlite                    3.25.3               ha441bb4_0    anaconda\n",
      "terminado                 0.8.3                    py27_0  \n",
      "testpath                  0.4.4              pyhd3eb1b0_0  \n",
      "tk                        8.6.8                ha441bb4_0    anaconda\n",
      "tornado                   5.1.1            py27h1de35cc_0  \n",
      "traitlets                 4.3.3                    py27_0  \n",
      "wcwidth                   0.2.5              pyhd3eb1b0_0  \n",
      "webencodings              0.5.1                    py27_1  \n",
      "wheel                     0.32.3                   py27_0    anaconda\n",
      "widgetsnbextension        3.5.1                    py27_0  \n",
      "xz                        5.2.4                h1de35cc_4  \n",
      "zeromq                    4.3.1                h0a44026_3    anaconda\n",
      "zlib                      1.2.11               h1de35cc_3  \n"
     ]
    }
   ],
   "source": [
    "# samtools_env conda environment used by JMcDaniel for steps 1-5\n",
    "conda list"
   ]
  },
  {
   "cell_type": "code",
   "execution_count": 1,
   "metadata": {
    "scrolled": true
   },
   "outputs": [
    {
     "name": "stdout",
     "output_type": "stream",
     "text": [
      "Thu May 12 14:55:54 EDT 2022\n",
      "# packages in environment at /Users/jmcdani/opt/anaconda3/envs/bedtools:\n",
      "#\n",
      "# Name                    Version                   Build  Channel\n",
      "appnope                   0.1.0            py27hb466136_0  \n",
      "backports                 1.1                pyhd3eb1b0_0  \n",
      "backports.shutil_get_terminal_size 1.0.0              pyhd3eb1b0_3  \n",
      "backports_abc             0.5                        py_1  \n",
      "bedtools                  2.30.0               haa7f73a_1    bioconda\n",
      "biopython                 1.74             py27h1de35cc_0  \n",
      "bleach                    3.1.0                    py27_0  \n",
      "bzip2                     1.0.8                h1de35cc_0  \n",
      "ca-certificates           2022.3.29            hecd8cb5_0  \n",
      "certifi                   2020.6.20          pyhd3eb1b0_3  \n",
      "configparser              4.0.2                    py27_0  \n",
      "dbus                      1.13.18              h18a8e69_0  \n",
      "decorator                 4.4.0                    py27_1  \n",
      "defusedxml                0.7.1              pyhd3eb1b0_0  \n",
      "entrypoints               0.3                      py27_0  \n",
      "enum34                    1.1.6                    py27_1  \n",
      "expat                     2.4.4                he9d5cce_0  \n",
      "functools32               3.2.3.2                  py27_1  \n",
      "futures                   3.3.0                    py27_0  \n",
      "gettext                   0.21.0               h7535e17_0  \n",
      "glib                      2.63.1               hd977a24_0  \n",
      "icu                       58.2                 h0a44026_3  \n",
      "ipykernel                 4.10.0                   py27_0  \n",
      "ipython                   4.2.1                    py27_1    conda-forge\n",
      "ipython_genutils          0.2.0              pyhd3eb1b0_1  \n",
      "ipywidgets                7.4.2                    py27_0  \n",
      "jinja2                    2.11.3             pyhd3eb1b0_0  \n",
      "jpeg                      9d                   h9ed2024_0  \n",
      "jsonschema                2.6.0            py27hd9b497e_0  \n",
      "jupyter                   1.0.0                    py27_7  \n",
      "jupyter_client            5.3.4                    py27_0  \n",
      "jupyter_console           5.1.0                    py27_0    conda-forge\n",
      "jupyter_core              4.6.1                    py27_0  \n",
      "libblas                   3.9.0           11_osx64_openblas    conda-forge\n",
      "libcblas                  3.9.0           11_osx64_openblas    conda-forge\n",
      "libcxx                    12.0.0               h2f01273_0  \n",
      "libffi                    3.2.1             h0a44026_1007  \n",
      "libgfortran               3.0.1                h93005f0_2  \n",
      "libiconv                  1.16                 h1de35cc_0  \n",
      "liblapack                 3.9.0           11_osx64_openblas    conda-forge\n",
      "libopenblas               0.3.17               h9a5756b_1  \n",
      "libpng                    1.6.37               ha441bb4_0  \n",
      "libsodium                 1.0.18               h1de35cc_0  \n",
      "libxml2                   2.9.12               hcdb78fc_0  \n",
      "llvm-openmp               12.0.0               h0dcd299_1  \n",
      "markupsafe                1.1.1            py27h1de35cc_0  \n",
      "mistune                   0.8.4            py27h1de35cc_0  \n",
      "nbconvert                 5.4.1                    py27_3  \n",
      "nbformat                  4.4.0                    py27_0  \n",
      "ncurses                   6.3                  hca72f7f_2  \n",
      "notebook                  5.5.0                    py27_0  \n",
      "numpy                     1.16.5           py27hde6bac1_0    conda-forge\n",
      "openssl                   1.1.1n               hca72f7f_0  \n",
      "pandoc                    2.12                 hecd8cb5_0  \n",
      "pandocfilters             1.5.0              pyhd3eb1b0_0  \n",
      "pathlib2                  2.3.5                    py27_0  \n",
      "pcre                      8.45                 h23ab428_0  \n",
      "pexpect                   4.8.0              pyhd3eb1b0_3  \n",
      "pickleshare               0.7.5                    py27_0  \n",
      "pip                       19.3.1                   py27_0  \n",
      "prompt-toolkit            3.0.20             pyhd3eb1b0_0  \n",
      "prompt_toolkit            3.0.20               hd3eb1b0_0  \n",
      "ptyprocess                0.7.0              pyhd3eb1b0_2  \n",
      "pygments                  2.5.2                      py_0  \n",
      "pyqt                      5.9.2            py27h655552a_2  \n",
      "python                    2.7.18               hc817775_0  \n",
      "python-dateutil           2.8.2              pyhd3eb1b0_0  \n",
      "python.app                2                        py27_9  \n",
      "pyzmq                     18.1.0           py27h0a44026_0  \n",
      "qt                        5.9.7                h468cd18_1  \n",
      "qtconsole                 4.4.3                    py27_0  \n",
      "readline                  8.1.2                hca72f7f_1  \n",
      "scandir                   1.10.0             pyh5d7bf9c_3  \n",
      "send2trash                1.8.0              pyhd3eb1b0_1  \n",
      "setuptools                44.0.0                   py27_0  \n",
      "simplegeneric             0.8.1                    py27_2  \n",
      "singledispatch            3.7.0           pyhd3eb1b0_1001  \n",
      "sip                       4.19.8           py27h0a44026_0  \n",
      "six                       1.16.0             pyhd3eb1b0_1  \n",
      "sqlite                    3.38.2               h707629a_0  \n",
      "terminado                 0.8.3                    py27_0  \n",
      "testpath                  0.4.4              pyhd3eb1b0_0  \n",
      "tk                        8.6.11               h7bc2e8c_0  \n",
      "tornado                   5.1.1            py27h1de35cc_0  \n",
      "traitlets                 4.3.3                    py27_0  \n",
      "wcwidth                   0.2.5              pyhd3eb1b0_0  \n",
      "webencodings              0.5.1                    py27_1  \n",
      "wheel                     0.37.1             pyhd3eb1b0_0  \n",
      "widgetsnbextension        3.4.2                    py27_0  \n",
      "xz                        5.2.5                h1de35cc_0  \n",
      "zeromq                    4.3.4                h23ab428_0  \n",
      "zlib                      1.2.11               h4dc903c_4  \n"
     ]
    }
   ],
   "source": [
    "#JMcDaniel conda bedtools env for step 6-13\n",
    "date\n",
    "conda list"
   ]
  },
  {
   "cell_type": "markdown",
   "metadata": {},
   "source": [
    "## Get Dependency Files<a id=\"depend\"></a>"
   ]
  },
  {
   "cell_type": "markdown",
   "metadata": {},
   "source": [
    "**GRCh38 UCSC RepeaMasker File**"
   ]
  },
  {
   "cell_type": "code",
   "execution_count": 1,
   "metadata": {},
   "outputs": [
    {
     "name": "stdout",
     "output_type": "stream",
     "text": [
      "receiving file list ... \n",
      "1 file to consider\n",
      "rmsk.txt.gz\n",
      "   154291848 100%    1.84MB/s    0:01:19 (xfer#1, to-check=0/1)\n",
      "\n",
      "sent 38 bytes  received 154356311 bytes  1870986.05 bytes/sec\n",
      "total size is 154291848  speedup is 1.00\n"
     ]
    }
   ],
   "source": [
    "#Repeat masker file from UCSC.\n",
    "rsync -avzP rsync://hgdownload.cse.ucsc.edu/goldenPath/hg38/database/rmsk.txt.gz LowComplexity/GRCh38/intermediatefiles/"
   ]
  },
  {
   "cell_type": "markdown",
   "metadata": {},
   "source": [
    "**GRCh38 UCSC TRF simpleRepeat File**"
   ]
  },
  {
   "cell_type": "code",
   "execution_count": 3,
   "metadata": {
    "scrolled": true
   },
   "outputs": [
    {
     "name": "stdout",
     "output_type": "stream",
     "text": [
      "Wed May 11 13:58:58 EDT 2022\n",
      "receiving file list ... \n",
      "1 file to consider\n",
      "\n",
      "sent 16 bytes  received 82 bytes  65.33 bytes/sec\n",
      "total size is 29493439  speedup is 300953.46\n"
     ]
    }
   ],
   "source": [
    "date\n",
    "rsync -avzP rsync://hgdownload.soe.ucsc.edu/goldenPath/hg38/database/simpleRepeat.txt.gz LowComplexity/intermediatefiles/"
   ]
  },
  {
   "cell_type": "markdown",
   "metadata": {},
   "source": [
    "**GRCh38 Reference**"
   ]
  },
  {
   "cell_type": "code",
   "execution_count": 11,
   "metadata": {},
   "outputs": [
    {
     "name": "stdout",
     "output_type": "stream",
     "text": [
      "Thu May  5 13:10:20 EDT 2022\n",
      "--2022-05-05 13:10:20--  https://ftp.ncbi.nlm.nih.gov/genomes/all/GCA/000/001/405/GCA_000001405.15_GRCh38/seqs_for_alignment_pipelines.ucsc_ids/GCA_000001405.15_GRCh38_no_alt_analysis_set.fna.gz\n",
      "Resolving ftp.ncbi.nlm.nih.gov... 2607:f220:41f:250::229, 2607:f220:41e:250::11, 130.14.250.12, ...\n",
      "Connecting to ftp.ncbi.nlm.nih.gov|2607:f220:41f:250::229|:443... connected.\n",
      "HTTP request sent, awaiting response... 200 OK\n",
      "Length: 872949833 (833M) [application/x-gzip]\n",
      "Saving to: 'ref-files/GRCh38/GCA_000001405.15_GRCh38_no_alt_analysis_set.fna.gz'\n",
      "\n",
      "GCA_000001405.15_GR 100%[===================>] 832.51M  9.52MB/s    in 88s     \n",
      "\n",
      "2022-05-05 13:11:49 (9.48 MB/s) - 'ref-files/GRCh38/GCA_000001405.15_GRCh38_no_alt_analysis_set.fna.gz' saved [872949833/872949833]\n",
      "\n"
     ]
    }
   ],
   "source": [
    "# GRCh38 ref download\n",
    "date\n",
    "wget https://ftp.ncbi.nlm.nih.gov/genomes/all/GCA/000/001/405/GCA_000001405.15_GRCh38/seqs_for_alignment_pipelines.ucsc_ids/GCA_000001405.15_GRCh38_no_alt_analysis_set.fna.gz -P ref-files/GRCh38"
   ]
  },
  {
   "cell_type": "markdown",
   "metadata": {},
   "source": [
    "**Index Reference File**"
   ]
  },
  {
   "cell_type": "code",
   "execution_count": 21,
   "metadata": {},
   "outputs": [
    {
     "name": "stdout",
     "output_type": "stream",
     "text": [
      "Thu May  5 14:06:07 EDT 2022\n"
     ]
    }
   ],
   "source": [
    "# index reference. Ref is gzipped and needed to be bgzipped for indexing with samtools.\n",
    "date\n",
    "gunzip -k ref-files/GRCh38/GCA_000001405.15_GRCh38_no_alt_analysis_set.fna.gz \n",
    "samtools faidx ref-files/GRCh38/GCA_000001405.15_GRCh38_no_alt_analysis_set.fna\n",
    "grep -Ev '^chr[0-9XYM]_|^chr[0-9][0-9]_|^chrUn_|^chrEBV' ref-files/GRCh38/GCA_000001405.15_GRCh38_no_alt_analysis_set.fna.fai > ref-files/GRCh38/GRCh38.fa.fai\n",
    "rm ref-files/GRCh38/GCA_000001405.15_GRCh38_no_alt_analysis_set.fna"
   ]
  },
  {
   "cell_type": "markdown",
   "metadata": {},
   "source": [
    "## Stratification Preparation<a id=\"prep\"></a>\n",
    "<hr style=\"border:2px solid black\"> </hr>"
   ]
  },
  {
   "cell_type": "markdown",
   "metadata": {},
   "source": [
    "## 1. homopolymers<a id=\"hompolymers\"></a>"
   ]
  },
  {
   "cell_type": "code",
   "execution_count": 2,
   "metadata": {},
   "outputs": [
    {
     "name": "stdout",
     "output_type": "stream",
     "text": [
      "[1] 96221\n",
      "[2] 96222\n",
      "[3] 96223\n"
     ]
    }
   ],
   "source": [
    "#findSimpleRegions_quad.py requires python 2.7.15. Ran this step in JM conda env 'samtools_env' where this version of python is located.\n",
    "gunzip -k ref-files/GCA_000001405.15_GRCh38_no_alt_analysis_set.fna.gz \n",
    "python LowComplexity/scripts/findSimpleRegions_quad.py -p 3 -d 100000 -t 100000 -q 100000 ref-files/GCA_000001405.15_GRCh38_no_alt_analysis_set.fna LowComplexity/intermediatefiles/GRCh38_SimpleRepeat_p3.bed &\n",
    "python LowComplexity/scripts/findSimpleRegions_quad.py -p 6 -d 100000 -t 100000 -q 100000 ref-files/GCA_000001405.15_GRCh38_no_alt_analysis_set.fna LowComplexity/intermediatefiles/GRCh38_SimpleRepeat_p6.bed &\n",
    "python LowComplexity/scripts/findSimpleRegions_quad.py -p 11 -d 100000 -t 100000 -q 100000 ref-files/GCA_000001405.15_GRCh38_no_alt_analysis_set.fna LowComplexity/intermediatefiles/GRCh38_SimpleRepeat_p11.bed &\n",
    "python LowComplexity/scripts/findSimpleRegions_quad.py -p 20 -d 100000 -t 100000 -q 100000 ref-files/GCA_000001405.15_GRCh38_no_alt_analysis_set.fna LowComplexity/intermediatefiles/GRCh38_SimpleRepeat_p20.bed"
   ]
  },
  {
   "cell_type": "markdown",
   "metadata": {},
   "source": [
    "## 2. di-nucleotide repeats<a id=\"dinuc\"></a>"
   ]
  },
  {
   "cell_type": "code",
   "execution_count": 3,
   "metadata": {},
   "outputs": [
    {
     "name": "stdout",
     "output_type": "stream",
     "text": [
      "[1]   Done                    python LowComplexity/scripts/findSimpleRegions_quad.py -p 3 -d 100000 -t 100000 -q 100000 ref-files/GCA_000001405.15_GRCh38_no_alt_analysis_set.fna LowComplexity/intermediatefiles/GRCh38_SimpleRepeat_p3.bed\n",
      "[2]-  Done                    python LowComplexity/scripts/findSimpleRegions_quad.py -p 6 -d 100000 -t 100000 -q 100000 ref-files/GCA_000001405.15_GRCh38_no_alt_analysis_set.fna LowComplexity/intermediatefiles/GRCh38_SimpleRepeat_p6.bed\n",
      "[3]+  Done                    python LowComplexity/scripts/findSimpleRegions_quad.py -p 11 -d 100000 -t 100000 -q 100000 ref-files/GCA_000001405.15_GRCh38_no_alt_analysis_set.fna LowComplexity/intermediatefiles/GRCh38_SimpleRepeat_p11.bed\n",
      "Wed May 11 16:06:10 EDT 2022\n",
      "[1] 16677\n",
      "[2] 16678\n",
      "[3] 16679\n"
     ]
    }
   ],
   "source": [
    "#findSimpleRegions_quad.py requires python 2.7.15. Run in JM conda env 'samtools_env' where this version of python is located.\n",
    "date\n",
    "python LowComplexity/scripts/findSimpleRegions_quad.py -p 100000 -d 11 -t 100000 -q 100000 ref-files/GCA_000001405.15_GRCh38_no_alt_analysis_set.fna LowComplexity/intermediatefiles/GRCh38_SimpleRepeat_d11.bed &\n",
    "python LowComplexity/scripts/findSimpleRegions_quad.py -p 100000 -d 51 -t 100000 -q 100000 ref-files/GCA_000001405.15_GRCh38_no_alt_analysis_set.fna LowComplexity/intermediatefiles/GRCh38_SimpleRepeat_d51.bed &\n",
    "python LowComplexity/scripts/findSimpleRegions_quad.py -p 100000 -d 201 -t 100000 -q 100000 ref-files/GCA_000001405.15_GRCh38_no_alt_analysis_set.fna LowComplexity/intermediatefiles/GRCh38_SimpleRepeat_d201.bed & "
   ]
  },
  {
   "cell_type": "markdown",
   "metadata": {},
   "source": [
    "## 3. tri-nucleotide repeats<a id=\"trinuc\"></a>"
   ]
  },
  {
   "cell_type": "code",
   "execution_count": 4,
   "metadata": {},
   "outputs": [
    {
     "name": "stdout",
     "output_type": "stream",
     "text": [
      "Wed May 11 16:08:18 EDT 2022\n",
      "[4] 17067\n",
      "[5] 17068\n",
      "[6] 17069\n"
     ]
    }
   ],
   "source": [
    "#findSimpleRegions_quad.py requires python 2.7.15. Run in JM conda env 'samtools_env' where this version of python is located.\n",
    "date\n",
    "python LowComplexity/scripts/findSimpleRegions_quad.py -p 100000 -d 100000 -t 15 -q 100000 ref-files/GCA_000001405.15_GRCh38_no_alt_analysis_set.fna LowComplexity/intermediatefiles/GRCh38_SimpleRepeat_t15.bed &\n",
    "python LowComplexity/scripts/findSimpleRegions_quad.py -p 100000 -d 100000 -t 51 -q 100000 ref-files/GCA_000001405.15_GRCh38_no_alt_analysis_set.fna LowComplexity/intermediatefiles/GRCh38_SimpleRepeat_t51.bed &\n",
    "python LowComplexity/scripts/findSimpleRegions_quad.py -p 100000 -d 100000 -t 201 -q 100000 ref-files/GCA_000001405.15_GRCh38_no_alt_analysis_set.fna LowComplexity/intermediatefiles/GRCh38_SimpleRepeat_t201.bed & "
   ]
  },
  {
   "cell_type": "markdown",
   "metadata": {},
   "source": [
    "## 4. quad-nucleotide repeats<a id=\"quadnuc\"></a>"
   ]
  },
  {
   "cell_type": "code",
   "execution_count": 8,
   "metadata": {
    "scrolled": true
   },
   "outputs": [
    {
     "name": "stdout",
     "output_type": "stream",
     "text": [
      "[1] 38315\n",
      "[2] 38316\n",
      "[3] 38317\n"
     ]
    }
   ],
   "source": [
    "#findSimpleRegions_quad.py requires python 2.7.15. Run in JM conda env 'samtools_env' where this version of python is located.\n",
    "python LowComplexity/scripts/findSimpleRegions_quad.py -p 100000 -d 100000 -t 100000 -q 20 ref-files/GCA_000001405.15_GRCh38_no_alt_analysis_set.fna LowComplexity/intermediatefiles/GRCh38_SimpleRepeat_q20.bed &\n",
    "python LowComplexity/scripts/findSimpleRegions_quad.py -p 100000 -d 100000 -t 100000 -q 51 ref-files/GCA_000001405.15_GRCh38_no_alt_analysis_set.fna LowComplexity/intermediatefiles/GRCh38_SimpleRepeat_q51.bed &\n",
    "python LowComplexity/scripts/findSimpleRegions_quad.py -p 100000 -d 100000 -t 100000 -q 201 ref-files/GCA_000001405.15_GRCh38_no_alt_analysis_set.fna LowComplexity/intermediatefiles/GRCh38_SimpleRepeat_q201.bed & "
   ]
  },
  {
   "cell_type": "markdown",
   "metadata": {},
   "source": [
    "## 5. Create GRCh38.genome file for use with bedtools slopbed (-g .genome) and subtractbed (genome.bed)<a id=\"genomefile\"></a> \n",
    "this generates file with chromosome sizes for GRCh38"
   ]
  },
  {
   "cell_type": "code",
   "execution_count": 14,
   "metadata": {},
   "outputs": [
    {
     "name": "stdout",
     "output_type": "stream",
     "text": [
      "Thu May 12 09:05:20 EDT 2022\n"
     ]
    }
   ],
   "source": [
    "# prepare .genome files with chromosome lengths\n",
    "date\n",
    "cat ref-files/GRCh38.fa.fai | cut -f 1,2 | grep -Ev '^[chr0-9XYM]_|^[chr0-9][0-9XYM]_|^chrUn_' > ref-files/human.b38.genome"
   ]
  },
  {
   "cell_type": "code",
   "execution_count": 16,
   "metadata": {},
   "outputs": [],
   "source": [
    "# prints 1st and 2nd column of index file and separates by tab but adds field 2  = 0. This results in 3 column bedfile.\n",
    "awk -v OFS='\\t' {'print $1,\"0\",$2'} ref-files/GRCh38.fa.fai | grep -Ev '^[0-9XYM]_|^[0-9][0-9XYM]_|^chrUn_|^GL|^NC|^hs' > ref-files/human.b38.genome.bed"
   ]
  },
  {
   "cell_type": "markdown",
   "metadata": {},
   "source": [
    "## 6. find LowComplexity and SimpleRepeat ranges <a id=\"findreprange\"></a>\n",
    "activated bedtools conda env from here on"
   ]
  },
  {
   "cell_type": "code",
   "execution_count": 2,
   "metadata": {},
   "outputs": [
    {
     "name": "stdout",
     "output_type": "stream",
     "text": [
      "Thu May 12 14:56:22 EDT 2022\n"
     ]
    }
   ],
   "source": [
    "# HOMOPOLYMERS\n",
    "date\n",
    "subtractBed -a LowComplexity/intermediatefiles/GRCh38_SimpleRepeat_p3.bed -b LowComplexity/intermediatefiles/GRCh38_SimpleRepeat_p6.bed | sed 's/^chr//' | grep \"^[0-9XY]\" | grep -v '_' | sed 's/^X/23/;s/^Y/24/' | sort -k1,1n -k2,2n -k3,3n | sed 's/^23/X/;s/^24/Y/;s/^/chr/' | bgzip -c > LowComplexity/intermediatefiles/GRCh38_SimpleRepeat_homopolymer_4to6.bed.gz\n",
    "subtractBed -a LowComplexity/intermediatefiles/GRCh38_SimpleRepeat_p6.bed -b LowComplexity/intermediatefiles/GRCh38_SimpleRepeat_p11.bed | sed 's/^chr//' | grep \"^[0-9XY]\" | grep -v '_' | sed 's/^X/23/;s/^Y/24/' | sort -k1,1n -k2,2n -k3,3n | sed 's/^23/X/;s/^24/Y/;s/^/chr/' | bgzip -c > LowComplexity/intermediatefiles/GRCh38_SimpleRepeat_homopolymer_7to11.bed.gz\n",
    "sed 's/^chr//' LowComplexity/intermediatefiles/GRCh38_SimpleRepeat_p11.bed | grep \"^[0-9XY]\" | grep -v '_' | sed 's/^X/23/;s/^Y/24/' | sort -k1,1n -k2,2n -k3,3n | sed 's/^23/X/;s/^24/Y/;s/^/chr/' | bgzip -c > LowComplexity/intermediatefiles/GRCh38_SimpleRepeat_homopolymer_gt11.bed.gz\n",
    "sed 's/^chr//' LowComplexity/intermediatefiles/GRCh38_SimpleRepeat_p20.bed | grep \"^[0-9XY]\" | grep -v '_' | sed 's/^X/23/;s/^Y/24/' | sort -k1,1n -k2,2n -k3,3n | sed 's/^23/X/;s/^24/Y/;s/^/chr/' | bgzip -c > LowComplexity/intermediatefiles/GRCh38_SimpleRepeat_homopolymer_gt20.bed.gz"
   ]
  },
  {
   "cell_type": "code",
   "execution_count": 3,
   "metadata": {},
   "outputs": [
    {
     "name": "stdout",
     "output_type": "stream",
     "text": [
      "Thu May 12 15:01:46 EDT 2022\n"
     ]
    }
   ],
   "source": [
    "# DI-NUCLEOTIDES\n",
    "date\n",
    "subtractBed -a LowComplexity/intermediatefiles/GRCh38_SimpleRepeat_d11.bed -b LowComplexity/intermediatefiles/GRCh38_SimpleRepeat_d51.bed | sed 's/^chr//' | grep \"^[0-9XY]\" | grep -v '_' | sed 's/^X/23/;s/^Y/24/' | sort -k1,1n -k2,2n -k3,3n | sed 's/^23/X/;s/^24/Y/;s/^/chr/' | bgzip -c > LowComplexity/intermediatefiles/GRCh38_SimpleRepeat_diTR_11to50.bed.gz\n",
    "subtractBed -a LowComplexity/intermediatefiles/GRCh38_SimpleRepeat_d51.bed -b LowComplexity/intermediatefiles/GRCh38_SimpleRepeat_d201.bed | sed 's/^chr//' | grep \"^[0-9XY]\" | grep -v '_' | sed 's/^X/23/;s/^Y/24/' | sort -k1,1n -k2,2n -k3,3n | sed 's/^23/X/;s/^24/Y/;s/^/chr/' | bgzip -c > LowComplexity/intermediatefiles/GRCh38_SimpleRepeat_diTR_51to200.bed.gz\n",
    "sed 's/^chr//' LowComplexity/intermediatefiles/GRCh38_SimpleRepeat_d201.bed | grep \"^[0-9XY]\" | grep -v '_' | sed 's/^X/23/;s/^Y/24/' | sort -k1,1n -k2,2n -k3,3n | sed 's/^23/X/;s/^24/Y/;s/^/chr/' | bgzip -c > LowComplexity/intermediatefiles/GRCh38_SimpleRepeat_diTR_gt200.bed.gz"
   ]
  },
  {
   "cell_type": "code",
   "execution_count": 4,
   "metadata": {},
   "outputs": [
    {
     "name": "stdout",
     "output_type": "stream",
     "text": [
      "Thu May 12 15:01:56 EDT 2022\n"
     ]
    }
   ],
   "source": [
    "# TRI-NUCLEOTIDES\n",
    "date\n",
    "subtractBed -a LowComplexity/intermediatefiles/GRCh38_SimpleRepeat_t15.bed -b LowComplexity/intermediatefiles/GRCh38_SimpleRepeat_t51.bed | sed 's/^chr//' | grep \"^[0-9XY]\" | grep -v '_' | sed 's/^X/23/;s/^Y/24/' | sort -k1,1n -k2,2n -k3,3n | sed 's/^23/X/;s/^24/Y/;s/^/chr/' | bgzip -c > LowComplexity/intermediatefiles/GRCh38_SimpleRepeat_triTR_15to50.bed.gz\n",
    "subtractBed -a LowComplexity/intermediatefiles/GRCh38_SimpleRepeat_t51.bed -b LowComplexity/intermediatefiles/GRCh38_SimpleRepeat_t201.bed | sed 's/^chr//'  | grep \"^[0-9XY]\" | grep -v '_' | sed 's/^X/23/;s/^Y/24/' | sort -k1,1n -k2,2n -k3,3n | sed 's/^23/X/;s/^24/Y/;s/^/chr/' | bgzip -c > LowComplexity/intermediatefiles/GRCh38_SimpleRepeat_triTR_51to200.bed.gz\n",
    "sed 's/^chr//' LowComplexity/intermediatefiles/GRCh38_SimpleRepeat_t201.bed | grep \"^[0-9XY]\" | grep -v '_' | sed 's/^X/23/;s/^Y/24/' | sort -k1,1n -k2,2n -k3,3n | sed 's/^23/X/;s/^24/Y/;s/^/chr/' | bgzip -c > LowComplexity/intermediatefiles/GRCh38_SimpleRepeat_triTR_gt200.bed.gz"
   ]
  },
  {
   "cell_type": "code",
   "execution_count": 5,
   "metadata": {},
   "outputs": [
    {
     "name": "stdout",
     "output_type": "stream",
     "text": [
      "Thu May 12 15:01:59 EDT 2022\n"
     ]
    }
   ],
   "source": [
    "# QUAD-NUCLEOTIDES\n",
    "date\n",
    "subtractBed -a LowComplexity/intermediatefiles/GRCh38_SimpleRepeat_q20.bed -b LowComplexity/intermediatefiles/GRCh38_SimpleRepeat_q51.bed | sed 's/^chr//' | grep \"^[0-9XY]\" | grep -v '_' | sed 's/^X/23/;s/^Y/24/' | sort -k1,1n -k2,2n -k3,3n | sed 's/^23/X/;s/^24/Y/;s/^/chr/' | bgzip -c > LowComplexity/intermediatefiles/GRCh38_SimpleRepeat_quadTR_20to50.bed.gz\n",
    "subtractBed -a LowComplexity/intermediatefiles/GRCh38_SimpleRepeat_q51.bed -b LowComplexity/intermediatefiles/GRCh38_SimpleRepeat_q201.bed | sed 's/^chr//' | grep \"^[0-9XY]\" | grep -v '_' | sed 's/^X/23/;s/^Y/24/' | sort -k1,1n -k2,2n -k3,3n | sed 's/^23/X/;s/^24/Y/;s/^/chr/' | bgzip -c > LowComplexity/intermediatefiles/GRCh38_SimpleRepeat_quadTR_51to200.bed.gz\n",
    "sed 's/^chr//' LowComplexity/intermediatefiles/GRCh38_SimpleRepeat_q201.bed | grep \"^[0-9XY]\" | grep -v '_' | sed 's/^X/23/;s/^Y/24/' | sort -k1,1n -k2,2n -k3,3n | sed 's/^23/X/;s/^24/Y/;s/^/chr/' | bgzip -c > LowComplexity/intermediatefiles/GRCh38_SimpleRepeat_quadTR_gt200.bed.gz"
   ]
  },
  {
   "cell_type": "code",
   "execution_count": 6,
   "metadata": {},
   "outputs": [
    {
     "name": "stdout",
     "output_type": "stream",
     "text": [
      "Thu May 12 15:02:06 EDT 2022\n"
     ]
    }
   ],
   "source": [
    "# Add 5bp slop on either side of repeats to ensure insertions at the edge of the repeat and any adjacent repetitive structures are captured\n",
    "date\n",
    "slopBed -i LowComplexity/intermediatefiles/GRCh38_SimpleRepeat_homopolymer_4to6.bed.gz -b 5 -g ref-files/human.b38.genome | bgzip -c  > LowComplexity/intermediatefiles/GRCh38_SimpleRepeat_homopolymer_4to6_slop5_withUNITS.bed.gz\n",
    "slopBed -i LowComplexity/intermediatefiles/GRCh38_SimpleRepeat_homopolymer_7to11.bed.gz -b 5 -g ref-files/human.b38.genome | bgzip -c  > LowComplexity/intermediatefiles/GRCh38_SimpleRepeat_homopolymer_7to11_slop5_withUNITS.bed.gz\n",
    "slopBed -i LowComplexity/intermediatefiles/GRCh38_SimpleRepeat_homopolymer_gt11.bed.gz -b 5 -g ref-files/human.b38.genome | bgzip -c  > LowComplexity/intermediatefiles/GRCh38_SimpleRepeat_homopolymer_gt11_slop5_withUNITS.bed.gz\n",
    "slopBed -i LowComplexity/intermediatefiles/GRCh38_SimpleRepeat_homopolymer_gt20.bed.gz -b 5 -g ref-files/human.b38.genome | bgzip -c  > LowComplexity/intermediatefiles/GRCh38_SimpleRepeat_homopolymer_gt20_slop5_withUNITS.bed.gz\n",
    "slopBed -i LowComplexity/intermediatefiles/GRCh38_SimpleRepeat_diTR_11to50.bed.gz -b 5 -g ref-files/human.b38.genome | bgzip -c  > LowComplexity/intermediatefiles/GRCh38_SimpleRepeat_diTR_11to50_slop5_withUNITS.bed.gz\n",
    "slopBed -i LowComplexity/intermediatefiles/GRCh38_SimpleRepeat_diTR_51to200.bed.gz -b 5 -g ref-files/human.b38.genome | bgzip -c  > LowComplexity/intermediatefiles/GRCh38_SimpleRepeat_diTR_51to200_slop5_withUNITS.bed.gz\n",
    "slopBed -i LowComplexity/intermediatefiles/GRCh38_SimpleRepeat_diTR_gt200.bed.gz -b 5 -g ref-files/human.b38.genome | bgzip -c  > LowComplexity/intermediatefiles/GRCh38_SimpleRepeat_diTR_gt200_slop5_withUNITS.bed.gz\n",
    "slopBed -i LowComplexity/intermediatefiles/GRCh38_SimpleRepeat_triTR_15to50.bed.gz -b 5 -g ref-files/human.b38.genome | bgzip -c  > LowComplexity/intermediatefiles/GRCh38_SimpleRepeat_triTR_15to50_slop5_withUNITS.bed.gz\n",
    "slopBed -i LowComplexity/intermediatefiles/GRCh38_SimpleRepeat_triTR_51to200.bed.gz -b 5 -g ref-files/human.b38.genome | bgzip -c  > LowComplexity/intermediatefiles/GRCh38_SimpleRepeat_triTR_51to200_slop5_withUNITS.bed.gz\n",
    "slopBed -i LowComplexity/intermediatefiles/GRCh38_SimpleRepeat_triTR_gt200.bed.gz -b 5 -g ref-files/human.b38.genome | bgzip -c  > LowComplexity/intermediatefiles/GRCh38_SimpleRepeat_triTR_gt200_slop5_withUNITS.bed.gz\n",
    "slopBed -i LowComplexity/intermediatefiles/GRCh38_SimpleRepeat_quadTR_20to50.bed.gz -b 5 -g ref-files/human.b38.genome | bgzip -c  > LowComplexity/intermediatefiles/GRCh38_SimpleRepeat_quadTR_20to50_slop5_withUNITS.bed.gz\n",
    "slopBed -i LowComplexity/intermediatefiles/GRCh38_SimpleRepeat_quadTR_51to200.bed.gz -b 5 -g ref-files/human.b38.genome | bgzip -c  > LowComplexity/intermediatefiles/GRCh38_SimpleRepeat_quadTR_51to200_slop5_withUNITS.bed.gz\n",
    "slopBed -i LowComplexity/intermediatefiles/GRCh38_SimpleRepeat_quadTR_gt200.bed.gz -b 5 -g ref-files/human.b38.genome | bgzip -c  > LowComplexity/intermediatefiles/GRCh38_SimpleRepeat_quadTR_gt200_slop5_withUNITS.bed.gz"
   ]
  },
  {
   "cell_type": "code",
   "execution_count": 7,
   "metadata": {},
   "outputs": [
    {
     "name": "stdout",
     "output_type": "stream",
     "text": [
      "Thu May 12 15:03:37 EDT 2022\n"
     ]
    }
   ],
   "source": [
    "# Make 3 column versions so that hap.py doesn't perform more granular stratification\n",
    "date\n",
    "gzcat LowComplexity/intermediatefiles/GRCh38_SimpleRepeat_homopolymer_4to6_slop5_withUNITS.bed.gz | cut -f1-3 | bgzip -c  > LowComplexity/GRCh38_SimpleRepeat_homopolymer_4to6_slop5.bed.gz\n",
    "gzcat LowComplexity/intermediatefiles/GRCh38_SimpleRepeat_homopolymer_7to11_slop5_withUNITS.bed.gz | cut -f1-3  | bgzip -c  > LowComplexity/GRCh38_SimpleRepeat_homopolymer_7to11_slop5.bed.gz\n",
    "gzcat LowComplexity/intermediatefiles/GRCh38_SimpleRepeat_homopolymer_gt11_slop5_withUNITS.bed.gz | cut -f1-3 | bgzip -c  > LowComplexity/GRCh38_SimpleRepeat_homopolymer_gt11_slop5.bed.gz\n",
    "gzcat LowComplexity/intermediatefiles/GRCh38_SimpleRepeat_homopolymer_gt20_slop5_withUNITS.bed.gz | cut -f1-3 | bgzip -c  > LowComplexity/GRCh38_SimpleRepeat_homopolymer_gt20_slop5.bed.gz\n",
    "gzcat LowComplexity/intermediatefiles/GRCh38_SimpleRepeat_diTR_11to50_slop5_withUNITS.bed.gz | cut -f1-3 | bgzip -c  > LowComplexity/GRCh38_SimpleRepeat_diTR_11to50_slop5.bed.gz\n",
    "gzcat LowComplexity/intermediatefiles/GRCh38_SimpleRepeat_diTR_51to200_slop5_withUNITS.bed.gz | cut -f1-3 | bgzip -c  > LowComplexity/GRCh38_SimpleRepeat_diTR_51to200_slop5.bed.gz\n",
    "gzcat LowComplexity/intermediatefiles/GRCh38_SimpleRepeat_diTR_gt200_slop5_withUNITS.bed.gz | cut -f1-3 | bgzip -c  > LowComplexity/GRCh38_SimpleRepeat_diTR_gt200_slop5.bed.gz\n",
    "gzcat LowComplexity/intermediatefiles/GRCh38_SimpleRepeat_triTR_15to50_slop5_withUNITS.bed.gz | cut -f1-3 | bgzip -c  > LowComplexity/GRCh38_SimpleRepeat_triTR_15to50_slop5.bed.gz\n",
    "gzcat LowComplexity/intermediatefiles/GRCh38_SimpleRepeat_triTR_51to200_slop5_withUNITS.bed.gz | cut -f1-3 | bgzip -c  > LowComplexity/GRCh38_SimpleRepeat_triTR_51to200_slop5.bed.gz\n",
    "gzcat LowComplexity/intermediatefiles/GRCh38_SimpleRepeat_triTR_gt200_slop5_withUNITS.bed.gz | cut -f1-3 | bgzip -c  > LowComplexity/GRCh38_SimpleRepeat_triTR_gt200_slop5.bed.gz\n",
    "gzcat LowComplexity/intermediatefiles/GRCh38_SimpleRepeat_quadTR_20to50_slop5_withUNITS.bed.gz | cut -f1-3 | bgzip -c  > LowComplexity/GRCh38_SimpleRepeat_quadTR_20to50_slop5.bed.gz\n",
    "gzcat LowComplexity/intermediatefiles/GRCh38_SimpleRepeat_quadTR_51to200_slop5_withUNITS.bed.gz| cut -f1-3 | bgzip -c  > LowComplexity/GRCh38_SimpleRepeat_quadTR_51to200_slop5.bed.gz\n",
    "gzcat LowComplexity/intermediatefiles/GRCh38_SimpleRepeat_quadTR_gt200_slop5_withUNITS.bed.gz | cut -f1-3 | bgzip -c  > LowComplexity/GRCh38_SimpleRepeat_quadTR_gt200_slop5.bed.gz"
   ]
  },
  {
   "cell_type": "markdown",
   "metadata": {},
   "source": [
    "## 7. Find imperfect homopolymers >10bp & >20<a id=\"imphomo\"></a>\n",
    "by merging homopolymers >=4bp separated by 1bp. Also, add 5bp padding on both sides to include errors around edges"
   ]
  },
  {
   "cell_type": "code",
   "execution_count": 9,
   "metadata": {},
   "outputs": [
    {
     "name": "stdout",
     "output_type": "stream",
     "text": [
      "Thu May 12 15:07:16 EDT 2022\n"
     ]
    }
   ],
   "source": [
    "# IMPERFECT HOMOPOLYMERS >10\n",
    "# SimpleRepeat_homopolymer_gt11.bed.gz previously generated would be the corresponding \"PERFECT HOMOPOLYMERS\" file\n",
    "date\n",
    "grep 'unit=C' LowComplexity/intermediatefiles/GRCh38_SimpleRepeat_p3.bed | mergeBed -i stdin -d 1 | awk '$3-$2>10' > LowComplexity/intermediatefiles/GRCh38_SimpleRepeat_imperfecthomopolgt10_C.bed\n",
    "grep 'unit=G' LowComplexity/intermediatefiles/GRCh38_SimpleRepeat_p3.bed | mergeBed -i stdin -d 1 | awk '$3-$2>10' > LowComplexity/intermediatefiles/GRCh38_SimpleRepeat_imperfecthomopolgt10_G.bed\n",
    "grep 'unit=A' LowComplexity/intermediatefiles/GRCh38_SimpleRepeat_p3.bed | mergeBed -i stdin -d 1 | awk '$3-$2>10' > LowComplexity/intermediatefiles/GRCh38_SimpleRepeat_imperfecthomopolgt10_A.bed\n",
    "grep 'unit=T' LowComplexity/intermediatefiles/GRCh38_SimpleRepeat_p3.bed | mergeBed -i stdin -d 1 | awk '$3-$2>10' > LowComplexity/intermediatefiles/GRCh38_SimpleRepeat_imperfecthomopolgt10_T.bed\n",
    "\n",
    "multiIntersectBed -i LowComplexity/intermediatefiles/GRCh38_SimpleRepeat_imperfecthomopolgt10_C.bed \\\n",
    "\tLowComplexity/intermediatefiles/GRCh38_SimpleRepeat_imperfecthomopolgt10_G.bed \\\n",
    "\tLowComplexity/intermediatefiles/GRCh38_SimpleRepeat_imperfecthomopolgt10_A.bed \\\n",
    "\tLowComplexity/intermediatefiles/GRCh38_SimpleRepeat_imperfecthomopolgt10_T.bed | \n",
    "\tsed 's/^chr//' |\n",
    "\tcut -f1-3 | grep \"^[0-9XY]\" | grep -v '_' |\n",
    "\tsed 's/^/chr/' |\n",
    "\tslopBed -i stdin -b 5 -g ref-files/human.b38.genome |\n",
    "\tsed 's/^chr//' |\n",
    "\tsed 's/^X/23/;s/^Y/24/' | \n",
    "\tsort -k1,1n -k2,2n -k3,3n | \n",
    "\tsed 's/^23/X/;s/^24/Y/;s/^/chr/' | \n",
    "\tmergeBed -i stdin | \n",
    "\tbgzip -c > LowComplexity/GRCh38_SimpleRepeat_imperfecthomopolgt10_slop5.bed.gz"
   ]
  },
  {
   "cell_type": "code",
   "execution_count": 10,
   "metadata": {},
   "outputs": [
    {
     "name": "stdout",
     "output_type": "stream",
     "text": [
      "Thu May 12 15:10:20 EDT 2022\n"
     ]
    }
   ],
   "source": [
    "# IMPERFECT HOMOPOLYMERS >20\n",
    "date\n",
    "grep 'unit=C' LowComplexity/intermediatefiles/GRCh38_SimpleRepeat_p3.bed | mergeBed -i stdin -d 1 | awk '$3-$2>20' > LowComplexity/intermediatefiles/GRCh38_SimpleRepeat_imperfecthomopolgt20_C.bed\n",
    "grep 'unit=G' LowComplexity/intermediatefiles/GRCh38_SimpleRepeat_p3.bed | mergeBed -i stdin -d 1 | awk '$3-$2>20' > LowComplexity/intermediatefiles/GRCh38_SimpleRepeat_imperfecthomopolgt20_G.bed\n",
    "grep 'unit=A' LowComplexity/intermediatefiles/GRCh38_SimpleRepeat_p3.bed | mergeBed -i stdin -d 1 | awk '$3-$2>20' > LowComplexity/intermediatefiles/GRCh38_SimpleRepeat_imperfecthomopolgt20_A.bed\n",
    "grep 'unit=T' LowComplexity/intermediatefiles/GRCh38_SimpleRepeat_p3.bed | mergeBed -i stdin -d 1 | awk '$3-$2>20' > LowComplexity/intermediatefiles/GRCh38_SimpleRepeat_imperfecthomopolgt20_T.bed\n",
    "\n",
    "multiIntersectBed -i LowComplexity/intermediatefiles/GRCh38_SimpleRepeat_imperfecthomopolgt20_C.bed \\\n",
    "\tLowComplexity/intermediatefiles/GRCh38_SimpleRepeat_imperfecthomopolgt20_G.bed \\\n",
    "\tLowComplexity/intermediatefiles/GRCh38_SimpleRepeat_imperfecthomopolgt20_A.bed \\\n",
    "\tLowComplexity/intermediatefiles/GRCh38_SimpleRepeat_imperfecthomopolgt20_T.bed |\n",
    "\tsed 's/^chr//' |\n",
    "\tcut -f1-3 | grep \"^[0-9XY]\" | grep -v '_' |\n",
    "\tsed 's/^/chr/' |\n",
    "\tslopBed -i stdin -b 5 -g ref-files/human.b38.genome |\n",
    "\tsed 's/^chr//' |\n",
    "\tsed 's/^X/23/;s/^Y/24/' |\n",
    "\tsort -k1,1n -k2,2n -k3,3n |\n",
    "\tsed 's/^23/X/;s/^24/Y/;s/^/chr/' |\n",
    "\tmergeBed -i stdin |\n",
    "\tbgzip -c > LowComplexity/GRCh38_SimpleRepeat_imperfecthomopolgt20_slop5.bed.gz"
   ]
  },
  {
   "cell_type": "markdown",
   "metadata": {},
   "source": [
    "## 8. Get SimpleRepeats and LowComplexity from UCSC GRCh38 RepeatMasker file <a id=\"repmask\"></a>"
   ]
  },
  {
   "cell_type": "code",
   "execution_count": 11,
   "metadata": {},
   "outputs": [
    {
     "name": "stdout",
     "output_type": "stream",
     "text": [
      "Thu May 12 15:13:01 EDT 2022\n"
     ]
    }
   ],
   "source": [
    "# SIMPLE REPEATS\n",
    "date\n",
    "zgrep Simple_repeat LowComplexity/intermediatefiles/rmsk.txt.gz |\n",
    "\tawk '{ print $6 \"\\t\" $7 \"\\t\" $8 ; }' |\n",
    "\tsed 's/^chr//' |\n",
    "\tgrep \"^[0-9XY]\" | grep -v '_' |\n",
    "\tsed 's/^X/23/;s/^Y/24/' | \n",
    "\tsort -k1,1n -k2,2n -k3,3n | \n",
    "\tsed 's/^23/X/;s/^24/Y/;s/^/chr/' | \n",
    "\tmergeBed -i stdin | \n",
    "\tbgzip -c > LowComplexity/intermediatefiles/GRCh38_rmsk_Simple_repeat.bed.gz\n",
    "    \n",
    "gunzip -c LowComplexity/intermediatefiles/GRCh38_rmsk_Simple_repeat.bed.gz |\n",
    "\tawk '$3-$2<51' | \n",
    "\tbgzip -c > LowComplexity/intermediatefiles/GRCh38_rmsk_Simple_repeat_lt51.bed.gz\n",
    "    \n",
    "gunzip -c LowComplexity/intermediatefiles/GRCh38_rmsk_Simple_repeat.bed.gz |\n",
    "\tawk '$3-$2>50 && $3-$2<201' | \n",
    "\tbgzip -c > LowComplexity/intermediatefiles/GRCh38_rmsk_Simple_repeat_51to200.bed.gz\n",
    "    \n",
    "gunzip -c LowComplexity/intermediatefiles/GRCh38_rmsk_Simple_repeat.bed.gz |\n",
    "\tawk '$3-$2>200' | \n",
    "\tbgzip -c > LowComplexity/intermediatefiles/GRCh38_rmsk_Simple_repeat_gt200.bed.gz"
   ]
  },
  {
   "cell_type": "code",
   "execution_count": 12,
   "metadata": {},
   "outputs": [
    {
     "name": "stdout",
     "output_type": "stream",
     "text": [
      "Thu May 12 15:13:23 EDT 2022\n"
     ]
    }
   ],
   "source": [
    "# LOW COMPLEXITY\n",
    "date\n",
    "zgrep Low_complexity LowComplexity/intermediatefiles/rmsk.txt.gz |\n",
    "\tawk '{ print $6 \"\\t\" $7 \"\\t\" $8 ; }' |\n",
    "\tsed 's/^chr//' |\n",
    "\tgrep \"^[0-9XY]\" | grep -v '_' |\n",
    "\tsed 's/^X/23/;s/^Y/24/' | \n",
    "\tsort -k1,1n -k2,2n -k3,3n | \n",
    "\tsed 's/^23/X/;s/^24/Y/;s/^/chr/' | \n",
    "\tmergeBed -i stdin | \n",
    "    bgzip -c > LowComplexity/intermediatefiles/GRCh38_rmsk_Low_complexity.bed.gz\n",
    "    \n",
    "gunzip -c LowComplexity/intermediatefiles/GRCh38_rmsk_Low_complexity.bed.gz |\n",
    "\tawk '$3-$2<51' | \n",
    "\tbgzip -c > LowComplexity/intermediatefiles/GRCh38_rmsk_Low_complexity_lt51.bed.gz\n",
    "\n",
    "gunzip -c LowComplexity/intermediatefiles/GRCh38_rmsk_Low_complexity.bed.gz |\n",
    "\tawk '$3-$2>50 && $3-$2<201' | \n",
    "\tbgzip -c > LowComplexity/intermediatefiles/GRCh38_rmsk_Low_complexity_51to200.bed.gz\n",
    "\n",
    "gunzip -c LowComplexity/intermediatefiles/GRCh38_rmsk_Low_complexity.bed.gz |\n",
    "\tawk '$3-$2>200' | \n",
    "\tbgzip -c > LowComplexity/intermediatefiles/GRCh38_rmsk_Low_complexity_gt200.bed.gz"
   ]
  },
  {
   "cell_type": "markdown",
   "metadata": {},
   "source": [
    "## 9. Get SimpleRepeats from UCSC GRCh38 simpleRepeat file (from TRF) <a id=\"trf\"></a>"
   ]
  },
  {
   "cell_type": "code",
   "execution_count": 14,
   "metadata": {},
   "outputs": [
    {
     "name": "stdout",
     "output_type": "stream",
     "text": [
      "Thu May 12 15:15:14 EDT 2022\n"
     ]
    }
   ],
   "source": [
    "date\n",
    "gzcat LowComplexity/intermediatefiles/simpleRepeat.txt.gz |\n",
    "\tcut -f2-4  |\n",
    "\tsed 's/^chr//' |\n",
    "\tgrep \"^[0-9XY]\" | grep -v '_' |\n",
    "\tsed 's/^X/23/;s/^Y/24/' | \n",
    "\tsort -k1,1n -k2,2n -k3,3n | \n",
    "\tsed 's/^23/X/;s/^24/Y/;s/^/chr/' | \n",
    "\tmergeBed -i stdin | \n",
    "    bgzip -c > LowComplexity/intermediatefiles/GRCh38_trf_simpleRepeat.bed.gz\n",
    "\n",
    "gunzip -c LowComplexity/intermediatefiles/GRCh38_trf_simpleRepeat.bed.gz |\n",
    "\tawk '$3-$2<51' | \n",
    "\tbgzip -c > LowComplexity/intermediatefiles/GRCh38_trf_simpleRepeat_lt51.bed.gz\n",
    "\n",
    "gunzip -c LowComplexity/intermediatefiles/GRCh38_trf_simpleRepeat.bed.gz |\n",
    "\tawk '$3-$2>50 && $3-$2<201' | \n",
    "\tbgzip -c > LowComplexity/intermediatefiles/GRCh38_trf_simpleRepeat_51to200.bed.gz\n",
    "\n",
    "gunzip -c LowComplexity/intermediatefiles/GRCh38_trf_simpleRepeat.bed.gz |\n",
    "\tawk '$3-$2>200' | \n",
    "\tbgzip -c > LowComplexity/intermediatefiles/GRCh38_trf_simpleRepeat_gt200.bed.gz"
   ]
  },
  {
   "cell_type": "markdown",
   "metadata": {},
   "source": [
    "## 10. Satellites<a id=\"satellites\"></a>\n",
    "\n",
    "pull satellite regions from rmsk.txt put into bed format, sort and merge.\n",
    "- pull out \"Satellite\" (repClass field)\n",
    "- pull out chr, start, stop fields only for 3 col bed\n",
    "- rmsk included contigs, removed them \n",
    "\n",
    "Sum of satellite regions CHM13v2 > GRCh38 > GRCh37.  The difference between 37 and 38 is likely because in 37 , satellites in centromere were represented as \"gaps\" whereas in 38 they were annotated as \"satellites\". CHM13v2 assembly was able to futher annotate these regions. "
   ]
  },
  {
   "cell_type": "code",
   "execution_count": 11,
   "metadata": {},
   "outputs": [
    {
     "name": "stdout",
     "output_type": "stream",
     "text": [
      "Tue Jun  7 13:39:59 EDT 2022\n",
      "75657144\n"
     ]
    }
   ],
   "source": [
    "date\n",
    "gzcat LowComplexity/intermediatefiles/rmsk.txt.gz \\\n",
    "| grep \"Satellite\" \\\n",
    "| awk '{ print $6 \"\\t\" $7 \"\\t\" $8 ; }' \\\n",
    "| grep -Ev '^chr[0-9XYM]_|^chr[0-9][0-9]_|^chrUn_' \\\n",
    "| sortBed -faidx ref-files/GRCh38.fa.fai -i stdin \\\n",
    "| mergeBed -i stdin \\\n",
    "| bgzip -c > LowComplexity/intermediatefiles/GRCh38_satellites.bed.gz\n",
    "\n",
    "slopBed -i LowComplexity/intermediatefiles/GRCh38_satellites.bed.gz -b 5 -g ref-files/human.b38.genome \\\n",
    "| mergeBed -i stdin \\\n",
    "| bgzip -c  > LowComplexity/GRCh38_satellites_slop5.bed.gz\n",
    "\n",
    "gzcat LowComplexity/GRCh38_satellites_slop5.bed.gz | awk -F'\\t' 'BEGIN{SUM=0}{ SUM+=$3-$2 }END{print SUM}'"
   ]
  },
  {
   "cell_type": "markdown",
   "metadata": {},
   "source": [
    "**notin satellites**"
   ]
  },
  {
   "cell_type": "code",
   "execution_count": 12,
   "metadata": {},
   "outputs": [
    {
     "name": "stdout",
     "output_type": "stream",
     "text": [
      "Tue Jun  7 13:40:06 EDT 2022\n"
     ]
    }
   ],
   "source": [
    "date\n",
    "subtractBed -a ref-files/human.b38.genome.bed -b LowComplexity/GRCh38_satellites_slop5.bed.gz | bgzip -c > LowComplexity/GRCh38_notinsatellites_slop5.bed.gz"
   ]
  },
  {
   "cell_type": "markdown",
   "metadata": {},
   "source": [
    "## 11. Merge all homopolymers and find complement<a id=\"mergehopol\"></a>"
   ]
  },
  {
   "cell_type": "code",
   "execution_count": 21,
   "metadata": {},
   "outputs": [
    {
     "name": "stdout",
     "output_type": "stream",
     "text": [
      "Thu May 12 16:19:02 EDT 2022\n"
     ]
    }
   ],
   "source": [
    "date\n",
    "grep -Ev '_|^chrEBV' LowComplexity/intermediatefiles/GRCh38_SimpleRepeat_p6.bed | \n",
    "\tslopBed -i stdin -b 5 -g ref-files/human.b38.genome |\n",
    "\tmergeBed -i stdin |\n",
    "\tmultiIntersectBed -i stdin LowComplexity/GRCh38_SimpleRepeat_imperfecthomopolgt10_slop5.bed.gz |\n",
    "\tsed 's/^chr//' |\n",
    "\tcut -f1-3 | grep \"^[0-9XY]\" |\n",
    "\tsed 's/^X/23/;s/^Y/24/' | \n",
    "\tsort -k1,1n -k2,2n -k3,3n | \n",
    "\tsed 's/^23/X/;s/^24/Y/;s/^/chr/' | \n",
    "\tmergeBed -i stdin | \n",
    "\tbgzip -c > LowComplexity/GRCh38_AllHomopolymers_gt6bp_imperfectgt10bp_slop5.bed.gz\n",
    "\n",
    "subtractBed -a ref-files/human.b38.genome.bed -b LowComplexity/GRCh38_AllHomopolymers_gt6bp_imperfectgt10bp_slop5.bed.gz | bgzip -c > LowComplexity/GRCh38_notinAllHomopolymers_gt6bp_imperfectgt10bp_slop5.bed.gz"
   ]
  },
  {
   "cell_type": "markdown",
   "metadata": {},
   "source": [
    "## 12. Multiintersect exact repeats and UCSC rmsk/trf repeat bed files and subtract homopolymers<a id=\"mergeexact\"></a>"
   ]
  },
  {
   "cell_type": "code",
   "execution_count": 13,
   "metadata": {},
   "outputs": [
    {
     "name": "stdout",
     "output_type": "stream",
     "text": [
      "Tue Jun  7 13:40:25 EDT 2022\n",
      "sum of regions:\n",
      "181602570\n"
     ]
    }
   ],
   "source": [
    "#Intermediate AllTandemRepeats before any size range selection\n",
    "date \n",
    "multiIntersectBed -i LowComplexity/intermediatefiles/GRCh38_SimpleRepeat_d11.bed \\\n",
    "\tLowComplexity/intermediatefiles/GRCh38_SimpleRepeat_t15.bed \\\n",
    "\tLowComplexity/intermediatefiles/GRCh38_SimpleRepeat_q20.bed \\\n",
    "\tLowComplexity/intermediatefiles/GRCh38_rmsk_Simple_repeat.bed.gz \\\n",
    "\tLowComplexity/intermediatefiles/GRCh38_rmsk_Low_complexity.bed.gz \\\n",
    "\tLowComplexity/intermediatefiles/GRCh38_trf_simpleRepeat.bed.gz \\\n",
    "\tLowComplexity/intermediatefiles/GRCh38_satellites.bed.gz | \n",
    "\tsed 's/^chr//' | \n",
    "\tcut -f1-3 | grep \"^[0-9XY]\" | grep -v '_' | \n",
    "\tsed 's/^/chr/' | \n",
    "\tslopBed -i stdin -b 5 -g ref-files/human.b38.genome | \n",
    "\tsed 's/^chr//' | \n",
    "\tsed 's/^X/23/;s/^Y/24/' | \n",
    "\tsort -k1,1n -k2,2n -k3,3n | \n",
    "\tsed 's/^23/X/;s/^24/Y/;s/^/chr/' | \n",
    "\tmergeBed -i stdin > LowComplexity/intermediatefiles/GRCh38_AllTandemRepeats_intermediate.bed\n",
    "    \n",
    "echo \"sum of regions:\"\n",
    "cat LowComplexity/intermediatefiles/GRCh38_AllTandemRepeats_intermediate.bed | awk -F'\\t' 'BEGIN{SUM=0}{ SUM+=$3-$2 }END{print SUM}'"
   ]
  },
  {
   "cell_type": "code",
   "execution_count": 14,
   "metadata": {},
   "outputs": [
    {
     "name": "stdout",
     "output_type": "stream",
     "text": [
      "Tue Jun  7 13:40:46 EDT 2022\n",
      "sum of regions:\n",
      "29039810\n"
     ]
    }
   ],
   "source": [
    "#lt51bp\n",
    "date\n",
    "awk '$3-$2<61' LowComplexity/intermediatefiles/GRCh38_AllTandemRepeats_intermediate.bed | \n",
    "\tsubtractBed -a stdin -b LowComplexity/GRCh38_AllHomopolymers_gt6bp_imperfectgt10bp_slop5.bed.gz | \n",
    "\tbgzip -c > LowComplexity/GRCh38_AllTandemRepeats_lt51bp_slop5.bed.gz\n",
    "    \n",
    "echo \"sum of regions:\"\n",
    "gzcat LowComplexity/GRCh38_AllTandemRepeats_lt51bp_slop5.bed.gz | awk -F'\\t' 'BEGIN{SUM=0}{ SUM+=$3-$2 }END{print SUM}'"
   ]
  },
  {
   "cell_type": "code",
   "execution_count": 15,
   "metadata": {},
   "outputs": [
    {
     "name": "stdout",
     "output_type": "stream",
     "text": [
      "Tue Jun  7 13:40:52 EDT 2022\n",
      "sum of regions:\n",
      "25934792\n"
     ]
    }
   ],
   "source": [
    "#51to200bp\n",
    "date\n",
    "awk '$3-$2>60 && $3-$2<211' LowComplexity/intermediatefiles/GRCh38_AllTandemRepeats_intermediate.bed | \n",
    "\tsubtractBed -a stdin -b LowComplexity/GRCh38_AllHomopolymers_gt6bp_imperfectgt10bp_slop5.bed.gz | \n",
    "\tbgzip -c > LowComplexity/GRCh38_AllTandemRepeats_51to200bp_slop5.bed.gz\n",
    "    \n",
    "echo \"sum of regions:\"\n",
    "gzcat LowComplexity/GRCh38_AllTandemRepeats_51to200bp_slop5.bed.gz | awk -F'\\t' 'BEGIN{SUM=0}{ SUM+=$3-$2 }END{print SUM}'"
   ]
  },
  {
   "cell_type": "code",
   "execution_count": 16,
   "metadata": {},
   "outputs": [
    {
     "name": "stdout",
     "output_type": "stream",
     "text": [
      "Tue Jun  7 13:41:00 EDT 2022\n",
      "sum of regions:\n",
      "40752164\n"
     ]
    }
   ],
   "source": [
    "#201to10000bp\n",
    "date\n",
    "awk '$3-$2>210 && $3-$2<10011' LowComplexity/intermediatefiles/GRCh38_AllTandemRepeats_intermediate.bed | \n",
    "\tsubtractBed -a stdin -b LowComplexity/GRCh38_AllHomopolymers_gt6bp_imperfectgt10bp_slop5.bed.gz | \n",
    "\tbgzip -c > LowComplexity/GRCh38_AllTandemRepeats_201to10000bp_slop5.bed.gz\n",
    "    \n",
    "echo \"sum of regions:\"\n",
    "gzcat LowComplexity/GRCh38_AllTandemRepeats_201to10000bp_slop5.bed.gz | awk -F'\\t' 'BEGIN{SUM=0}{ SUM+=$3-$2 }END{print SUM}'"
   ]
  },
  {
   "cell_type": "code",
   "execution_count": 17,
   "metadata": {},
   "outputs": [
    {
     "name": "stdout",
     "output_type": "stream",
     "text": [
      "Tue Jun  7 13:41:04 EDT 2022\n",
      "sum of regions:\n",
      "73385988\n"
     ]
    }
   ],
   "source": [
    "#gt10000bp\n",
    "date\n",
    "awk '$3-$2>10010' LowComplexity/intermediatefiles/GRCh38_AllTandemRepeats_intermediate.bed | \n",
    "\tsubtractBed -a stdin -b LowComplexity/GRCh38_AllHomopolymers_gt6bp_imperfectgt10bp_slop5.bed.gz | \n",
    "\tbgzip -c > LowComplexity/GRCh38_AllTandemRepeats_gt10000bp_slop5.bed.gz\n",
    "    \n",
    "echo \"sum of regions:\"\n",
    "gzcat LowComplexity/GRCh38_AllTandemRepeats_gt10000bp_slop5.bed.gz | awk -F'\\t' 'BEGIN{SUM=0}{ SUM+=$3-$2 }END{print SUM}'"
   ]
  },
  {
   "cell_type": "code",
   "execution_count": 18,
   "metadata": {},
   "outputs": [
    {
     "name": "stdout",
     "output_type": "stream",
     "text": [
      "Tue Jun  7 13:41:11 EDT 2022\n",
      "sum of regions:\n",
      "124329651\n"
     ]
    }
   ],
   "source": [
    "#gt100bp\n",
    "date\n",
    "awk '$3-$2>110' LowComplexity/intermediatefiles/GRCh38_AllTandemRepeats_intermediate.bed | \n",
    "\tsubtractBed -a stdin -b LowComplexity/GRCh38_AllHomopolymers_gt6bp_imperfectgt10bp_slop5.bed.gz | \n",
    "\tbgzip -c > LowComplexity/GRCh38_AllTandemRepeats_gt100bp_slop5.bed.gz\n",
    "\n",
    "echo \"sum of regions:\"\n",
    "gzcat LowComplexity/GRCh38_AllTandemRepeats_gt100bp_slop5.bed.gz | awk -F'\\t' 'BEGIN{SUM=0}{ SUM+=$3-$2 }END{print SUM}'"
   ]
  },
  {
   "cell_type": "markdown",
   "metadata": {},
   "source": [
    "## 13. Merge all homopolymers and TRs and find complement<a id=\"mergehomTR\"></a>"
   ]
  },
  {
   "cell_type": "code",
   "execution_count": 19,
   "metadata": {},
   "outputs": [
    {
     "name": "stdout",
     "output_type": "stream",
     "text": [
      "Tue Jun  7 13:41:19 EDT 2022\n",
      "sum of regions:\n",
      "253090200\n"
     ]
    }
   ],
   "source": [
    "date\n",
    "multiIntersectBed -i LowComplexity/GRCh38_AllTandemRepeats_lt51bp_slop5.bed.gz \\\n",
    "\tLowComplexity/GRCh38_AllTandemRepeats_51to200bp_slop5.bed.gz \\\n",
    "\tLowComplexity/GRCh38_AllTandemRepeats_201to10000bp_slop5.bed.gz \\\n",
    "\tLowComplexity/GRCh38_AllTandemRepeats_gt10000bp_slop5.bed.gz \\\n",
    "\tLowComplexity/GRCh38_AllHomopolymers_gt6bp_imperfectgt10bp_slop5.bed.gz | \n",
    "\tsed 's/^chr//' | \n",
    "\tcut -f1-3 | grep \"^[0-9XY]\" | grep -v '_' | \n",
    "\tsed 's/^X/23/;s/^Y/24/' | \n",
    "\tsort -k1,1n -k2,2n -k3,3n | \n",
    "\tsed 's/^23/X/;s/^24/Y/;s/^/chr/' | \n",
    "\tmergeBed -i stdin | \n",
    "\tbgzip -c > LowComplexity/GRCh38_AllTandemRepeatsandHomopolymers_slop5.bed.gz\n",
    "\n",
    "subtractBed -a ref-files/human.b38.genome.bed \\\n",
    "-b LowComplexity/GRCh38_AllTandemRepeatsandHomopolymers_slop5.bed.gz | \n",
    "bgzip -c > LowComplexity/GRCh38_notinAllTandemRepeatsandHomopolymers_slop5.bed.gz\n",
    "\n",
    "echo \"sum of regions:\"\n",
    "gzcat LowComplexity/GRCh38_AllTandemRepeatsandHomopolymers_slop5.bed.gz | awk -F'\\t' 'BEGIN{SUM=0}{ SUM+=$3-$2 }END{print SUM}'"
   ]
  },
  {
   "cell_type": "markdown",
   "metadata": {},
   "source": [
    "## 14. All TandemRepeats and its complement<a id=\"allTR\"></a>\n",
    "\n",
    "NOTE: allTR strats were erroneously generated in Union ipynb however should have been generated in LowComplexity ipynb.  Code has been copied over for future use and files transferred to LowComplexity. "
   ]
  },
  {
   "cell_type": "markdown",
   "metadata": {},
   "source": [
    "date\n",
    "multiIntersectBed -i \\\n",
    "LowComplexity/GRCh38_AllTandemRepeats_lt51bp_slop5.bed.gz \\\n",
    "LowComplexity/GRCh38_AllTandemRepeats_51to200bp_slop5.bed.gz \\\n",
    "LowComplexity/GRCh38_AllTandemRepeats_201to10000bp_slop5.bed.gz \\\n",
    "LowComplexity/GRCh38_AllTandemRepeats_gt10000bp_slop5.bed.gz \\\n",
    "| sortBed -faidx ref-files/GRCh38.fa.fai -i stdin \\\n",
    "| mergeBed -i stdin \\\n",
    "| bgzip -c > Union/GRCh38_allTandemRepeats.bed.gz\n",
    "\n",
    "subtractBed \\\n",
    "-a ref-files/human.b38.genome.bed -b Union/GRCh38_allTandemRepeats.bed.gz \\\n",
    "| bgzip -c > Union/GRCh38_notinallTandemRepeats.bed.gz\n",
    "\n",
    "echo \"sum of regions:\"\n",
    "gzcat Union/GRCh38_allTandemRepeats.bed.gz | awk -F'\\t' 'BEGIN{SUM=0}{ SUM+=$3-$2 }END{print SUM}'"
   ]
  }
 ],
 "metadata": {
  "kernelspec": {
   "display_name": "Bash",
   "language": "bash",
   "name": "bash"
  },
  "language_info": {
   "codemirror_mode": "shell",
   "file_extension": ".sh",
   "mimetype": "text/x-sh",
   "name": "bash"
  }
 },
 "nbformat": 4,
 "nbformat_minor": 2
}
