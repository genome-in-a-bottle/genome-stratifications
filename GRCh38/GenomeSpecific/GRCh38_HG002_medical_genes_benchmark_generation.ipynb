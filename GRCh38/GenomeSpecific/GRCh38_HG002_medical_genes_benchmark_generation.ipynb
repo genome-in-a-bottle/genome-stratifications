{
 "cells": [
  {
   "cell_type": "markdown",
   "metadata": {},
   "source": [
    "#  Generating GRCh38 Medical Genes Benchmark\n",
    "\n",
    "This notebook details the steps to generate the challenging medically relevant genes benchmark. All paths are from the top level directory of the repository and large dependency files that can not be stored in a git repo are indicated with URL in comments.\n",
    "\n",
    "\n",
    "1) Look up coordinates for gene symbols in ENSEMBLE GRCh38 Human Genes v100 of the union of Mandelker et al Supplementary Table 13, COSMIC Cancer Gene Census, Steve Lincoln Medical Gene Lists -- GRCh38_lookup_MRG_symbol_coordinates_ENSEMBL.R\n",
    "\n",
    "2) Find overlap of genes with HG002 v4.2.1, then add slop and find overlap with HG002 hifiasm v0.11 dip.bed\n",
    "\n",
    "3) Find genes that were < 90% overlap with GRCh38 v4.2.1 and fully covered with overlapping segdups and flanking sequence in HG002 hifiasm v0.11 GRCh38 dip.bed, find union of GRCh37 and GRCh38 MRG lists, then add genes that are unique to GRCh37 but still fully fully covered with overlapping segdups and flanking sequence in HG002 hifiasm v0.11 GRCh38 dip.bed -- find_coordinates_of_MRG_GRCh37_GRCh38_union.R\n",
    "\n",
    "4) Use coordinates for benchmark then remove \n",
    "    - homopolymers and imperfect homopolymers > 20\n",
    "    - SVs with 50bp flanking and overlapping tandem repeats\n",
    "    - hifiasm error\n",
    "    - GRCh38 GAPs\n",
    "    - Remove partially covered tandem repeats\n",
    "    - Remove MHC region\n",
    "    \n",
    "5) Generate stratification files for Complex Variants in Tandem Repeats\n",
    "    - GRCh38_MRG_stratification_ComplexVar_in_TR.bed"
   ]
  },
  {
   "cell_type": "markdown",
   "metadata": {},
   "source": [
    "# Downloading Data Dependencies"
   ]
  },
  {
   "cell_type": "markdown",
   "metadata": {},
   "source": [
    "## hifiasm Variants and Diploid Regions"
   ]
  },
  {
   "cell_type": "code",
   "execution_count": null,
   "metadata": {},
   "outputs": [],
   "source": [
    "mkdir -p data/hifiasm_dipcall_output\n",
    "wget -O data/hifiasm_dipcall_output/HG002v11-align2-GRCh38.dip.bed \\\n",
    "    https://ftp-trace.ncbi.nlm.nih.gov/ReferenceSamples/giab/release/AshkenazimTrio/HG002_NA24385_son/CMRG_v1.00/GRCh38/SupplementaryFiles/HG002v11-align2-GRCh38/HG002v11-align2-GRCh38.dip.bed\n",
    "\n",
    "wget -O data/hifiasm_dipcall_output/HG002v11-align2-GRCh38.dip.vcf.gz \\\n",
    "    https://ftp-trace.ncbi.nlm.nih.gov/ReferenceSamples/giab/release/AshkenazimTrio/HG002_NA24385_son/CMRG_v1.00/GRCh38/SupplementaryFiles/HG002v11-align2-GRCh38/HG002v11-align2-GRCh38.dip.vcf.gz"
   ]
  },
  {
   "cell_type": "markdown",
   "metadata": {},
   "source": [
    "## Reference Genome"
   ]
  },
  {
   "cell_type": "code",
   "execution_count": null,
   "metadata": {},
   "outputs": [],
   "source": [
    "wget -O resources/GCA_000001405.15_GRCh38_no_alt_analysis_set.fa.gz \\\n",
    "    https://ftp-trace.ncbi.nlm.nih.gov/ReferenceSamples/giab/release/references/GRCh38/GCA_000001405.15_GRCh38_no_alt_analysis_set.fasta.gz\n",
    "\n",
    "gunzip resources/GCA_000001405.15_GRCh38_no_alt_analysis_set.fa.gz\n",
    "samtools faidx resources/GCA_000001405.15_GRCh38_no_alt_analysis_set.fa\n",
    "    "
   ]
  },
  {
   "cell_type": "markdown",
   "metadata": {},
   "source": [
    "## Genomic Stratifications"
   ]
  },
  {
   "cell_type": "code",
   "execution_count": null,
   "metadata": {},
   "outputs": [],
   "source": [
    "mkdir -p resources/giab_stratifications\n",
    "wget -O resources/giab_stratifications/GRCh38_segdups.bed.gz \\\n",
    "    https://ftp-trace.ncbi.nlm.nih.gov/ReferenceSamples/giab/release/genome-stratifications/v2.0/GRCh38/SegmentalDuplications/GRCh38_segdups.bed.gz\n",
    "\n",
    "wget -O resources/giab_stratifications/GRCh38_MHC.bed.gz \\\n",
    "    https://ftp-trace.ncbi.nlm.nih.gov/ReferenceSamples/giab/release/genome-stratifications/v2.0/GRCh38/OtherDifficult/GRCh38_MHC.bed.gz\n",
    "\n",
    "wget -O resources/giab_stratifications/GRCh38_AllTandemRepeats_gt100bp_slop5.bed \\\n",
    "    https://ftp-trace.ncbi.nlm.nih.gov/ReferenceSamples/giab/release/genome-stratifications/v2.0/GRCh37/LowComplexity/GRCh37_AllTandemRepeats_gt100bp_slop5.bed.gz\n",
    "\n",
    "wget -O resources/giab_stratifications/GRCh38_AllTandemRepeatsandHomopolymers_slop5.bed.gz \\\n",
    "    ftp://ftp-trace.ncbi.nlm.nih.gov/ReferenceSamples/giab/release/genome-stratifications/v2.0/GRCh38/LowComplexity/GRCh38_AllTandemRepeatsandHomopolymers_slop5.bed.gz"
   ]
  },
  {
   "cell_type": "markdown",
   "metadata": {},
   "source": [
    "## GIAB Benchmark Sets"
   ]
  },
  {
   "cell_type": "markdown",
   "metadata": {},
   "source": [
    "### CMRG Draft Benchmarks"
   ]
  },
  {
   "cell_type": "code",
   "execution_count": null,
   "metadata": {},
   "outputs": [],
   "source": [
    "mkdir -p data/manually_created_files/cmrg_draft_benchmarks\n",
    "## v0.02.03 small variant benchmark\n",
    "wget -O data/manually_created_files/cmrg_draft_benchmarks/HG002_GRCh38_difficult_medical_gene_smallvar_benchmark_v0.02.03.bed \\\n",
    "    https://ftp-trace.ncbi.nlm.nih.gov/giab/ftp/data/AshkenazimTrio/analysis/NIST_HG002_medical_genes_benchmark_v0.02/GRCh38/HG002_GRCh38_difficult_medical_gene_smallvar_benchmark_v0.02.03.bed\n",
    "\n",
    "wget -O data/manually_created_files/cmrg_draft_benchmarks/HG002_GRCh38_difficult_medical_gene_smallvar_benchmark_v0.02.03.vcf.gz \\\n",
    "    https://ftp-trace.ncbi.nlm.nih.gov/giab/ftp/data/AshkenazimTrio/analysis/NIST_HG002_medical_genes_benchmark_v0.02/GRCh38/HG002_GRCh38_difficult_medical_gene_smallvar_benchmark_v0.02.03.vcf.gz\n",
    "\n",
    "wget -O data/manually_created_files/cmrg_draft_benchmarks/HG002_GRCh38_difficult_medical_gene_smallvar_benchmark_v0.02.03.vcf.gz.tbi \\\n",
    "    https://ftp-trace.ncbi.nlm.nih.gov/giab/ftp/data/AshkenazimTrio/analysis/NIST_HG002_medical_genes_benchmark_v0.02/GRCh38/HG002_GRCh38_difficult_medical_gene_smallvar_benchmark_v0.02.03.vcf.gz.tbi\n",
    "\n",
    "## Download v0.01 SV benchmark\n",
    "wget -O data/manually_created_files/cmrg_draft_benchmarks/HG002_GRCh38_difficult_medical_gene_SV_benchmark_v0.01.bed \\\n",
    "    https://ftp-trace.ncbi.nlm.nih.gov/ReferenceSamples/giab/data/AshkenazimTrio/analysis/NIST_HG002_medical_genes_SV_benchmark_v0.01/HG002_GRCh38_difficult_medical_gene_SV_benchmark_v0.01.bed\n",
    "wget -O data/manually_created_files/cmrg_draft_benchmarks/HG002_GRCh38_difficult_medical_gene_SV_benchmark_v0.01.vcf.gz \\\n",
    "    https://ftp-trace.ncbi.nlm.nih.gov/ReferenceSamples/giab/data/AshkenazimTrio/analysis/NIST_HG002_medical_genes_SV_benchmark_v0.01/HG002_GRCh38_difficult_medical_gene_SV_benchmark_v0.01.vcf.gz\n",
    "wget -O data/manually_created_files/cmrg_draft_benchmarks/HG002_GRCh38_difficult_medical_gene_SV_benchmark_v0.01.vcf.gz.tbi \\\n",
    "    https://ftp-trace.ncbi.nlm.nih.gov/ReferenceSamples/giab/data/AshkenazimTrio/analysis/NIST_HG002_medical_genes_SV_benchmark_v0.01/HG002_GRCh38_difficult_medical_gene_SV_benchmark_v0.01.vcf.gz.tbi"
   ]
  },
  {
   "cell_type": "markdown",
   "metadata": {},
   "source": [
    "### V4.2.1 GRCh38 benchmark"
   ]
  },
  {
   "cell_type": "code",
   "execution_count": null,
   "metadata": {},
   "outputs": [],
   "source": [
    "mkdir -p data/v4.2.1_benchmark_regions\n",
    "wget -O data/v4.2.1_benchmark_regions/HG002_GRCh38_1_22_v4.2.1_benchmark_noinconsistent.bed \\\n",
    "    https://ftp-trace.ncbi.nlm.nih.gov/ReferenceSamples/giab/release/AshkenazimTrio/HG002_NA24385_son/NISTv4.2.1/GRCh38/HG002_GRCh38_1_22_v4.2.1_benchmark_noinconsistent.bed"
   ]
  },
  {
   "cell_type": "markdown",
   "metadata": {},
   "source": [
    "# From these genes to be benchmarked remove the following regions that we exclude from the diploid assembly based variant calls:\n",
    "\n",
    "    - homopolymers and imperfect homopolymers > 20\n",
    "    - SVs with 50bp flanking and overlapping tandem repeats\n",
    "    - hifiasm error\n",
    "    - GRCh38 GAPs\n",
    "    - Remove partially covered tandem repeats\n",
    "\n"
   ]
  },
  {
   "cell_type": "markdown",
   "metadata": {},
   "source": [
    "## Remove homopolymers > 20bp"
   ]
  },
  {
   "cell_type": "code",
   "execution_count": null,
   "metadata": {},
   "outputs": [],
   "source": [
    "bedtools subtract \\\n",
    "    -a workflow/smallvar_benchmark/GRCh38/HG002_GRCh38_CMRG_coordinates_temp_bedtools_merge.bed \\\n",
    "    -b data/giab_stratifications/GRCh38/GRCh38_SimpleRepeat_homopolymer_gt20_slop5.bed.gz \\\n",
    "    > workflow/smallvar_benchmark/GRCh38/HG002_GRCh38_CMRG_coordinates_temp_subtract_GRCh38_SimpleRepeat_homopolymer_gt20_slop5.bed"
   ]
  },
  {
   "cell_type": "markdown",
   "metadata": {},
   "source": [
    "## Remove imperfect homopolymers > 20bp"
   ]
  },
  {
   "cell_type": "code",
   "execution_count": null,
   "metadata": {},
   "outputs": [],
   "source": [
    "bedtools subtract \\\n",
    "    -a workflow/smallvar_benchmark/GRCh38/HG002_GRCh38_CMRG_coordinates_temp_subtract_GRCh38_SimpleRepeat_homopolymer_gt20_slop5.bed \\\n",
    "    -b data/giab_stratifications/GRCh38/GRCh38_SimpleRepeat_imperfecthomopolgt20_slop5.bed.gz \\\n",
    "    > workflow/smallvar_benchmark/GRCh38/HG002_GRCh38_CMRG_coordinates_temp_subtract_GRCh38_SimpleRepeat_imperfecthomopolgt20_slop5.bed"
   ]
  },
  {
   "cell_type": "markdown",
   "metadata": {},
   "source": [
    "## SVs with 50bp flanking and overlapping tandem repeats"
   ]
  },
  {
   "cell_type": "code",
   "execution_count": null,
   "metadata": {},
   "outputs": [],
   "source": [
    "gunzip -c data/hifiasm_dipcall_output/HG002v11-align2-GRCh38.dip.vcf.gz \\\n",
    "    | awk 'length($4)>49 || length($5)>49' \\\n",
    "    | awk '{FS=OFS=\"\\t\"} {print $1,$2-1,$2+length($4)}' \\\n",
    "    > workflow/smallvar_benchmark/GRCh38/HG002v11-align2-GRCh38.dip_SVsgt49bp.bed\n",
    "\n",
    "intersectBed -wa \\\n",
    "    -a resources/giab_stratifications/GRCh38_AllTandemRepeatsandHomopolymers_slop5.bed.gz \\\n",
    "    -b workflow/smallvar_benchmark/GRCh38/HG002v11-align2-GRCh38.dip_SVsgt49bp.bed \\\n",
    "    | multiIntersectBed -i stdin workflow/smallvar_benchmark/GRCh38/HG002v11-align2-GRCh38.dip_SVsgt49bp.bed \\\n",
    "    |  awk '{FS=OFS=\"\\t\"} {print $1,$2-50,$3+50}' \\\n",
    "    | mergeBed -i stdin -d 1000 \\\n",
    "    > workflow/smallvar_benchmark/GRCh38/HG002v11-align2-GRCh38.dip_SVsgt49bp_repeatexpanded_slop50_merge1000.bed\n",
    "\n",
    "bedtools subtract \\\n",
    "    -a workflow/smallvar_benchmark/GRCh38/HG002_GRCh38_CMRG_coordinates_temp_subtract_GRCh38_SimpleRepeat_imperfecthomopolgt20_slop5.bed \\\n",
    "    -b workflow/smallvar_benchmark/GRCh38/HG002v11-align2-GRCh38.dip_SVsgt49bp_repeatexpanded_slop50_merge1000.bed \\\n",
    "    > workflow/smallvar_benchmark/GRCh38/HG002_GRCh38_CMRG_coordinates_temp_subtract_SVsgt49bp_repeatexpanded_slop50_merge1000.bed\n",
    "    "
   ]
  },
  {
   "cell_type": "markdown",
   "metadata": {},
   "source": [
    "## Remove hifiasm error on chr21"
   ]
  },
  {
   "cell_type": "code",
   "execution_count": null,
   "metadata": {},
   "outputs": [],
   "source": [
    "# GRCh38_hifiasm_error.bed was created through manual curation of clusters of errors identified during evaluation steps of benchmark development\n",
    "\n",
    "bedtools subtract \\\n",
    "    -a workflow/smallvar_benchmark/GRCh38/HG002_GRCh38_CMRG_coordinates_temp_subtract_SVsgt49bp_repeatexpanded_slop50_merge1000.bed \\\n",
    "    -b data/manually_created_files/GRCh38_hifiasm_error.bed \\\n",
    "    > workflow/smallvar_benchmark/GRCh38/HG002_GRCh38_CMRG_coordinates_temp_subtract_hifiasm_error.bed\n",
    "    "
   ]
  },
  {
   "cell_type": "markdown",
   "metadata": {},
   "source": [
    "## Remove GRCh38 GAPs"
   ]
  },
  {
   "cell_type": "code",
   "execution_count": null,
   "metadata": {},
   "outputs": [],
   "source": [
    "# GRCh38_MRG_GAPs.bed was created through manual curation of clusters of errors identified during evaluation steps of benchmark development\n",
    "\n",
    "bedtools subtract \\\n",
    "    -a workflow/smallvar_benchmark/GRCh38/HG002_GRCh38_CMRG_coordinates_temp_subtract_hifiasm_error.bed \\\n",
    "    -b data/manually_created_files/GRCh38_MRG_GAPs.bed \\\n",
    "    > workflow/smallvar_benchmark/GRCh38/HG002_GRCh38_CMRG_coordinates_temp_subtract_GRCh38_MRG_GAPs.bed\n",
    "    "
   ]
  },
  {
   "cell_type": "markdown",
   "metadata": {},
   "source": [
    "## Sort"
   ]
  },
  {
   "cell_type": "code",
   "execution_count": null,
   "metadata": {},
   "outputs": [],
   "source": [
    "cat workflow/smallvar_benchmark/GRCh38/HG002_GRCh38_CMRG_coordinates_temp_subtract_GRCh38_MRG_GAPs.bed \\\n",
    "    | sed 's/^chr//' \\\n",
    "    | sort -k1,1n -k2,2n \\\n",
    "    | sed 's/^/chr/' \\\n",
    "    > workflow/smallvar_benchmark/GRCh38/HG002_GRCh38_CMRG_coordinates_temp_subtract_GRCh38_MRG_GAPs_sorted.bed"
   ]
  },
  {
   "cell_type": "markdown",
   "metadata": {},
   "source": [
    "## Remove partially covered tandem repeats\n"
   ]
  },
  {
   "cell_type": "code",
   "execution_count": null,
   "metadata": {},
   "outputs": [],
   "source": [
    "complementBed \\\n",
    "    -i workflow/smallvar_benchmark/GRCh38/HG002_GRCh38_CMRG_coordinates_temp_subtract_GRCh38_MRG_GAPs_sorted.bed \\\n",
    "    -g resources/human.b38.genome \\\n",
    "    | intersectBed -wa \\\n",
    "        -a resources/giab_stratifications/GRCh38_AllTandemRepeatsandHomopolymers_slop5.bed.gz \\\n",
    "        -b stdin \\\n",
    "    | subtractBed \\\n",
    "        -a workflow/smallvar_benchmark/GRCh38/HG002_GRCh38_CMRG_coordinates_temp_subtract_GRCh38_MRG_GAPs_sorted.bed \\\n",
    "        -b stdin \\\n",
    "    > workflow/smallvar_benchmark/GRCh38/HG002_GRCh38_CMRG_coordinates_temp_subtract_partial_tandem_repeats.bed"
   ]
  },
  {
   "cell_type": "markdown",
   "metadata": {},
   "source": [
    "## Remove MHC as it is covered in MHC benchmark"
   ]
  },
  {
   "cell_type": "code",
   "execution_count": null,
   "metadata": {},
   "outputs": [],
   "source": [
    "bedtools subtract \\\n",
    "    -a workflow/smallvar_benchmark/GRCh38/HG002_GRCh38_CMRG_coordinates_temp_subtract_partial_tandem_repeats.bed \\\n",
    "    -b resources/giab_stratifications/GRCh38_MHC.bed.gz \\\n",
    "    > workflow/smallvar_benchmark/GRCh38/HG002_GRCh38_difficult_medical_gene_smallvar_benchmark.bed\n",
    "\n",
    "cat workflow/smallvar_benchmark/GRCh38/HG002_GRCh38_difficult_medical_gene_smallvar_benchmark.bed \\\n",
    "    | awk '{sum+=$3-$2} END {print sum}'\n",
    "\n",
    "bedtools intersect \\\n",
    "    -a data/hifiasm_dipcall_output/HG002v11-align2-GRCh38.dip.vcf.gz \\\n",
    "    -b workflow/smallvar_benchmark/GRCh38/HG002_GRCh38_CMRG_coordinates_temp_bedtools_merge.bed \\\n",
    "    -header \\\n",
    "    > workflow/smallvar_benchmark/GRCh38/HG002_GRCh38_difficult_medical_gene_smallvar_benchmark.vcf\n",
    "\n",
    "bgzip -f workflow/smallvar_benchmark/GRCh38/HG002_GRCh38_difficult_medical_gene_smallvar_benchmark.vcf\n",
    "\n",
    "tabix -f workflow/smallvar_benchmark/GRCh38/HG002_GRCh38_difficult_medical_gene_smallvar_benchmark.vcf.gz"
   ]
  },
  {
   "cell_type": "markdown",
   "metadata": {},
   "source": [
    "__NOTES:__\n",
    "\n",
    "1. `workflow/smallvar_benchmark/GRCh38/HG002_GRCh38_difficult_medical_gene_smallvar_benchmark.vcf.gz` is `https://ftp-trace.ncbi.nlm.nih.gov/ReferenceSamples/giab/data/AshkenazimTrio/analysis/NIST_HG002_medical_genes_benchmark_v0.02/GRCh38/HG002_GRCh38_difficult_medical_gene_smallvar_benchmark_v0.02.03.vcf.gz` _after updates to the headers_\n",
    "\n",
    "2. `workflow/smallvar_benchmark/GRCh38/HG002_GRCh38_difficult_medical_gene_smallvar_benchmark.bed` is `https://ftp-trace.ncbi.nlm.nih.gov/ReferenceSamples/giab/data/AshkenazimTrio/analysis/NIST_HG002_medical_genes_benchmark_v0.02/GRCh38/HG002_GRCh38_difficult_medical_gene_smallvar_benchmark_v0.02.03.bed`"
   ]
  },
  {
   "cell_type": "markdown",
   "metadata": {},
   "source": [
    "## SV benchmark"
   ]
  },
  {
   "cell_type": "markdown",
   "metadata": {},
   "source": [
    "## Prepare release benchmark files"
   ]
  },
  {
   "cell_type": "code",
   "execution_count": null,
   "metadata": {},
   "outputs": [],
   "source": [
    "mkdir -p workflow/SV_benchmark/GRCh38\n",
    "# Find SVs MRG benchmark gene coordinates\n",
    "bedtools intersect \\\n",
    "    -a workflow/smallvar_benchmark/GRCh38/HG002v11-align2-GRCh38.dip_SVsgt49bp_repeatexpanded_slop50_merge1000.bed \\\n",
    "    -b workflow/smallvar_benchmark/GRCh38/HG002_GRCh38_CMRG_coordinates_temp_bedtools_merge.bed \\\n",
    "    > workflow/SV_benchmark/GRCh38/HG002v11-align2-GRCh38.dip_SVsgt49bp_repeatexpanded_slop50_merge1000_intersect_MRG_benchmark_coordinates.bed\n",
    "\n",
    "# Subset to SVs only gt49bp \n",
    "gunzip -c data/hifiasm_dipcall_output/HG002v11-align2-GRCh38.dip.vcf.gz \\\n",
    "    | awk '{FS=\"\\t|,\"} {if($1 ~ /^#/ || length($4)-length($5)>49 || length($5)-length($4)>49 || length($6)-length($4)>49) print}' \\\n",
    "    | intersectBed \\\n",
    "    -a workflow/SV_benchmark/GRCh38/HG002v11-align2-GRCh38.dip_SVsgt49bp_repeatexpanded_slop50_merge1000_intersect_MRG_benchmark_coordinates.bed \\\n",
    "    -b stdin -c \\\n",
    "    | awk '$4>0' \\\n",
    "    | cut -f1-3 \\\n",
    "    > workflow/SV_benchmark/GRCh38/HG002v11-align2-GRCh38.dip_SVsgt49bp_repeatexpanded_slop50_merge1000_intersect_MRG_benchmark_coordinates_onlygt49bp.bed \n",
    "\n",
    "# Find isolated SVs  \n",
    "\n",
    "gunzip \\\n",
    "    -c data/hifiasm_dipcall_output/HG002v11-align2-GRCh38.dip.vcf.gz \\\n",
    "    | awk '{FS=\"\\t|,\"} {if($1 ~ /^#/ || length($4)-length($5)>9 || length($5)-length($4)>9 || length($6)-length($4)>9) print}' \\\n",
    "    | intersectBed \\\n",
    "        -a workflow/SV_benchmark/GRCh38/HG002v11-align2-GRCh38.dip_SVsgt49bp_repeatexpanded_slop50_merge1000_intersect_MRG_benchmark_coordinates_onlygt49bp.bed \\\n",
    "        -b stdin -c \\\n",
    "        | awk '$4==1' \\\n",
    "        | cut -f1-3 \\\n",
    "        > workflow/SV_benchmark/GRCh38/HG002v11-align2-GRCh38.dip_SVsgt49bp_repeatexpanded_slop50_merge1000_intersect_MRG_benchmark_coordinates_onlygt49bp_isolated.bed \n",
    "\n",
    "# Find complex SVs  \n",
    "\n",
    "gunzip -c data/hifiasm_dipcall_output/HG002v11-align2-GRCh38.dip.vcf.gz \\\n",
    "    | awk '{FS=\"\\t|,\"} {if($1 ~ /^#/ || length($4)-length($5)>9 || length($5)-length($4)>9 || length($6)-length($4)>9) print}' \\\n",
    "    | intersectBed \\\n",
    "        -a workflow/SV_benchmark/GRCh38/HG002v11-align2-GRCh38.dip_SVsgt49bp_repeatexpanded_slop50_merge1000_intersect_MRG_benchmark_coordinates_onlygt49bp.bed \\\n",
    "        -b stdin -c \\\n",
    "    | awk '$4>1' \\\n",
    "    | cut -f1-3 \\\n",
    "    > workflow/SV_benchmark/GRCh38/HG002v11-align2-GRCh38.dip_SVsgt49bp_repeatexpanded_slop50_merge1000_intersect_MRG_benchmark_coordinates_onlygt49bp_complexSVs.bed \n",
    "\n",
    "# Remove complex SVs from MRG gene candidate coordinates and remove GAPs \n",
    "bedtools subtract \\\n",
    "    -a workflow/smallvar_benchmark/GRCh38/HG002_GRCh38_CMRG_coordinates_temp_bedtools_merge.bed \\\n",
    "    -b workflow/SV_benchmark/GRCh38/HG002v11-align2-GRCh38.dip_SVsgt49bp_repeatexpanded_slop50_merge1000_intersect_MRG_benchmark_coordinates_onlygt49bp_complexSVs.bed \\\n",
    "    | bedtools subtract \\\n",
    "        -a stdin \\\n",
    "        -b data/manually_created_files/GRCh38_MRG_GAPs.bed \\\n",
    "    > workflow/SV_benchmark/GRCh38/HG002_GRCh38_MRG_draft_SV_benchmark_temp.bed\n",
    "\n",
    "#HG002v11-align2-GRCh37.dip_complexindelsgt9bpinRepeats.bed  from the SV benchmark bed:\n",
    "# Find tandem repeats and homopolymers that have multiple indels >9bp, since these can add up to >49bp and should be subtracted from the benchmark SV bed\n",
    "gunzip -c data/hifiasm_dipcall_output/HG002v11-align2-GRCh38.dip.vcf.gz \\\n",
    "    | awk '{FS=\"\\t|,\"} {if($1 ~ /^#/ || length($4)-length($5)>9 || length($5)-length($4)>9 || length($6)-length($4)>9) print}' \\\n",
    "    | intersectBed \\\n",
    "        -a resources/giab_stratifications/GRCh38_AllTandemRepeatsandHomopolymers_slop5.bed.gz \\\n",
    "        -b stdin -c \\\n",
    "    | awk '$4>1' \\\n",
    "    | cut -f1-3 \\\n",
    "    | intersectBed -v \\\n",
    "        -a stdin \\\n",
    "        -b workflow/SV_benchmark/GRCh38/HG002v11-align2-GRCh38.dip_SVsgt49bp_repeatexpanded_slop50_merge1000_intersect_MRG_benchmark_coordinates_onlygt49bp.bed \\\n",
    "    > workflow/SV_benchmark/GRCh38/HG002v11-align2-GRCh38.dip_complexindelsgt9bpinRepeats.bed\n",
    "\n",
    "bedtools subtract \\\n",
    "    -a workflow/SV_benchmark/GRCh38/HG002_GRCh38_MRG_draft_SV_benchmark_temp.bed \\\n",
    "    -b workflow/SV_benchmark/GRCh38/HG002v11-align2-GRCh38.dip_complexindelsgt9bpinRepeats.bed \\\n",
    "    > workflow/SV_benchmark/GRCh38/HG002_GRCh38_MRG_draft_SV_benchmark.bed\n",
    "\n",
    "\n",
    "cat workflow/SV_benchmark/GRCh38/HG002_GRCh38_MRG_draft_SV_benchmark.bed \\\n",
    "    | awk '{sum+=$3-$2} END {print sum}'"
   ]
  },
  {
   "cell_type": "code",
   "execution_count": null,
   "metadata": {},
   "outputs": [],
   "source": [
    "# Decompose for truvari comparison\n",
    "#vt decompose -s HG002v11-align2-GRCh37.dip.vcf -o HG002v11-align2-GRCh37.dip_decomposed.vcf\n",
    "#python script to remove ambiguous (non-ACTGN) REF\n",
    "\n",
    "gunzip -c data/hifiasm_dipcall_output/HG002v11-align2-GRCh38.dip.vcf.gz \\\n",
    "    > data/hifiasm_dipcall_output/HG002v11-align2-GRCh38.dip.vcf\n",
    "\n",
    "## remove ambiguous (non-ACGTN) in REF field. Adjust path to where you keep this file\n",
    "python scripts/fix_reference_allele.py \\\n",
    "    --input_vcf_file data/hifiasm_dipcall_output/HG002v11-align2-GRCh38.dip.vcf \\\n",
    "    --output_file workflow/SV_benchmark/GRCh38/HG002v11-align2-GRCh38_noambig.dip.vcf\n",
    "\n",
    "## zip for bcftools\n",
    "bgzip -c workflow/SV_benchmark/GRCh38/HG002v11-align2-GRCh38_noambig.dip.vcf \\\n",
    "    > workflow/SV_benchmark/GRCh38/HG002v11-align2-GRCh38_noambig.dip.vcf.gz\n",
    "\n",
    "tabix workflow/SV_benchmark/GRCh38/HG002v11-align2-GRCh38_noambig.dip.vcf.gz\n",
    "\n",
    "## split multiallelic to biallelic\n",
    "#bcftools norm -m- (multiallelic split)\n",
    "\n",
    "bcftools norm -m- \\\n",
    "    -Oz workflow/SV_benchmark/GRCh38/HG002v11-align2-GRCh38_noambig.dip.vcf.gz \\\n",
    "    -o workflow/SV_benchmark/GRCh38/HG002v11-align2-GRCh38_noambig_norm_m.vcf.gz\n",
    "\n",
    "## left align and normalize indels. Adjust to path where your reference.fa is located. \n",
    "#bcftools norm -f  (normalization)\n",
    "\n",
    "bcftools norm \\\n",
    "    -f resources/GCA_000001405.15_GRCh38_no_alt_analysis_set.fa \\\n",
    "    -Oz -o workflow/SV_benchmark/GRCh38/HG002v11-align2-GRCh38_noambig_norm_mf.vcf.gz \\\n",
    "    workflow/SV_benchmark/GRCh38/HG002v11-align2-GRCh38_noambig_norm_m.vcf.gz\n",
    "\n",
    "#bcftools norm -f /Users/jmw7/v4.1_development/HG001/GCA_000001405.15_GRCh38_no_alt_analysis_set.fasta-index/genome.fa -Oz -o workflow/SV_benchmark/GRCh38/HG002v11-align2-GRCh38._noambig_norm_mf.vcf.gz workflow/SV_benchmark/GRCh38/HG002v11-align2-GRCh38._noambig_norm_m.vcf.gz\n",
    "\n",
    "\n",
    "## remove duplicate records\n",
    "#bcftools norm -d  (remove duplicate records)\n",
    "\n",
    "bcftools norm \\\n",
    "    -d none \\\n",
    "    -Oz workflow/SV_benchmark/GRCh38/HG002v11-align2-GRCh38_noambig_norm_mf.vcf.gz \\\n",
    "    -o workflow/SV_benchmark/GRCh38/HG002v11-align2-GRCh38_noambig_norm_mfd.vcf.gz\n",
    "    \n",
    "## remove MHC region. Adjust to path where MHC.bed is located. \n",
    "\n",
    "bedtools subtract \\\n",
    "    -header \\\n",
    "    -a workflow/SV_benchmark/GRCh38/HG002v11-align2-GRCh38_noambig_norm_mfd.vcf.gz \\\n",
    "    -b resources/giab_stratifications/GRCh38_MHC.bed.gz \\\n",
    "    | bgzip -c \\\n",
    "    >  workflow/SV_benchmark/GRCh38/HG002v11-align2-GRCh38_noambig_norm_mfd_noMHC.vcf.gz\n",
    "\n"
   ]
  },
  {
   "cell_type": "code",
   "execution_count": null,
   "metadata": {},
   "outputs": [],
   "source": [
    "## intersect w/ benchmark bed and subset to >39bp in REF or ALT fields. Adjust to path of benchmark.bed\n",
    "#intersect w/ MRG target regions and subset >39 bp\n",
    "\n",
    "bedtools intersect \\\n",
    "    -header \\\n",
    "    -a workflow/SV_benchmark/GRCh38/HG002v11-align2-GRCh38_noambig_norm_mfd_noMHC.vcf.gz \\\n",
    "    -b workflow/SV_benchmark/GRCh38/HG002_GRCh38_MRG_draft_SV_benchmark.bed \\\n",
    "    | awk '$1 ~ /^#/ || length($4)>39 || length($5)>39' \\\n",
    "    | bgzip -c \\\n",
    "    > workflow/SV_benchmark/GRCh38/HG002v11-align2-GRCh38_noambig_norm_mfd_noMHC_intersectBenchBED_gt39bp.vcf.gz\n",
    "\n",
    "## index vcf, required by truvari\n",
    "tabix -f -p vcf workflow/SV_benchmark/GRCh38/HG002v11-align2-GRCh38_noambig_norm_mfd_noMHC_intersectBenchBED_gt39bp.vcf.gz\n",
    "\n",
    "\n",
    "# NOTE:  workflow/SV_benchmark/GRCh38/HG002v11-align2-GRCh38_noambig_norm_mfd_noMHC_intersectBenchBED_gt39bp.vcf.gz matches https://ftp-trace.ncbi.nlm.nih.gov/ReferenceSamples/giab/data/AshkenazimTrio/analysis/NIST_HG002_medical_genes_SV_benchmark_v0.01/HG002_GRCh38_difficult_medical_gene_SV_benchmark_v0.01.vcf.gz\n",
    "\n",
    "## Find benchmark variants between 35 and 49 base pairs in size and exclude overlapping tandem repeats plus slop 50bp on either side. Remove these from the benchmark regions bed so that it includes only SVs that are greater than 49 base pairs\n",
    "gunzip workflow/SV_benchmark/GRCh38/HG002v11-align2-GRCh38_noambig_norm_mfd_noMHC_intersectBenchBED_gt39bp.vcf.gz\n",
    "python scripts/SVs_between_35_50bp.py \\\n",
    "    --input workflow/SV_benchmark/GRCh38/HG002v11-align2-GRCh38_noambig_norm_mfd_noMHC_intersectBenchBED_gt39bp.vcf \\\n",
    "    --output workflow/SV_benchmark/GRCh38/HG002_GRCh38_difficult_medical_gene_SV_benchmark_v0.01.02_SVs_gt34_and_lt_50bp.vcf\n",
    "\n",
    "vcf2bed < workflow/SV_benchmark/GRCh38/HG002_GRCh38_difficult_medical_gene_SV_benchmark_v0.01.02_SVs_gt34_and_lt_50bp.vcf \\\n",
    "    > workflow/SV_benchmark/GRCh38/HG002_GRCh38_difficult_medical_gene_SV_benchmark_v0.01.02_SVs_gt34_and_lt_50bp.bed\n",
    "\n",
    "intersectBed -wa \\\n",
    "    -a resources/giab_stratifications/GRCh38_AllTandemRepeatsandHomopolymers_slop5.bed.gz \\\n",
    "    -b workflow/SV_benchmark/GRCh38/HG002_GRCh38_difficult_medical_gene_SV_benchmark_v0.01.02_SVs_gt34_and_lt_50bp.bed \\\n",
    "    | multiIntersectBed \\\n",
    "        -i stdin workflow/SV_benchmark/GRCh38/HG002_GRCh38_difficult_medical_gene_SV_benchmark_v0.01.02_SVs_gt34_and_lt_50bp.bed \\\n",
    "        |  awk '{FS=OFS=\"\\t\"} {print $1,$2-50,$3+50}' \\\n",
    "        > workflow/SV_benchmark/GRCh38/HG002_GRCh38_difficult_medical_gene_SV_benchmark_v0.01.02_gt34_and_lt_50bp_repeatexpanded_slop50.bed\n",
    "\n",
    "bedtools subtract \\\n",
    "    -a workflow/SV_benchmark/GRCh38/HG002_GRCh38_MRG_draft_SV_benchmark.bed \\\n",
    "    -b workflow/SV_benchmark/GRCh38/HG002_GRCh38_difficult_medical_gene_SV_benchmark_v0.01.02_gt34_and_lt_50bp_repeatexpanded_slop50.bed \\\n",
    "    >  workflow/SV_benchmark/GRCh38/HG002_GRCh38_MRG_draft_SV_benchmark_removed_SVs_gt35bp_and_lt50bp.bed"
   ]
  },
  {
   "cell_type": "code",
   "execution_count": null,
   "metadata": {},
   "outputs": [],
   "source": [
    "bedtools subtract \\\n",
    "    -a workflow/SV_benchmark/GRCh38/HG002_GRCh38_MRG_draft_SV_benchmark_removed_SVs_gt35bp_and_lt50bp.bed \\\n",
    "    -b data/manually_created_files/GRCh38_CD4_gaps_slop50.bed \\\n",
    "    >  workflow/SV_benchmark/GRCh38/HG002_GRCh38_difficult_medical_gene_SV_benchmark_v0.01.bed"
   ]
  },
  {
   "cell_type": "code",
   "execution_count": null,
   "metadata": {},
   "outputs": [],
   "source": [
    "# Steps for creating excluding errors found in curation of the MRG benchmark, in order to create v1.0 bed files for small variants and SVs\n",
    "# Updated 4/27/21 to exclude 50bp on either side of errors and unsure variants found in curation, because sometimes a deletion and overlapping SNVs outside a repeat weren't excluded from benchmark stats. Also, remove \".;\" at beginning of INFO field introduced by svanalyzer svwiden. Produces v1.00.01 small variant and structural variant MRG benchmarks\n",
    "\n",
    "mkdir -p workflow/release_benchmark_generation\n",
    "##errors to exclude found in curation of small variants\n",
    "# download tab-delimited file from GRCh37andGRCh38 tab in google doc that that curations for all evaluations as well as common Fps, Fns, and FP_FNs - https://docs.google.com/spreadsheets/d/1Pn7WP78JfWKCO2Df31n_4gzDOwtP69flgDyyjeBS6JE/edit?usp=sharing\n",
    "# create bed with sites curated as unsure or incorrect in the benchmark in GRCh38 coordinates\n",
    "\n",
    "cut -f3,7,9,12,20 data/manually_created_files/combined\\ curation\\ responses\\ from\\ benchmarking\\ with\\ sm\\ variant\\ v0.02.03\\ -\\ GRCh37andGRCh38.tsv \\\n",
    "    | grep 'sure\\|o' \\\n",
    "    | grep -v ^ref \\\n",
    "    | awk '{FS=OFS=\"\\t\"} {print $2, $3-50, $3+length($4)+50}' \\\n",
    "    | sed 's/^chr//' \\\n",
    "    | sort -k1,1n -k2,2n -k3,3n \\\n",
    "    | sed 's/^/chr/' \\\n",
    "    | mergeBed -i stdin -d 100 \\\n",
    "    > workflow/release_benchmark_generation/GRCh38_curation_medicalgene_smallvar_errorsorunsure.bed\n",
    "\n",
    "#expand bed coordinates to completely cover any overlapping homopolymers and tandem repeats\n",
    "intersectBed -wa \\\n",
    "    -a resources/giab_stratifications/GRCh38_AllTandemRepeatsandHomopolymers_slop5.bed.gz \\\n",
    "    -b workflow/release_benchmark_generation/GRCh38_curation_medicalgene_smallvar_errorsorunsure.bed \\\n",
    "    | multiIntersectBed \\\n",
    "        -i stdin workflow/release_benchmark_generation/GRCh38_curation_medicalgene_smallvar_errorsorunsure.bed \\\n",
    "    | mergeBed \\\n",
    "        -i stdin \\\n",
    "    > workflow/release_benchmark_generation/GRCh38_curation_medicalgene_smallvar_errorsorunsure_repeatexpanded.bed\n",
    "\n",
    "\n",
    "cd data/manually_created_files/\n",
    "\n",
    "grep ^Common combined\\ curation\\ responses\\ from\\ benchmarking\\ with\\ sm\\ variant\\ v0.02.03\\ -\\ GRCh37andGRCh38.tsv \\\n",
    "    | cut -f3,7,9,12,20 \\\n",
    "    | grep 'sure\\|o' \\\n",
    "    | grep -v ^ref \\\n",
    "    | awk '{FS=OFS=\"\\t\"} {print $2, $3-50, $3+length($4)+50}' \\\n",
    "    | sed 's/^chr//' \\\n",
    "    | sort -k1,1n -k2,2n -k3,3n \\\n",
    "    | sed 's/^/chr/' \\\n",
    "    | mergeBed -i stdin -d 100 \\\n",
    "    > ../../workflow/release_benchmark_generation/GRCh38_curation_medicalgene_smallvar_errorsorunsure_Commononly.bed\n",
    "\n",
    "grep -v ^Common combined\\ curation\\ responses\\ from\\ benchmarking\\ with\\ sm\\ variant\\ v0.02.03\\ -\\ GRCh37andGRCh38.tsv \\\n",
    "    | cut -f3,7,9,12,20 \\\n",
    "    | grep 'sure\\|o' \\\n",
    "    | grep -v ^ref \\\n",
    "    | grep ^GRCh38 \\\n",
    "    | awk '{FS=OFS=\"\\t\"} {print $2, $3, $3+length($4)}' \\\n",
    "    | sed 's/^chr//' \\\n",
    "    | sort -k1,1n -k2,2n -k3,3n \\\n",
    "    | sed 's/^/chr/' \\\n",
    "    > ../../workflow/release_benchmark_generation/GRCh38_curation_medicalgene_smallvar_errorsorunsure_evaluationonly.bed\n",
    "cd ../.."
   ]
  },
  {
   "cell_type": "code",
   "execution_count": null,
   "metadata": {},
   "outputs": [],
   "source": [
    "wc -l workflow/release_benchmark_generation/GRCh38_curation_medicalgene_smallvar_errorsorunsure_evaluationonly.bed\n",
    "#      63\n",
    "\n",
    "\n",
    "intersectBed \\\n",
    "    -wa -a resources/giab_stratifications/GRCh38_AllTandemRepeatsandHomopolymers_slop5.bed.gz \\\n",
    "    -b workflow/release_benchmark_generation/GRCh38_curation_medicalgene_smallvar_errorsorunsure_Commononly.bed \\\n",
    "    | multiIntersectBed \\\n",
    "        -i stdin workflow/release_benchmark_generation/GRCh38_curation_medicalgene_smallvar_errorsorunsure_Commononly.bed \\\n",
    "    | mergeBed -i stdin \\\n",
    "    | intersectBed -v \\\n",
    "        -a workflow/release_benchmark_generation/GRCh38_curation_medicalgene_smallvar_errorsorunsure_evaluationonly.bed \\\n",
    "        -b stdin \\\n",
    "    | wc -l\n",
    "# 4"
   ]
  },
  {
   "cell_type": "code",
   "execution_count": null,
   "metadata": {},
   "outputs": [],
   "source": [
    "##errors to exclude found in complex variants in tandem repeats\n",
    "# From the google doc that contains curations of Fns and FN_FPs after comparing HiCanu2.1 dipcall vcf to MRG small variant benchmark v0.02.03, download xlsx and export as tab-delimited file in excel, since the tab-delimited option wasn't working in google docs - https://docs.google.com/spreadsheets/d/10s0vx8RzK_FmyVYDzNIfeBjsWyCMhOcc2mqjjPP6Jsk/edit?usp=sharing\n",
    "# create bed with sites curated as unsure or incorrect in the benchmark in GRCh38 coordinates\n",
    "cut -f6,7,9,14 data/manually_created_files/HiCanu_2.1_HG002_GRCh38_difficult_medical_gene_smallvar_benchmark_v0.02.03_intersected_subtract_FPs_repeatexpanded_slop50_manual_curation_sites.tsv_manual_curation_sites.txt \\\n",
    "    | grep 'sure\\|o' \\\n",
    "    | grep -v position \\\n",
    "    | awk '{FS=OFS=\"\\t\"} {print $1, $2, $2+length($3)}' \\\n",
    "    | sed 's/^chr//' \\\n",
    "    | sort -k1,1n -k2,2n -k3,3n \\\n",
    "    | sed 's/^/chr/' \\\n",
    "    | mergeBed -i stdin -d 100 \\\n",
    "    > workflow/release_benchmark_generation/GRCh38_curation_medicalgene_smallvar_complexrepeat_errorsorunsure.bed\n",
    "\n",
    "#expand bed coordinates to completely cover any overlapping homopolymers and tandem repeats\n",
    "intersectBed -wa \\\n",
    "    -a resources/giab_stratifications/GRCh38_AllTandemRepeatsandHomopolymers_slop5.bed.gz \\\n",
    "    -b workflow/release_benchmark_generation/GRCh38_curation_medicalgene_smallvar_complexrepeat_errorsorunsure.bed \\\n",
    "    | multiIntersectBed \\\n",
    "        -i stdin workflow/release_benchmark_generation/GRCh38_curation_medicalgene_smallvar_complexrepeat_errorsorunsure.bed \\\n",
    "    | mergeBed -i stdin > workflow/release_benchmark_generation/GRCh38_curation_medicalgene_smallvar_complexrepeat_errorsorunsure_repeatexpanded.bed\n",
    "\n",
    "#used NCBI remap with default parameters to find coordinates on GRCh37, producing GRCh37_curation_medicalgene_smallvar_complexrepeat_errorsorunsure_repeatexpanded.bed renamed from remapped_GRCh38_curation_medicalgene_smallvar_complexrepeat_errorsorunsure_repeatexpanded.bed\n",
    "#exclude these from comparison of HiCanu to GRCh37 MRG benchmark, and curated remaining sites in HiCanu_2.1_HG002_GRCh37_difficult_medical_gene_smallvar_benchmark_v0.02.03_manual_curation_sites.tsv, and all were correct in benchmark, so no additional bed is needed\n",
    "\n",
    "\n",
    "##subtract curated errors from small variant benchmark beds\n",
    "\n",
    "#exclude errors/unsure sites found in SV curation, small variant curation, small variant complex TR curation, and FPs from complex TR comparison\n",
    "subtractBed \\\n",
    "    -a data/manually_created_files/cmrg_draft_benchmarks/HG002_GRCh38_difficult_medical_gene_smallvar_benchmark_v0.02.03.bed \\\n",
    "    -b data/manually_created_files/GRCh38_curation_medicalgene_SV_errorsorunsure_repeatexpanded.bed \\\n",
    "    | subtractBed \\\n",
    "        -a stdin \\\n",
    "        -b workflow/release_benchmark_generation/GRCh38_curation_medicalgene_smallvar_errorsorunsure_repeatexpanded.bed \\\n",
    "    | subtractBed \\\n",
    "        -a stdin \\\n",
    "        -b workflow/release_benchmark_generation/GRCh38_curation_medicalgene_smallvar_complexrepeat_errorsorunsure_repeatexpanded.bed \\\n",
    "    | subtractBed \\\n",
    "        -a stdin \\\n",
    "        -b data/manually_created_files/HiCanu_2.1_HG002_GRCh38_difficult_medical_gene_smallvar_benchmark_v0.02.03_intersected_FPs_repeatexpanded_slop50.bed \\\n",
    "    > workflow/release_benchmark_generation/HG002_GRCh38_difficult_medical_gene_smallvar_benchmark_v1.00.01.bed\n"
   ]
  },
  {
   "cell_type": "code",
   "execution_count": null,
   "metadata": {},
   "outputs": [],
   "source": [
    "cp data/manually_created_files/cmrg_draft_benchmarks/HG002_GRCh38_difficult_medical_gene_smallvar_benchmark_v0.02.03.vcf.gz \\\n",
    "    workflow/release_benchmark_generation/HG002_GRCh38_difficult_medical_gene_smallvar_benchmark_v1.00.01.vcf.gz \n",
    "cp data/manually_created_files/cmrg_draft_benchmarks/HG002_GRCh38_difficult_medical_gene_smallvar_benchmark_v0.02.03.vcf.gz.tbi \\\n",
    "    workflow/release_benchmark_generation/HG002_GRCh38_difficult_medical_gene_smallvar_benchmark_v1.00.01.vcf.gz.tbi \n",
    "\n",
    "\n",
    "##subtract curated errors from SV benchmark beds\n",
    "\n",
    "#download GRCh38 v0.01 bed from https://ftp-trace.ncbi.nlm.nih.gov/giab/ftp/data/AshkenazimTrio/analysis/NIST_HG002_medical_genes_SV_benchmark_v0.01/HG002_GRCh38_difficult_medical_gene_SV_benchmark_v0.01.bed\n",
    "#exclude errors/unsure sites found in SV curation\n",
    "subtractBed \\\n",
    "    -a data/manually_created_files/cmrg_draft_benchmarks/HG002_GRCh38_difficult_medical_gene_SV_benchmark_v0.01.bed \\\n",
    "    -b data/manually_created_files/GRCh38_curation_medicalgene_SV_errorsorunsure_repeatexpanded.bed \\\n",
    "    > workflow/release_benchmark_generation/HG002_GRCh38_difficult_medical_gene_SV_benchmark_v0.02.00.bed"
   ]
  },
  {
   "cell_type": "code",
   "execution_count": null,
   "metadata": {},
   "outputs": [],
   "source": [
    "#Make sure the bed size doesn't decrease more than expected\n",
    "awk '{sum+=$3-$2} END {print sum}' data/manually_created_files/cmrg_draft_benchmarks/HG002_GRCh38_difficult_medical_gene_smallvar_benchmark_v0.02.03.bed \n",
    "#11698514\n",
    "\n",
    "awk '{sum+=$3-$2} END {print sum}' workflow/release_benchmark_generation/HG002_GRCh38_difficult_medical_gene_smallvar_benchmark_v1.00.01.bed \n",
    "#11663057\n",
    "\n",
    "#Make sure the number of variants in the bed don't decrease more than expected\n",
    "intersectBed \\\n",
    "    -a data/manually_created_files/cmrg_draft_benchmarks/HG002_GRCh38_difficult_medical_gene_smallvar_benchmark_v0.02.03.vcf.gz \\\n",
    "    -b data/manually_created_files/cmrg_draft_benchmarks/HG002_GRCh38_difficult_medical_gene_smallvar_benchmark_v0.02.03.bed \\\n",
    "    | wc -l\n",
    "#21567\n",
    "\n",
    "intersectBed \\\n",
    "    -a data/manually_created_files/cmrg_draft_benchmarks/HG002_GRCh38_difficult_medical_gene_smallvar_benchmark_v0.02.03.vcf.gz \\\n",
    "    -b workflow/release_benchmark_generation/HG002_GRCh38_difficult_medical_gene_smallvar_benchmark_v1.00.01.bed \\\n",
    "    | wc -l\n",
    "#21232\n",
    "\n",
    "#Make sure the bed size doesn't decrease more than expected\n",
    "awk '{sum+=$3-$2} END {print sum}' data/manually_created_files/cmrg_draft_benchmarks/HG002_GRCh38_difficult_medical_gene_SV_benchmark_v0.01.bed \n",
    "#11962175\n",
    "awk '{sum+=$3-$2} END {print sum}' workflow/release_benchmark_generation/HG002_GRCh38_difficult_medical_gene_SV_benchmark_v0.02.00.bed \n",
    "#11961541\n",
    "\n",
    "#Make sure the number of variants in the bed don't decrease more than expected\n",
    "intersectBed \\\n",
    "    -a data/manually_created_files/cmrg_draft_benchmarks/HG002_GRCh38_difficult_medical_gene_SV_benchmark_v0.01.vcf.gz \\\n",
    "    -b data/manually_created_files/cmrg_draft_benchmarks/HG002_GRCh38_difficult_medical_gene_SV_benchmark_v0.01.bed \\\n",
    "    | wc -l\n",
    "#218\n",
    "intersectBed \\\n",
    "    -a data/manually_created_files/cmrg_draft_benchmarks/HG002_GRCh38_difficult_medical_gene_SV_benchmark_v0.01.vcf.gz \\\n",
    "    -b workflow/release_benchmark_generation/HG002_GRCh38_difficult_medical_gene_SV_benchmark_v0.02.00.bed \\\n",
    "    | wc -l\n",
    "#217"
   ]
  },
  {
   "cell_type": "code",
   "execution_count": null,
   "metadata": {},
   "outputs": [],
   "source": [
    "cp data/manually_created_files/cmrg_draft_benchmarks/HG002_GRCh38_difficult_medical_gene_SV_benchmark_v0.01.vcf.gz \\\n",
    "    workflow/release_benchmark_generation/HG002_GRCh38_difficult_medical_gene_SV_benchmark_v0.02.00.vcf.gz \n",
    "cp data/manually_created_files/cmrg_draft_benchmarks/HG002_GRCh38_difficult_medical_gene_SV_benchmark_v0.01.vcf.gz.tbi \\\n",
    "    workflow/release_benchmark_generation/HG002_GRCh38_difficult_medical_gene_SV_benchmark_v0.02.00.vcf.gz.tbi \n",
    "\n",
    "#remove \".;\" at beginning of INFO field introduced by svanalyzer svwiden\n",
    "gunzip -c workflow/release_benchmark_generation/HG002_GRCh38_difficult_medical_gene_SV_benchmark_v0.02.00.vcf.gz  \\\n",
    "    | sed 's/\\.;REPTYPE/REPTYPE/' \\\n",
    "    | bgzip -c \\\n",
    "    > workflow/release_benchmark_generation/HG002_GRCh38_difficult_medical_gene_SV_benchmark_v1.00.01.vcf.gz\n",
    "\n",
    "tabix -f workflow/release_benchmark_generation/HG002_GRCh38_difficult_medical_gene_SV_benchmark_v1.00.01.vcf.gz\n",
    "\n",
    "cp workflow/release_benchmark_generation/HG002_GRCh38_difficult_medical_gene_SV_benchmark_v0.02.00.bed \\\n",
    "    workflow/release_benchmark_generation/HG002_GRCh38_difficult_medical_gene_SV_benchmark_v1.00.01.bed "
   ]
  },
  {
   "cell_type": "markdown",
   "metadata": {},
   "source": [
    "### Software versions\n",
    "\n",
    "See `environment.yml` for dependencies."
   ]
  }
 ],
 "metadata": {
  "kernelspec": {
   "display_name": "Bash",
   "language": "bash",
   "name": "bash"
  },
  "language_info": {
   "codemirror_mode": "shell",
   "file_extension": ".sh",
   "mimetype": "text/x-sh",
   "name": "bash"
  }
 },
 "nbformat": 4,
 "nbformat_minor": 2
}
