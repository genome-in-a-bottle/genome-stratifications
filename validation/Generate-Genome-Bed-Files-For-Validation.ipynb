{
 "cells": [
  {
   "cell_type": "markdown",
   "id": "f7ee6b26",
   "metadata": {},
   "source": [
    "# Generate Genome Bed Files for Validation (new for v3.1 stratifications)"
   ]
  },
  {
   "cell_type": "markdown",
   "id": "57200769",
   "metadata": {},
   "source": [
    "JMcDaniel\n",
    "started 6/3/22"
   ]
  },
  {
   "cell_type": "code",
   "execution_count": 1,
   "id": "e5b85091",
   "metadata": {},
   "outputs": [
    {
     "name": "stdout",
     "output_type": "stream",
     "text": [
      "/Users/jmcdani/Documents/GiaB/Benchmarking/Stratifications/v3.1_genome-stratifications/validation/genome-bed-files\n"
     ]
    }
   ],
   "source": [
    "pwd"
   ]
  },
  {
   "cell_type": "markdown",
   "id": "2552f829",
   "metadata": {},
   "source": [
    "## TABLE OF CONTENTS\n",
    "<hr style=\"border:2px solid black\"> </hr>\n",
    "\n",
    "**[Background](#bkgd)**    \n",
    "**[GRCh38](#GRCh38)**  \n",
    "**[GRCh37](#GRCh37)**  \n",
    "**[CHM13](#CHM13)**  "
   ]
  },
  {
   "cell_type": "markdown",
   "id": "ea7c0018",
   "metadata": {},
   "source": [
    "## Background<a id=\"bkgd\"></a>\n",
    "Genome region files are used for calculating chromosome coverage of stratificaitons in validation script. In the past merging using a distance of 100 was used however JZ would like to use default of 0.  Generating these files for each reference will include:\n",
    "1. start with sorted genome bed (chrom, 0, end)\n",
    "2. remove gaps (Ns), this will only be performed for GRCh37/38 since there are no gaps for CHM13\n",
    "3. remove PSA-Y, this will only be performed for GRCh37/38 because this region is not included in ref however it is for CHM13. \n",
    "4. merge using default -d = 0\n",
    "These files will be new for v3.1 stratifications. \n",
    "\n",
    "Process for generating these files was adapted from what was done for v3.0 stratification genome bed files and can be found in `/Users/jmcdani/Documents/GiaB/Benchmarking/Stratifications/v3.0_genome-stratifications/validation/README_for_genome_bed_files`"
   ]
  },
  {
   "cell_type": "markdown",
   "id": "f2dc3f25",
   "metadata": {},
   "source": [
    "## GRCh38<a id=\"GRCh38\"></a>"
   ]
  },
  {
   "cell_type": "markdown",
   "id": "ced33fb5",
   "metadata": {},
   "source": [
    "Genome Bed file for GRCh38 in `v3.1_genome-stratifications/GRCh38-stratifications/ref-files/human.b38.genome.bed` this file was generated in `GRCh38_LowComplexity.ipynb` for v3.1.  chrM was removed since it is not covered by any of our stratification, chromosomes covered are 1-22 X and Y. "
   ]
  },
  {
   "cell_type": "code",
   "execution_count": 12,
   "id": "f26e0c26",
   "metadata": {},
   "outputs": [],
   "source": [
    "#read in genome.bed, remove chrM and sort\n",
    "grep -v ^\"chrM\" ../../GRCh38-stratifications/ref-files/human.b38.genome.bed | \n",
    "sed 's/^chr//' | \n",
    "sed 's/^X/23/;s/^Y/24/' |\n",
    "sort -k1,1n -k2,2n  | \n",
    "sed 's/^23/X/;s/^24/Y/' | \n",
    "sed 's/^[a-zA-Z0-9_]/chr&/' > GRCh38_1-22XY_sorted.genome.bed"
   ]
  },
  {
   "cell_type": "code",
   "execution_count": 13,
   "id": "926f944c",
   "metadata": {},
   "outputs": [],
   "source": [
    "# Remove N's in genome.bed\n",
    "subtractBed \\\n",
    "-a GRCh38_1-22XY_sorted.genome.bed \\\n",
    "-b ../../post-processing/refNs/gap_38_1thruY_sorted_merged.bed \\\n",
    "> GRCh38_1-22XY_sorted_NoNs.genome.bed\n",
    "rm GRCh38_1-22XY_sorted.genome.bed"
   ]
  },
  {
   "cell_type": "code",
   "execution_count": 14,
   "id": "9d58bb6f",
   "metadata": {},
   "outputs": [],
   "source": [
    "# Remove PSA-Y in genome.bed and merge\n",
    "subtractBed \\\n",
    "-a GRCh38_1-22XY_sorted_NoNs.genome.bed \\\n",
    "-b ../../post-processing/refNs/PSA_Y_GRCh38.bed |\n",
    "mergeBed > GRCh38_1-22XY_sorted_NoNs_NoPSAY_merged.genome.bed\n",
    "rm GRCh38_1-22XY_sorted_NoNs.genome.bed"
   ]
  },
  {
   "cell_type": "markdown",
   "id": "7ed52610",
   "metadata": {},
   "source": [
    "## GRCh37<a id=\"GRCh37\"></a>"
   ]
  },
  {
   "cell_type": "markdown",
   "id": "0ac8b7ee",
   "metadata": {},
   "source": [
    "Genome Bed file for GRCh37 in `v3.1_genome-stratifications/GRCh37-stratifications/ref-files/human.b37.genome.bed` this file was generated in `GRCh37_LowComplexity.ipynb` for v3.1.  chrM was removed since it is not covered by any of our stratification, chromosomes covered are 1-22 X and Y. "
   ]
  },
  {
   "cell_type": "code",
   "execution_count": 24,
   "id": "477f9f62",
   "metadata": {},
   "outputs": [],
   "source": [
    "#read in genome.bed, remove MT and sort\n",
    "grep -v ^\"MT\" ../../GRCh37-stratifications/ref-files/human.b37.genome.bed | \n",
    "sed 's/^X/23/;s/^Y/24/' |\n",
    "sort -k1,1n -k2,2n  | \n",
    "sed 's/^23/X/;s/^24/Y/' > GRCh37_1-22XY_sorted.genome.bed"
   ]
  },
  {
   "cell_type": "code",
   "execution_count": 25,
   "id": "78f3e5b4",
   "metadata": {},
   "outputs": [],
   "source": [
    "# Remove N's in genome.bed\n",
    "subtractBed \\\n",
    "-a GRCh37_1-22XY_sorted.genome.bed \\\n",
    "-b ../../post-processing/refNs/hg19.gap_1thruY_sorted_merged.bed \\\n",
    "> GRCh37_1-22XY_sorted_NoNs.genome.bed\n",
    "rm GRCh37_1-22XY_sorted.genome.bed"
   ]
  },
  {
   "cell_type": "code",
   "execution_count": 26,
   "id": "82c82352",
   "metadata": {},
   "outputs": [],
   "source": [
    "# Remove PSA-Y in genome.bed and merge\n",
    "subtractBed \\\n",
    "-a GRCh37_1-22XY_sorted_NoNs.genome.bed \\\n",
    "-b ../../post-processing/refNs/PSA_Y_hg19.bed |\n",
    "mergeBed > GRCh37_1-22XY_sorted_NoNs_NoPSAY_merged.genome.bed\n",
    "rm GRCh37_1-22XY_sorted_NoNs.genome.bed"
   ]
  },
  {
   "cell_type": "markdown",
   "id": "a3f58259",
   "metadata": {},
   "source": [
    "## CHM13<a id=\"CHM13\"></a>"
   ]
  },
  {
   "cell_type": "markdown",
   "id": "81c204e4",
   "metadata": {},
   "source": [
    "Genome Bed file for CHM13 in `v3.1_genome-stratifications/T2T-CHM13v2.0-stratifications/LowComplexity/intermediatefiles/CHM13v2.0.genome.bed` this file was generated in `T2T-CHM13v2.0-LowComplexity.ipynb` for v3.1.  chrM was removed since it is not covered by any of our stratification, chromosomes covered are 1-22 X and Y. "
   ]
  },
  {
   "cell_type": "code",
   "execution_count": 18,
   "id": "05f3b92f",
   "metadata": {},
   "outputs": [],
   "source": [
    "#read in genome.bed, remove chrM and sort\n",
    "grep -v ^\"chrM\" ../../T2T-CHM13v2.0-stratifications/LowComplexity/intermediatefiles/CHM13v2.0.genome.bed | \n",
    "sed 's/^chr//' | \n",
    "sed 's/^X/23/;s/^Y/24/' |\n",
    "sort -k1,1n -k2,2n  | \n",
    "sed 's/^23/X/;s/^24/Y/' | \n",
    "sed 's/^[a-zA-Z0-9_]/chr&/' > CHM13v2.0_1-22XY_sorted.genome.bed"
   ]
  },
  {
   "cell_type": "markdown",
   "id": "3c0bad88",
   "metadata": {},
   "source": [
    "Unlike the other references, there are no gaps for CHM13 therefore none were removed and PSAY is included in CHM13 therefore we will not remove it. "
   ]
  },
  {
   "cell_type": "code",
   "execution_count": 27,
   "id": "10086180",
   "metadata": {},
   "outputs": [
    {
     "name": "stdout",
     "output_type": "stream",
     "text": [
      "MD5 (GRCh38_1-22XY_sorted_NoNs_NoPSAY_merged.genome.bed) = b52fc583925d39d709d6f37526a4642f\n",
      "MD5 (GRCh37_1-22XY_sorted_NoNs_NoPSAY_merged.genome.bed) = 3b7c647de5301e12cbcefa1b82e4b39e\n",
      "MD5 (CHM13v2.0_1-22XY_sorted.genome.bed) = 0d39d01e151c4030dc68c60a49d63297\n"
     ]
    }
   ],
   "source": [
    "md5 GRCh38_1-22XY_sorted_NoNs_NoPSAY_merged.genome.bed\n",
    "md5 GRCh37_1-22XY_sorted_NoNs_NoPSAY_merged.genome.bed\n",
    "md5 CHM13v2.0_1-22XY_sorted.genome.bed"
   ]
  },
  {
   "cell_type": "code",
   "execution_count": null,
   "id": "47d6810f",
   "metadata": {},
   "outputs": [],
   "source": []
  }
 ],
 "metadata": {
  "kernelspec": {
   "display_name": "Bash",
   "language": "bash",
   "name": "bash"
  },
  "language_info": {
   "codemirror_mode": "shell",
   "file_extension": ".sh",
   "mimetype": "text/x-sh",
   "name": "bash"
  }
 },
 "nbformat": 4,
 "nbformat_minor": 5
}
